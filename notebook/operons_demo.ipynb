{
 "cells": [
  {
   "cell_type": "markdown",
   "metadata": {},
   "source": [
    "# Minimal Operon Detection with polars-bio\n",
    "\n",
    "This notebook shows a compact pipeline:\n",
    "- Read GFF with polars-bio\n",
    "- Merge CDS within `max_gap` to form operon windows\n",
    "- Overlap CDS back onto windows to assemble operon members\n",
    "- Optional keyword filtering\n",
    "- Quick interval visualization\n"
   ]
  },
  {
   "cell_type": "code",
   "execution_count": null,
   "metadata": {},
   "outputs": [
    {
     "name": "stderr",
     "output_type": "stream",
     "text": [
      "/home/tgambin/workspace/.venv/lib/python3.12/site-packages/tqdm/auto.py:21: TqdmWarning: IProgress not found. Please update jupyter and ipywidgets. See https://ipywidgets.readthedocs.io/en/stable/user_install.html\n",
      "  from .autonotebook import tqdm as notebook_tqdm\n"
     ]
    }
   ],
   "source": [
    "import polars as pl\n",
    "import polars_bio as pb\n",
    "from pathlib import Path\n",
    "import matplotlib.pyplot as plt\n",
    "\n",
    "GFF_PATH = '../data/test.gff'\n",
    "MAX_GAP = 50\n",
    "MIN_GENES = 2\n",
    "KEYWORDS = ['crispr','cas' ]\n",
    "\n",
    "\n",
    "MIN_KEYWORD_HITS = 1\n",
    "SAME_STRAND_ONLY = True"
   ]
  },
  {
   "cell_type": "code",
   "execution_count": 4,
   "metadata": {},
   "outputs": [
    {
     "name": "stderr",
     "output_type": "stream",
     "text": [
      "7rows [00:00, 3647.67rows/s]\n"
     ]
    },
    {
     "data": {
      "text/html": [
       "<div><style>\n",
       ".dataframe > thead > tr,\n",
       ".dataframe > tbody > tr {\n",
       "  text-align: right;\n",
       "  white-space: pre-wrap;\n",
       "}\n",
       "</style>\n",
       "<small>shape: (5, 7)</small><table border=\"1\" class=\"dataframe\"><thead><tr><th>chrom</th><th>strand</th><th>start</th><th>end</th><th>ID</th><th>Name</th><th>product</th></tr><tr><td>str</td><td>str</td><td>u32</td><td>u32</td><td>str</td><td>str</td><td>str</td></tr></thead><tbody><tr><td>&quot;chr1&quot;</td><td>&quot;+&quot;</td><td>100</td><td>300</td><td>&quot;cds1&quot;</td><td>&quot;geneA&quot;</td><td>&quot;CRISPR-associated protein Cas1&quot;</td></tr><tr><td>&quot;chr1&quot;</td><td>&quot;+&quot;</td><td>310</td><td>500</td><td>&quot;cds2&quot;</td><td>&quot;geneB&quot;</td><td>&quot;hypothetical protein&quot;</td></tr><tr><td>&quot;chr1&quot;</td><td>&quot;+&quot;</td><td>520</td><td>700</td><td>&quot;cds3&quot;</td><td>&quot;geneC&quot;</td><td>&quot;CRISPR repeat-binding protein&quot;</td></tr><tr><td>&quot;chr1&quot;</td><td>&quot;+&quot;</td><td>900</td><td>1100</td><td>&quot;cds4&quot;</td><td>&quot;geneD&quot;</td><td>&quot;transposase&quot;</td></tr><tr><td>&quot;chr1&quot;</td><td>&quot;+&quot;</td><td>1110</td><td>1300</td><td>&quot;cds5&quot;</td><td>&quot;geneE&quot;</td><td>&quot;Cas3 helicase&quot;</td></tr></tbody></table></div>"
      ],
      "text/plain": [
       "shape: (5, 7)\n",
       "┌───────┬────────┬───────┬──────┬──────┬───────┬────────────────────────────────┐\n",
       "│ chrom ┆ strand ┆ start ┆ end  ┆ ID   ┆ Name  ┆ product                        │\n",
       "│ ---   ┆ ---    ┆ ---   ┆ ---  ┆ ---  ┆ ---   ┆ ---                            │\n",
       "│ str   ┆ str    ┆ u32   ┆ u32  ┆ str  ┆ str   ┆ str                            │\n",
       "╞═══════╪════════╪═══════╪══════╪══════╪═══════╪════════════════════════════════╡\n",
       "│ chr1  ┆ +      ┆ 100   ┆ 300  ┆ cds1 ┆ geneA ┆ CRISPR-associated protein Cas1 │\n",
       "│ chr1  ┆ +      ┆ 310   ┆ 500  ┆ cds2 ┆ geneB ┆ hypothetical protein           │\n",
       "│ chr1  ┆ +      ┆ 520   ┆ 700  ┆ cds3 ┆ geneC ┆ CRISPR repeat-binding protein  │\n",
       "│ chr1  ┆ +      ┆ 900   ┆ 1100 ┆ cds4 ┆ geneD ┆ transposase                    │\n",
       "│ chr1  ┆ +      ┆ 1110  ┆ 1300 ┆ cds5 ┆ geneE ┆ Cas3 helicase                  │\n",
       "└───────┴────────┴───────┴──────┴──────┴───────┴────────────────────────────────┘"
      ]
     },
     "execution_count": 4,
     "metadata": {},
     "output_type": "execute_result"
    }
   ],
   "source": [
    "# Load CDS and set interval types expected by polars-bio ops\n",
    "cds = (\n",
    "    #pb.read_gff(GFF_PATH, attr_fields=['ID','Name','product'])\n",
    "    pb.scan_gff(GFF_PATH, attr_fields=['ID','Name','product'])\n",
    "    .filter(pl.col('type')=='CDS')\n",
    "    .select(['chrom','strand','start','end','ID','Name','product'])\n",
    "    .with_columns([pl.col('start').cast(pl.UInt32), pl.col('end').cast(pl.UInt32)])\n",
    ")\n",
    "cds.collect().head()"
   ]
  },
  {
   "cell_type": "code",
   "execution_count": 5,
   "metadata": {},
   "outputs": [],
   "source": [
    "# polars-bio driven detect_operons: merge + overlap (minimal)\n",
    "def merged_operon_windows(cds_df: pl.LazyFrame, max_gap: int) -> pl.LazyFrame:\n",
    "    parts = []\n",
    "    parts.append(pb.merge(cds_df.select(['chrom','start','end']), min_dist=max_gap, cols=['chrom','start','end'], output_type='polars.LazyFrame'))\n",
    "    if not parts:\n",
    "        return pl.LazyFrame()\n",
    "    merged = pl.concat(parts, how='diagonal_relaxed')\n",
    "    by = ['chrom'] \n",
    "    merged = merged.sort(by + ['start']).with_columns(pl.int_range(0, pl.len()).over(by).alias('cluster_id'))\n",
    "    return merged\n",
    "\n",
    "def detect_operons_pb(cds_df: pl.LazyFrame, max_gap: int, min_genes: int, keywords=None, min_keyword_hits: int=0) -> pl.LazyFrame:\n",
    "    merged = merged_operon_windows(cds_df, max_gap=max_gap)\n",
    "    iv1 = cds_df.select(['chrom','start','end','ID','Name','product'])\n",
    "    iv2 = merged.select(['chrom','start','end'] + ['cluster_id'])\n",
    "    ov = pb.overlap(iv1, iv2, cols1=['chrom','start','end'], cols2=['chrom','start','end'], suffixes=('_gene','_operon'), output_type='polars.LazyFrame')\n",
    "    toks = sorted(set([k.strip() for k in (keywords or []) if k and k.strip()]))\n",
    "    patt = '(?i)(' + '|'.join(toks) + ')' if toks else None\n",
    "    has_kw = pl.lit(False) if not patt else pl.col('product_gene').cast(pl.Utf8).fill_null('').str.contains(patt, literal=False)\n",
    "    ov = ov.with_columns(has_kw.alias('has_keyword'))\n",
    "    \n",
    "    group_keys = ['chrom_operon']  + ['cluster_id_operon']\n",
    "    ops = ov.group_by(group_keys).agg([\n",
    "        pl.col('start_operon').min().alias('operon_start'),\n",
    "        pl.col('end_operon').max().alias('operon_end'),\n",
    "        pl.len().alias('gene_count'),\n",
    "        pl.col('ID_gene').implode().alias('member_ids'),\n",
    "        pl.col('Name_gene').implode().alias('member_names'),\n",
    "        pl.col('product_gene').implode().alias('member_products'),\n",
    "        pl.col('has_keyword').sum().alias('keyword_hits'),\n",
    "    ])\n",
    "    ops = ops.filter(pl.col('gene_count') >= min_genes)\n",
    "    if min_keyword_hits > 0:\n",
    "        ops = ops.filter(pl.col('keyword_hits') >= min_keyword_hits)\n",
    "    return ops.sort(group_keys[:-1] + ['operon_start'])\n"
   ]
  },
  {
   "cell_type": "code",
   "execution_count": 6,
   "metadata": {},
   "outputs": [
    {
     "name": "stderr",
     "output_type": "stream",
     "text": [
      "7rows [00:00, 6013.95rows/s]\n",
      "7rows [00:00, 6898.53rows/s]\n",
      "/tmp/ipykernel_70228/2315145136.py:5: PerformanceWarning: Resolving the schema of a LazyFrame is a potentially expensive operation. Use `LazyFrame.collect_schema()` to get the schema without this warning.\n",
      "  lcols = [name for name, dt in df.schema.items() if isinstance(dt, pl.List)]\n",
      "7rows [00:00, 4496.88rows/s]\n",
      "7rows [00:00, 5244.75rows/s]\n"
     ]
    },
    {
     "data": {
      "text/html": [
       "<div><style>\n",
       ".dataframe > thead > tr,\n",
       ".dataframe > tbody > tr {\n",
       "  text-align: right;\n",
       "  white-space: pre-wrap;\n",
       "}\n",
       "</style>\n",
       "<small>shape: (2, 9)</small><table border=\"1\" class=\"dataframe\"><thead><tr><th>chrom_operon</th><th>cluster_id_operon</th><th>operon_start</th><th>operon_end</th><th>gene_count</th><th>member_ids</th><th>member_names</th><th>member_products</th><th>keyword_hits</th></tr><tr><td>str</td><td>i64</td><td>u32</td><td>u32</td><td>u32</td><td>list[str]</td><td>list[str]</td><td>list[str]</td><td>u32</td></tr></thead><tbody><tr><td>&quot;chr1&quot;</td><td>0</td><td>100</td><td>700</td><td>3</td><td>[&quot;cds1&quot;, &quot;cds2&quot;, &quot;cds3&quot;]</td><td>[&quot;geneA&quot;, &quot;geneB&quot;, &quot;geneC&quot;]</td><td>[&quot;CRISPR-associated protein Cas1&quot;, &quot;hypothetical protein&quot;, &quot;CRISPR repeat-binding protein&quot;]</td><td>2</td></tr><tr><td>&quot;chr1&quot;</td><td>1</td><td>900</td><td>1300</td><td>2</td><td>[&quot;cds4&quot;, &quot;cds5&quot;]</td><td>[&quot;geneD&quot;, &quot;geneE&quot;]</td><td>[&quot;transposase&quot;, &quot;Cas3 helicase&quot;]</td><td>1</td></tr></tbody></table></div>"
      ],
      "text/plain": [
       "shape: (2, 9)\n",
       "┌───────────┬───────────┬───────────┬───────────┬───┬───────────┬───────────┬───────────┬──────────┐\n",
       "│ chrom_ope ┆ cluster_i ┆ operon_st ┆ operon_en ┆ … ┆ member_id ┆ member_na ┆ member_pr ┆ keyword_ │\n",
       "│ ron       ┆ d_operon  ┆ art       ┆ d         ┆   ┆ s         ┆ mes       ┆ oducts    ┆ hits     │\n",
       "│ ---       ┆ ---       ┆ ---       ┆ ---       ┆   ┆ ---       ┆ ---       ┆ ---       ┆ ---      │\n",
       "│ str       ┆ i64       ┆ u32       ┆ u32       ┆   ┆ list[str] ┆ list[str] ┆ list[str] ┆ u32      │\n",
       "╞═══════════╪═══════════╪═══════════╪═══════════╪═══╪═══════════╪═══════════╪═══════════╪══════════╡\n",
       "│ chr1      ┆ 0         ┆ 100       ┆ 700       ┆ … ┆ [\"cds1\",  ┆ [\"geneA\", ┆ [\"CRISPR- ┆ 2        │\n",
       "│           ┆           ┆           ┆           ┆   ┆ \"cds2\",   ┆ \"geneB\",  ┆ associate ┆          │\n",
       "│           ┆           ┆           ┆           ┆   ┆ \"cds3\"]   ┆ \"geneC\"]  ┆ d protein ┆          │\n",
       "│           ┆           ┆           ┆           ┆   ┆           ┆           ┆ Ca…       ┆          │\n",
       "│ chr1      ┆ 1         ┆ 900       ┆ 1300      ┆ … ┆ [\"cds4\",  ┆ [\"geneD\", ┆ [\"transpo ┆ 1        │\n",
       "│           ┆           ┆           ┆           ┆   ┆ \"cds5\"]   ┆ \"geneE\"]  ┆ sase\",    ┆          │\n",
       "│           ┆           ┆           ┆           ┆   ┆           ┆           ┆ \"Cas3     ┆          │\n",
       "│           ┆           ┆           ┆           ┆   ┆           ┆           ┆ helicase… ┆          │\n",
       "└───────────┴───────────┴───────────┴───────────┴───┴───────────┴───────────┴───────────┴──────────┘"
      ]
     },
     "execution_count": 6,
     "metadata": {},
     "output_type": "execute_result"
    }
   ],
   "source": [
    "# Run detection\n",
    "ops = detect_operons_pb(cds, MAX_GAP, MIN_GENES, KEYWORDS, MIN_KEYWORD_HITS)\n",
    "# Flatten list columns for compact display\n",
    "def flatten_lists(df: pl.LazyFrame) -> pl.LazyFrame:\n",
    "    lcols = [name for name, dt in df.schema.items() if isinstance(dt, pl.List)]\n",
    "    return df.with_columns([pl.col(c).list.join('|').alias(c) for c in lcols]) if lcols else df\n",
    "flatten_lists(ops).sink_csv('operons_detected.csv')\n",
    "ops.collect()"
   ]
  },
  {
   "cell_type": "code",
   "execution_count": 7,
   "metadata": {},
   "outputs": [
    {
     "name": "stderr",
     "output_type": "stream",
     "text": [
      "7rows [00:00, 5197.40rows/s]\n",
      "7rows [00:00, 6378.48rows/s]\n"
     ]
    },
    {
     "data": {
      "image/png": "[encoded data removed]",
      "text/plain": [
       "<Figure size 1000x200 with 1 Axes>"
      ]
     },
     "metadata": {},
     "output_type": "display_data"
    }
   ],
   "source": [
    "# Visualization: detected operon windows (pink) and member genes (blue);\n",
    "# put keyword labels inside gene boxes.\n",
    "import bioframe as bf\n",
    "\n",
    "ops_df = ops.collect()\n",
    "\n",
    "if ops_df is not None and not ops_df.is_empty():\n",
    "    # Plot per contig for clarity\n",
    "    for chrom in ops_df.select(pl.col('chrom_operon')).unique().to_series().to_list():\n",
    "        sub = ops_df.filter(pl.col('chrom_operon') == chrom)\n",
    "        if sub.is_empty():\n",
    "            continue\n",
    "        pdf = sub.to_pandas()\n",
    "        # Window intervals (operons)\n",
    "        win_starts = pdf['operon_start'].tolist()\n",
    "        win_ends = pdf['operon_end'].tolist()\n",
    "        n_win = len(win_starts)\n",
    "        xmin, xmax = min(win_starts), max(win_ends)\n",
    "        pad = max(1, int(0.05 * (xmax - xmin)))\n",
    "        # Collect genes overlapping any detected window on this contig\n",
    "        iv2 = pl.DataFrame({'chrom': [chrom]*n_win, 'start': win_starts, 'end': win_ends})\n",
    "        genes_chrom = cds.filter(pl.col('chrom') == chrom).select(['chrom','start','end','ID','Name','product']).collect()\n",
    "        ov = pb.overlap(\n",
    "            genes_chrom, iv2,\n",
    "            cols1=['chrom','start','end'], cols2=['chrom','start','end'],\n",
    "            suffixes=('_gene','_win'), output_type='polars.DataFrame'\n",
    "        )\n",
    "        # Resolve column names robustly \n",
    "        def pick(cols, cands):\n",
    "            for c in cands:\n",
    "                if c in cols:\n",
    "                    return c\n",
    "            return None\n",
    "        if not ov.is_empty():\n",
    "            cols = set(ov.columns)\n",
    "            gs_col = pick(cols, ['start_gene','start_win','start_1','start_2','start'])\n",
    "            ge_col = pick(cols, ['end_gene','end_win','end_1','end_2','end'])\n",
    "            id_col = pick(cols, ['ID_gene','ID_win','ID_1','ID_2','ID'])\n",
    "            nm_col = pick(cols, ['Name_gene','Name_win','Name_1','Name_2','Name'])\n",
    "            pr_col = pick(cols, ['product_gene','product_win','product_1','product_2','product'])\n",
    "            sel = [c for c in [gs_col, ge_col, id_col, nm_col, pr_col] if c]\n",
    "            genes_pl = ov.select(sel)\n",
    "            subset = [id_col] if id_col else [gs_col, ge_col]\n",
    "            genes_pl = genes_pl.unique(subset=subset)\n",
    "            genes = genes_pl.to_pandas()\n",
    "            gene_starts = genes[gs_col].tolist()\n",
    "            gene_ends = genes[ge_col].tolist()\n",
    "        else:\n",
    "            genes = None\n",
    "            gene_starts = []\n",
    "            gene_ends = []\n",
    "        \n",
    "        starts_all = win_starts + gene_starts\n",
    "        ends_all = win_ends + gene_ends\n",
    "        colors_all = (['lightpink'] * n_win) + (['skyblue'] * len(gene_starts))\n",
    "        levels_all = ([2] * n_win) + ([1] * len(gene_starts))\n",
    "        bf.vis.plot_intervals_arr(\n",
    "            starts=starts_all, ends=ends_all,\n",
    "            colors=colors_all, levels=levels_all,\n",
    "            xlim=(xmin - pad, xmax + pad), show_coords=True,\n",
    "        )\n",
    "        ax = plt.gca()\n",
    "        ax.set_aspect('auto')\n",
    "        # Put keyword labels inside gene boxes\n",
    "        if genes is not None and not genes.empty:\n",
    "            # Choose available product/name column for labeling\n",
    "            label_col = 'product_gene' if 'product_gene' in genes.columns else ('product_win' if 'product_win' in genes.columns else ('product_1' if 'product_1' in genes.columns else ('product_2' if 'product_2' in genes.columns else ('product' if 'product' in genes.columns else (nm_col if (nm_col and nm_col in genes.columns) else None)))))\n",
    "            labels = genes[label_col].tolist() if label_col else [''] * len(gene_starts)\n",
    "            for gs, ge, prod in zip(gene_starts, gene_ends, labels):\n",
    "                txt = []\n",
    "                for kw in (KEYWORDS or []):\n",
    "                    try:\n",
    "                        if kw and str(kw).strip() and str(kw).lower() in str(prod).lower():\n",
    "                            txt.append(str(kw))\n",
    "                    except Exception:\n",
    "                        pass\n",
    "                if txt:\n",
    "                    ax.text((gs+ge)/2, 1, ', '.join(sorted(set(txt))),\n",
    "                            ha='center', va='center', fontsize=7, color='black', clip_on=True)\n",
    "        plt.title(f'Operon windows and genes on {chrom}')\n",
    "        plt.show()\n",
    "else:\n",
    "    print('No detected operons to visualize')\n"
   ]
  }
 ],
 "metadata": {
  "kernelspec": {
   "display_name": ".venv",
   "language": "python",
   "name": "python3"
  },
  "language_info": {
   "codemirror_mode": {
    "name": "ipython",
    "version": 3
   },
   "file_extension": ".py",
   "mimetype": "text/x-python",
   "name": "python",
   "nbconvert_exporter": "python",
   "pygments_lexer": "ipython3",
   "version": "3.12.8"
  }
 },
 "nbformat": 4,
 "nbformat_minor": 2
}

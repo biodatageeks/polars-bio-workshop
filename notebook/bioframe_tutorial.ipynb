{
 "cells": [
  {
   "cell_type": "markdown",
   "id": "9e3214fa0f8dab62",
   "metadata": {},
   "source": [
    "## Introduction to *polars-bio* features"
   ]
  },
  {
   "cell_type": "markdown",
   "id": "967c7b8f17117968",
   "metadata": {},
   "source": [
    "### Interval operations illustrated\n",
    "\n",
    "Please note that for visualizaiton of the intervals we used [plot_intervals](https://bioframe.readthedocs.io/en/latest/api-vis.html#module-bioframe.vis) method from [Bioframe](https://bioframe.readthedocs.io/) package."
   ]
  },
  {
   "cell_type": "code",
   "execution_count": 1,
   "id": "eb1a5acb2362d5da",
   "metadata": {
    "ExecuteTime": {
     "end_time": "2025-09-09T05:49:00.893153Z",
     "start_time": "2025-09-09T05:49:00.303279Z"
    }
   },
   "outputs": [],
   "source": [
    "import polars_bio as pb\n",
    "import pandas as pd\n",
    "import polars as pl\n",
    "import bioframe as bf"
   ]
  },
  {
   "cell_type": "code",
   "execution_count": 2,
   "id": "74e440b23ebe1f72",
   "metadata": {
    "ExecuteTime": {
     "end_time": "2025-09-09T05:49:02.093498Z",
     "start_time": "2025-09-09T05:49:02.091584Z"
    }
   },
   "outputs": [],
   "source": [
    "cols = [\"contig\", \"pos_start\", \"pos_end\"]"
   ]
  },
  {
   "cell_type": "code",
   "execution_count": 3,
   "id": "861357bafa45220b",
   "metadata": {
    "ExecuteTime": {
     "end_time": "2025-09-09T05:40:04.370991Z",
     "start_time": "2025-09-09T05:40:04.367739Z"
    }
   },
   "outputs": [],
   "source": [
    "df1 = pd.DataFrame(\n",
    "    [[\"chr1\", 1, 5], [\"chr1\", 3, 8], [\"chr1\", 8, 10], [\"chr1\", 12, 14]],\n",
    "    columns=[\"chrom\", \"start\", \"end\"],\n",
    ")\n",
    "\n",
    "df2 = pd.DataFrame(\n",
    "    [[\"chr1\", 4, 8], [\"chr1\", 10, 11]], columns=[\"chrom\", \"start\", \"end\"]\n",
    ")"
   ]
  },
  {
   "cell_type": "code",
   "execution_count": 4,
   "id": "226ddad38d453c93",
   "metadata": {
    "ExecuteTime": {
     "end_time": "2025-09-09T05:40:07.341131Z",
     "start_time": "2025-09-09T05:40:07.333521Z"
    }
   },
   "outputs": [
    {
     "data": {
      "text/html": [
       "<div>\n",
       "<style scoped>\n",
       "    .dataframe tbody tr th:only-of-type {\n",
       "        vertical-align: middle;\n",
       "    }\n",
       "\n",
       "    .dataframe tbody tr th {\n",
       "        vertical-align: top;\n",
       "    }\n",
       "\n",
       "    .dataframe thead th {\n",
       "        text-align: right;\n",
       "    }\n",
       "</style>\n",
       "<table border=\"1\" class=\"dataframe\">\n",
       "  <thead>\n",
       "    <tr style=\"text-align: right;\">\n",
       "      <th></th>\n",
       "      <th>chrom</th>\n",
       "      <th>start</th>\n",
       "      <th>end</th>\n",
       "    </tr>\n",
       "  </thead>\n",
       "  <tbody>\n",
       "    <tr>\n",
       "      <th>0</th>\n",
       "      <td>chr1</td>\n",
       "      <td>1</td>\n",
       "      <td>5</td>\n",
       "    </tr>\n",
       "    <tr>\n",
       "      <th>1</th>\n",
       "      <td>chr1</td>\n",
       "      <td>3</td>\n",
       "      <td>8</td>\n",
       "    </tr>\n",
       "    <tr>\n",
       "      <th>2</th>\n",
       "      <td>chr1</td>\n",
       "      <td>8</td>\n",
       "      <td>10</td>\n",
       "    </tr>\n",
       "    <tr>\n",
       "      <th>3</th>\n",
       "      <td>chr1</td>\n",
       "      <td>12</td>\n",
       "      <td>14</td>\n",
       "    </tr>\n",
       "  </tbody>\n",
       "</table>\n",
       "</div>"
      ],
      "text/plain": [
       "  chrom  start  end\n",
       "0  chr1      1    5\n",
       "1  chr1      3    8\n",
       "2  chr1      8   10\n",
       "3  chr1     12   14"
      ]
     },
     "metadata": {},
     "output_type": "display_data"
    }
   ],
   "source": [
    "display(df1)"
   ]
  },
  {
   "cell_type": "code",
   "execution_count": 5,
   "id": "a199266d690a804",
   "metadata": {
    "ExecuteTime": {
     "end_time": "2025-09-09T05:40:09.227756Z",
     "start_time": "2025-09-09T05:40:09.223328Z"
    }
   },
   "outputs": [
    {
     "data": {
      "text/html": [
       "<div>\n",
       "<style scoped>\n",
       "    .dataframe tbody tr th:only-of-type {\n",
       "        vertical-align: middle;\n",
       "    }\n",
       "\n",
       "    .dataframe tbody tr th {\n",
       "        vertical-align: top;\n",
       "    }\n",
       "\n",
       "    .dataframe thead th {\n",
       "        text-align: right;\n",
       "    }\n",
       "</style>\n",
       "<table border=\"1\" class=\"dataframe\">\n",
       "  <thead>\n",
       "    <tr style=\"text-align: right;\">\n",
       "      <th></th>\n",
       "      <th>chrom</th>\n",
       "      <th>start</th>\n",
       "      <th>end</th>\n",
       "    </tr>\n",
       "  </thead>\n",
       "  <tbody>\n",
       "    <tr>\n",
       "      <th>0</th>\n",
       "      <td>chr1</td>\n",
       "      <td>4</td>\n",
       "      <td>8</td>\n",
       "    </tr>\n",
       "    <tr>\n",
       "      <th>1</th>\n",
       "      <td>chr1</td>\n",
       "      <td>10</td>\n",
       "      <td>11</td>\n",
       "    </tr>\n",
       "  </tbody>\n",
       "</table>\n",
       "</div>"
      ],
      "text/plain": [
       "  chrom  start  end\n",
       "0  chr1      4    8\n",
       "1  chr1     10   11"
      ]
     },
     "metadata": {},
     "output_type": "display_data"
    }
   ],
   "source": [
    "display(df2)"
   ]
  },
  {
   "cell_type": "markdown",
   "id": "4f5c0cd3a456e479",
   "metadata": {},
   "source": [
    "#### Overlap"
   ]
  },
  {
   "cell_type": "code",
   "execution_count": 6,
   "id": "e4f249194b639fde",
   "metadata": {
    "ExecuteTime": {
     "end_time": "2025-09-09T05:40:11.183831Z",
     "start_time": "2025-09-09T05:40:11.174850Z"
    }
   },
   "outputs": [],
   "source": [
    "overlapping_intervals = pb.overlap(df1, df2, output_type=\"pandas.DataFrame\")"
   ]
  },
  {
   "cell_type": "code",
   "execution_count": 7,
   "id": "bbf491d503224568",
   "metadata": {
    "ExecuteTime": {
     "end_time": "2025-09-09T05:40:13.622456Z",
     "start_time": "2025-09-09T05:40:13.617117Z"
    }
   },
   "outputs": [
    {
     "data": {
      "text/html": [
       "<div>\n",
       "<style scoped>\n",
       "    .dataframe tbody tr th:only-of-type {\n",
       "        vertical-align: middle;\n",
       "    }\n",
       "\n",
       "    .dataframe tbody tr th {\n",
       "        vertical-align: top;\n",
       "    }\n",
       "\n",
       "    .dataframe thead th {\n",
       "        text-align: right;\n",
       "    }\n",
       "</style>\n",
       "<table border=\"1\" class=\"dataframe\">\n",
       "  <thead>\n",
       "    <tr style=\"text-align: right;\">\n",
       "      <th></th>\n",
       "      <th>chrom_1</th>\n",
       "      <th>start_1</th>\n",
       "      <th>end_1</th>\n",
       "      <th>chrom_2</th>\n",
       "      <th>start_2</th>\n",
       "      <th>end_2</th>\n",
       "    </tr>\n",
       "  </thead>\n",
       "  <tbody>\n",
       "    <tr>\n",
       "      <th>0</th>\n",
       "      <td>chr1</td>\n",
       "      <td>1</td>\n",
       "      <td>5</td>\n",
       "      <td>chr1</td>\n",
       "      <td>4</td>\n",
       "      <td>8</td>\n",
       "    </tr>\n",
       "    <tr>\n",
       "      <th>1</th>\n",
       "      <td>chr1</td>\n",
       "      <td>3</td>\n",
       "      <td>8</td>\n",
       "      <td>chr1</td>\n",
       "      <td>4</td>\n",
       "      <td>8</td>\n",
       "    </tr>\n",
       "    <tr>\n",
       "      <th>2</th>\n",
       "      <td>chr1</td>\n",
       "      <td>8</td>\n",
       "      <td>10</td>\n",
       "      <td>chr1</td>\n",
       "      <td>4</td>\n",
       "      <td>8</td>\n",
       "    </tr>\n",
       "    <tr>\n",
       "      <th>3</th>\n",
       "      <td>chr1</td>\n",
       "      <td>8</td>\n",
       "      <td>10</td>\n",
       "      <td>chr1</td>\n",
       "      <td>10</td>\n",
       "      <td>11</td>\n",
       "    </tr>\n",
       "  </tbody>\n",
       "</table>\n",
       "</div>"
      ],
      "text/plain": [
       "  chrom_1  start_1  end_1 chrom_2  start_2  end_2\n",
       "0    chr1        1      5    chr1        4      8\n",
       "1    chr1        3      8    chr1        4      8\n",
       "2    chr1        8     10    chr1        4      8\n",
       "3    chr1        8     10    chr1       10     11"
      ]
     },
     "metadata": {},
     "output_type": "display_data"
    }
   ],
   "source": [
    "display(overlapping_intervals)"
   ]
  },
  {
   "cell_type": "code",
   "execution_count": 8,
   "id": "e023fc43837b57d2",
   "metadata": {
    "ExecuteTime": {
     "end_time": "2025-09-09T05:40:15.555324Z",
     "start_time": "2025-09-09T05:40:15.428563Z"
    }
   },
   "outputs": [
    {
     "data": {
      "image/png": "[encoded data removed]",
      "text/plain": [
       "<Figure size 1000x200 with 1 Axes>"
      ]
     },
     "metadata": {},
     "output_type": "display_data"
    },
    {
     "data": {
      "image/png": "[encoded data removed]",
      "text/plain": [
       "<Figure size 1000x200 with 1 Axes>"
      ]
     },
     "metadata": {},
     "output_type": "display_data"
    },
    {
     "data": {
      "image/png": "[encoded data removed]",
      "text/plain": [
       "<Figure size 1000x200 with 1 Axes>"
      ]
     },
     "metadata": {},
     "output_type": "display_data"
    },
    {
     "data": {
      "image/png": "[encoded data removed]",
      "text/plain": [
       "<Figure size 1000x200 with 1 Axes>"
      ]
     },
     "metadata": {},
     "output_type": "display_data"
    }
   ],
   "source": [
    "pb.visualize_intervals(overlapping_intervals)"
   ]
  },
  {
   "cell_type": "markdown",
   "id": "eaf62067a93d2016",
   "metadata": {},
   "source": [
    "#### Nearest"
   ]
  },
  {
   "cell_type": "code",
   "execution_count": 9,
   "id": "adef86a114e13b0c",
   "metadata": {
    "ExecuteTime": {
     "end_time": "2025-09-09T05:40:18.102317Z",
     "start_time": "2025-09-09T05:40:18.094503Z"
    }
   },
   "outputs": [],
   "source": [
    "nearest_intervals = pb.nearest(df1, df2, output_type=\"pandas.DataFrame\")"
   ]
  },
  {
   "cell_type": "code",
   "execution_count": 10,
   "id": "8d9c6cd26a99f8ab",
   "metadata": {
    "ExecuteTime": {
     "end_time": "2025-09-09T05:40:20.101518Z",
     "start_time": "2025-09-09T05:40:20.096169Z"
    }
   },
   "outputs": [
    {
     "data": {
      "text/html": [
       "<div>\n",
       "<style scoped>\n",
       "    .dataframe tbody tr th:only-of-type {\n",
       "        vertical-align: middle;\n",
       "    }\n",
       "\n",
       "    .dataframe tbody tr th {\n",
       "        vertical-align: top;\n",
       "    }\n",
       "\n",
       "    .dataframe thead th {\n",
       "        text-align: right;\n",
       "    }\n",
       "</style>\n",
       "<table border=\"1\" class=\"dataframe\">\n",
       "  <thead>\n",
       "    <tr style=\"text-align: right;\">\n",
       "      <th></th>\n",
       "      <th>chrom_1</th>\n",
       "      <th>start_1</th>\n",
       "      <th>end_1</th>\n",
       "      <th>chrom_2</th>\n",
       "      <th>start_2</th>\n",
       "      <th>end_2</th>\n",
       "      <th>distance</th>\n",
       "    </tr>\n",
       "  </thead>\n",
       "  <tbody>\n",
       "    <tr>\n",
       "      <th>0</th>\n",
       "      <td>chr1</td>\n",
       "      <td>1</td>\n",
       "      <td>5</td>\n",
       "      <td>chr1</td>\n",
       "      <td>4</td>\n",
       "      <td>8</td>\n",
       "      <td>0</td>\n",
       "    </tr>\n",
       "    <tr>\n",
       "      <th>1</th>\n",
       "      <td>chr1</td>\n",
       "      <td>3</td>\n",
       "      <td>8</td>\n",
       "      <td>chr1</td>\n",
       "      <td>4</td>\n",
       "      <td>8</td>\n",
       "      <td>0</td>\n",
       "    </tr>\n",
       "    <tr>\n",
       "      <th>2</th>\n",
       "      <td>chr1</td>\n",
       "      <td>8</td>\n",
       "      <td>10</td>\n",
       "      <td>chr1</td>\n",
       "      <td>4</td>\n",
       "      <td>8</td>\n",
       "      <td>0</td>\n",
       "    </tr>\n",
       "    <tr>\n",
       "      <th>3</th>\n",
       "      <td>chr1</td>\n",
       "      <td>12</td>\n",
       "      <td>14</td>\n",
       "      <td>chr1</td>\n",
       "      <td>10</td>\n",
       "      <td>11</td>\n",
       "      <td>1</td>\n",
       "    </tr>\n",
       "  </tbody>\n",
       "</table>\n",
       "</div>"
      ],
      "text/plain": [
       "  chrom_1  start_1  end_1 chrom_2  start_2  end_2  distance\n",
       "0    chr1        1      5    chr1        4      8         0\n",
       "1    chr1        3      8    chr1        4      8         0\n",
       "2    chr1        8     10    chr1        4      8         0\n",
       "3    chr1       12     14    chr1       10     11         1"
      ]
     },
     "metadata": {},
     "output_type": "display_data"
    }
   ],
   "source": [
    "display(nearest_intervals)"
   ]
  },
  {
   "cell_type": "code",
   "execution_count": 11,
   "id": "80191889aa2b99da",
   "metadata": {
    "ExecuteTime": {
     "end_time": "2025-09-09T05:40:22.028906Z",
     "start_time": "2025-09-09T05:40:21.918581Z"
    }
   },
   "outputs": [
    {
     "data": {
      "image/png": "[encoded data removed]",
      "text/plain": [
       "<Figure size 1000x200 with 1 Axes>"
      ]
     },
     "metadata": {},
     "output_type": "display_data"
    },
    {
     "data": {
      "image/png": "[encoded data removed]",
      "text/plain": [
       "<Figure size 1000x200 with 1 Axes>"
      ]
     },
     "metadata": {},
     "output_type": "display_data"
    },
    {
     "data": {
      "image/png": "[encoded data removed]",
      "text/plain": [
       "<Figure size 1000x200 with 1 Axes>"
      ]
     },
     "metadata": {},
     "output_type": "display_data"
    },
    {
     "data": {
      "image/png": "[encoded data removed]",
      "text/plain": [
       "<Figure size 1000x200 with 1 Axes>"
      ]
     },
     "metadata": {},
     "output_type": "display_data"
    }
   ],
   "source": [
    "pb.visualize_intervals(nearest_intervals, \"nearest pair\")"
   ]
  },
  {
   "cell_type": "markdown",
   "id": "df7c9b5e7e21d52e",
   "metadata": {},
   "source": [
    "#### Count overlaps"
   ]
  },
  {
   "cell_type": "code",
   "execution_count": 12,
   "id": "3f14b50c392c4536",
   "metadata": {
    "ExecuteTime": {
     "end_time": "2025-09-09T05:40:25.748846Z",
     "start_time": "2025-09-09T05:40:25.741228Z"
    }
   },
   "outputs": [],
   "source": [
    "count_overlaps = pb.count_overlaps(df1, df2, output_type=\"pandas.DataFrame\")"
   ]
  },
  {
   "cell_type": "code",
   "execution_count": 13,
   "id": "cb96f74898640d0c",
   "metadata": {
    "ExecuteTime": {
     "end_time": "2025-09-09T05:40:27.390287Z",
     "start_time": "2025-09-09T05:40:27.385825Z"
    }
   },
   "outputs": [
    {
     "data": {
      "text/html": [
       "<div>\n",
       "<style scoped>\n",
       "    .dataframe tbody tr th:only-of-type {\n",
       "        vertical-align: middle;\n",
       "    }\n",
       "\n",
       "    .dataframe tbody tr th {\n",
       "        vertical-align: top;\n",
       "    }\n",
       "\n",
       "    .dataframe thead th {\n",
       "        text-align: right;\n",
       "    }\n",
       "</style>\n",
       "<table border=\"1\" class=\"dataframe\">\n",
       "  <thead>\n",
       "    <tr style=\"text-align: right;\">\n",
       "      <th></th>\n",
       "      <th>chrom</th>\n",
       "      <th>start</th>\n",
       "      <th>end</th>\n",
       "      <th>count</th>\n",
       "    </tr>\n",
       "  </thead>\n",
       "  <tbody>\n",
       "    <tr>\n",
       "      <th>0</th>\n",
       "      <td>chr1</td>\n",
       "      <td>1</td>\n",
       "      <td>5</td>\n",
       "      <td>1</td>\n",
       "    </tr>\n",
       "    <tr>\n",
       "      <th>1</th>\n",
       "      <td>chr1</td>\n",
       "      <td>3</td>\n",
       "      <td>8</td>\n",
       "      <td>1</td>\n",
       "    </tr>\n",
       "    <tr>\n",
       "      <th>2</th>\n",
       "      <td>chr1</td>\n",
       "      <td>8</td>\n",
       "      <td>10</td>\n",
       "      <td>2</td>\n",
       "    </tr>\n",
       "    <tr>\n",
       "      <th>3</th>\n",
       "      <td>chr1</td>\n",
       "      <td>12</td>\n",
       "      <td>14</td>\n",
       "      <td>0</td>\n",
       "    </tr>\n",
       "  </tbody>\n",
       "</table>\n",
       "</div>"
      ],
      "text/plain": [
       "  chrom  start  end  count\n",
       "0  chr1      1    5      1\n",
       "1  chr1      3    8      1\n",
       "2  chr1      8   10      2\n",
       "3  chr1     12   14      0"
      ]
     },
     "metadata": {},
     "output_type": "display_data"
    }
   ],
   "source": [
    "display(count_overlaps)"
   ]
  },
  {
   "cell_type": "markdown",
   "id": "1f63b71590dfd91e",
   "metadata": {},
   "source": [
    "#### Coverage"
   ]
  },
  {
   "cell_type": "code",
   "execution_count": 14,
   "id": "6c9cc2335b04b8b9",
   "metadata": {
    "ExecuteTime": {
     "end_time": "2025-09-09T05:40:29.232463Z",
     "start_time": "2025-09-09T05:40:29.225661Z"
    }
   },
   "outputs": [],
   "source": [
    "coverage = pb.coverage(df1, df2, output_type=\"pandas.DataFrame\")"
   ]
  },
  {
   "cell_type": "code",
   "execution_count": 15,
   "id": "a4715dda84844985",
   "metadata": {
    "ExecuteTime": {
     "end_time": "2025-09-09T05:40:31.476316Z",
     "start_time": "2025-09-09T05:40:31.472384Z"
    }
   },
   "outputs": [
    {
     "data": {
      "text/html": [
       "<div>\n",
       "<style scoped>\n",
       "    .dataframe tbody tr th:only-of-type {\n",
       "        vertical-align: middle;\n",
       "    }\n",
       "\n",
       "    .dataframe tbody tr th {\n",
       "        vertical-align: top;\n",
       "    }\n",
       "\n",
       "    .dataframe thead th {\n",
       "        text-align: right;\n",
       "    }\n",
       "</style>\n",
       "<table border=\"1\" class=\"dataframe\">\n",
       "  <thead>\n",
       "    <tr style=\"text-align: right;\">\n",
       "      <th></th>\n",
       "      <th>chrom</th>\n",
       "      <th>start</th>\n",
       "      <th>end</th>\n",
       "      <th>coverage</th>\n",
       "    </tr>\n",
       "  </thead>\n",
       "  <tbody>\n",
       "    <tr>\n",
       "      <th>0</th>\n",
       "      <td>chr1</td>\n",
       "      <td>1</td>\n",
       "      <td>5</td>\n",
       "      <td>2</td>\n",
       "    </tr>\n",
       "    <tr>\n",
       "      <th>1</th>\n",
       "      <td>chr1</td>\n",
       "      <td>3</td>\n",
       "      <td>8</td>\n",
       "      <td>4</td>\n",
       "    </tr>\n",
       "    <tr>\n",
       "      <th>2</th>\n",
       "      <td>chr1</td>\n",
       "      <td>8</td>\n",
       "      <td>10</td>\n",
       "      <td>2</td>\n",
       "    </tr>\n",
       "    <tr>\n",
       "      <th>3</th>\n",
       "      <td>chr1</td>\n",
       "      <td>12</td>\n",
       "      <td>14</td>\n",
       "      <td>0</td>\n",
       "    </tr>\n",
       "  </tbody>\n",
       "</table>\n",
       "</div>"
      ],
      "text/plain": [
       "  chrom  start  end  coverage\n",
       "0  chr1      1    5         2\n",
       "1  chr1      3    8         4\n",
       "2  chr1      8   10         2\n",
       "3  chr1     12   14         0"
      ]
     },
     "metadata": {},
     "output_type": "display_data"
    }
   ],
   "source": [
    "display(coverage)"
   ]
  },
  {
   "cell_type": "markdown",
   "id": "9a97d33cc83cd475",
   "metadata": {},
   "source": [
    "#### Merge"
   ]
  },
  {
   "cell_type": "code",
   "execution_count": 16,
   "id": "b0fe171d79e091c3",
   "metadata": {
    "ExecuteTime": {
     "end_time": "2025-09-09T05:40:33.785726Z",
     "start_time": "2025-09-09T05:40:33.778103Z"
    }
   },
   "outputs": [],
   "source": [
    "merge = pb.merge(df1,output_type=\"pandas.DataFrame\")"
   ]
  },
  {
   "cell_type": "code",
   "execution_count": 17,
   "id": "56ac95b89a86c2dc",
   "metadata": {
    "ExecuteTime": {
     "end_time": "2025-09-09T05:40:37.419870Z",
     "start_time": "2025-09-09T05:40:37.416029Z"
    }
   },
   "outputs": [
    {
     "data": {
      "text/html": [
       "<div>\n",
       "<style scoped>\n",
       "    .dataframe tbody tr th:only-of-type {\n",
       "        vertical-align: middle;\n",
       "    }\n",
       "\n",
       "    .dataframe tbody tr th {\n",
       "        vertical-align: top;\n",
       "    }\n",
       "\n",
       "    .dataframe thead th {\n",
       "        text-align: right;\n",
       "    }\n",
       "</style>\n",
       "<table border=\"1\" class=\"dataframe\">\n",
       "  <thead>\n",
       "    <tr style=\"text-align: right;\">\n",
       "      <th></th>\n",
       "      <th>chrom</th>\n",
       "      <th>start</th>\n",
       "      <th>end</th>\n",
       "      <th>n_intervals</th>\n",
       "    </tr>\n",
       "  </thead>\n",
       "  <tbody>\n",
       "    <tr>\n",
       "      <th>0</th>\n",
       "      <td>chr1</td>\n",
       "      <td>1</td>\n",
       "      <td>10</td>\n",
       "      <td>3</td>\n",
       "    </tr>\n",
       "    <tr>\n",
       "      <th>1</th>\n",
       "      <td>chr1</td>\n",
       "      <td>12</td>\n",
       "      <td>14</td>\n",
       "      <td>1</td>\n",
       "    </tr>\n",
       "  </tbody>\n",
       "</table>\n",
       "</div>"
      ],
      "text/plain": [
       "  chrom  start  end  n_intervals\n",
       "0  chr1      1   10            3\n",
       "1  chr1     12   14            1"
      ]
     },
     "metadata": {},
     "output_type": "display_data"
    }
   ],
   "source": [
    "display(merge)"
   ]
  },
  {
   "cell_type": "markdown",
   "id": "1b6f87ff5aed8b75",
   "metadata": {},
   "source": [
    "### Reading bioinformatics data"
   ]
  },
  {
   "cell_type": "markdown",
   "id": "54e87ed7580a82f7",
   "metadata": {},
   "source": [
    "#### GFF"
   ]
  },
  {
   "cell_type": "markdown",
   "id": "b42cd55422449b0f",
   "metadata": {},
   "source": [
    "##### Basic reading with attributes unnesting"
   ]
  },
  {
   "cell_type": "code",
   "execution_count": 18,
   "id": "e4d4005807994b3e",
   "metadata": {
    "ExecuteTime": {
     "end_time": "2025-09-09T05:40:40.177752Z",
     "start_time": "2025-09-09T05:40:40.173944Z"
    }
   },
   "outputs": [],
   "source": [
    "gff = pb.scan_gff(\"../data/example.gff3.bgz\")"
   ]
  },
  {
   "cell_type": "code",
   "execution_count": 19,
   "id": "9e992909c6e3d2f9",
   "metadata": {
    "ExecuteTime": {
     "end_time": "2025-09-09T05:40:41.847611Z",
     "start_time": "2025-09-09T05:40:41.817347Z"
    }
   },
   "outputs": [
    {
     "data": {
      "application/vnd.jupyter.widget-view+json": {
       "model_id": "f95059c64cf9470b8df224488a08349c",
       "version_major": 2,
       "version_minor": 0
      },
      "text/plain": [
       "0rows [00:00, ?rows/s]"
      ]
     },
     "metadata": {},
     "output_type": "display_data"
    },
    {
     "data": {
      "text/html": [
       "<div><style>\n",
       ".dataframe > thead > tr,\n",
       ".dataframe > tbody > tr {\n",
       "  text-align: right;\n",
       "  white-space: pre-wrap;\n",
       "}\n",
       "</style>\n",
       "<small>shape: (3, 9)</small><table border=\"1\" class=\"dataframe\"><thead><tr><th>chrom</th><th>start</th><th>end</th><th>type</th><th>source</th><th>score</th><th>strand</th><th>phase</th><th>attributes</th></tr><tr><td>str</td><td>u32</td><td>u32</td><td>str</td><td>str</td><td>f32</td><td>str</td><td>u32</td><td>list[struct[2]]</td></tr></thead><tbody><tr><td>&quot;chr1&quot;</td><td>11869</td><td>14409</td><td>&quot;gene&quot;</td><td>&quot;HAVANA&quot;</td><td>null</td><td>&quot;+&quot;</td><td>null</td><td>[{&quot;ID&quot;,&quot;ENSG00000223972.5&quot;}, {&quot;gene_id&quot;,&quot;ENSG00000223972.5&quot;}, … {&quot;havana_gene&quot;,&quot;OTTHUMG00000000961.2&quot;}]</td></tr><tr><td>&quot;chr1&quot;</td><td>11869</td><td>14409</td><td>&quot;transcript&quot;</td><td>&quot;HAVANA&quot;</td><td>null</td><td>&quot;+&quot;</td><td>null</td><td>[{&quot;ID&quot;,&quot;ENST00000456328.2&quot;}, {&quot;Parent&quot;,&quot;ENSG00000223972.5&quot;}, … {&quot;havana_transcript&quot;,&quot;OTTHUMT00000362751.1&quot;}]</td></tr><tr><td>&quot;chr1&quot;</td><td>11869</td><td>12227</td><td>&quot;exon&quot;</td><td>&quot;HAVANA&quot;</td><td>null</td><td>&quot;+&quot;</td><td>null</td><td>[{&quot;ID&quot;,&quot;exon:ENST00000456328.2:1&quot;}, {&quot;Parent&quot;,&quot;ENST00000456328.2&quot;}, … {&quot;havana_transcript&quot;,&quot;OTTHUMT00000362751.1&quot;}]</td></tr></tbody></table></div>"
      ],
      "text/plain": [
       "shape: (3, 9)\n",
       "┌───────┬───────┬───────┬────────────┬───┬───────┬────────┬───────┬────────────────────────────────┐\n",
       "│ chrom ┆ start ┆ end   ┆ type       ┆ … ┆ score ┆ strand ┆ phase ┆ attributes                     │\n",
       "│ ---   ┆ ---   ┆ ---   ┆ ---        ┆   ┆ ---   ┆ ---    ┆ ---   ┆ ---                            │\n",
       "│ str   ┆ u32   ┆ u32   ┆ str        ┆   ┆ f32   ┆ str    ┆ u32   ┆ list[struct[2]]                │\n",
       "╞═══════╪═══════╪═══════╪════════════╪═══╪═══════╪════════╪═══════╪════════════════════════════════╡\n",
       "│ chr1  ┆ 11869 ┆ 14409 ┆ gene       ┆ … ┆ null  ┆ +      ┆ null  ┆ [{\"ID\",\"ENSG00000223972.5\"},   │\n",
       "│       ┆       ┆       ┆            ┆   ┆       ┆        ┆       ┆ {…                             │\n",
       "│ chr1  ┆ 11869 ┆ 14409 ┆ transcript ┆ … ┆ null  ┆ +      ┆ null  ┆ [{\"ID\",\"ENST00000456328.2\"},   │\n",
       "│       ┆       ┆       ┆            ┆   ┆       ┆        ┆       ┆ {…                             │\n",
       "│ chr1  ┆ 11869 ┆ 12227 ┆ exon       ┆ … ┆ null  ┆ +      ┆ null  ┆ [{\"ID\",\"exon:ENST00000456328.2 │\n",
       "│       ┆       ┆       ┆            ┆   ┆       ┆        ┆       ┆ …                              │\n",
       "└───────┴───────┴───────┴────────────┴───┴───────┴────────┴───────┴────────────────────────────────┘"
      ]
     },
     "execution_count": 19,
     "metadata": {},
     "output_type": "execute_result"
    }
   ],
   "source": [
    "gff.limit(3).collect()"
   ]
  },
  {
   "cell_type": "markdown",
   "id": "c29dfb5da15f3bf8",
   "metadata": {},
   "source": [
    "##### Unnesting attributes"
   ]
  },
  {
   "cell_type": "code",
   "execution_count": 20,
   "id": "af4308a2d5f718cc",
   "metadata": {
    "ExecuteTime": {
     "end_time": "2025-09-09T05:40:44.248794Z",
     "start_time": "2025-09-09T05:40:44.243426Z"
    }
   },
   "outputs": [],
   "source": [
    "gff = pb.scan_gff(\"../data/example.gff3.bgz\").select([\"start\", \"end\", \"ID\", \"havana_transcript\"])"
   ]
  },
  {
   "cell_type": "code",
   "execution_count": 21,
   "id": "b1d10f8ca8801c10",
   "metadata": {
    "ExecuteTime": {
     "end_time": "2025-09-09T05:40:45.750597Z",
     "start_time": "2025-09-09T05:40:45.740912Z"
    }
   },
   "outputs": [
    {
     "data": {
      "application/vnd.jupyter.widget-view+json": {
       "model_id": "b4422965213a477eba02039dc8589e60",
       "version_major": 2,
       "version_minor": 0
      },
      "text/plain": [
       "0rows [00:00, ?rows/s]"
      ]
     },
     "metadata": {},
     "output_type": "display_data"
    },
    {
     "data": {
      "text/html": [
       "<div><style>\n",
       ".dataframe > thead > tr,\n",
       ".dataframe > tbody > tr {\n",
       "  text-align: right;\n",
       "  white-space: pre-wrap;\n",
       "}\n",
       "</style>\n",
       "<small>shape: (3, 4)</small><table border=\"1\" class=\"dataframe\"><thead><tr><th>start</th><th>end</th><th>ID</th><th>havana_transcript</th></tr><tr><td>u32</td><td>u32</td><td>str</td><td>str</td></tr></thead><tbody><tr><td>11869</td><td>14409</td><td>&quot;ENSG00000223972.5&quot;</td><td>null</td></tr><tr><td>11869</td><td>14409</td><td>&quot;ENST00000456328.2&quot;</td><td>&quot;OTTHUMT00000362751.1&quot;</td></tr><tr><td>11869</td><td>12227</td><td>&quot;exon:ENST00000456328.2:1&quot;</td><td>&quot;OTTHUMT00000362751.1&quot;</td></tr></tbody></table></div>"
      ],
      "text/plain": [
       "shape: (3, 4)\n",
       "┌───────┬───────┬──────────────────────────┬──────────────────────┐\n",
       "│ start ┆ end   ┆ ID                       ┆ havana_transcript    │\n",
       "│ ---   ┆ ---   ┆ ---                      ┆ ---                  │\n",
       "│ u32   ┆ u32   ┆ str                      ┆ str                  │\n",
       "╞═══════╪═══════╪══════════════════════════╪══════════════════════╡\n",
       "│ 11869 ┆ 14409 ┆ ENSG00000223972.5        ┆ null                 │\n",
       "│ 11869 ┆ 14409 ┆ ENST00000456328.2        ┆ OTTHUMT00000362751.1 │\n",
       "│ 11869 ┆ 12227 ┆ exon:ENST00000456328.2:1 ┆ OTTHUMT00000362751.1 │\n",
       "└───────┴───────┴──────────────────────────┴──────────────────────┘"
      ]
     },
     "execution_count": 21,
     "metadata": {},
     "output_type": "execute_result"
    }
   ],
   "source": [
    "gff.limit(3).collect()"
   ]
  },
  {
   "cell_type": "markdown",
   "id": "e8be0c35e7df3987",
   "metadata": {},
   "source": [
    "#### VCF"
   ]
  },
  {
   "cell_type": "code",
   "execution_count": 22,
   "id": "26854a933a668cf5",
   "metadata": {
    "ExecuteTime": {
     "end_time": "2025-09-09T05:40:49.824541Z",
     "start_time": "2025-09-09T05:40:49.815695Z"
    }
   },
   "outputs": [
    {
     "data": {
      "application/vnd.jupyter.widget-view+json": {
       "model_id": "1dbe0bb507e44534bc5d17bff7161eff",
       "version_major": 2,
       "version_minor": 0
      },
      "text/plain": [
       "0rows [00:00, ?rows/s]"
      ]
     },
     "metadata": {},
     "output_type": "display_data"
    },
    {
     "data": {
      "text/html": [
       "<div><style>\n",
       ".dataframe > thead > tr,\n",
       ".dataframe > tbody > tr {\n",
       "  text-align: right;\n",
       "  white-space: pre-wrap;\n",
       "}\n",
       "</style>\n",
       "<small>shape: (2, 9)</small><table border=\"1\" class=\"dataframe\"><thead><tr><th>chrom</th><th>start</th><th>end</th><th>id</th><th>ref</th><th>alt</th><th>qual</th><th>filter</th><th>csq</th></tr><tr><td>str</td><td>u32</td><td>u32</td><td>str</td><td>str</td><td>str</td><td>f64</td><td>str</td><td>list[str]</td></tr></thead><tbody><tr><td>&quot;chr21&quot;</td><td>26960070</td><td>26960070</td><td>&quot;rs116645811&quot;</td><td>&quot;G&quot;</td><td>&quot;A&quot;</td><td>null</td><td>&quot;&quot;</td><td>[&quot;A|missense_variant|MODERATE|MRPL39|ENSG00000154719|Transcript|ENST00000307301|protein_coding|10/11||||1043|1001|334|T/M|aCg/aTg|||-1||HGNC|14027&quot;, &quot;A|intron_variant|MODIFIER|MRPL39|ENSG00000154719|Transcript|ENST00000352957|protein_coding||9/9||||||||||-1||HGNC|14027&quot;, &quot;A|upstream_gene_variant|MODIFIER|LINC00515|ENSG00000260583|Transcript|ENST00000567517|antisense|||||||||||4432|-1||HGNC|16019&quot;]</td></tr><tr><td>&quot;chr21&quot;</td><td>26965148</td><td>26965148</td><td>&quot;rs1135638&quot;</td><td>&quot;G&quot;</td><td>&quot;A&quot;</td><td>null</td><td>&quot;&quot;</td><td>[&quot;A|synonymous_variant|LOW|MRPL39|ENSG00000154719|Transcript|ENST00000307301|protein_coding|8/11||||939|897|299|G|ggC/ggT|||-1||HGNC|14027&quot;, &quot;A|synonymous_variant|LOW|MRPL39|ENSG00000154719|Transcript|ENST00000352957|protein_coding|8/10||||939|897|299|G|ggC/ggT|||-1||HGNC|14027&quot;, &quot;A|synonymous_variant|LOW|MRPL39|ENSG00000154719|Transcript|ENST00000419219|protein_coding|8/8||||876|867|289|G|ggC/ggT|||-1|cds_end_NF|HGNC|14027&quot;]</td></tr></tbody></table></div>"
      ],
      "text/plain": [
       "shape: (2, 9)\n",
       "┌───────┬──────────┬──────────┬─────────────┬───┬─────┬──────┬────────┬────────────────────────────┐\n",
       "│ chrom ┆ start    ┆ end      ┆ id          ┆ … ┆ alt ┆ qual ┆ filter ┆ csq                        │\n",
       "│ ---   ┆ ---      ┆ ---      ┆ ---         ┆   ┆ --- ┆ ---  ┆ ---    ┆ ---                        │\n",
       "│ str   ┆ u32      ┆ u32      ┆ str         ┆   ┆ str ┆ f64  ┆ str    ┆ list[str]                  │\n",
       "╞═══════╪══════════╪══════════╪═════════════╪═══╪═════╪══════╪════════╪════════════════════════════╡\n",
       "│ chr21 ┆ 26960070 ┆ 26960070 ┆ rs116645811 ┆ … ┆ A   ┆ null ┆        ┆ [\"A|missense_variant|MODER │\n",
       "│       ┆          ┆          ┆             ┆   ┆     ┆      ┆        ┆ ATE|…                      │\n",
       "│ chr21 ┆ 26965148 ┆ 26965148 ┆ rs1135638   ┆ … ┆ A   ┆ null ┆        ┆ [\"A|synonymous_variant|LOW │\n",
       "│       ┆          ┆          ┆             ┆   ┆     ┆      ┆        ┆ |MRP…                      │\n",
       "└───────┴──────────┴──────────┴─────────────┴───┴─────┴──────┴────────┴────────────────────────────┘"
      ]
     },
     "execution_count": 22,
     "metadata": {},
     "output_type": "execute_result"
    }
   ],
   "source": [
    "pb.scan_vcf(\"../data/example.vcf\").limit(3).collect()"
   ]
  },
  {
   "cell_type": "markdown",
   "id": "aff23d7df4ca20c1",
   "metadata": {},
   "source": [
    "##### Get info fields available in the VCF file"
   ]
  },
  {
   "cell_type": "code",
   "execution_count": 24,
   "id": "cd0944de767dcd45",
   "metadata": {
    "ExecuteTime": {
     "end_time": "2025-09-09T05:40:53.231483Z",
     "start_time": "2025-09-09T05:40:53.227338Z"
    }
   },
   "outputs": [
    {
     "data": {
      "text/html": [
       "<div><style>\n",
       ".dataframe > thead > tr,\n",
       ".dataframe > tbody > tr {\n",
       "  text-align: right;\n",
       "  white-space: pre-wrap;\n",
       "}\n",
       "</style>\n",
       "<small>shape: (1, 3)</small><table border=\"1\" class=\"dataframe\"><thead><tr><th>name</th><th>type</th><th>description</th></tr><tr><td>str</td><td>str</td><td>str</td></tr></thead><tbody><tr><td>&quot;CSQ&quot;</td><td>&quot;String&quot;</td><td>&quot;Consequence annotations from E…</td></tr></tbody></table></div>"
      ],
      "text/plain": [
       "shape: (1, 3)\n",
       "┌──────┬────────┬─────────────────────────────────┐\n",
       "│ name ┆ type   ┆ description                     │\n",
       "│ ---  ┆ ---    ┆ ---                             │\n",
       "│ str  ┆ str    ┆ str                             │\n",
       "╞══════╪════════╪═════════════════════════════════╡\n",
       "│ CSQ  ┆ String ┆ Consequence annotations from E… │\n",
       "└──────┴────────┴─────────────────────────────────┘"
      ]
     },
     "execution_count": 24,
     "metadata": {},
     "output_type": "execute_result"
    }
   ],
   "source": [
    "pb.describe_vcf(\"../data/example.vcf\").sort(\"name\")"
   ]
  },
  {
   "cell_type": "code",
   "execution_count": 26,
   "id": "e2ba6485f56669ff",
   "metadata": {
    "ExecuteTime": {
     "end_time": "2025-09-09T05:40:55.621591Z",
     "start_time": "2025-09-09T05:40:55.610665Z"
    }
   },
   "outputs": [
    {
     "data": {
      "application/vnd.jupyter.widget-view+json": {
       "model_id": "9eae55f86e9042c58f33e49d33d04951",
       "version_major": 2,
       "version_minor": 0
      },
      "text/plain": [
       "0rows [00:00, ?rows/s]"
      ]
     },
     "metadata": {},
     "output_type": "display_data"
    },
    {
     "data": {
      "text/html": [
       "<div><style>\n",
       ".dataframe > thead > tr,\n",
       ".dataframe > tbody > tr {\n",
       "  text-align: right;\n",
       "  white-space: pre-wrap;\n",
       "}\n",
       "</style>\n",
       "<small>shape: (2, 8)</small><table border=\"1\" class=\"dataframe\"><thead><tr><th>chrom</th><th>start</th><th>end</th><th>id</th><th>ref</th><th>alt</th><th>qual</th><th>filter</th></tr><tr><td>str</td><td>u32</td><td>u32</td><td>str</td><td>str</td><td>str</td><td>f64</td><td>str</td></tr></thead><tbody><tr><td>&quot;chr21&quot;</td><td>26960070</td><td>26960070</td><td>&quot;rs116645811&quot;</td><td>&quot;G&quot;</td><td>&quot;A&quot;</td><td>null</td><td>&quot;&quot;</td></tr><tr><td>&quot;chr21&quot;</td><td>26965148</td><td>26965148</td><td>&quot;rs1135638&quot;</td><td>&quot;G&quot;</td><td>&quot;A&quot;</td><td>null</td><td>&quot;&quot;</td></tr></tbody></table></div>"
      ],
      "text/plain": [
       "shape: (2, 8)\n",
       "┌───────┬──────────┬──────────┬─────────────┬─────┬─────┬──────┬────────┐\n",
       "│ chrom ┆ start    ┆ end      ┆ id          ┆ ref ┆ alt ┆ qual ┆ filter │\n",
       "│ ---   ┆ ---      ┆ ---      ┆ ---         ┆ --- ┆ --- ┆ ---  ┆ ---    │\n",
       "│ str   ┆ u32      ┆ u32      ┆ str         ┆ str ┆ str ┆ f64  ┆ str    │\n",
       "╞═══════╪══════════╪══════════╪═════════════╪═════╪═════╪══════╪════════╡\n",
       "│ chr21 ┆ 26960070 ┆ 26960070 ┆ rs116645811 ┆ G   ┆ A   ┆ null ┆        │\n",
       "│ chr21 ┆ 26965148 ┆ 26965148 ┆ rs1135638   ┆ G   ┆ A   ┆ null ┆        │\n",
       "└───────┴──────────┴──────────┴─────────────┴─────┴─────┴──────┴────────┘"
      ]
     },
     "execution_count": 26,
     "metadata": {},
     "output_type": "execute_result"
    }
   ],
   "source": [
    "pb.scan_vcf(\"../data/example.vcf\", info_fields=[]).limit(3).collect()"
   ]
  },
  {
   "cell_type": "markdown",
   "id": "297e73737a493f98",
   "metadata": {},
   "source": [
    "#### FASTQ"
   ]
  },
  {
   "cell_type": "code",
   "execution_count": 27,
   "id": "b8905d462e5bd071",
   "metadata": {
    "ExecuteTime": {
     "end_time": "2025-09-09T05:41:05.387811Z",
     "start_time": "2025-09-09T05:41:05.376412Z"
    }
   },
   "outputs": [
    {
     "data": {
      "application/vnd.jupyter.widget-view+json": {
       "model_id": "f194fccf71e64c96a9dbd1644d88ce2c",
       "version_major": 2,
       "version_minor": 0
      },
      "text/plain": [
       "0rows [00:00, ?rows/s]"
      ]
     },
     "metadata": {},
     "output_type": "display_data"
    },
    {
     "data": {
      "text/html": [
       "<div><style>\n",
       ".dataframe > thead > tr,\n",
       ".dataframe > tbody > tr {\n",
       "  text-align: right;\n",
       "  white-space: pre-wrap;\n",
       "}\n",
       "</style>\n",
       "<small>shape: (3, 4)</small><table border=\"1\" class=\"dataframe\"><thead><tr><th>name</th><th>description</th><th>sequence</th><th>quality_scores</th></tr><tr><td>str</td><td>str</td><td>str</td><td>str</td></tr></thead><tbody><tr><td>&quot;SRR9130495.1&quot;</td><td>&quot;D00236:723:HG32CBCX2:1:1108:13…</td><td>&quot;NCAATACAAAAGCAATATGGGAGAAGCTAC…</td><td>&quot;#4BDFDFFHGHGGJJJHIIIIGGIIJGJJG…</td></tr><tr><td>&quot;SRR9130495.2&quot;</td><td>&quot;D00236:723:HG32CBCX2:1:1108:14…</td><td>&quot;NGTCAAAGATAAGATCAAAAGGCACTGGCT…</td><td>&quot;#1=DDDDD&gt;DHFH@EFHHGHGGFGIIIGIG…</td></tr><tr><td>&quot;SRR9130495.3&quot;</td><td>&quot;D00236:723:HG32CBCX2:1:1108:17…</td><td>&quot;GTTTTCCTCTGGTTATTTCTAGGTACACTG…</td><td>&quot;@@@DDDFFHHHFHBHIIGJIJIIJIIIEHG…</td></tr></tbody></table></div>"
      ],
      "text/plain": [
       "shape: (3, 4)\n",
       "┌──────────────┬───────────────────────────┬───────────────────────────┬───────────────────────────┐\n",
       "│ name         ┆ description               ┆ sequence                  ┆ quality_scores            │\n",
       "│ ---          ┆ ---                       ┆ ---                       ┆ ---                       │\n",
       "│ str          ┆ str                       ┆ str                       ┆ str                       │\n",
       "╞══════════════╪═══════════════════════════╪═══════════════════════════╪═══════════════════════════╡\n",
       "│ SRR9130495.1 ┆ D00236:723:HG32CBCX2:1:11 ┆ NCAATACAAAAGCAATATGGGAGAA ┆ #4BDFDFFHGHGGJJJHIIIIGGII │\n",
       "│              ┆ 08:13…                    ┆ GCTAC…                    ┆ JGJJG…                    │\n",
       "│ SRR9130495.2 ┆ D00236:723:HG32CBCX2:1:11 ┆ NGTCAAAGATAAGATCAAAAGGCAC ┆ #1=DDDDD>DHFH@EFHHGHGGFGI │\n",
       "│              ┆ 08:14…                    ┆ TGGCT…                    ┆ IIGIG…                    │\n",
       "│ SRR9130495.3 ┆ D00236:723:HG32CBCX2:1:11 ┆ GTTTTCCTCTGGTTATTTCTAGGTA ┆ @@@DDDFFHHHFHBHIIGJIJIIJI │\n",
       "│              ┆ 08:17…                    ┆ CACTG…                    ┆ IIEHG…                    │\n",
       "└──────────────┴───────────────────────────┴───────────────────────────┴───────────────────────────┘"
      ]
     },
     "execution_count": 27,
     "metadata": {},
     "output_type": "execute_result"
    }
   ],
   "source": [
    "pb.scan_fastq(\"../data/example.fastq.gz\").limit(3).collect()"
   ]
  },
  {
   "cell_type": "markdown",
   "id": "550242ef3ac34c74",
   "metadata": {},
   "source": [
    "#### BAM"
   ]
  },
  {
   "cell_type": "code",
   "execution_count": 28,
   "id": "2f4c319fa7ff09b0",
   "metadata": {
    "ExecuteTime": {
     "end_time": "2025-09-09T05:41:12.122553Z",
     "start_time": "2025-09-09T05:41:12.108092Z"
    }
   },
   "outputs": [
    {
     "data": {
      "application/vnd.jupyter.widget-view+json": {
       "model_id": "09dfe01ae8f04016b4fd1d30eee1776f",
       "version_major": 2,
       "version_minor": 0
      },
      "text/plain": [
       "0rows [00:00, ?rows/s]"
      ]
     },
     "metadata": {},
     "output_type": "display_data"
    },
    {
     "data": {
      "text/html": [
       "<div><style>\n",
       ".dataframe > thead > tr,\n",
       ".dataframe > tbody > tr {\n",
       "  text-align: right;\n",
       "  white-space: pre-wrap;\n",
       "}\n",
       "</style>\n",
       "<small>shape: (3, 11)</small><table border=\"1\" class=\"dataframe\"><thead><tr><th>name</th><th>chrom</th><th>start</th><th>end</th><th>flags</th><th>cigar</th><th>mapping_quality</th><th>mate_chrom</th><th>mate_start</th><th>sequence</th><th>quality_scores</th></tr><tr><td>str</td><td>str</td><td>u32</td><td>u32</td><td>u32</td><td>str</td><td>u32</td><td>str</td><td>u32</td><td>str</td><td>str</td></tr></thead><tbody><tr><td>&quot;20FUKAAXX100202:1:21:2075:1360…</td><td>&quot;chr1&quot;</td><td>1</td><td>101</td><td>1187</td><td>&quot;101M&quot;</td><td>0</td><td>&quot;chr1&quot;</td><td>178</td><td>&quot;TAACCCTAACCCTAACCCTAACCCTAACCC…</td><td>&quot;?&gt;=&gt;?@CBC@BBCCDABACCDABBB9:788…</td></tr><tr><td>&quot;20FUKAAXX100202:1:21:2733:1836…</td><td>&quot;chr1&quot;</td><td>1</td><td>101</td><td>1123</td><td>&quot;101M&quot;</td><td>0</td><td>&quot;chr1&quot;</td><td>183</td><td>&quot;TAACCCTAACCCTAACCCTAACCCTAACCC…</td><td>&quot;CCDACCDCDABBDCDABBDCDABBDCDABB…</td></tr><tr><td>&quot;20FUKAAXX100202:1:22:19822:802…</td><td>&quot;chr1&quot;</td><td>1</td><td>101</td><td>163</td><td>&quot;101M&quot;</td><td>4</td><td>&quot;chr1&quot;</td><td>35</td><td>&quot;TAACCCTAACCCTAACCCTAACCCTAACCC…</td><td>&quot;@CC?@@CBC@BBCCDABBCCDABBCCDABB…</td></tr></tbody></table></div>"
      ],
      "text/plain": [
       "shape: (3, 11)\n",
       "┌───────────────┬───────┬───────┬─────┬───┬────────────┬────────────┬───────────────┬──────────────┐\n",
       "│ name          ┆ chrom ┆ start ┆ end ┆ … ┆ mate_chrom ┆ mate_start ┆ sequence      ┆ quality_scor │\n",
       "│ ---           ┆ ---   ┆ ---   ┆ --- ┆   ┆ ---        ┆ ---        ┆ ---           ┆ es           │\n",
       "│ str           ┆ str   ┆ u32   ┆ u32 ┆   ┆ str        ┆ u32        ┆ str           ┆ ---          │\n",
       "│               ┆       ┆       ┆     ┆   ┆            ┆            ┆               ┆ str          │\n",
       "╞═══════════════╪═══════╪═══════╪═════╪═══╪════════════╪════════════╪═══════════════╪══════════════╡\n",
       "│ 20FUKAAXX1002 ┆ chr1  ┆ 1     ┆ 101 ┆ … ┆ chr1       ┆ 178        ┆ TAACCCTAACCCT ┆ ?>=>?@CBC@BB │\n",
       "│ 02:1:21:2075: ┆       ┆       ┆     ┆   ┆            ┆            ┆ AACCCTAACCCTA ┆ CCDABACCDABB │\n",
       "│ 1360…         ┆       ┆       ┆     ┆   ┆            ┆            ┆ ACCC…         ┆ B9:788…      │\n",
       "│ 20FUKAAXX1002 ┆ chr1  ┆ 1     ┆ 101 ┆ … ┆ chr1       ┆ 183        ┆ TAACCCTAACCCT ┆ CCDACCDCDABB │\n",
       "│ 02:1:21:2733: ┆       ┆       ┆     ┆   ┆            ┆            ┆ AACCCTAACCCTA ┆ DCDABBDCDABB │\n",
       "│ 1836…         ┆       ┆       ┆     ┆   ┆            ┆            ┆ ACCC…         ┆ DCDABB…      │\n",
       "│ 20FUKAAXX1002 ┆ chr1  ┆ 1     ┆ 101 ┆ … ┆ chr1       ┆ 35         ┆ TAACCCTAACCCT ┆ @CC?@@CBC@BB │\n",
       "│ 02:1:22:19822 ┆       ┆       ┆     ┆   ┆            ┆            ┆ AACCCTAACCCTA ┆ CCDABBCCDABB │\n",
       "│ :802…         ┆       ┆       ┆     ┆   ┆            ┆            ┆ ACCC…         ┆ CCDABB…      │\n",
       "└───────────────┴───────┴───────┴─────┴───┴────────────┴────────────┴───────────────┴──────────────┘"
      ]
     },
     "execution_count": 28,
     "metadata": {},
     "output_type": "execute_result"
    }
   ],
   "source": [
    "pb.scan_bam(\"../data/example.bam\").limit(3).collect()"
   ]
  },
  {
   "cell_type": "markdown",
   "id": "ca1a5e86401526",
   "metadata": {},
   "source": [
    "#### BED"
   ]
  },
  {
   "cell_type": "code",
   "execution_count": 29,
   "id": "b106aeaaf3db743e",
   "metadata": {
    "ExecuteTime": {
     "end_time": "2025-09-09T05:41:18.817078Z",
     "start_time": "2025-09-09T05:41:18.806657Z"
    }
   },
   "outputs": [
    {
     "data": {
      "application/vnd.jupyter.widget-view+json": {
       "model_id": "e59260ac73df44c59e0f2a9c94f14715",
       "version_major": 2,
       "version_minor": 0
      },
      "text/plain": [
       "0rows [00:00, ?rows/s]"
      ]
     },
     "metadata": {},
     "output_type": "display_data"
    },
    {
     "data": {
      "text/html": [
       "<div><style>\n",
       ".dataframe > thead > tr,\n",
       ".dataframe > tbody > tr {\n",
       "  text-align: right;\n",
       "  white-space: pre-wrap;\n",
       "}\n",
       "</style>\n",
       "<small>shape: (3, 4)</small><table border=\"1\" class=\"dataframe\"><thead><tr><th>chrom</th><th>start</th><th>end</th><th>name</th></tr><tr><td>str</td><td>u32</td><td>u32</td><td>str</td></tr></thead><tbody><tr><td>&quot;chr16&quot;</td><td>14800001</td><td>16800000</td><td>&quot;FRA16A&quot;</td></tr><tr><td>&quot;chr16&quot;</td><td>66700001</td><td>70800000</td><td>&quot;FRA16B&quot;</td></tr><tr><td>&quot;chr16&quot;</td><td>63917503</td><td>63934965</td><td>&quot;FRA16C&quot;</td></tr></tbody></table></div>"
      ],
      "text/plain": [
       "shape: (3, 4)\n",
       "┌───────┬──────────┬──────────┬────────┐\n",
       "│ chrom ┆ start    ┆ end      ┆ name   │\n",
       "│ ---   ┆ ---      ┆ ---      ┆ ---    │\n",
       "│ str   ┆ u32      ┆ u32      ┆ str    │\n",
       "╞═══════╪══════════╪══════════╪════════╡\n",
       "│ chr16 ┆ 14800001 ┆ 16800000 ┆ FRA16A │\n",
       "│ chr16 ┆ 66700001 ┆ 70800000 ┆ FRA16B │\n",
       "│ chr16 ┆ 63917503 ┆ 63934965 ┆ FRA16C │\n",
       "└───────┴──────────┴──────────┴────────┘"
      ]
     },
     "execution_count": 29,
     "metadata": {},
     "output_type": "execute_result"
    }
   ],
   "source": [
    "pb.scan_bed(\"../data/example.bed.bgz\").limit(3).collect()"
   ]
  },
  {
   "cell_type": "markdown",
   "id": "67974d26725a4b82",
   "metadata": {},
   "source": [
    "### SQL processing"
   ]
  },
  {
   "cell_type": "markdown",
   "id": "ee7b2be7b5509944",
   "metadata": {},
   "source": [
    "#### Registering tables"
   ]
  },
  {
   "cell_type": "code",
   "execution_count": 30,
   "id": "ef9621a3b1515205",
   "metadata": {
    "ExecuteTime": {
     "end_time": "2025-09-09T05:41:23.625355Z",
     "start_time": "2025-09-09T05:41:23.622474Z"
    }
   },
   "outputs": [],
   "source": [
    "pb.register_gff(\"../data/example.gff3.bgz\", \"example_gff\")"
   ]
  },
  {
   "cell_type": "code",
   "execution_count": 31,
   "id": "f09691b4827d09c0",
   "metadata": {
    "ExecuteTime": {
     "end_time": "2025-09-09T05:41:25.139688Z",
     "start_time": "2025-09-09T05:41:25.130190Z"
    }
   },
   "outputs": [
    {
     "data": {
      "application/vnd.jupyter.widget-view+json": {
       "model_id": "16cadd3dc02b4add96bc3ab9e7f2ae28",
       "version_major": 2,
       "version_minor": 0
      },
      "text/plain": [
       "0rows [00:00, ?rows/s]"
      ]
     },
     "metadata": {},
     "output_type": "display_data"
    },
    {
     "data": {
      "text/html": [
       "<div><style>\n",
       ".dataframe > thead > tr,\n",
       ".dataframe > tbody > tr {\n",
       "  text-align: right;\n",
       "  white-space: pre-wrap;\n",
       "}\n",
       "</style>\n",
       "<small>shape: (18, 4)</small><table border=\"1\" class=\"dataframe\"><thead><tr><th>table_catalog</th><th>table_schema</th><th>table_name</th><th>table_type</th></tr><tr><td>str</td><td>str</td><td>str</td><td>str</td></tr></thead><tbody><tr><td>&quot;datafusion&quot;</td><td>&quot;public&quot;</td><td>&quot;vcf_schema_2450897014&quot;</td><td>&quot;BASE TABLE&quot;</td></tr><tr><td>&quot;datafusion&quot;</td><td>&quot;public&quot;</td><td>&quot;s2&quot;</td><td>&quot;BASE TABLE&quot;</td></tr><tr><td>&quot;datafusion&quot;</td><td>&quot;public&quot;</td><td>&quot;s1&quot;</td><td>&quot;BASE TABLE&quot;</td></tr><tr><td>&quot;datafusion&quot;</td><td>&quot;public&quot;</td><td>&quot;example_bgz&quot;</td><td>&quot;BASE TABLE&quot;</td></tr><tr><td>&quot;datafusion&quot;</td><td>&quot;public&quot;</td><td>&quot;example3_bgz&quot;</td><td>&quot;BASE TABLE&quot;</td></tr><tr><td>&hellip;</td><td>&hellip;</td><td>&hellip;</td><td>&hellip;</td></tr><tr><td>&quot;datafusion&quot;</td><td>&quot;information_schema&quot;</td><td>&quot;columns&quot;</td><td>&quot;VIEW&quot;</td></tr><tr><td>&quot;datafusion&quot;</td><td>&quot;information_schema&quot;</td><td>&quot;df_settings&quot;</td><td>&quot;VIEW&quot;</td></tr><tr><td>&quot;datafusion&quot;</td><td>&quot;information_schema&quot;</td><td>&quot;schemata&quot;</td><td>&quot;VIEW&quot;</td></tr><tr><td>&quot;datafusion&quot;</td><td>&quot;information_schema&quot;</td><td>&quot;routines&quot;</td><td>&quot;VIEW&quot;</td></tr><tr><td>&quot;datafusion&quot;</td><td>&quot;information_schema&quot;</td><td>&quot;parameters&quot;</td><td>&quot;VIEW&quot;</td></tr></tbody></table></div>"
      ],
      "text/plain": [
       "shape: (18, 4)\n",
       "┌───────────────┬────────────────────┬───────────────────────┬────────────┐\n",
       "│ table_catalog ┆ table_schema       ┆ table_name            ┆ table_type │\n",
       "│ ---           ┆ ---                ┆ ---                   ┆ ---        │\n",
       "│ str           ┆ str                ┆ str                   ┆ str        │\n",
       "╞═══════════════╪════════════════════╪═══════════════════════╪════════════╡\n",
       "│ datafusion    ┆ public             ┆ vcf_schema_2450897014 ┆ BASE TABLE │\n",
       "│ datafusion    ┆ public             ┆ s2                    ┆ BASE TABLE │\n",
       "│ datafusion    ┆ public             ┆ s1                    ┆ BASE TABLE │\n",
       "│ datafusion    ┆ public             ┆ example_bgz           ┆ BASE TABLE │\n",
       "│ datafusion    ┆ public             ┆ example3_bgz          ┆ BASE TABLE │\n",
       "│ …             ┆ …                  ┆ …                     ┆ …          │\n",
       "│ datafusion    ┆ information_schema ┆ columns               ┆ VIEW       │\n",
       "│ datafusion    ┆ information_schema ┆ df_settings           ┆ VIEW       │\n",
       "│ datafusion    ┆ information_schema ┆ schemata              ┆ VIEW       │\n",
       "│ datafusion    ┆ information_schema ┆ routines              ┆ VIEW       │\n",
       "│ datafusion    ┆ information_schema ┆ parameters            ┆ VIEW       │\n",
       "└───────────────┴────────────────────┴───────────────────────┴────────────┘"
      ]
     },
     "execution_count": 31,
     "metadata": {},
     "output_type": "execute_result"
    }
   ],
   "source": [
    "pb.sql(\"SHOW TABLES\").collect()"
   ]
  },
  {
   "cell_type": "markdown",
   "id": "617c2ebc99e790f5",
   "metadata": {},
   "source": [
    "##### Querying registered tables"
   ]
  },
  {
   "cell_type": "code",
   "execution_count": 32,
   "id": "db7e9123501d9929",
   "metadata": {
    "ExecuteTime": {
     "end_time": "2025-09-09T05:41:37.574938Z",
     "start_time": "2025-09-09T05:41:37.564544Z"
    }
   },
   "outputs": [
    {
     "data": {
      "application/vnd.jupyter.widget-view+json": {
       "model_id": "40a97033f7f041358b889829c77adde2",
       "version_major": 2,
       "version_minor": 0
      },
      "text/plain": [
       "0rows [00:00, ?rows/s]"
      ]
     },
     "metadata": {},
     "output_type": "display_data"
    },
    {
     "data": {
      "text/html": [
       "<div><style>\n",
       ".dataframe > thead > tr,\n",
       ".dataframe > tbody > tr {\n",
       "  text-align: right;\n",
       "  white-space: pre-wrap;\n",
       "}\n",
       "</style>\n",
       "<small>shape: (9, 3)</small><table border=\"1\" class=\"dataframe\"><thead><tr><th>column_name</th><th>data_type</th><th>is_nullable</th></tr><tr><td>str</td><td>str</td><td>str</td></tr></thead><tbody><tr><td>&quot;chrom&quot;</td><td>&quot;Utf8&quot;</td><td>&quot;NO&quot;</td></tr><tr><td>&quot;start&quot;</td><td>&quot;UInt32&quot;</td><td>&quot;NO&quot;</td></tr><tr><td>&quot;end&quot;</td><td>&quot;UInt32&quot;</td><td>&quot;NO&quot;</td></tr><tr><td>&quot;type&quot;</td><td>&quot;Utf8&quot;</td><td>&quot;NO&quot;</td></tr><tr><td>&quot;source&quot;</td><td>&quot;Utf8&quot;</td><td>&quot;NO&quot;</td></tr><tr><td>&quot;score&quot;</td><td>&quot;Float32&quot;</td><td>&quot;YES&quot;</td></tr><tr><td>&quot;strand&quot;</td><td>&quot;Utf8&quot;</td><td>&quot;NO&quot;</td></tr><tr><td>&quot;phase&quot;</td><td>&quot;UInt32&quot;</td><td>&quot;YES&quot;</td></tr><tr><td>&quot;attributes&quot;</td><td>&quot;List(Field { name: &quot;item&quot;, dat…</td><td>&quot;YES&quot;</td></tr></tbody></table></div>"
      ],
      "text/plain": [
       "shape: (9, 3)\n",
       "┌─────────────┬─────────────────────────────────┬─────────────┐\n",
       "│ column_name ┆ data_type                       ┆ is_nullable │\n",
       "│ ---         ┆ ---                             ┆ ---         │\n",
       "│ str         ┆ str                             ┆ str         │\n",
       "╞═════════════╪═════════════════════════════════╪═════════════╡\n",
       "│ chrom       ┆ Utf8                            ┆ NO          │\n",
       "│ start       ┆ UInt32                          ┆ NO          │\n",
       "│ end         ┆ UInt32                          ┆ NO          │\n",
       "│ type        ┆ Utf8                            ┆ NO          │\n",
       "│ source      ┆ Utf8                            ┆ NO          │\n",
       "│ score       ┆ Float32                         ┆ YES         │\n",
       "│ strand      ┆ Utf8                            ┆ NO          │\n",
       "│ phase       ┆ UInt32                          ┆ YES         │\n",
       "│ attributes  ┆ List(Field { name: \"item\", dat… ┆ YES         │\n",
       "└─────────────┴─────────────────────────────────┴─────────────┘"
      ]
     },
     "execution_count": 32,
     "metadata": {},
     "output_type": "execute_result"
    }
   ],
   "source": [
    "pb.sql(\"DESCRIBE example_gff\").collect()"
   ]
  },
  {
   "cell_type": "code",
   "execution_count": 33,
   "id": "208df91caffc4e2d",
   "metadata": {
    "ExecuteTime": {
     "end_time": "2025-09-09T05:41:42.289774Z",
     "start_time": "2025-09-09T05:41:42.279231Z"
    }
   },
   "outputs": [
    {
     "data": {
      "application/vnd.jupyter.widget-view+json": {
       "model_id": "526b865749de4982adeba2a9956ea565",
       "version_major": 2,
       "version_minor": 0
      },
      "text/plain": [
       "0rows [00:00, ?rows/s]"
      ]
     },
     "metadata": {},
     "output_type": "display_data"
    },
    {
     "data": {
      "text/html": [
       "<div><style>\n",
       ".dataframe > thead > tr,\n",
       ".dataframe > tbody > tr {\n",
       "  text-align: right;\n",
       "  white-space: pre-wrap;\n",
       "}\n",
       "</style>\n",
       "<small>shape: (2, 3)</small><table border=\"1\" class=\"dataframe\"><thead><tr><th>start</th><th>end</th><th>type</th></tr><tr><td>u32</td><td>u32</td><td>str</td></tr></thead><tbody><tr><td>11869</td><td>14409</td><td>&quot;gene&quot;</td></tr><tr><td>11869</td><td>14409</td><td>&quot;transcript&quot;</td></tr></tbody></table></div>"
      ],
      "text/plain": [
       "shape: (2, 3)\n",
       "┌───────┬───────┬────────────┐\n",
       "│ start ┆ end   ┆ type       │\n",
       "│ ---   ┆ ---   ┆ ---        │\n",
       "│ u32   ┆ u32   ┆ str        │\n",
       "╞═══════╪═══════╪════════════╡\n",
       "│ 11869 ┆ 14409 ┆ gene       │\n",
       "│ 11869 ┆ 14409 ┆ transcript │\n",
       "└───────┴───────┴────────────┘"
      ]
     },
     "execution_count": 33,
     "metadata": {},
     "output_type": "execute_result"
    }
   ],
   "source": [
    "pb.sql(\"SELECT start, end, type FROM example_gff WHERE end = 14409\").collect()"
   ]
  },
  {
   "cell_type": "markdown",
   "id": "ec19e20fa5a8dd48",
   "metadata": {},
   "source": [
    "##### Registering views"
   ]
  },
  {
   "cell_type": "code",
   "execution_count": 34,
   "id": "2326007dd5fa4c0c",
   "metadata": {
    "ExecuteTime": {
     "end_time": "2025-09-09T05:41:46.908386Z",
     "start_time": "2025-09-09T05:41:46.905221Z"
    }
   },
   "outputs": [],
   "source": [
    "pb.register_view(\"v_example_gff\", \"SELECT start, end, type FROM example_gff WHERE end = 14409\")"
   ]
  },
  {
   "cell_type": "code",
   "execution_count": 35,
   "id": "96021be03255a88b",
   "metadata": {
    "ExecuteTime": {
     "end_time": "2025-09-09T05:41:48.833585Z",
     "start_time": "2025-09-09T05:41:48.823558Z"
    }
   },
   "outputs": [
    {
     "data": {
      "application/vnd.jupyter.widget-view+json": {
       "model_id": "5d007f6f95054f2eac9144508c47720d",
       "version_major": 2,
       "version_minor": 0
      },
      "text/plain": [
       "0rows [00:00, ?rows/s]"
      ]
     },
     "metadata": {},
     "output_type": "display_data"
    },
    {
     "data": {
      "text/html": [
       "<div><style>\n",
       ".dataframe > thead > tr,\n",
       ".dataframe > tbody > tr {\n",
       "  text-align: right;\n",
       "  white-space: pre-wrap;\n",
       "}\n",
       "</style>\n",
       "<small>shape: (2, 3)</small><table border=\"1\" class=\"dataframe\"><thead><tr><th>start</th><th>end</th><th>type</th></tr><tr><td>u32</td><td>u32</td><td>str</td></tr></thead><tbody><tr><td>11869</td><td>14409</td><td>&quot;gene&quot;</td></tr><tr><td>11869</td><td>14409</td><td>&quot;transcript&quot;</td></tr></tbody></table></div>"
      ],
      "text/plain": [
       "shape: (2, 3)\n",
       "┌───────┬───────┬────────────┐\n",
       "│ start ┆ end   ┆ type       │\n",
       "│ ---   ┆ ---   ┆ ---        │\n",
       "│ u32   ┆ u32   ┆ str        │\n",
       "╞═══════╪═══════╪════════════╡\n",
       "│ 11869 ┆ 14409 ┆ gene       │\n",
       "│ 11869 ┆ 14409 ┆ transcript │\n",
       "└───────┴───────┴────────────┘"
      ]
     },
     "execution_count": 35,
     "metadata": {},
     "output_type": "execute_result"
    }
   ],
   "source": [
    "pb.sql(\"SELECT * FROM v_example_gff\").collect()"
   ]
  },
  {
   "cell_type": "markdown",
   "id": "7740c51d19264f07",
   "metadata": {},
   "source": [
    "### Working with cloud storage"
   ]
  },
  {
   "cell_type": "code",
   "execution_count": 36,
   "id": "440ef23275057a5e",
   "metadata": {
    "ExecuteTime": {
     "end_time": "2025-09-09T05:42:01.003879Z",
     "start_time": "2025-09-09T05:41:59.241315Z"
    }
   },
   "outputs": [
    {
     "data": {
      "text/html": [
       "<div><style>\n",
       ".dataframe > thead > tr,\n",
       ".dataframe > tbody > tr {\n",
       "  text-align: right;\n",
       "  white-space: pre-wrap;\n",
       "}\n",
       "</style>\n",
       "<small>shape: (3, 3)</small><table border=\"1\" class=\"dataframe\"><thead><tr><th>name</th><th>type</th><th>description</th></tr><tr><td>str</td><td>str</td><td>str</td></tr></thead><tbody><tr><td>&quot;AF_amr&quot;</td><td>&quot;Float&quot;</td><td>&quot;Latino allele frequency (biall…</td></tr><tr><td>&quot;AF_amr_XY&quot;</td><td>&quot;Float&quot;</td><td>&quot;Latino XY allele frequency (bi…</td></tr><tr><td>&quot;AF_amr_XX&quot;</td><td>&quot;Float&quot;</td><td>&quot;Latino XX allele frequency (bi…</td></tr></tbody></table></div>"
      ],
      "text/plain": [
       "shape: (3, 3)\n",
       "┌───────────┬───────┬─────────────────────────────────┐\n",
       "│ name      ┆ type  ┆ description                     │\n",
       "│ ---       ┆ ---   ┆ ---                             │\n",
       "│ str       ┆ str   ┆ str                             │\n",
       "╞═══════════╪═══════╪═════════════════════════════════╡\n",
       "│ AF_amr    ┆ Float ┆ Latino allele frequency (biall… │\n",
       "│ AF_amr_XY ┆ Float ┆ Latino XY allele frequency (bi… │\n",
       "│ AF_amr_XX ┆ Float ┆ Latino XX allele frequency (bi… │\n",
       "└───────────┴───────┴─────────────────────────────────┘"
      ]
     },
     "execution_count": 36,
     "metadata": {},
     "output_type": "execute_result"
    }
   ],
   "source": [
    "pb.describe_vcf(\"gs://gcp-public-data--gnomad/release/4.1/genome_sv/gnomad.v4.1.sv.sites.vcf.gz\").filter(pl.col(\"description\").str.contains(r\"Latino.* allele frequency\"))"
   ]
  },
  {
   "cell_type": "code",
   "execution_count": 37,
   "id": "aa82d7e1966f643f",
   "metadata": {
    "ExecuteTime": {
     "end_time": "2025-09-09T05:42:35.228700Z",
     "start_time": "2025-09-09T05:42:09.020009Z"
    }
   },
   "outputs": [
    {
     "data": {
      "application/vnd.jupyter.widget-view+json": {
       "model_id": "844444b26aeb46c192b8506981665c36",
       "version_major": 2,
       "version_minor": 0
      },
      "text/plain": [
       "0rows [00:00, ?rows/s]"
      ]
     },
     "metadata": {},
     "output_type": "display_data"
    },
    {
     "data": {
      "text/html": [
       "<div><style>\n",
       ".dataframe > thead > tr,\n",
       ".dataframe > tbody > tr {\n",
       "  text-align: right;\n",
       "  white-space: pre-wrap;\n",
       "}\n",
       "</style>\n",
       "<small>shape: (3, 5)</small><table border=\"1\" class=\"dataframe\"><thead><tr><th>chrom</th><th>start</th><th>end</th><th>alt</th><th>af_amr</th></tr><tr><td>str</td><td>u32</td><td>u32</td><td>str</td><td>f32</td></tr></thead><tbody><tr><td>&quot;chr1&quot;</td><td>10000</td><td>295666</td><td>&quot;&lt;DUP&gt;&quot;</td><td>0.000293</td></tr><tr><td>&quot;chr1&quot;</td><td>138000</td><td>144000</td><td>&quot;&lt;DUP&gt;&quot;</td><td>0.000166</td></tr><tr><td>&quot;chr1&quot;</td><td>160500</td><td>172100</td><td>&quot;&lt;DUP&gt;&quot;</td><td>0.002639</td></tr></tbody></table></div>"
      ],
      "text/plain": [
       "shape: (3, 5)\n",
       "┌───────┬────────┬────────┬───────┬──────────┐\n",
       "│ chrom ┆ start  ┆ end    ┆ alt   ┆ af_amr   │\n",
       "│ ---   ┆ ---    ┆ ---    ┆ ---   ┆ ---      │\n",
       "│ str   ┆ u32    ┆ u32    ┆ str   ┆ f32      │\n",
       "╞═══════╪════════╪════════╪═══════╪══════════╡\n",
       "│ chr1  ┆ 10000  ┆ 295666 ┆ <DUP> ┆ 0.000293 │\n",
       "│ chr1  ┆ 138000 ┆ 144000 ┆ <DUP> ┆ 0.000166 │\n",
       "│ chr1  ┆ 160500 ┆ 172100 ┆ <DUP> ┆ 0.002639 │\n",
       "└───────┴────────┴────────┴───────┴──────────┘"
      ]
     },
     "execution_count": 37,
     "metadata": {},
     "output_type": "execute_result"
    }
   ],
   "source": [
    "pb.register_vcf(\"gs://gcp-public-data--gnomad/release/4.1/genome_sv/gnomad.v4.1.sv.sites.vcf.gz\", \"gnomad\", info_fields=['AF_amr'])\n",
    "query = \"\"\"\n",
    "    SELECT\n",
    "        chrom,\n",
    "        start,\n",
    "        end,\n",
    "        alt,\n",
    "        array_element(af_amr,1) AS af_amr\n",
    "    FROM gnomad\n",
    "    WHERE\n",
    "        filter = 'HIGH_NCR'\n",
    "    AND\n",
    "        alt = '<DUP>'\n",
    "\"\"\"\n",
    "pb.sql(f\"{query} LIMIT 3\").collect()"
   ]
  },
  {
   "cell_type": "markdown",
   "id": "16cf77038bdfe672",
   "metadata": {},
   "source": [
    "##### Overlapping with a local dataframe"
   ]
  },
  {
   "cell_type": "code",
   "execution_count": 38,
   "id": "1262e605dec3ac59",
   "metadata": {
    "ExecuteTime": {
     "end_time": "2025-09-09T05:42:41.615525Z",
     "start_time": "2025-09-09T05:42:40.377205Z"
    }
   },
   "outputs": [],
   "source": [
    "pb.register_vcf(\"s3://gnomad-public-us-east-1/release/4.1/vcf/exomes/gnomad.exomes.v4.1.sites.chr1.vcf.bgz\", \"gnomad_sites_chr1\", info_fields=[])"
   ]
  },
  {
   "cell_type": "code",
   "execution_count": 39,
   "id": "43d69623bb6095fb",
   "metadata": {
    "ExecuteTime": {
     "end_time": "2025-09-09T05:42:54.748792Z",
     "start_time": "2025-09-09T05:42:43.610496Z"
    }
   },
   "outputs": [
    {
     "data": {
      "application/vnd.jupyter.widget-view+json": {
       "model_id": "e1a5d77c082e4aa68174cd832baa39ab",
       "version_major": 2,
       "version_minor": 0
      },
      "text/plain": [
       "0rows [00:00, ?rows/s]"
      ]
     },
     "metadata": {},
     "output_type": "display_data"
    },
    {
     "data": {
      "text/html": [
       "<div><style>\n",
       ".dataframe > thead > tr,\n",
       ".dataframe > tbody > tr {\n",
       "  text-align: right;\n",
       "  white-space: pre-wrap;\n",
       "}\n",
       "</style>\n",
       "<small>shape: (3, 4)</small><table border=\"1\" class=\"dataframe\"><thead><tr><th>chrom</th><th>start</th><th>end</th><th>alt</th></tr><tr><td>str</td><td>u32</td><td>u32</td><td>str</td></tr></thead><tbody><tr><td>&quot;chr1&quot;</td><td>11994</td><td>11994</td><td>&quot;C&quot;</td></tr><tr><td>&quot;chr1&quot;</td><td>12016</td><td>12016</td><td>&quot;A&quot;</td></tr><tr><td>&quot;chr1&quot;</td><td>12060</td><td>12065</td><td>&quot;C&quot;</td></tr></tbody></table></div>"
      ],
      "text/plain": [
       "shape: (3, 4)\n",
       "┌───────┬───────┬───────┬─────┐\n",
       "│ chrom ┆ start ┆ end   ┆ alt │\n",
       "│ ---   ┆ ---   ┆ ---   ┆ --- │\n",
       "│ str   ┆ u32   ┆ u32   ┆ str │\n",
       "╞═══════╪═══════╪═══════╪═════╡\n",
       "│ chr1  ┆ 11994 ┆ 11994 ┆ C   │\n",
       "│ chr1  ┆ 12016 ┆ 12016 ┆ A   │\n",
       "│ chr1  ┆ 12060 ┆ 12065 ┆ C   │\n",
       "└───────┴───────┴───────┴─────┘"
      ]
     },
     "execution_count": 39,
     "metadata": {},
     "output_type": "execute_result"
    }
   ],
   "source": [
    "pb.sql(\"SELECT chrom, start, end, alt FROM gnomad_sites_chr1 LIMIT 3\").collect()"
   ]
  },
  {
   "cell_type": "code",
   "execution_count": 40,
   "id": "7a80c364800a6e02",
   "metadata": {
    "ExecuteTime": {
     "end_time": "2025-09-09T05:42:58.867501Z",
     "start_time": "2025-09-09T05:42:58.864261Z"
    }
   },
   "outputs": [],
   "source": [
    "pb.register_view(\"v_gnomad_sites_chr1\", \"SELECT * FROM gnomad_sites_chr1 LIMIT 20\")"
   ]
  },
  {
   "cell_type": "code",
   "execution_count": 41,
   "id": "5b3cc40738d06805",
   "metadata": {
    "ExecuteTime": {
     "end_time": "2025-09-09T05:43:03.768607Z",
     "start_time": "2025-09-09T05:43:01.307864Z"
    }
   },
   "outputs": [
    {
     "data": {
      "application/vnd.jupyter.widget-view+json": {
       "model_id": "618ed40986574f7591a78f7c66868876",
       "version_major": 2,
       "version_minor": 0
      },
      "text/plain": [
       "0rows [00:00, ?rows/s]"
      ]
     },
     "metadata": {},
     "output_type": "display_data"
    },
    {
     "data": {
      "text/html": [
       "<div><style>\n",
       ".dataframe > thead > tr,\n",
       ".dataframe > tbody > tr {\n",
       "  text-align: right;\n",
       "  white-space: pre-wrap;\n",
       "}\n",
       "</style>\n",
       "<small>shape: (20, 8)</small><table border=\"1\" class=\"dataframe\"><thead><tr><th>chrom</th><th>start</th><th>end</th><th>id</th><th>ref</th><th>alt</th><th>qual</th><th>filter</th></tr><tr><td>str</td><td>u32</td><td>u32</td><td>str</td><td>str</td><td>str</td><td>f64</td><td>str</td></tr></thead><tbody><tr><td>&quot;chr1&quot;</td><td>11994</td><td>11994</td><td>&quot;&quot;</td><td>&quot;T&quot;</td><td>&quot;C&quot;</td><td>null</td><td>&quot;AC0;AS_VQSR&quot;</td></tr><tr><td>&quot;chr1&quot;</td><td>12016</td><td>12016</td><td>&quot;&quot;</td><td>&quot;G&quot;</td><td>&quot;A&quot;</td><td>null</td><td>&quot;AC0;AS_VQSR&quot;</td></tr><tr><td>&quot;chr1&quot;</td><td>12060</td><td>12065</td><td>&quot;&quot;</td><td>&quot;CTGGAG&quot;</td><td>&quot;C&quot;</td><td>null</td><td>&quot;AC0;AS_VQSR&quot;</td></tr><tr><td>&quot;chr1&quot;</td><td>12074</td><td>12074</td><td>&quot;&quot;</td><td>&quot;T&quot;</td><td>&quot;C&quot;</td><td>null</td><td>&quot;AC0;AS_VQSR&quot;</td></tr><tr><td>&quot;chr1&quot;</td><td>12102</td><td>12102</td><td>&quot;&quot;</td><td>&quot;G&quot;</td><td>&quot;A&quot;</td><td>null</td><td>&quot;AC0;AS_VQSR&quot;</td></tr><tr><td>&hellip;</td><td>&hellip;</td><td>&hellip;</td><td>&hellip;</td><td>&hellip;</td><td>&hellip;</td><td>&hellip;</td><td>&hellip;</td></tr><tr><td>&quot;chr1&quot;</td><td>12198</td><td>12198</td><td>&quot;rs62635282&quot;</td><td>&quot;G&quot;</td><td>&quot;C&quot;</td><td>null</td><td>&quot;AS_VQSR&quot;</td></tr><tr><td>&quot;chr1&quot;</td><td>12201</td><td>12201</td><td>&quot;&quot;</td><td>&quot;C&quot;</td><td>&quot;G&quot;</td><td>null</td><td>&quot;AS_VQSR&quot;</td></tr><tr><td>&quot;chr1&quot;</td><td>12214</td><td>12214</td><td>&quot;rs202068986&quot;</td><td>&quot;C&quot;</td><td>&quot;G&quot;</td><td>null</td><td>&quot;AC0&quot;</td></tr><tr><td>&quot;chr1&quot;</td><td>12225</td><td>12225</td><td>&quot;&quot;</td><td>&quot;C&quot;</td><td>&quot;T&quot;</td><td>null</td><td>&quot;AS_VQSR&quot;</td></tr><tr><td>&quot;chr1&quot;</td><td>12235</td><td>12235</td><td>&quot;&quot;</td><td>&quot;G&quot;</td><td>&quot;A&quot;</td><td>null</td><td>&quot;AS_VQSR&quot;</td></tr></tbody></table></div>"
      ],
      "text/plain": [
       "shape: (20, 8)\n",
       "┌───────┬───────┬───────┬─────────────┬────────┬─────┬──────┬─────────────┐\n",
       "│ chrom ┆ start ┆ end   ┆ id          ┆ ref    ┆ alt ┆ qual ┆ filter      │\n",
       "│ ---   ┆ ---   ┆ ---   ┆ ---         ┆ ---    ┆ --- ┆ ---  ┆ ---         │\n",
       "│ str   ┆ u32   ┆ u32   ┆ str         ┆ str    ┆ str ┆ f64  ┆ str         │\n",
       "╞═══════╪═══════╪═══════╪═════════════╪════════╪═════╪══════╪═════════════╡\n",
       "│ chr1  ┆ 11994 ┆ 11994 ┆             ┆ T      ┆ C   ┆ null ┆ AC0;AS_VQSR │\n",
       "│ chr1  ┆ 12016 ┆ 12016 ┆             ┆ G      ┆ A   ┆ null ┆ AC0;AS_VQSR │\n",
       "│ chr1  ┆ 12060 ┆ 12065 ┆             ┆ CTGGAG ┆ C   ┆ null ┆ AC0;AS_VQSR │\n",
       "│ chr1  ┆ 12074 ┆ 12074 ┆             ┆ T      ┆ C   ┆ null ┆ AC0;AS_VQSR │\n",
       "│ chr1  ┆ 12102 ┆ 12102 ┆             ┆ G      ┆ A   ┆ null ┆ AC0;AS_VQSR │\n",
       "│ …     ┆ …     ┆ …     ┆ …           ┆ …      ┆ …   ┆ …    ┆ …           │\n",
       "│ chr1  ┆ 12198 ┆ 12198 ┆ rs62635282  ┆ G      ┆ C   ┆ null ┆ AS_VQSR     │\n",
       "│ chr1  ┆ 12201 ┆ 12201 ┆             ┆ C      ┆ G   ┆ null ┆ AS_VQSR     │\n",
       "│ chr1  ┆ 12214 ┆ 12214 ┆ rs202068986 ┆ C      ┆ G   ┆ null ┆ AC0         │\n",
       "│ chr1  ┆ 12225 ┆ 12225 ┆             ┆ C      ┆ T   ┆ null ┆ AS_VQSR     │\n",
       "│ chr1  ┆ 12235 ┆ 12235 ┆             ┆ G      ┆ A   ┆ null ┆ AS_VQSR     │\n",
       "└───────┴───────┴───────┴─────────────┴────────┴─────┴──────┴─────────────┘"
      ]
     },
     "execution_count": 41,
     "metadata": {},
     "output_type": "execute_result"
    }
   ],
   "source": [
    "pb.sql(\"SELECT * FROM v_gnomad_sites_chr1\").collect()"
   ]
  },
  {
   "cell_type": "code",
   "execution_count": 42,
   "id": "4eb88e824c4e5876",
   "metadata": {
    "ExecuteTime": {
     "end_time": "2025-09-09T05:43:06.758964Z",
     "start_time": "2025-09-09T05:43:06.745919Z"
    }
   },
   "outputs": [
    {
     "data": {
      "application/vnd.jupyter.widget-view+json": {
       "model_id": "b6a891a912584172a02be3983d61d7b5",
       "version_major": 2,
       "version_minor": 0
      },
      "text/plain": [
       "0rows [00:00, ?rows/s]"
      ]
     },
     "metadata": {},
     "output_type": "display_data"
    },
    {
     "data": {
      "text/html": [
       "<div><style>\n",
       ".dataframe > thead > tr,\n",
       ".dataframe > tbody > tr {\n",
       "  text-align: right;\n",
       "  white-space: pre-wrap;\n",
       "}\n",
       "</style>\n",
       "<small>shape: (2, 4)</small><table border=\"1\" class=\"dataframe\"><thead><tr><th>chrom</th><th>start</th><th>end</th><th>annotation</th></tr><tr><td>str</td><td>i64</td><td>i64</td><td>str</td></tr></thead><tbody><tr><td>&quot;chr1&quot;</td><td>11993</td><td>11996</td><td>&quot;ann1&quot;</td></tr><tr><td>&quot;chr1&quot;</td><td>12102</td><td>12200</td><td>&quot;ann2&quot;</td></tr></tbody></table></div>"
      ],
      "text/plain": [
       "shape: (2, 4)\n",
       "┌───────┬───────┬───────┬────────────┐\n",
       "│ chrom ┆ start ┆ end   ┆ annotation │\n",
       "│ ---   ┆ ---   ┆ ---   ┆ ---        │\n",
       "│ str   ┆ i64   ┆ i64   ┆ str        │\n",
       "╞═══════╪═══════╪═══════╪════════════╡\n",
       "│ chr1  ┆ 11993 ┆ 11996 ┆ ann1       │\n",
       "│ chr1  ┆ 12102 ┆ 12200 ┆ ann2       │\n",
       "└───────┴───────┴───────┴────────────┘"
      ]
     },
     "execution_count": 42,
     "metadata": {},
     "output_type": "execute_result"
    }
   ],
   "source": [
    "df = pl.DataFrame({\n",
    "    \"chrom\": [\"chr1\", \"chr1\"],\n",
    "    \"start\": [11993, 12102],\n",
    "    \"end\": [11996, 12200],\n",
    "    \"annotation\": [\"ann1\", \"ann2\"]\n",
    "})\n",
    "pb.from_polars(\"test_annotation\", df)\n",
    "pb.sql(\"SELECT * FROM test_annotation\").collect()"
   ]
  },
  {
   "cell_type": "code",
   "execution_count": 43,
   "id": "77ce0d63f1f0a815",
   "metadata": {
    "ExecuteTime": {
     "end_time": "2025-09-09T05:43:11.552066Z",
     "start_time": "2025-09-09T05:43:09.312330Z"
    }
   },
   "outputs": [
    {
     "data": {
      "application/vnd.jupyter.widget-view+json": {
       "model_id": "57b7e11d3af249009e39174a383a5a52",
       "version_major": 2,
       "version_minor": 0
      },
      "text/plain": [
       "0rows [00:00, ?rows/s]"
      ]
     },
     "metadata": {},
     "output_type": "display_data"
    },
    {
     "data": {
      "text/html": [
       "<div><style>\n",
       ".dataframe > thead > tr,\n",
       ".dataframe > tbody > tr {\n",
       "  text-align: right;\n",
       "  white-space: pre-wrap;\n",
       "}\n",
       "</style>\n",
       "<small>shape: (3, 12)</small><table border=\"1\" class=\"dataframe\"><thead><tr><th>chrom_1</th><th>start_1</th><th>end_1</th><th>id_1</th><th>ref_1</th><th>alt_1</th><th>qual_1</th><th>filter_1</th><th>chrom_2</th><th>start_2</th><th>end_2</th><th>annotation_2</th></tr><tr><td>str</td><td>u32</td><td>u32</td><td>str</td><td>str</td><td>str</td><td>f64</td><td>str</td><td>str</td><td>i64</td><td>i64</td><td>str</td></tr></thead><tbody><tr><td>&quot;chr1&quot;</td><td>11994</td><td>11994</td><td>&quot;&quot;</td><td>&quot;T&quot;</td><td>&quot;C&quot;</td><td>null</td><td>&quot;AC0;AS_VQSR&quot;</td><td>&quot;chr1&quot;</td><td>11993</td><td>11996</td><td>&quot;ann1&quot;</td></tr><tr><td>&quot;chr1&quot;</td><td>12102</td><td>12102</td><td>&quot;&quot;</td><td>&quot;G&quot;</td><td>&quot;A&quot;</td><td>null</td><td>&quot;AC0;AS_VQSR&quot;</td><td>&quot;chr1&quot;</td><td>12102</td><td>12200</td><td>&quot;ann2&quot;</td></tr><tr><td>&quot;chr1&quot;</td><td>12106</td><td>12106</td><td>&quot;&quot;</td><td>&quot;T&quot;</td><td>&quot;G&quot;</td><td>null</td><td>&quot;AC0;AS_VQSR&quot;</td><td>&quot;chr1&quot;</td><td>12102</td><td>12200</td><td>&quot;ann2&quot;</td></tr></tbody></table></div>"
      ],
      "text/plain": [
       "shape: (3, 12)\n",
       "┌─────────┬─────────┬───────┬──────┬───┬─────────┬─────────┬───────┬──────────────┐\n",
       "│ chrom_1 ┆ start_1 ┆ end_1 ┆ id_1 ┆ … ┆ chrom_2 ┆ start_2 ┆ end_2 ┆ annotation_2 │\n",
       "│ ---     ┆ ---     ┆ ---   ┆ ---  ┆   ┆ ---     ┆ ---     ┆ ---   ┆ ---          │\n",
       "│ str     ┆ u32     ┆ u32   ┆ str  ┆   ┆ str     ┆ i64     ┆ i64   ┆ str          │\n",
       "╞═════════╪═════════╪═══════╪══════╪═══╪═════════╪═════════╪═══════╪══════════════╡\n",
       "│ chr1    ┆ 11994   ┆ 11994 ┆      ┆ … ┆ chr1    ┆ 11993   ┆ 11996 ┆ ann1         │\n",
       "│ chr1    ┆ 12102   ┆ 12102 ┆      ┆ … ┆ chr1    ┆ 12102   ┆ 12200 ┆ ann2         │\n",
       "│ chr1    ┆ 12106   ┆ 12106 ┆      ┆ … ┆ chr1    ┆ 12102   ┆ 12200 ┆ ann2         │\n",
       "└─────────┴─────────┴───────┴──────┴───┴─────────┴─────────┴───────┴──────────────┘"
      ]
     },
     "execution_count": 43,
     "metadata": {},
     "output_type": "execute_result"
    }
   ],
   "source": [
    "pb.overlap(\"v_gnomad_sites_chr1\",\"test_annotation\").limit(3).collect()"
   ]
  },
  {
   "cell_type": "markdown",
   "id": "70812e28a28efbdf",
   "metadata": {},
   "source": [
    "### Parallel processing"
   ]
  },
  {
   "cell_type": "markdown",
   "id": "7380ad73f87e30e",
   "metadata": {},
   "source": [
    "These demo datasets are from [databio.zip](https://drive.google.com/uc?id=1lctmude31mSAh9fWjI60K1bDrbeDPGfm) benchmark."
   ]
  },
  {
   "cell_type": "code",
   "execution_count": 44,
   "id": "80b53adeb90f540",
   "metadata": {
    "ExecuteTime": {
     "end_time": "2025-09-09T05:43:19.704416Z",
     "start_time": "2025-09-09T05:43:19.702355Z"
    }
   },
   "outputs": [],
   "source": [
    "pb.set_option(\"datafusion.execution.target_partitions\", \"1\")"
   ]
  },
  {
   "cell_type": "code",
   "execution_count": 47,
   "id": "cbb9d8732b9bec5c",
   "metadata": {
    "ExecuteTime": {
     "end_time": "2025-09-09T05:43:25.208323Z",
     "start_time": "2025-09-09T05:43:21.481018Z"
    }
   },
   "outputs": [
    {
     "data": {
      "application/vnd.jupyter.widget-view+json": {
       "model_id": "1c1dbcb693534aac9fa22b39eaa9c858",
       "version_major": 2,
       "version_minor": 0
      },
      "text/plain": [
       "0rows [00:00, ?rows/s]"
      ]
     },
     "metadata": {},
     "output_type": "display_data"
    },
    {
     "name": "stdout",
     "output_type": "stream",
     "text": [
      "CPU times: user 3.84 s, sys: 697 ms, total: 4.54 s\n",
      "Wall time: 4.05 s\n"
     ]
    },
    {
     "data": {
      "text/html": [
       "<div><style>\n",
       ".dataframe > thead > tr,\n",
       ".dataframe > tbody > tr {\n",
       "  text-align: right;\n",
       "  white-space: pre-wrap;\n",
       "}\n",
       "</style>\n",
       "<small>shape: (1, 6)</small><table border=\"1\" class=\"dataframe\"><thead><tr><th>contig_1</th><th>pos_start_1</th><th>pos_end_1</th><th>contig_2</th><th>pos_start_2</th><th>pos_end_2</th></tr><tr><td>u32</td><td>u32</td><td>u32</td><td>u32</td><td>u32</td><td>u32</td></tr></thead><tbody><tr><td>164214743</td><td>164214743</td><td>164214743</td><td>164214743</td><td>164214743</td><td>164214743</td></tr></tbody></table></div>"
      ],
      "text/plain": [
       "shape: (1, 6)\n",
       "┌───────────┬─────────────┬───────────┬───────────┬─────────────┬───────────┐\n",
       "│ contig_1  ┆ pos_start_1 ┆ pos_end_1 ┆ contig_2  ┆ pos_start_2 ┆ pos_end_2 │\n",
       "│ ---       ┆ ---         ┆ ---       ┆ ---       ┆ ---         ┆ ---       │\n",
       "│ u32       ┆ u32         ┆ u32       ┆ u32       ┆ u32         ┆ u32       │\n",
       "╞═══════════╪═════════════╪═══════════╪═══════════╪═════════════╪═══════════╡\n",
       "│ 164214743 ┆ 164214743   ┆ 164214743 ┆ 164214743 ┆ 164214743   ┆ 164214743 │\n",
       "└───────────┴─────────────┴───────────┴───────────┴─────────────┴───────────┘"
      ]
     },
     "execution_count": 47,
     "metadata": {},
     "output_type": "execute_result"
    }
   ],
   "source": [
    "%%time\n",
    "pb.overlap(\"../data/ex-rna/*.parquet\", \"../data/chainRn4/*.parquet\",  cols1=cols, cols2=cols).collect().count()"
   ]
  },
  {
   "cell_type": "code",
   "execution_count": 48,
   "id": "1231e4364bf2f8df",
   "metadata": {
    "ExecuteTime": {
     "end_time": "2025-09-09T05:43:28.869744Z",
     "start_time": "2025-09-09T05:43:28.867924Z"
    }
   },
   "outputs": [],
   "source": [
    "pb.set_option(\"datafusion.execution.target_partitions\", \"2\")"
   ]
  },
  {
   "cell_type": "code",
   "execution_count": 50,
   "id": "3234c4f2bf28a2ab",
   "metadata": {
    "ExecuteTime": {
     "end_time": "2025-09-09T05:43:46.043897Z",
     "start_time": "2025-09-09T05:43:44.091741Z"
    }
   },
   "outputs": [
    {
     "data": {
      "application/vnd.jupyter.widget-view+json": {
       "model_id": "7c8b714750fc4daa8772f6c74262c1c9",
       "version_major": 2,
       "version_minor": 0
      },
      "text/plain": [
       "0rows [00:00, ?rows/s]"
      ]
     },
     "metadata": {},
     "output_type": "display_data"
    },
    {
     "name": "stdout",
     "output_type": "stream",
     "text": [
      "CPU times: user 3.95 s, sys: 780 ms, total: 4.73 s\n",
      "Wall time: 2.05 s\n"
     ]
    },
    {
     "data": {
      "text/html": [
       "<div><style>\n",
       ".dataframe > thead > tr,\n",
       ".dataframe > tbody > tr {\n",
       "  text-align: right;\n",
       "  white-space: pre-wrap;\n",
       "}\n",
       "</style>\n",
       "<small>shape: (1, 6)</small><table border=\"1\" class=\"dataframe\"><thead><tr><th>contig_1</th><th>pos_start_1</th><th>pos_end_1</th><th>contig_2</th><th>pos_start_2</th><th>pos_end_2</th></tr><tr><td>u32</td><td>u32</td><td>u32</td><td>u32</td><td>u32</td><td>u32</td></tr></thead><tbody><tr><td>164214743</td><td>164214743</td><td>164214743</td><td>164214743</td><td>164214743</td><td>164214743</td></tr></tbody></table></div>"
      ],
      "text/plain": [
       "shape: (1, 6)\n",
       "┌───────────┬─────────────┬───────────┬───────────┬─────────────┬───────────┐\n",
       "│ contig_1  ┆ pos_start_1 ┆ pos_end_1 ┆ contig_2  ┆ pos_start_2 ┆ pos_end_2 │\n",
       "│ ---       ┆ ---         ┆ ---       ┆ ---       ┆ ---         ┆ ---       │\n",
       "│ u32       ┆ u32         ┆ u32       ┆ u32       ┆ u32         ┆ u32       │\n",
       "╞═══════════╪═════════════╪═══════════╪═══════════╪═════════════╪═══════════╡\n",
       "│ 164214743 ┆ 164214743   ┆ 164214743 ┆ 164214743 ┆ 164214743   ┆ 164214743 │\n",
       "└───────────┴─────────────┴───────────┴───────────┴─────────────┴───────────┘"
      ]
     },
     "execution_count": 50,
     "metadata": {},
     "output_type": "execute_result"
    }
   ],
   "source": [
    "%%time\n",
    "pb.overlap(\"../data/ex-rna/*.parquet\", \"../data/chainRn4/*.parquet\",  cols1=cols, cols2=cols).collect().count()"
   ]
  },
  {
   "cell_type": "code",
   "execution_count": 59,
   "id": "517d57e2-e48f-473c-9ccc-4d0a68b5d647",
   "metadata": {},
   "outputs": [
    {
     "data": {
      "application/vnd.jupyter.widget-view+json": {
       "model_id": "1b37eea6aeda479fb64037559da94805",
       "version_major": 2,
       "version_minor": 0
      },
      "text/plain": [
       "0rows [00:00, ?rows/s]"
      ]
     },
     "metadata": {},
     "output_type": "display_data"
    }
   ],
   "source": [
    "pb.overlap(\"../data/ex-rna/*.parquet\", \"../data/chainRn4/*.parquet\",  cols1=cols, cols2=cols).sink_parquet(\"/tmp/overlap.parquet\")"
   ]
  },
  {
   "cell_type": "code",
   "execution_count": 60,
   "id": "09be2913-042d-4fc7-a3d8-31beac6f255a",
   "metadata": {},
   "outputs": [
    {
     "data": {
      "text/html": [
       "<div><style>\n",
       ".dataframe > thead > tr,\n",
       ".dataframe > tbody > tr {\n",
       "  text-align: right;\n",
       "  white-space: pre-wrap;\n",
       "}\n",
       "</style>\n",
       "<small>shape: (2, 6)</small><table border=\"1\" class=\"dataframe\"><thead><tr><th>contig_1</th><th>pos_start_1</th><th>pos_end_1</th><th>contig_2</th><th>pos_start_2</th><th>pos_end_2</th></tr><tr><td>str</td><td>i32</td><td>i32</td><td>str</td><td>i32</td><td>i32</td></tr></thead><tbody><tr><td>&quot;chr2&quot;</td><td>216499331</td><td>216501458</td><td>&quot;chr2&quot;</td><td>189182485</td><td>242806427</td></tr><tr><td>&quot;chr7&quot;</td><td>101239611</td><td>101245071</td><td>&quot;chr7&quot;</td><td>76707011</td><td>150558396</td></tr></tbody></table></div>"
      ],
      "text/plain": [
       "shape: (2, 6)\n",
       "┌──────────┬─────────────┬───────────┬──────────┬─────────────┬───────────┐\n",
       "│ contig_1 ┆ pos_start_1 ┆ pos_end_1 ┆ contig_2 ┆ pos_start_2 ┆ pos_end_2 │\n",
       "│ ---      ┆ ---         ┆ ---       ┆ ---      ┆ ---         ┆ ---       │\n",
       "│ str      ┆ i32         ┆ i32       ┆ str      ┆ i32         ┆ i32       │\n",
       "╞══════════╪═════════════╪═══════════╪══════════╪═════════════╪═══════════╡\n",
       "│ chr2     ┆ 216499331   ┆ 216501458 ┆ chr2     ┆ 189182485   ┆ 242806427 │\n",
       "│ chr7     ┆ 101239611   ┆ 101245071 ┆ chr7     ┆ 76707011    ┆ 150558396 │\n",
       "└──────────┴─────────────┴───────────┴──────────┴─────────────┴───────────┘"
      ]
     },
     "execution_count": 60,
     "metadata": {},
     "output_type": "execute_result"
    }
   ],
   "source": [
    "pl.scan_parquet(\"/tmp/overlap.parquet\").limit(2).collect()"
   ]
  },
  {
   "cell_type": "code",
   "execution_count": 61,
   "id": "bbd445f9-5041-48de-b2ab-d7293c6dbded",
   "metadata": {},
   "outputs": [
    {
     "data": {
      "text/html": [
       "<div><style>\n",
       ".dataframe > thead > tr,\n",
       ".dataframe > tbody > tr {\n",
       "  text-align: right;\n",
       "  white-space: pre-wrap;\n",
       "}\n",
       "</style>\n",
       "<small>shape: (1, 6)</small><table border=\"1\" class=\"dataframe\"><thead><tr><th>contig_1</th><th>pos_start_1</th><th>pos_end_1</th><th>contig_2</th><th>pos_start_2</th><th>pos_end_2</th></tr><tr><td>u32</td><td>u32</td><td>u32</td><td>u32</td><td>u32</td><td>u32</td></tr></thead><tbody><tr><td>164214743</td><td>164214743</td><td>164214743</td><td>164214743</td><td>164214743</td><td>164214743</td></tr></tbody></table></div>"
      ],
      "text/plain": [
       "shape: (1, 6)\n",
       "┌───────────┬─────────────┬───────────┬───────────┬─────────────┬───────────┐\n",
       "│ contig_1  ┆ pos_start_1 ┆ pos_end_1 ┆ contig_2  ┆ pos_start_2 ┆ pos_end_2 │\n",
       "│ ---       ┆ ---         ┆ ---       ┆ ---       ┆ ---         ┆ ---       │\n",
       "│ u32       ┆ u32         ┆ u32       ┆ u32       ┆ u32         ┆ u32       │\n",
       "╞═══════════╪═════════════╪═══════════╪═══════════╪═════════════╪═══════════╡\n",
       "│ 164214743 ┆ 164214743   ┆ 164214743 ┆ 164214743 ┆ 164214743   ┆ 164214743 │\n",
       "└───────────┴─────────────┴───────────┴───────────┴─────────────┴───────────┘"
      ]
     },
     "execution_count": 61,
     "metadata": {},
     "output_type": "execute_result"
    }
   ],
   "source": [
    "pl.scan_parquet(\"/tmp/overlap.parquet\").count().collect()"
   ]
  },
  {
   "cell_type": "markdown",
   "id": "ead80358da62ea93",
   "metadata": {},
   "source": [
    "#### Parallel reading of BGZF compressed FASTQ files"
   ]
  },
  {
   "cell_type": "code",
   "execution_count": 51,
   "id": "f75f0281a5a9ccd4",
   "metadata": {
    "ExecuteTime": {
     "end_time": "2025-09-09T05:44:54.956475Z",
     "start_time": "2025-09-09T05:43:59.480274Z"
    }
   },
   "outputs": [
    {
     "name": "stderr",
     "output_type": "stream",
     "text": [
      "/opt/homebrew/share/google-cloud-sdk/platform/gsutil/third_party/google-auth-library-python/google/__init__.py:18: UserWarning: pkg_resources is deprecated as an API. See https://setuptools.pypa.io/en/latest/pkg_resources.html. The pkg_resources package is slated for removal as early as 2025-11-30. Refrain from using this package or pin to Setuptools<81.\n",
      "  import pkg_resources\n"
     ]
    }
   ],
   "source": [
    "%%bash\n",
    "gsutil cat gs://genomics-public-data/platinum-genomes/fastq/ERR194146.fastq.gz | gunzip -c  | bgzip -c > /tmp/ERR194146.fastq.bgz\n",
    "cd /tmp && bgzip -r /tmp/ERR194146.fastq.bgz"
   ]
  },
  {
   "cell_type": "code",
   "execution_count": 52,
   "id": "3efc8cdcc5701da0",
   "metadata": {},
   "outputs": [],
   "source": [
    "pb.set_option(\"datafusion.execution.target_partitions\", \"1\")"
   ]
  },
  {
   "cell_type": "code",
   "execution_count": 53,
   "id": "47854b90756d6845",
   "metadata": {
    "ExecuteTime": {
     "end_time": "2025-09-09T05:46:24.737370Z",
     "start_time": "2025-09-09T05:46:20.960787Z"
    }
   },
   "outputs": [
    {
     "data": {
      "application/vnd.jupyter.widget-view+json": {
       "model_id": "527720e43dec4954ba751ce7cd5a324f",
       "version_major": 2,
       "version_minor": 0
      },
      "text/plain": [
       "0rows [00:00, ?rows/s]"
      ]
     },
     "metadata": {},
     "output_type": "display_data"
    },
    {
     "name": "stdout",
     "output_type": "stream",
     "text": [
      "CPU times: user 3.98 s, sys: 307 ms, total: 4.28 s\n",
      "Wall time: 3.65 s\n"
     ]
    },
    {
     "data": {
      "text/html": [
       "<div><style>\n",
       ".dataframe > thead > tr,\n",
       ".dataframe > tbody > tr {\n",
       "  text-align: right;\n",
       "  white-space: pre-wrap;\n",
       "}\n",
       "</style>\n",
       "<small>shape: (1, 4)</small><table border=\"1\" class=\"dataframe\"><thead><tr><th>name</th><th>description</th><th>sequence</th><th>quality_scores</th></tr><tr><td>u32</td><td>u32</td><td>u32</td><td>u32</td></tr></thead><tbody><tr><td>8657652</td><td>8657652</td><td>8657652</td><td>8657652</td></tr></tbody></table></div>"
      ],
      "text/plain": [
       "shape: (1, 4)\n",
       "┌─────────┬─────────────┬──────────┬────────────────┐\n",
       "│ name    ┆ description ┆ sequence ┆ quality_scores │\n",
       "│ ---     ┆ ---         ┆ ---      ┆ ---            │\n",
       "│ u32     ┆ u32         ┆ u32      ┆ u32            │\n",
       "╞═════════╪═════════════╪══════════╪════════════════╡\n",
       "│ 8657652 ┆ 8657652     ┆ 8657652  ┆ 8657652        │\n",
       "└─────────┴─────────────┴──────────┴────────────────┘"
      ]
     },
     "execution_count": 53,
     "metadata": {},
     "output_type": "execute_result"
    }
   ],
   "source": [
    "%%time\n",
    "pb.scan_fastq(\"/tmp/ERR194146.fastq.bgz\", parallel=True).count().collect()"
   ]
  },
  {
   "cell_type": "code",
   "execution_count": 54,
   "id": "981bd444bbb1bba6",
   "metadata": {
    "ExecuteTime": {
     "end_time": "2025-09-09T05:45:43.102239Z",
     "start_time": "2025-09-09T05:45:43.100251Z"
    }
   },
   "outputs": [],
   "source": [
    "pb.set_option(\"datafusion.execution.target_partitions\", \"2\")"
   ]
  },
  {
   "cell_type": "code",
   "execution_count": 55,
   "id": "f784dda02fadcc6",
   "metadata": {
    "ExecuteTime": {
     "end_time": "2025-09-09T05:45:55.872027Z",
     "start_time": "2025-09-09T05:45:53.834304Z"
    }
   },
   "outputs": [
    {
     "data": {
      "application/vnd.jupyter.widget-view+json": {
       "model_id": "6dcf1449dccf466dbc3c1971c40c2645",
       "version_major": 2,
       "version_minor": 0
      },
      "text/plain": [
       "0rows [00:00, ?rows/s]"
      ]
     },
     "metadata": {},
     "output_type": "display_data"
    },
    {
     "name": "stdout",
     "output_type": "stream",
     "text": [
      "CPU times: user 4.09 s, sys: 292 ms, total: 4.38 s\n",
      "Wall time: 1.88 s\n"
     ]
    },
    {
     "data": {
      "text/html": [
       "<div><style>\n",
       ".dataframe > thead > tr,\n",
       ".dataframe > tbody > tr {\n",
       "  text-align: right;\n",
       "  white-space: pre-wrap;\n",
       "}\n",
       "</style>\n",
       "<small>shape: (1, 4)</small><table border=\"1\" class=\"dataframe\"><thead><tr><th>name</th><th>description</th><th>sequence</th><th>quality_scores</th></tr><tr><td>u32</td><td>u32</td><td>u32</td><td>u32</td></tr></thead><tbody><tr><td>8657652</td><td>8657652</td><td>8657652</td><td>8657652</td></tr></tbody></table></div>"
      ],
      "text/plain": [
       "shape: (1, 4)\n",
       "┌─────────┬─────────────┬──────────┬────────────────┐\n",
       "│ name    ┆ description ┆ sequence ┆ quality_scores │\n",
       "│ ---     ┆ ---         ┆ ---      ┆ ---            │\n",
       "│ u32     ┆ u32         ┆ u32      ┆ u32            │\n",
       "╞═════════╪═════════════╪══════════╪════════════════╡\n",
       "│ 8657652 ┆ 8657652     ┆ 8657652  ┆ 8657652        │\n",
       "└─────────┴─────────────┴──────────┴────────────────┘"
      ]
     },
     "execution_count": 55,
     "metadata": {},
     "output_type": "execute_result"
    }
   ],
   "source": [
    "%%time\n",
    "pb.scan_fastq(\"/tmp/ERR194146.fastq.bgz\", parallel=True).count().collect()"
   ]
  },
  {
   "cell_type": "code",
   "execution_count": 56,
   "id": "f47c4e90543a3477",
   "metadata": {
    "ExecuteTime": {
     "end_time": "2025-09-09T05:46:44.436160Z",
     "start_time": "2025-09-09T05:46:44.434265Z"
    }
   },
   "outputs": [],
   "source": [
    "pb.set_option(\"datafusion.execution.target_partitions\", \"4\")"
   ]
  },
  {
   "cell_type": "code",
   "execution_count": 57,
   "id": "d0933fc718356fbd",
   "metadata": {
    "ExecuteTime": {
     "end_time": "2025-09-09T05:46:47.901717Z",
     "start_time": "2025-09-09T05:46:46.672194Z"
    }
   },
   "outputs": [
    {
     "data": {
      "application/vnd.jupyter.widget-view+json": {
       "model_id": "d04dbbb7cab5467cac72f0efc0e62390",
       "version_major": 2,
       "version_minor": 0
      },
      "text/plain": [
       "0rows [00:00, ?rows/s]"
      ]
     },
     "metadata": {},
     "output_type": "display_data"
    },
    {
     "name": "stdout",
     "output_type": "stream",
     "text": [
      "CPU times: user 4.28 s, sys: 306 ms, total: 4.58 s\n",
      "Wall time: 998 ms\n"
     ]
    },
    {
     "data": {
      "text/html": [
       "<div><style>\n",
       ".dataframe > thead > tr,\n",
       ".dataframe > tbody > tr {\n",
       "  text-align: right;\n",
       "  white-space: pre-wrap;\n",
       "}\n",
       "</style>\n",
       "<small>shape: (1, 4)</small><table border=\"1\" class=\"dataframe\"><thead><tr><th>name</th><th>description</th><th>sequence</th><th>quality_scores</th></tr><tr><td>u32</td><td>u32</td><td>u32</td><td>u32</td></tr></thead><tbody><tr><td>8657652</td><td>8657652</td><td>8657652</td><td>8657652</td></tr></tbody></table></div>"
      ],
      "text/plain": [
       "shape: (1, 4)\n",
       "┌─────────┬─────────────┬──────────┬────────────────┐\n",
       "│ name    ┆ description ┆ sequence ┆ quality_scores │\n",
       "│ ---     ┆ ---         ┆ ---      ┆ ---            │\n",
       "│ u32     ┆ u32         ┆ u32      ┆ u32            │\n",
       "╞═════════╪═════════════╪══════════╪════════════════╡\n",
       "│ 8657652 ┆ 8657652     ┆ 8657652  ┆ 8657652        │\n",
       "└─────────┴─────────────┴──────────┴────────────────┘"
      ]
     },
     "execution_count": 57,
     "metadata": {},
     "output_type": "execute_result"
    }
   ],
   "source": [
    "%%time\n",
    "pb.scan_fastq(\"/tmp/ERR194146.fastq.bgz\", parallel=True).count().collect()"
   ]
  },
  {
   "cell_type": "code",
   "execution_count": 58,
   "id": "8b6de32c8a69519d",
   "metadata": {
    "ExecuteTime": {
     "end_time": "2025-09-09T05:46:51.898419Z",
     "start_time": "2025-09-09T05:46:51.896130Z"
    }
   },
   "outputs": [],
   "source": [
    "pb.set_option(\"datafusion.execution.target_partitions\", \"1\")"
   ]
  },
  {
   "cell_type": "markdown",
   "id": "f931e1c7aa6e6a7",
   "metadata": {},
   "source": [
    "###"
   ]
  }
 ],
 "metadata": {
  "kernelspec": {
   "display_name": "Python 3 (ipykernel)",
   "language": "python",
   "name": "python3"
  },
  "language_info": {
   "codemirror_mode": {
    "name": "ipython",
    "version": 3
   },
   "file_extension": ".py",
   "mimetype": "text/x-python",
   "name": "python",
   "nbconvert_exporter": "python",
   "pygments_lexer": "ipython3",
   "version": "3.9.6"
  }
 },
 "nbformat": 4,
 "nbformat_minor": 5
}

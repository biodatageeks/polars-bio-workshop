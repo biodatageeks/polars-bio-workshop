{
 "cells": [
  {
   "metadata": {},
   "cell_type": "markdown",
   "source": "## Introduction to *polars-bio* features",
   "id": "9e3214fa0f8dab62"
  },
  {
   "metadata": {},
   "cell_type": "markdown",
   "source": [
    "### Interval operations illustrated\n",
    "\n",
    "Please note that for visualizaiton of the intervals we used [plot_intervals](https://bioframe.readthedocs.io/en/latest/api-vis.html#module-bioframe.vis) method from [Bioframe](https://bioframe.readthedocs.io/) package."
   ],
   "id": "967c7b8f17117968"
  },
  {
   "metadata": {
    "ExecuteTime": {
     "end_time": "2025-09-09T05:49:00.893153Z",
     "start_time": "2025-09-09T05:49:00.303279Z"
    }
   },
   "cell_type": "code",
   "source": [
    "import polars_bio as pb\n",
    "import pandas as pd\n",
    "import polars as pl\n",
    "import bioframe as bf"
   ],
   "id": "eb1a5acb2362d5da",
   "outputs": [],
   "execution_count": 1
  },
  {
   "metadata": {
    "ExecuteTime": {
     "end_time": "2025-09-09T05:49:02.093498Z",
     "start_time": "2025-09-09T05:49:02.091584Z"
    }
   },
   "cell_type": "code",
   "source": "cols = [\"contig\", \"pos_start\", \"pos_end\"]",
   "id": "74e440b23ebe1f72",
   "outputs": [],
   "execution_count": 2
  },
  {
   "metadata": {
    "ExecuteTime": {
     "end_time": "2025-09-09T05:40:04.370991Z",
     "start_time": "2025-09-09T05:40:04.367739Z"
    }
   },
   "cell_type": "code",
   "source": [
    "df1 = pd.DataFrame(\n",
    "    [[\"chr1\", 1, 5], [\"chr1\", 3, 8], [\"chr1\", 8, 10], [\"chr1\", 12, 14]],\n",
    "    columns=[\"chrom\", \"start\", \"end\"],\n",
    ")\n",
    "\n",
    "df2 = pd.DataFrame(\n",
    "    [[\"chr1\", 4, 8], [\"chr1\", 10, 11]], columns=[\"chrom\", \"start\", \"end\"]\n",
    ")"
   ],
   "id": "861357bafa45220b",
   "outputs": [],
   "execution_count": 6
  },
  {
   "metadata": {
    "ExecuteTime": {
     "end_time": "2025-09-09T05:40:07.341131Z",
     "start_time": "2025-09-09T05:40:07.333521Z"
    }
   },
   "cell_type": "code",
   "source": "display(df1)",
   "id": "226ddad38d453c93",
   "outputs": [
    {
     "data": {
      "text/plain": [
       "  chrom  start  end\n",
       "0  chr1      1    5\n",
       "1  chr1      3    8\n",
       "2  chr1      8   10\n",
       "3  chr1     12   14"
      ],
      "text/html": [
       "<div>\n",
       "<style scoped>\n",
       "    .dataframe tbody tr th:only-of-type {\n",
       "        vertical-align: middle;\n",
       "    }\n",
       "\n",
       "    .dataframe tbody tr th {\n",
       "        vertical-align: top;\n",
       "    }\n",
       "\n",
       "    .dataframe thead th {\n",
       "        text-align: right;\n",
       "    }\n",
       "</style>\n",
       "<table border=\"1\" class=\"dataframe\">\n",
       "  <thead>\n",
       "    <tr style=\"text-align: right;\">\n",
       "      <th></th>\n",
       "      <th>chrom</th>\n",
       "      <th>start</th>\n",
       "      <th>end</th>\n",
       "    </tr>\n",
       "  </thead>\n",
       "  <tbody>\n",
       "    <tr>\n",
       "      <th>0</th>\n",
       "      <td>chr1</td>\n",
       "      <td>1</td>\n",
       "      <td>5</td>\n",
       "    </tr>\n",
       "    <tr>\n",
       "      <th>1</th>\n",
       "      <td>chr1</td>\n",
       "      <td>3</td>\n",
       "      <td>8</td>\n",
       "    </tr>\n",
       "    <tr>\n",
       "      <th>2</th>\n",
       "      <td>chr1</td>\n",
       "      <td>8</td>\n",
       "      <td>10</td>\n",
       "    </tr>\n",
       "    <tr>\n",
       "      <th>3</th>\n",
       "      <td>chr1</td>\n",
       "      <td>12</td>\n",
       "      <td>14</td>\n",
       "    </tr>\n",
       "  </tbody>\n",
       "</table>\n",
       "</div>"
      ]
     },
     "metadata": {},
     "output_type": "display_data"
    }
   ],
   "execution_count": 7
  },
  {
   "metadata": {
    "ExecuteTime": {
     "end_time": "2025-09-09T05:40:09.227756Z",
     "start_time": "2025-09-09T05:40:09.223328Z"
    }
   },
   "cell_type": "code",
   "source": "display(df2)",
   "id": "a199266d690a804",
   "outputs": [
    {
     "data": {
      "text/plain": [
       "  chrom  start  end\n",
       "0  chr1      4    8\n",
       "1  chr1     10   11"
      ],
      "text/html": [
       "<div>\n",
       "<style scoped>\n",
       "    .dataframe tbody tr th:only-of-type {\n",
       "        vertical-align: middle;\n",
       "    }\n",
       "\n",
       "    .dataframe tbody tr th {\n",
       "        vertical-align: top;\n",
       "    }\n",
       "\n",
       "    .dataframe thead th {\n",
       "        text-align: right;\n",
       "    }\n",
       "</style>\n",
       "<table border=\"1\" class=\"dataframe\">\n",
       "  <thead>\n",
       "    <tr style=\"text-align: right;\">\n",
       "      <th></th>\n",
       "      <th>chrom</th>\n",
       "      <th>start</th>\n",
       "      <th>end</th>\n",
       "    </tr>\n",
       "  </thead>\n",
       "  <tbody>\n",
       "    <tr>\n",
       "      <th>0</th>\n",
       "      <td>chr1</td>\n",
       "      <td>4</td>\n",
       "      <td>8</td>\n",
       "    </tr>\n",
       "    <tr>\n",
       "      <th>1</th>\n",
       "      <td>chr1</td>\n",
       "      <td>10</td>\n",
       "      <td>11</td>\n",
       "    </tr>\n",
       "  </tbody>\n",
       "</table>\n",
       "</div>"
      ]
     },
     "metadata": {},
     "output_type": "display_data"
    }
   ],
   "execution_count": 8
  },
  {
   "metadata": {},
   "cell_type": "markdown",
   "source": "#### Overlap",
   "id": "4f5c0cd3a456e479"
  },
  {
   "metadata": {
    "ExecuteTime": {
     "end_time": "2025-09-09T05:40:11.183831Z",
     "start_time": "2025-09-09T05:40:11.174850Z"
    }
   },
   "cell_type": "code",
   "source": "overlapping_intervals = pb.overlap(df1, df2, output_type=\"pandas.DataFrame\")",
   "id": "e4f249194b639fde",
   "outputs": [],
   "execution_count": 9
  },
  {
   "metadata": {
    "ExecuteTime": {
     "end_time": "2025-09-09T05:40:13.622456Z",
     "start_time": "2025-09-09T05:40:13.617117Z"
    }
   },
   "cell_type": "code",
   "source": "display(overlapping_intervals)",
   "id": "bbf491d503224568",
   "outputs": [
    {
     "data": {
      "text/plain": [
       "  chrom_1  start_1  end_1 chrom_2  start_2  end_2\n",
       "0    chr1        1      5    chr1        4      8\n",
       "1    chr1        3      8    chr1        4      8\n",
       "2    chr1        8     10    chr1        4      8\n",
       "3    chr1        8     10    chr1       10     11"
      ],
      "text/html": [
       "<div>\n",
       "<style scoped>\n",
       "    .dataframe tbody tr th:only-of-type {\n",
       "        vertical-align: middle;\n",
       "    }\n",
       "\n",
       "    .dataframe tbody tr th {\n",
       "        vertical-align: top;\n",
       "    }\n",
       "\n",
       "    .dataframe thead th {\n",
       "        text-align: right;\n",
       "    }\n",
       "</style>\n",
       "<table border=\"1\" class=\"dataframe\">\n",
       "  <thead>\n",
       "    <tr style=\"text-align: right;\">\n",
       "      <th></th>\n",
       "      <th>chrom_1</th>\n",
       "      <th>start_1</th>\n",
       "      <th>end_1</th>\n",
       "      <th>chrom_2</th>\n",
       "      <th>start_2</th>\n",
       "      <th>end_2</th>\n",
       "    </tr>\n",
       "  </thead>\n",
       "  <tbody>\n",
       "    <tr>\n",
       "      <th>0</th>\n",
       "      <td>chr1</td>\n",
       "      <td>1</td>\n",
       "      <td>5</td>\n",
       "      <td>chr1</td>\n",
       "      <td>4</td>\n",
       "      <td>8</td>\n",
       "    </tr>\n",
       "    <tr>\n",
       "      <th>1</th>\n",
       "      <td>chr1</td>\n",
       "      <td>3</td>\n",
       "      <td>8</td>\n",
       "      <td>chr1</td>\n",
       "      <td>4</td>\n",
       "      <td>8</td>\n",
       "    </tr>\n",
       "    <tr>\n",
       "      <th>2</th>\n",
       "      <td>chr1</td>\n",
       "      <td>8</td>\n",
       "      <td>10</td>\n",
       "      <td>chr1</td>\n",
       "      <td>4</td>\n",
       "      <td>8</td>\n",
       "    </tr>\n",
       "    <tr>\n",
       "      <th>3</th>\n",
       "      <td>chr1</td>\n",
       "      <td>8</td>\n",
       "      <td>10</td>\n",
       "      <td>chr1</td>\n",
       "      <td>10</td>\n",
       "      <td>11</td>\n",
       "    </tr>\n",
       "  </tbody>\n",
       "</table>\n",
       "</div>"
      ]
     },
     "metadata": {},
     "output_type": "display_data"
    }
   ],
   "execution_count": 10
  },
  {
   "metadata": {
    "ExecuteTime": {
     "end_time": "2025-09-09T05:40:15.555324Z",
     "start_time": "2025-09-09T05:40:15.428563Z"
    }
   },
   "cell_type": "code",
   "source": "pb.visualize_intervals(overlapping_intervals)",
   "id": "e023fc43837b57d2",
   "outputs": [
    {
     "data": {
      "text/plain": [
       "<Figure size 1000x200 with 1 Axes>"
      ],
      "image/png": "[encoded data removed]"
     },
     "metadata": {},
     "output_type": "display_data"
    },
    {
     "data": {
      "text/plain": [
       "<Figure size 1000x200 with 1 Axes>"
      ],
      "image/png": "[encoded data removed]"
     },
     "metadata": {},
     "output_type": "display_data"
    },
    {
     "data": {
      "text/plain": [
       "<Figure size 1000x200 with 1 Axes>"
      ],
      "image/png": "[encoded data removed]"
     },
     "metadata": {},
     "output_type": "display_data"
    },
    {
     "data": {
      "text/plain": [
       "<Figure size 1000x200 with 1 Axes>"
      ],
      "image/png": "[encoded data removed]"
     },
     "metadata": {},
     "output_type": "display_data"
    }
   ],
   "execution_count": 11
  },
  {
   "metadata": {},
   "cell_type": "markdown",
   "source": "#### Nearest",
   "id": "eaf62067a93d2016"
  },
  {
   "metadata": {
    "ExecuteTime": {
     "end_time": "2025-09-09T05:40:18.102317Z",
     "start_time": "2025-09-09T05:40:18.094503Z"
    }
   },
   "cell_type": "code",
   "source": "nearest_intervals = pb.nearest(df1, df2, output_type=\"pandas.DataFrame\")",
   "id": "adef86a114e13b0c",
   "outputs": [],
   "execution_count": 12
  },
  {
   "metadata": {
    "ExecuteTime": {
     "end_time": "2025-09-09T05:40:20.101518Z",
     "start_time": "2025-09-09T05:40:20.096169Z"
    }
   },
   "cell_type": "code",
   "source": "display(nearest_intervals)",
   "id": "8d9c6cd26a99f8ab",
   "outputs": [
    {
     "data": {
      "text/plain": [
       "  chrom_1  start_1  end_1 chrom_2  start_2  end_2  distance\n",
       "0    chr1        1      5    chr1        4      8         0\n",
       "1    chr1        3      8    chr1        4      8         0\n",
       "2    chr1        8     10    chr1        4      8         0\n",
       "3    chr1       12     14    chr1       10     11         1"
      ],
      "text/html": [
       "<div>\n",
       "<style scoped>\n",
       "    .dataframe tbody tr th:only-of-type {\n",
       "        vertical-align: middle;\n",
       "    }\n",
       "\n",
       "    .dataframe tbody tr th {\n",
       "        vertical-align: top;\n",
       "    }\n",
       "\n",
       "    .dataframe thead th {\n",
       "        text-align: right;\n",
       "    }\n",
       "</style>\n",
       "<table border=\"1\" class=\"dataframe\">\n",
       "  <thead>\n",
       "    <tr style=\"text-align: right;\">\n",
       "      <th></th>\n",
       "      <th>chrom_1</th>\n",
       "      <th>start_1</th>\n",
       "      <th>end_1</th>\n",
       "      <th>chrom_2</th>\n",
       "      <th>start_2</th>\n",
       "      <th>end_2</th>\n",
       "      <th>distance</th>\n",
       "    </tr>\n",
       "  </thead>\n",
       "  <tbody>\n",
       "    <tr>\n",
       "      <th>0</th>\n",
       "      <td>chr1</td>\n",
       "      <td>1</td>\n",
       "      <td>5</td>\n",
       "      <td>chr1</td>\n",
       "      <td>4</td>\n",
       "      <td>8</td>\n",
       "      <td>0</td>\n",
       "    </tr>\n",
       "    <tr>\n",
       "      <th>1</th>\n",
       "      <td>chr1</td>\n",
       "      <td>3</td>\n",
       "      <td>8</td>\n",
       "      <td>chr1</td>\n",
       "      <td>4</td>\n",
       "      <td>8</td>\n",
       "      <td>0</td>\n",
       "    </tr>\n",
       "    <tr>\n",
       "      <th>2</th>\n",
       "      <td>chr1</td>\n",
       "      <td>8</td>\n",
       "      <td>10</td>\n",
       "      <td>chr1</td>\n",
       "      <td>4</td>\n",
       "      <td>8</td>\n",
       "      <td>0</td>\n",
       "    </tr>\n",
       "    <tr>\n",
       "      <th>3</th>\n",
       "      <td>chr1</td>\n",
       "      <td>12</td>\n",
       "      <td>14</td>\n",
       "      <td>chr1</td>\n",
       "      <td>10</td>\n",
       "      <td>11</td>\n",
       "      <td>1</td>\n",
       "    </tr>\n",
       "  </tbody>\n",
       "</table>\n",
       "</div>"
      ]
     },
     "metadata": {},
     "output_type": "display_data"
    }
   ],
   "execution_count": 13
  },
  {
   "metadata": {
    "ExecuteTime": {
     "end_time": "2025-09-09T05:40:22.028906Z",
     "start_time": "2025-09-09T05:40:21.918581Z"
    }
   },
   "cell_type": "code",
   "source": "pb.visualize_intervals(nearest_intervals, \"nearest pair\")",
   "id": "80191889aa2b99da",
   "outputs": [
    {
     "data": {
      "text/plain": [
       "<Figure size 1000x200 with 1 Axes>"
      ],
      "image/png": "[encoded data removed]"
     },
     "metadata": {},
     "output_type": "display_data"
    },
    {
     "data": {
      "text/plain": [
       "<Figure size 1000x200 with 1 Axes>"
      ],
      "image/png": "[encoded data removed]"
     },
     "metadata": {},
     "output_type": "display_data"
    },
    {
     "data": {
      "text/plain": [
       "<Figure size 1000x200 with 1 Axes>"
      ],
      "image/png": "[encoded data removed]"
     },
     "metadata": {},
     "output_type": "display_data"
    },
    {
     "data": {
      "text/plain": [
       "<Figure size 1000x200 with 1 Axes>"
      ],
      "image/png": "[encoded data removed]"
     },
     "metadata": {},
     "output_type": "display_data"
    }
   ],
   "execution_count": 14
  },
  {
   "metadata": {},
   "cell_type": "markdown",
   "source": "#### Count overlaps",
   "id": "df7c9b5e7e21d52e"
  },
  {
   "metadata": {
    "ExecuteTime": {
     "end_time": "2025-09-09T05:40:25.748846Z",
     "start_time": "2025-09-09T05:40:25.741228Z"
    }
   },
   "cell_type": "code",
   "source": "count_overlaps = pb.count_overlaps(df1, df2, output_type=\"pandas.DataFrame\")",
   "id": "3f14b50c392c4536",
   "outputs": [],
   "execution_count": 15
  },
  {
   "metadata": {
    "ExecuteTime": {
     "end_time": "2025-09-09T05:40:27.390287Z",
     "start_time": "2025-09-09T05:40:27.385825Z"
    }
   },
   "cell_type": "code",
   "source": "display(count_overlaps)",
   "id": "cb96f74898640d0c",
   "outputs": [
    {
     "data": {
      "text/plain": [
       "  chrom  start  end  count\n",
       "0  chr1      1    5      1\n",
       "1  chr1      3    8      1\n",
       "2  chr1      8   10      2\n",
       "3  chr1     12   14      0"
      ],
      "text/html": [
       "<div>\n",
       "<style scoped>\n",
       "    .dataframe tbody tr th:only-of-type {\n",
       "        vertical-align: middle;\n",
       "    }\n",
       "\n",
       "    .dataframe tbody tr th {\n",
       "        vertical-align: top;\n",
       "    }\n",
       "\n",
       "    .dataframe thead th {\n",
       "        text-align: right;\n",
       "    }\n",
       "</style>\n",
       "<table border=\"1\" class=\"dataframe\">\n",
       "  <thead>\n",
       "    <tr style=\"text-align: right;\">\n",
       "      <th></th>\n",
       "      <th>chrom</th>\n",
       "      <th>start</th>\n",
       "      <th>end</th>\n",
       "      <th>count</th>\n",
       "    </tr>\n",
       "  </thead>\n",
       "  <tbody>\n",
       "    <tr>\n",
       "      <th>0</th>\n",
       "      <td>chr1</td>\n",
       "      <td>1</td>\n",
       "      <td>5</td>\n",
       "      <td>1</td>\n",
       "    </tr>\n",
       "    <tr>\n",
       "      <th>1</th>\n",
       "      <td>chr1</td>\n",
       "      <td>3</td>\n",
       "      <td>8</td>\n",
       "      <td>1</td>\n",
       "    </tr>\n",
       "    <tr>\n",
       "      <th>2</th>\n",
       "      <td>chr1</td>\n",
       "      <td>8</td>\n",
       "      <td>10</td>\n",
       "      <td>2</td>\n",
       "    </tr>\n",
       "    <tr>\n",
       "      <th>3</th>\n",
       "      <td>chr1</td>\n",
       "      <td>12</td>\n",
       "      <td>14</td>\n",
       "      <td>0</td>\n",
       "    </tr>\n",
       "  </tbody>\n",
       "</table>\n",
       "</div>"
      ]
     },
     "metadata": {},
     "output_type": "display_data"
    }
   ],
   "execution_count": 16
  },
  {
   "metadata": {},
   "cell_type": "markdown",
   "source": "#### Coverage",
   "id": "1f63b71590dfd91e"
  },
  {
   "metadata": {
    "ExecuteTime": {
     "end_time": "2025-09-09T05:40:29.232463Z",
     "start_time": "2025-09-09T05:40:29.225661Z"
    }
   },
   "cell_type": "code",
   "source": "coverage = pb.coverage(df1, df2, output_type=\"pandas.DataFrame\")",
   "id": "6c9cc2335b04b8b9",
   "outputs": [],
   "execution_count": 17
  },
  {
   "metadata": {
    "ExecuteTime": {
     "end_time": "2025-09-09T05:40:31.476316Z",
     "start_time": "2025-09-09T05:40:31.472384Z"
    }
   },
   "cell_type": "code",
   "source": "display(coverage)",
   "id": "a4715dda84844985",
   "outputs": [
    {
     "data": {
      "text/plain": [
       "  chrom  start  end  coverage\n",
       "0  chr1      1    5         2\n",
       "1  chr1      3    8         4\n",
       "2  chr1      8   10         2\n",
       "3  chr1     12   14         0"
      ],
      "text/html": [
       "<div>\n",
       "<style scoped>\n",
       "    .dataframe tbody tr th:only-of-type {\n",
       "        vertical-align: middle;\n",
       "    }\n",
       "\n",
       "    .dataframe tbody tr th {\n",
       "        vertical-align: top;\n",
       "    }\n",
       "\n",
       "    .dataframe thead th {\n",
       "        text-align: right;\n",
       "    }\n",
       "</style>\n",
       "<table border=\"1\" class=\"dataframe\">\n",
       "  <thead>\n",
       "    <tr style=\"text-align: right;\">\n",
       "      <th></th>\n",
       "      <th>chrom</th>\n",
       "      <th>start</th>\n",
       "      <th>end</th>\n",
       "      <th>coverage</th>\n",
       "    </tr>\n",
       "  </thead>\n",
       "  <tbody>\n",
       "    <tr>\n",
       "      <th>0</th>\n",
       "      <td>chr1</td>\n",
       "      <td>1</td>\n",
       "      <td>5</td>\n",
       "      <td>2</td>\n",
       "    </tr>\n",
       "    <tr>\n",
       "      <th>1</th>\n",
       "      <td>chr1</td>\n",
       "      <td>3</td>\n",
       "      <td>8</td>\n",
       "      <td>4</td>\n",
       "    </tr>\n",
       "    <tr>\n",
       "      <th>2</th>\n",
       "      <td>chr1</td>\n",
       "      <td>8</td>\n",
       "      <td>10</td>\n",
       "      <td>2</td>\n",
       "    </tr>\n",
       "    <tr>\n",
       "      <th>3</th>\n",
       "      <td>chr1</td>\n",
       "      <td>12</td>\n",
       "      <td>14</td>\n",
       "      <td>0</td>\n",
       "    </tr>\n",
       "  </tbody>\n",
       "</table>\n",
       "</div>"
      ]
     },
     "metadata": {},
     "output_type": "display_data"
    }
   ],
   "execution_count": 18
  },
  {
   "metadata": {},
   "cell_type": "markdown",
   "source": "#### Merge",
   "id": "9a97d33cc83cd475"
  },
  {
   "metadata": {
    "ExecuteTime": {
     "end_time": "2025-09-09T05:40:33.785726Z",
     "start_time": "2025-09-09T05:40:33.778103Z"
    }
   },
   "cell_type": "code",
   "source": "merge = pb.merge(df1,output_type=\"pandas.DataFrame\")",
   "id": "b0fe171d79e091c3",
   "outputs": [],
   "execution_count": 19
  },
  {
   "metadata": {
    "ExecuteTime": {
     "end_time": "2025-09-09T05:40:37.419870Z",
     "start_time": "2025-09-09T05:40:37.416029Z"
    }
   },
   "cell_type": "code",
   "source": "display(merge)",
   "id": "56ac95b89a86c2dc",
   "outputs": [
    {
     "data": {
      "text/plain": [
       "  chrom  start  end  n_intervals\n",
       "0  chr1      1   10            3\n",
       "1  chr1     12   14            1"
      ],
      "text/html": [
       "<div>\n",
       "<style scoped>\n",
       "    .dataframe tbody tr th:only-of-type {\n",
       "        vertical-align: middle;\n",
       "    }\n",
       "\n",
       "    .dataframe tbody tr th {\n",
       "        vertical-align: top;\n",
       "    }\n",
       "\n",
       "    .dataframe thead th {\n",
       "        text-align: right;\n",
       "    }\n",
       "</style>\n",
       "<table border=\"1\" class=\"dataframe\">\n",
       "  <thead>\n",
       "    <tr style=\"text-align: right;\">\n",
       "      <th></th>\n",
       "      <th>chrom</th>\n",
       "      <th>start</th>\n",
       "      <th>end</th>\n",
       "      <th>n_intervals</th>\n",
       "    </tr>\n",
       "  </thead>\n",
       "  <tbody>\n",
       "    <tr>\n",
       "      <th>0</th>\n",
       "      <td>chr1</td>\n",
       "      <td>1</td>\n",
       "      <td>10</td>\n",
       "      <td>3</td>\n",
       "    </tr>\n",
       "    <tr>\n",
       "      <th>1</th>\n",
       "      <td>chr1</td>\n",
       "      <td>12</td>\n",
       "      <td>14</td>\n",
       "      <td>1</td>\n",
       "    </tr>\n",
       "  </tbody>\n",
       "</table>\n",
       "</div>"
      ]
     },
     "metadata": {},
     "output_type": "display_data"
    }
   ],
   "execution_count": 20
  },
  {
   "metadata": {},
   "cell_type": "markdown",
   "source": "### Reading bioinformatics data",
   "id": "1b6f87ff5aed8b75"
  },
  {
   "metadata": {},
   "cell_type": "markdown",
   "source": "#### GFF",
   "id": "54e87ed7580a82f7"
  },
  {
   "metadata": {},
   "cell_type": "markdown",
   "source": "##### Basic reading with attributes unnesting",
   "id": "b42cd55422449b0f"
  },
  {
   "metadata": {
    "ExecuteTime": {
     "end_time": "2025-09-09T05:40:40.177752Z",
     "start_time": "2025-09-09T05:40:40.173944Z"
    }
   },
   "cell_type": "code",
   "source": "gff = pb.scan_gff(\"data/example.gff3.bgz\")",
   "id": "e4d4005807994b3e",
   "outputs": [],
   "execution_count": 21
  },
  {
   "metadata": {
    "ExecuteTime": {
     "end_time": "2025-09-09T05:40:41.847611Z",
     "start_time": "2025-09-09T05:40:41.817347Z"
    }
   },
   "cell_type": "code",
   "source": "gff.limit(3).collect()",
   "id": "9e992909c6e3d2f9",
   "outputs": [
    {
     "data": {
      "text/plain": [
       "0rows [00:00, ?rows/s]"
      ],
      "application/vnd.jupyter.widget-view+json": {
       "version_major": 2,
       "version_minor": 0,
       "model_id": "83e80918b78e43068fc84e36865503bb"
      }
     },
     "metadata": {},
     "output_type": "display_data"
    },
    {
     "data": {
      "text/plain": [
       "shape: (3, 9)\n",
       "┌───────┬───────┬───────┬────────────┬───┬───────┬────────┬───────┬────────────────────────────────┐\n",
       "│ chrom ┆ start ┆ end   ┆ type       ┆ … ┆ score ┆ strand ┆ phase ┆ attributes                     │\n",
       "│ ---   ┆ ---   ┆ ---   ┆ ---        ┆   ┆ ---   ┆ ---    ┆ ---   ┆ ---                            │\n",
       "│ str   ┆ u32   ┆ u32   ┆ str        ┆   ┆ f32   ┆ str    ┆ u32   ┆ list[struct[2]]                │\n",
       "╞═══════╪═══════╪═══════╪════════════╪═══╪═══════╪════════╪═══════╪════════════════════════════════╡\n",
       "│ chr1  ┆ 11869 ┆ 14409 ┆ gene       ┆ … ┆ null  ┆ +      ┆ null  ┆ [{\"ID\",\"ENSG00000223972.5\"},   │\n",
       "│       ┆       ┆       ┆            ┆   ┆       ┆        ┆       ┆ {…                             │\n",
       "│ chr1  ┆ 11869 ┆ 14409 ┆ transcript ┆ … ┆ null  ┆ +      ┆ null  ┆ [{\"ID\",\"ENST00000456328.2\"},   │\n",
       "│       ┆       ┆       ┆            ┆   ┆       ┆        ┆       ┆ {…                             │\n",
       "│ chr1  ┆ 11869 ┆ 12227 ┆ exon       ┆ … ┆ null  ┆ +      ┆ null  ┆ [{\"ID\",\"exon:ENST00000456328.2 │\n",
       "│       ┆       ┆       ┆            ┆   ┆       ┆        ┆       ┆ …                              │\n",
       "└───────┴───────┴───────┴────────────┴───┴───────┴────────┴───────┴────────────────────────────────┘"
      ],
      "text/html": [
       "<div><style>\n",
       ".dataframe > thead > tr,\n",
       ".dataframe > tbody > tr {\n",
       "  text-align: right;\n",
       "  white-space: pre-wrap;\n",
       "}\n",
       "</style>\n",
       "<small>shape: (3, 9)</small><table border=\"1\" class=\"dataframe\"><thead><tr><th>chrom</th><th>start</th><th>end</th><th>type</th><th>source</th><th>score</th><th>strand</th><th>phase</th><th>attributes</th></tr><tr><td>str</td><td>u32</td><td>u32</td><td>str</td><td>str</td><td>f32</td><td>str</td><td>u32</td><td>list[struct[2]]</td></tr></thead><tbody><tr><td>&quot;chr1&quot;</td><td>11869</td><td>14409</td><td>&quot;gene&quot;</td><td>&quot;HAVANA&quot;</td><td>null</td><td>&quot;+&quot;</td><td>null</td><td>[{&quot;ID&quot;,&quot;ENSG00000223972.5&quot;}, {&quot;gene_id&quot;,&quot;ENSG00000223972.5&quot;}, … {&quot;havana_gene&quot;,&quot;OTTHUMG00000000961.2&quot;}]</td></tr><tr><td>&quot;chr1&quot;</td><td>11869</td><td>14409</td><td>&quot;transcript&quot;</td><td>&quot;HAVANA&quot;</td><td>null</td><td>&quot;+&quot;</td><td>null</td><td>[{&quot;ID&quot;,&quot;ENST00000456328.2&quot;}, {&quot;Parent&quot;,&quot;ENSG00000223972.5&quot;}, … {&quot;havana_transcript&quot;,&quot;OTTHUMT00000362751.1&quot;}]</td></tr><tr><td>&quot;chr1&quot;</td><td>11869</td><td>12227</td><td>&quot;exon&quot;</td><td>&quot;HAVANA&quot;</td><td>null</td><td>&quot;+&quot;</td><td>null</td><td>[{&quot;ID&quot;,&quot;exon:ENST00000456328.2:1&quot;}, {&quot;Parent&quot;,&quot;ENST00000456328.2&quot;}, … {&quot;havana_transcript&quot;,&quot;OTTHUMT00000362751.1&quot;}]</td></tr></tbody></table></div>"
      ]
     },
     "execution_count": 22,
     "metadata": {},
     "output_type": "execute_result"
    }
   ],
   "execution_count": 22
  },
  {
   "metadata": {},
   "cell_type": "markdown",
   "source": "##### Unnesting attributes",
   "id": "c29dfb5da15f3bf8"
  },
  {
   "metadata": {
    "ExecuteTime": {
     "end_time": "2025-09-09T05:40:44.248794Z",
     "start_time": "2025-09-09T05:40:44.243426Z"
    }
   },
   "cell_type": "code",
   "source": "gff = pb.scan_gff(\"data/example.gff3.bgz\").select([\"start\", \"end\", \"ID\", \"havana_transcript\"])",
   "id": "af4308a2d5f718cc",
   "outputs": [],
   "execution_count": 23
  },
  {
   "metadata": {
    "ExecuteTime": {
     "end_time": "2025-09-09T05:40:45.750597Z",
     "start_time": "2025-09-09T05:40:45.740912Z"
    }
   },
   "cell_type": "code",
   "source": "gff.limit(3).collect()",
   "id": "b1d10f8ca8801c10",
   "outputs": [
    {
     "data": {
      "text/plain": [
       "0rows [00:00, ?rows/s]"
      ],
      "application/vnd.jupyter.widget-view+json": {
       "version_major": 2,
       "version_minor": 0,
       "model_id": "ab2dd0eb3c8646b0a502bd9c5b130e55"
      }
     },
     "metadata": {},
     "output_type": "display_data"
    },
    {
     "data": {
      "text/plain": [
       "shape: (3, 4)\n",
       "┌───────┬───────┬──────────────────────────┬──────────────────────┐\n",
       "│ start ┆ end   ┆ ID                       ┆ havana_transcript    │\n",
       "│ ---   ┆ ---   ┆ ---                      ┆ ---                  │\n",
       "│ u32   ┆ u32   ┆ str                      ┆ str                  │\n",
       "╞═══════╪═══════╪══════════════════════════╪══════════════════════╡\n",
       "│ 11869 ┆ 14409 ┆ ENSG00000223972.5        ┆ null                 │\n",
       "│ 11869 ┆ 14409 ┆ ENST00000456328.2        ┆ OTTHUMT00000362751.1 │\n",
       "│ 11869 ┆ 12227 ┆ exon:ENST00000456328.2:1 ┆ OTTHUMT00000362751.1 │\n",
       "└───────┴───────┴──────────────────────────┴──────────────────────┘"
      ],
      "text/html": [
       "<div><style>\n",
       ".dataframe > thead > tr,\n",
       ".dataframe > tbody > tr {\n",
       "  text-align: right;\n",
       "  white-space: pre-wrap;\n",
       "}\n",
       "</style>\n",
       "<small>shape: (3, 4)</small><table border=\"1\" class=\"dataframe\"><thead><tr><th>start</th><th>end</th><th>ID</th><th>havana_transcript</th></tr><tr><td>u32</td><td>u32</td><td>str</td><td>str</td></tr></thead><tbody><tr><td>11869</td><td>14409</td><td>&quot;ENSG00000223972.5&quot;</td><td>null</td></tr><tr><td>11869</td><td>14409</td><td>&quot;ENST00000456328.2&quot;</td><td>&quot;OTTHUMT00000362751.1&quot;</td></tr><tr><td>11869</td><td>12227</td><td>&quot;exon:ENST00000456328.2:1&quot;</td><td>&quot;OTTHUMT00000362751.1&quot;</td></tr></tbody></table></div>"
      ]
     },
     "execution_count": 24,
     "metadata": {},
     "output_type": "execute_result"
    }
   ],
   "execution_count": 24
  },
  {
   "metadata": {},
   "cell_type": "markdown",
   "source": "#### VCF",
   "id": "e8be0c35e7df3987"
  },
  {
   "metadata": {
    "ExecuteTime": {
     "end_time": "2025-09-09T05:40:49.824541Z",
     "start_time": "2025-09-09T05:40:49.815695Z"
    }
   },
   "cell_type": "code",
   "source": "pb.scan_vcf(\"data/example.vcf\").limit(3).collect()",
   "id": "26854a933a668cf5",
   "outputs": [
    {
     "data": {
      "text/plain": [
       "0rows [00:00, ?rows/s]"
      ],
      "application/vnd.jupyter.widget-view+json": {
       "version_major": 2,
       "version_minor": 0,
       "model_id": "91b0f382c1f84cb9a90ec04e5f060c85"
      }
     },
     "metadata": {},
     "output_type": "display_data"
    },
    {
     "data": {
      "text/plain": [
       "shape: (2, 9)\n",
       "┌───────┬──────────┬──────────┬─────────────┬───┬─────┬──────┬────────┬────────────────────────────┐\n",
       "│ chrom ┆ start    ┆ end      ┆ id          ┆ … ┆ alt ┆ qual ┆ filter ┆ csq                        │\n",
       "│ ---   ┆ ---      ┆ ---      ┆ ---         ┆   ┆ --- ┆ ---  ┆ ---    ┆ ---                        │\n",
       "│ str   ┆ u32      ┆ u32      ┆ str         ┆   ┆ str ┆ f64  ┆ str    ┆ list[str]                  │\n",
       "╞═══════╪══════════╪══════════╪═════════════╪═══╪═════╪══════╪════════╪════════════════════════════╡\n",
       "│ chr21 ┆ 26960070 ┆ 26960070 ┆ rs116645811 ┆ … ┆ A   ┆ null ┆        ┆ [\"A|missense_variant|MODER │\n",
       "│       ┆          ┆          ┆             ┆   ┆     ┆      ┆        ┆ ATE|…                      │\n",
       "│ chr21 ┆ 26965148 ┆ 26965148 ┆ rs1135638   ┆ … ┆ A   ┆ null ┆        ┆ [\"A|synonymous_variant|LOW │\n",
       "│       ┆          ┆          ┆             ┆   ┆     ┆      ┆        ┆ |MRP…                      │\n",
       "└───────┴──────────┴──────────┴─────────────┴───┴─────┴──────┴────────┴────────────────────────────┘"
      ],
      "text/html": [
       "<div><style>\n",
       ".dataframe > thead > tr,\n",
       ".dataframe > tbody > tr {\n",
       "  text-align: right;\n",
       "  white-space: pre-wrap;\n",
       "}\n",
       "</style>\n",
       "<small>shape: (2, 9)</small><table border=\"1\" class=\"dataframe\"><thead><tr><th>chrom</th><th>start</th><th>end</th><th>id</th><th>ref</th><th>alt</th><th>qual</th><th>filter</th><th>csq</th></tr><tr><td>str</td><td>u32</td><td>u32</td><td>str</td><td>str</td><td>str</td><td>f64</td><td>str</td><td>list[str]</td></tr></thead><tbody><tr><td>&quot;chr21&quot;</td><td>26960070</td><td>26960070</td><td>&quot;rs116645811&quot;</td><td>&quot;G&quot;</td><td>&quot;A&quot;</td><td>null</td><td>&quot;&quot;</td><td>[&quot;A|missense_variant|MODERATE|MRPL39|ENSG00000154719|Transcript|ENST00000307301|protein_coding|10/11||||1043|1001|334|T/M|aCg/aTg|||-1||HGNC|14027&quot;, &quot;A|intron_variant|MODIFIER|MRPL39|ENSG00000154719|Transcript|ENST00000352957|protein_coding||9/9||||||||||-1||HGNC|14027&quot;, &quot;A|upstream_gene_variant|MODIFIER|LINC00515|ENSG00000260583|Transcript|ENST00000567517|antisense|||||||||||4432|-1||HGNC|16019&quot;]</td></tr><tr><td>&quot;chr21&quot;</td><td>26965148</td><td>26965148</td><td>&quot;rs1135638&quot;</td><td>&quot;G&quot;</td><td>&quot;A&quot;</td><td>null</td><td>&quot;&quot;</td><td>[&quot;A|synonymous_variant|LOW|MRPL39|ENSG00000154719|Transcript|ENST00000307301|protein_coding|8/11||||939|897|299|G|ggC/ggT|||-1||HGNC|14027&quot;, &quot;A|synonymous_variant|LOW|MRPL39|ENSG00000154719|Transcript|ENST00000352957|protein_coding|8/10||||939|897|299|G|ggC/ggT|||-1||HGNC|14027&quot;, &quot;A|synonymous_variant|LOW|MRPL39|ENSG00000154719|Transcript|ENST00000419219|protein_coding|8/8||||876|867|289|G|ggC/ggT|||-1|cds_end_NF|HGNC|14027&quot;]</td></tr></tbody></table></div>"
      ]
     },
     "execution_count": 25,
     "metadata": {},
     "output_type": "execute_result"
    }
   ],
   "execution_count": 25
  },
  {
   "metadata": {},
   "cell_type": "markdown",
   "source": "##### Get info fields available in the VCF file",
   "id": "aff23d7df4ca20c1"
  },
  {
   "metadata": {
    "ExecuteTime": {
     "end_time": "2025-09-09T05:40:53.231483Z",
     "start_time": "2025-09-09T05:40:53.227338Z"
    }
   },
   "cell_type": "code",
   "source": "pb.describe_vcf(\"data/example.vcf\").sort(\"name\")",
   "id": "cd0944de767dcd45",
   "outputs": [
    {
     "data": {
      "text/plain": [
       "shape: (1, 3)\n",
       "┌──────┬────────┬─────────────────────────────────┐\n",
       "│ name ┆ type   ┆ description                     │\n",
       "│ ---  ┆ ---    ┆ ---                             │\n",
       "│ str  ┆ str    ┆ str                             │\n",
       "╞══════╪════════╪═════════════════════════════════╡\n",
       "│ CSQ  ┆ String ┆ Consequence annotations from E… │\n",
       "└──────┴────────┴─────────────────────────────────┘"
      ],
      "text/html": [
       "<div><style>\n",
       ".dataframe > thead > tr,\n",
       ".dataframe > tbody > tr {\n",
       "  text-align: right;\n",
       "  white-space: pre-wrap;\n",
       "}\n",
       "</style>\n",
       "<small>shape: (1, 3)</small><table border=\"1\" class=\"dataframe\"><thead><tr><th>name</th><th>type</th><th>description</th></tr><tr><td>str</td><td>str</td><td>str</td></tr></thead><tbody><tr><td>&quot;CSQ&quot;</td><td>&quot;String&quot;</td><td>&quot;Consequence annotations from E…</td></tr></tbody></table></div>"
      ]
     },
     "execution_count": 26,
     "metadata": {},
     "output_type": "execute_result"
    }
   ],
   "execution_count": 26
  },
  {
   "metadata": {
    "ExecuteTime": {
     "end_time": "2025-09-09T05:40:55.621591Z",
     "start_time": "2025-09-09T05:40:55.610665Z"
    }
   },
   "cell_type": "code",
   "source": "pb.scan_vcf(\"data/example.vcf\", info_fields=[\"CSQ\"]).limit(3).collect()",
   "id": "e2ba6485f56669ff",
   "outputs": [
    {
     "data": {
      "text/plain": [
       "0rows [00:00, ?rows/s]"
      ],
      "application/vnd.jupyter.widget-view+json": {
       "version_major": 2,
       "version_minor": 0,
       "model_id": "0bd49df886604f13b666c7598920f6c3"
      }
     },
     "metadata": {},
     "output_type": "display_data"
    },
    {
     "data": {
      "text/plain": [
       "shape: (2, 9)\n",
       "┌───────┬──────────┬──────────┬─────────────┬───┬─────┬──────┬────────┬────────────────────────────┐\n",
       "│ chrom ┆ start    ┆ end      ┆ id          ┆ … ┆ alt ┆ qual ┆ filter ┆ csq                        │\n",
       "│ ---   ┆ ---      ┆ ---      ┆ ---         ┆   ┆ --- ┆ ---  ┆ ---    ┆ ---                        │\n",
       "│ str   ┆ u32      ┆ u32      ┆ str         ┆   ┆ str ┆ f64  ┆ str    ┆ list[str]                  │\n",
       "╞═══════╪══════════╪══════════╪═════════════╪═══╪═════╪══════╪════════╪════════════════════════════╡\n",
       "│ chr21 ┆ 26960070 ┆ 26960070 ┆ rs116645811 ┆ … ┆ A   ┆ null ┆        ┆ [\"A|missense_variant|MODER │\n",
       "│       ┆          ┆          ┆             ┆   ┆     ┆      ┆        ┆ ATE|…                      │\n",
       "│ chr21 ┆ 26965148 ┆ 26965148 ┆ rs1135638   ┆ … ┆ A   ┆ null ┆        ┆ [\"A|synonymous_variant|LOW │\n",
       "│       ┆          ┆          ┆             ┆   ┆     ┆      ┆        ┆ |MRP…                      │\n",
       "└───────┴──────────┴──────────┴─────────────┴───┴─────┴──────┴────────┴────────────────────────────┘"
      ],
      "text/html": [
       "<div><style>\n",
       ".dataframe > thead > tr,\n",
       ".dataframe > tbody > tr {\n",
       "  text-align: right;\n",
       "  white-space: pre-wrap;\n",
       "}\n",
       "</style>\n",
       "<small>shape: (2, 9)</small><table border=\"1\" class=\"dataframe\"><thead><tr><th>chrom</th><th>start</th><th>end</th><th>id</th><th>ref</th><th>alt</th><th>qual</th><th>filter</th><th>csq</th></tr><tr><td>str</td><td>u32</td><td>u32</td><td>str</td><td>str</td><td>str</td><td>f64</td><td>str</td><td>list[str]</td></tr></thead><tbody><tr><td>&quot;chr21&quot;</td><td>26960070</td><td>26960070</td><td>&quot;rs116645811&quot;</td><td>&quot;G&quot;</td><td>&quot;A&quot;</td><td>null</td><td>&quot;&quot;</td><td>[&quot;A|missense_variant|MODERATE|MRPL39|ENSG00000154719|Transcript|ENST00000307301|protein_coding|10/11||||1043|1001|334|T/M|aCg/aTg|||-1||HGNC|14027&quot;, &quot;A|intron_variant|MODIFIER|MRPL39|ENSG00000154719|Transcript|ENST00000352957|protein_coding||9/9||||||||||-1||HGNC|14027&quot;, &quot;A|upstream_gene_variant|MODIFIER|LINC00515|ENSG00000260583|Transcript|ENST00000567517|antisense|||||||||||4432|-1||HGNC|16019&quot;]</td></tr><tr><td>&quot;chr21&quot;</td><td>26965148</td><td>26965148</td><td>&quot;rs1135638&quot;</td><td>&quot;G&quot;</td><td>&quot;A&quot;</td><td>null</td><td>&quot;&quot;</td><td>[&quot;A|synonymous_variant|LOW|MRPL39|ENSG00000154719|Transcript|ENST00000307301|protein_coding|8/11||||939|897|299|G|ggC/ggT|||-1||HGNC|14027&quot;, &quot;A|synonymous_variant|LOW|MRPL39|ENSG00000154719|Transcript|ENST00000352957|protein_coding|8/10||||939|897|299|G|ggC/ggT|||-1||HGNC|14027&quot;, &quot;A|synonymous_variant|LOW|MRPL39|ENSG00000154719|Transcript|ENST00000419219|protein_coding|8/8||||876|867|289|G|ggC/ggT|||-1|cds_end_NF|HGNC|14027&quot;]</td></tr></tbody></table></div>"
      ]
     },
     "execution_count": 27,
     "metadata": {},
     "output_type": "execute_result"
    }
   ],
   "execution_count": 27
  },
  {
   "metadata": {},
   "cell_type": "markdown",
   "source": "#### FASTQ",
   "id": "297e73737a493f98"
  },
  {
   "metadata": {
    "ExecuteTime": {
     "end_time": "2025-09-09T05:41:05.387811Z",
     "start_time": "2025-09-09T05:41:05.376412Z"
    }
   },
   "cell_type": "code",
   "source": "pb.scan_fastq(\"data/example.fastq.gz\").limit(3).collect()",
   "id": "b8905d462e5bd071",
   "outputs": [
    {
     "data": {
      "text/plain": [
       "0rows [00:00, ?rows/s]"
      ],
      "application/vnd.jupyter.widget-view+json": {
       "version_major": 2,
       "version_minor": 0,
       "model_id": "a9c4031c8d984bc1835a57204cef8691"
      }
     },
     "metadata": {},
     "output_type": "display_data"
    },
    {
     "data": {
      "text/plain": [
       "shape: (3, 4)\n",
       "┌──────────────┬───────────────────────────┬───────────────────────────┬───────────────────────────┐\n",
       "│ name         ┆ description               ┆ sequence                  ┆ quality_scores            │\n",
       "│ ---          ┆ ---                       ┆ ---                       ┆ ---                       │\n",
       "│ str          ┆ str                       ┆ str                       ┆ str                       │\n",
       "╞══════════════╪═══════════════════════════╪═══════════════════════════╪═══════════════════════════╡\n",
       "│ SRR9130495.1 ┆ D00236:723:HG32CBCX2:1:11 ┆ NCAATACAAAAGCAATATGGGAGAA ┆ #4BDFDFFHGHGGJJJHIIIIGGII │\n",
       "│              ┆ 08:13…                    ┆ GCTAC…                    ┆ JGJJG…                    │\n",
       "│ SRR9130495.2 ┆ D00236:723:HG32CBCX2:1:11 ┆ NGTCAAAGATAAGATCAAAAGGCAC ┆ #1=DDDDD>DHFH@EFHHGHGGFGI │\n",
       "│              ┆ 08:14…                    ┆ TGGCT…                    ┆ IIGIG…                    │\n",
       "│ SRR9130495.3 ┆ D00236:723:HG32CBCX2:1:11 ┆ GTTTTCCTCTGGTTATTTCTAGGTA ┆ @@@DDDFFHHHFHBHIIGJIJIIJI │\n",
       "│              ┆ 08:17…                    ┆ CACTG…                    ┆ IIEHG…                    │\n",
       "└──────────────┴───────────────────────────┴───────────────────────────┴───────────────────────────┘"
      ],
      "text/html": [
       "<div><style>\n",
       ".dataframe > thead > tr,\n",
       ".dataframe > tbody > tr {\n",
       "  text-align: right;\n",
       "  white-space: pre-wrap;\n",
       "}\n",
       "</style>\n",
       "<small>shape: (3, 4)</small><table border=\"1\" class=\"dataframe\"><thead><tr><th>name</th><th>description</th><th>sequence</th><th>quality_scores</th></tr><tr><td>str</td><td>str</td><td>str</td><td>str</td></tr></thead><tbody><tr><td>&quot;SRR9130495.1&quot;</td><td>&quot;D00236:723:HG32CBCX2:1:1108:13…</td><td>&quot;NCAATACAAAAGCAATATGGGAGAAGCTAC…</td><td>&quot;#4BDFDFFHGHGGJJJHIIIIGGIIJGJJG…</td></tr><tr><td>&quot;SRR9130495.2&quot;</td><td>&quot;D00236:723:HG32CBCX2:1:1108:14…</td><td>&quot;NGTCAAAGATAAGATCAAAAGGCACTGGCT…</td><td>&quot;#1=DDDDD&gt;DHFH@EFHHGHGGFGIIIGIG…</td></tr><tr><td>&quot;SRR9130495.3&quot;</td><td>&quot;D00236:723:HG32CBCX2:1:1108:17…</td><td>&quot;GTTTTCCTCTGGTTATTTCTAGGTACACTG…</td><td>&quot;@@@DDDFFHHHFHBHIIGJIJIIJIIIEHG…</td></tr></tbody></table></div>"
      ]
     },
     "execution_count": 28,
     "metadata": {},
     "output_type": "execute_result"
    }
   ],
   "execution_count": 28
  },
  {
   "metadata": {},
   "cell_type": "markdown",
   "source": "#### BAM",
   "id": "550242ef3ac34c74"
  },
  {
   "metadata": {
    "ExecuteTime": {
     "end_time": "2025-09-09T05:41:12.122553Z",
     "start_time": "2025-09-09T05:41:12.108092Z"
    }
   },
   "cell_type": "code",
   "source": "pb.scan_bam(\"data/example.bam\").limit(3).collect()",
   "id": "2f4c319fa7ff09b0",
   "outputs": [
    {
     "data": {
      "text/plain": [
       "0rows [00:00, ?rows/s]"
      ],
      "application/vnd.jupyter.widget-view+json": {
       "version_major": 2,
       "version_minor": 0,
       "model_id": "ad38eec8b1b444e788323203a0312954"
      }
     },
     "metadata": {},
     "output_type": "display_data"
    },
    {
     "data": {
      "text/plain": [
       "shape: (3, 11)\n",
       "┌───────────────┬───────┬───────┬─────┬───┬────────────┬────────────┬───────────────┬──────────────┐\n",
       "│ name          ┆ chrom ┆ start ┆ end ┆ … ┆ mate_chrom ┆ mate_start ┆ sequence      ┆ quality_scor │\n",
       "│ ---           ┆ ---   ┆ ---   ┆ --- ┆   ┆ ---        ┆ ---        ┆ ---           ┆ es           │\n",
       "│ str           ┆ str   ┆ u32   ┆ u32 ┆   ┆ str        ┆ u32        ┆ str           ┆ ---          │\n",
       "│               ┆       ┆       ┆     ┆   ┆            ┆            ┆               ┆ str          │\n",
       "╞═══════════════╪═══════╪═══════╪═════╪═══╪════════════╪════════════╪═══════════════╪══════════════╡\n",
       "│ 20FUKAAXX1002 ┆ chr1  ┆ 1     ┆ 101 ┆ … ┆ chr1       ┆ 178        ┆ TAACCCTAACCCT ┆ ?>=>?@CBC@BB │\n",
       "│ 02:1:21:2075: ┆       ┆       ┆     ┆   ┆            ┆            ┆ AACCCTAACCCTA ┆ CCDABACCDABB │\n",
       "│ 1360…         ┆       ┆       ┆     ┆   ┆            ┆            ┆ ACCC…         ┆ B9:788…      │\n",
       "│ 20FUKAAXX1002 ┆ chr1  ┆ 1     ┆ 101 ┆ … ┆ chr1       ┆ 183        ┆ TAACCCTAACCCT ┆ CCDACCDCDABB │\n",
       "│ 02:1:21:2733: ┆       ┆       ┆     ┆   ┆            ┆            ┆ AACCCTAACCCTA ┆ DCDABBDCDABB │\n",
       "│ 1836…         ┆       ┆       ┆     ┆   ┆            ┆            ┆ ACCC…         ┆ DCDABB…      │\n",
       "│ 20FUKAAXX1002 ┆ chr1  ┆ 1     ┆ 101 ┆ … ┆ chr1       ┆ 35         ┆ TAACCCTAACCCT ┆ @CC?@@CBC@BB │\n",
       "│ 02:1:22:19822 ┆       ┆       ┆     ┆   ┆            ┆            ┆ AACCCTAACCCTA ┆ CCDABBCCDABB │\n",
       "│ :802…         ┆       ┆       ┆     ┆   ┆            ┆            ┆ ACCC…         ┆ CCDABB…      │\n",
       "└───────────────┴───────┴───────┴─────┴───┴────────────┴────────────┴───────────────┴──────────────┘"
      ],
      "text/html": [
       "<div><style>\n",
       ".dataframe > thead > tr,\n",
       ".dataframe > tbody > tr {\n",
       "  text-align: right;\n",
       "  white-space: pre-wrap;\n",
       "}\n",
       "</style>\n",
       "<small>shape: (3, 11)</small><table border=\"1\" class=\"dataframe\"><thead><tr><th>name</th><th>chrom</th><th>start</th><th>end</th><th>flags</th><th>cigar</th><th>mapping_quality</th><th>mate_chrom</th><th>mate_start</th><th>sequence</th><th>quality_scores</th></tr><tr><td>str</td><td>str</td><td>u32</td><td>u32</td><td>u32</td><td>str</td><td>u32</td><td>str</td><td>u32</td><td>str</td><td>str</td></tr></thead><tbody><tr><td>&quot;20FUKAAXX100202:1:21:2075:1360…</td><td>&quot;chr1&quot;</td><td>1</td><td>101</td><td>1187</td><td>&quot;101M&quot;</td><td>0</td><td>&quot;chr1&quot;</td><td>178</td><td>&quot;TAACCCTAACCCTAACCCTAACCCTAACCC…</td><td>&quot;?&gt;=&gt;?@CBC@BBCCDABACCDABBB9:788…</td></tr><tr><td>&quot;20FUKAAXX100202:1:21:2733:1836…</td><td>&quot;chr1&quot;</td><td>1</td><td>101</td><td>1123</td><td>&quot;101M&quot;</td><td>0</td><td>&quot;chr1&quot;</td><td>183</td><td>&quot;TAACCCTAACCCTAACCCTAACCCTAACCC…</td><td>&quot;CCDACCDCDABBDCDABBDCDABBDCDABB…</td></tr><tr><td>&quot;20FUKAAXX100202:1:22:19822:802…</td><td>&quot;chr1&quot;</td><td>1</td><td>101</td><td>163</td><td>&quot;101M&quot;</td><td>4</td><td>&quot;chr1&quot;</td><td>35</td><td>&quot;TAACCCTAACCCTAACCCTAACCCTAACCC…</td><td>&quot;@CC?@@CBC@BBCCDABBCCDABBCCDABB…</td></tr></tbody></table></div>"
      ]
     },
     "execution_count": 29,
     "metadata": {},
     "output_type": "execute_result"
    }
   ],
   "execution_count": 29
  },
  {
   "metadata": {},
   "cell_type": "markdown",
   "source": "#### BED",
   "id": "ca1a5e86401526"
  },
  {
   "metadata": {
    "ExecuteTime": {
     "end_time": "2025-09-09T05:41:18.817078Z",
     "start_time": "2025-09-09T05:41:18.806657Z"
    }
   },
   "cell_type": "code",
   "source": "pb.scan_bed(\"data/example.bed.bgz\").limit(3).collect()",
   "id": "b106aeaaf3db743e",
   "outputs": [
    {
     "data": {
      "text/plain": [
       "0rows [00:00, ?rows/s]"
      ],
      "application/vnd.jupyter.widget-view+json": {
       "version_major": 2,
       "version_minor": 0,
       "model_id": "a794c2b7f7ee4700a3f0bb2004ef95a0"
      }
     },
     "metadata": {},
     "output_type": "display_data"
    },
    {
     "data": {
      "text/plain": [
       "shape: (3, 4)\n",
       "┌───────┬──────────┬──────────┬────────┐\n",
       "│ chrom ┆ start    ┆ end      ┆ name   │\n",
       "│ ---   ┆ ---      ┆ ---      ┆ ---    │\n",
       "│ str   ┆ u32      ┆ u32      ┆ str    │\n",
       "╞═══════╪══════════╪══════════╪════════╡\n",
       "│ chr16 ┆ 14800001 ┆ 16800000 ┆ FRA16A │\n",
       "│ chr16 ┆ 66700001 ┆ 70800000 ┆ FRA16B │\n",
       "│ chr16 ┆ 63917503 ┆ 63934965 ┆ FRA16C │\n",
       "└───────┴──────────┴──────────┴────────┘"
      ],
      "text/html": [
       "<div><style>\n",
       ".dataframe > thead > tr,\n",
       ".dataframe > tbody > tr {\n",
       "  text-align: right;\n",
       "  white-space: pre-wrap;\n",
       "}\n",
       "</style>\n",
       "<small>shape: (3, 4)</small><table border=\"1\" class=\"dataframe\"><thead><tr><th>chrom</th><th>start</th><th>end</th><th>name</th></tr><tr><td>str</td><td>u32</td><td>u32</td><td>str</td></tr></thead><tbody><tr><td>&quot;chr16&quot;</td><td>14800001</td><td>16800000</td><td>&quot;FRA16A&quot;</td></tr><tr><td>&quot;chr16&quot;</td><td>66700001</td><td>70800000</td><td>&quot;FRA16B&quot;</td></tr><tr><td>&quot;chr16&quot;</td><td>63917503</td><td>63934965</td><td>&quot;FRA16C&quot;</td></tr></tbody></table></div>"
      ]
     },
     "execution_count": 30,
     "metadata": {},
     "output_type": "execute_result"
    }
   ],
   "execution_count": 30
  },
  {
   "metadata": {},
   "cell_type": "markdown",
   "source": "### SQL processing",
   "id": "67974d26725a4b82"
  },
  {
   "metadata": {},
   "cell_type": "markdown",
   "source": "#### Registering tables",
   "id": "ee7b2be7b5509944"
  },
  {
   "metadata": {
    "ExecuteTime": {
     "end_time": "2025-09-09T05:41:23.625355Z",
     "start_time": "2025-09-09T05:41:23.622474Z"
    }
   },
   "cell_type": "code",
   "source": "pb.register_gff(\"data/example.gff3.bgz\", \"example_gff\")",
   "id": "ef9621a3b1515205",
   "outputs": [],
   "execution_count": 31
  },
  {
   "metadata": {
    "ExecuteTime": {
     "end_time": "2025-09-09T05:41:25.139688Z",
     "start_time": "2025-09-09T05:41:25.130190Z"
    }
   },
   "cell_type": "code",
   "source": "pb.sql(\"SHOW TABLES\").collect()",
   "id": "f09691b4827d09c0",
   "outputs": [
    {
     "data": {
      "text/plain": [
       "0rows [00:00, ?rows/s]"
      ],
      "application/vnd.jupyter.widget-view+json": {
       "version_major": 2,
       "version_minor": 0,
       "model_id": "cfc253c8969c4e818b9366b3a612fd1c"
      }
     },
     "metadata": {},
     "output_type": "display_data"
    },
    {
     "data": {
      "text/plain": [
       "shape: (18, 4)\n",
       "┌───────────────┬────────────────────┬─────────────────────────┬─────────────────┐\n",
       "│ table_catalog ┆ table_schema       ┆ table_name              ┆ table_type      │\n",
       "│ ---           ┆ ---                ┆ ---                     ┆ ---             │\n",
       "│ str           ┆ str                ┆ str                     ┆ str             │\n",
       "╞═══════════════╪════════════════════╪═════════════════════════╪═════════════════╡\n",
       "│ datafusion    ┆ public             ┆ count_overlaps_coverage ┆ LOCAL TEMPORARY │\n",
       "│ datafusion    ┆ public             ┆ example_gz              ┆ BASE TABLE      │\n",
       "│ datafusion    ┆ public             ┆ vcf_schema_975224660    ┆ BASE TABLE      │\n",
       "│ datafusion    ┆ public             ┆ s2                      ┆ BASE TABLE      │\n",
       "│ datafusion    ┆ public             ┆ example_gff             ┆ BASE TABLE      │\n",
       "│ …             ┆ …                  ┆ …                       ┆ …               │\n",
       "│ datafusion    ┆ information_schema ┆ columns                 ┆ VIEW            │\n",
       "│ datafusion    ┆ information_schema ┆ df_settings             ┆ VIEW            │\n",
       "│ datafusion    ┆ information_schema ┆ schemata                ┆ VIEW            │\n",
       "│ datafusion    ┆ information_schema ┆ routines                ┆ VIEW            │\n",
       "│ datafusion    ┆ information_schema ┆ parameters              ┆ VIEW            │\n",
       "└───────────────┴────────────────────┴─────────────────────────┴─────────────────┘"
      ],
      "text/html": [
       "<div><style>\n",
       ".dataframe > thead > tr,\n",
       ".dataframe > tbody > tr {\n",
       "  text-align: right;\n",
       "  white-space: pre-wrap;\n",
       "}\n",
       "</style>\n",
       "<small>shape: (18, 4)</small><table border=\"1\" class=\"dataframe\"><thead><tr><th>table_catalog</th><th>table_schema</th><th>table_name</th><th>table_type</th></tr><tr><td>str</td><td>str</td><td>str</td><td>str</td></tr></thead><tbody><tr><td>&quot;datafusion&quot;</td><td>&quot;public&quot;</td><td>&quot;count_overlaps_coverage&quot;</td><td>&quot;LOCAL TEMPORARY&quot;</td></tr><tr><td>&quot;datafusion&quot;</td><td>&quot;public&quot;</td><td>&quot;example_gz&quot;</td><td>&quot;BASE TABLE&quot;</td></tr><tr><td>&quot;datafusion&quot;</td><td>&quot;public&quot;</td><td>&quot;vcf_schema_975224660&quot;</td><td>&quot;BASE TABLE&quot;</td></tr><tr><td>&quot;datafusion&quot;</td><td>&quot;public&quot;</td><td>&quot;s2&quot;</td><td>&quot;BASE TABLE&quot;</td></tr><tr><td>&quot;datafusion&quot;</td><td>&quot;public&quot;</td><td>&quot;example_gff&quot;</td><td>&quot;BASE TABLE&quot;</td></tr><tr><td>&hellip;</td><td>&hellip;</td><td>&hellip;</td><td>&hellip;</td></tr><tr><td>&quot;datafusion&quot;</td><td>&quot;information_schema&quot;</td><td>&quot;columns&quot;</td><td>&quot;VIEW&quot;</td></tr><tr><td>&quot;datafusion&quot;</td><td>&quot;information_schema&quot;</td><td>&quot;df_settings&quot;</td><td>&quot;VIEW&quot;</td></tr><tr><td>&quot;datafusion&quot;</td><td>&quot;information_schema&quot;</td><td>&quot;schemata&quot;</td><td>&quot;VIEW&quot;</td></tr><tr><td>&quot;datafusion&quot;</td><td>&quot;information_schema&quot;</td><td>&quot;routines&quot;</td><td>&quot;VIEW&quot;</td></tr><tr><td>&quot;datafusion&quot;</td><td>&quot;information_schema&quot;</td><td>&quot;parameters&quot;</td><td>&quot;VIEW&quot;</td></tr></tbody></table></div>"
      ]
     },
     "execution_count": 32,
     "metadata": {},
     "output_type": "execute_result"
    }
   ],
   "execution_count": 32
  },
  {
   "metadata": {},
   "cell_type": "markdown",
   "source": "##### Querying registered tables",
   "id": "617c2ebc99e790f5"
  },
  {
   "metadata": {
    "ExecuteTime": {
     "end_time": "2025-09-09T05:41:37.574938Z",
     "start_time": "2025-09-09T05:41:37.564544Z"
    }
   },
   "cell_type": "code",
   "source": "pb.sql(\"DESCRIBE example_gff\").collect()",
   "id": "db7e9123501d9929",
   "outputs": [
    {
     "data": {
      "text/plain": [
       "0rows [00:00, ?rows/s]"
      ],
      "application/vnd.jupyter.widget-view+json": {
       "version_major": 2,
       "version_minor": 0,
       "model_id": "ac2f48d6a3bf4aceb02e492f46fe98f0"
      }
     },
     "metadata": {},
     "output_type": "display_data"
    },
    {
     "data": {
      "text/plain": [
       "shape: (9, 3)\n",
       "┌─────────────┬─────────────────────────────────┬─────────────┐\n",
       "│ column_name ┆ data_type                       ┆ is_nullable │\n",
       "│ ---         ┆ ---                             ┆ ---         │\n",
       "│ str         ┆ str                             ┆ str         │\n",
       "╞═════════════╪═════════════════════════════════╪═════════════╡\n",
       "│ chrom       ┆ Utf8                            ┆ NO          │\n",
       "│ start       ┆ UInt32                          ┆ NO          │\n",
       "│ end         ┆ UInt32                          ┆ NO          │\n",
       "│ type        ┆ Utf8                            ┆ NO          │\n",
       "│ source      ┆ Utf8                            ┆ NO          │\n",
       "│ score       ┆ Float32                         ┆ YES         │\n",
       "│ strand      ┆ Utf8                            ┆ NO          │\n",
       "│ phase       ┆ UInt32                          ┆ YES         │\n",
       "│ attributes  ┆ List(Field { name: \"item\", dat… ┆ YES         │\n",
       "└─────────────┴─────────────────────────────────┴─────────────┘"
      ],
      "text/html": [
       "<div><style>\n",
       ".dataframe > thead > tr,\n",
       ".dataframe > tbody > tr {\n",
       "  text-align: right;\n",
       "  white-space: pre-wrap;\n",
       "}\n",
       "</style>\n",
       "<small>shape: (9, 3)</small><table border=\"1\" class=\"dataframe\"><thead><tr><th>column_name</th><th>data_type</th><th>is_nullable</th></tr><tr><td>str</td><td>str</td><td>str</td></tr></thead><tbody><tr><td>&quot;chrom&quot;</td><td>&quot;Utf8&quot;</td><td>&quot;NO&quot;</td></tr><tr><td>&quot;start&quot;</td><td>&quot;UInt32&quot;</td><td>&quot;NO&quot;</td></tr><tr><td>&quot;end&quot;</td><td>&quot;UInt32&quot;</td><td>&quot;NO&quot;</td></tr><tr><td>&quot;type&quot;</td><td>&quot;Utf8&quot;</td><td>&quot;NO&quot;</td></tr><tr><td>&quot;source&quot;</td><td>&quot;Utf8&quot;</td><td>&quot;NO&quot;</td></tr><tr><td>&quot;score&quot;</td><td>&quot;Float32&quot;</td><td>&quot;YES&quot;</td></tr><tr><td>&quot;strand&quot;</td><td>&quot;Utf8&quot;</td><td>&quot;NO&quot;</td></tr><tr><td>&quot;phase&quot;</td><td>&quot;UInt32&quot;</td><td>&quot;YES&quot;</td></tr><tr><td>&quot;attributes&quot;</td><td>&quot;List(Field { name: &quot;item&quot;, dat…</td><td>&quot;YES&quot;</td></tr></tbody></table></div>"
      ]
     },
     "execution_count": 33,
     "metadata": {},
     "output_type": "execute_result"
    }
   ],
   "execution_count": 33
  },
  {
   "metadata": {
    "ExecuteTime": {
     "end_time": "2025-09-09T05:41:42.289774Z",
     "start_time": "2025-09-09T05:41:42.279231Z"
    }
   },
   "cell_type": "code",
   "source": "pb.sql(\"SELECT start, end, type FROM example_gff WHERE end = 14409\").collect()",
   "id": "208df91caffc4e2d",
   "outputs": [
    {
     "data": {
      "text/plain": [
       "0rows [00:00, ?rows/s]"
      ],
      "application/vnd.jupyter.widget-view+json": {
       "version_major": 2,
       "version_minor": 0,
       "model_id": "95fcbb28d52a48d98cad3310f0d1c1a6"
      }
     },
     "metadata": {},
     "output_type": "display_data"
    },
    {
     "data": {
      "text/plain": [
       "shape: (2, 3)\n",
       "┌───────┬───────┬────────────┐\n",
       "│ start ┆ end   ┆ type       │\n",
       "│ ---   ┆ ---   ┆ ---        │\n",
       "│ u32   ┆ u32   ┆ str        │\n",
       "╞═══════╪═══════╪════════════╡\n",
       "│ 11869 ┆ 14409 ┆ gene       │\n",
       "│ 11869 ┆ 14409 ┆ transcript │\n",
       "└───────┴───────┴────────────┘"
      ],
      "text/html": [
       "<div><style>\n",
       ".dataframe > thead > tr,\n",
       ".dataframe > tbody > tr {\n",
       "  text-align: right;\n",
       "  white-space: pre-wrap;\n",
       "}\n",
       "</style>\n",
       "<small>shape: (2, 3)</small><table border=\"1\" class=\"dataframe\"><thead><tr><th>start</th><th>end</th><th>type</th></tr><tr><td>u32</td><td>u32</td><td>str</td></tr></thead><tbody><tr><td>11869</td><td>14409</td><td>&quot;gene&quot;</td></tr><tr><td>11869</td><td>14409</td><td>&quot;transcript&quot;</td></tr></tbody></table></div>"
      ]
     },
     "execution_count": 34,
     "metadata": {},
     "output_type": "execute_result"
    }
   ],
   "execution_count": 34
  },
  {
   "metadata": {},
   "cell_type": "markdown",
   "source": "##### Registering views",
   "id": "ec19e20fa5a8dd48"
  },
  {
   "metadata": {
    "ExecuteTime": {
     "end_time": "2025-09-09T05:41:46.908386Z",
     "start_time": "2025-09-09T05:41:46.905221Z"
    }
   },
   "cell_type": "code",
   "source": "pb.register_view(\"v_example_gff\", \"SELECT start, end, type FROM example_gff WHERE end = 14409\")",
   "id": "2326007dd5fa4c0c",
   "outputs": [],
   "execution_count": 35
  },
  {
   "metadata": {
    "ExecuteTime": {
     "end_time": "2025-09-09T05:41:48.833585Z",
     "start_time": "2025-09-09T05:41:48.823558Z"
    }
   },
   "cell_type": "code",
   "source": "pb.sql(\"SELECT * FROM v_example_gff\").collect()",
   "id": "96021be03255a88b",
   "outputs": [
    {
     "data": {
      "text/plain": [
       "0rows [00:00, ?rows/s]"
      ],
      "application/vnd.jupyter.widget-view+json": {
       "version_major": 2,
       "version_minor": 0,
       "model_id": "7b0699cd6db74a57a9c4ca175eaa906a"
      }
     },
     "metadata": {},
     "output_type": "display_data"
    },
    {
     "data": {
      "text/plain": [
       "shape: (2, 3)\n",
       "┌───────┬───────┬────────────┐\n",
       "│ start ┆ end   ┆ type       │\n",
       "│ ---   ┆ ---   ┆ ---        │\n",
       "│ u32   ┆ u32   ┆ str        │\n",
       "╞═══════╪═══════╪════════════╡\n",
       "│ 11869 ┆ 14409 ┆ gene       │\n",
       "│ 11869 ┆ 14409 ┆ transcript │\n",
       "└───────┴───────┴────────────┘"
      ],
      "text/html": [
       "<div><style>\n",
       ".dataframe > thead > tr,\n",
       ".dataframe > tbody > tr {\n",
       "  text-align: right;\n",
       "  white-space: pre-wrap;\n",
       "}\n",
       "</style>\n",
       "<small>shape: (2, 3)</small><table border=\"1\" class=\"dataframe\"><thead><tr><th>start</th><th>end</th><th>type</th></tr><tr><td>u32</td><td>u32</td><td>str</td></tr></thead><tbody><tr><td>11869</td><td>14409</td><td>&quot;gene&quot;</td></tr><tr><td>11869</td><td>14409</td><td>&quot;transcript&quot;</td></tr></tbody></table></div>"
      ]
     },
     "execution_count": 36,
     "metadata": {},
     "output_type": "execute_result"
    }
   ],
   "execution_count": 36
  },
  {
   "metadata": {},
   "cell_type": "markdown",
   "source": "### Working with cloud storage",
   "id": "7740c51d19264f07"
  },
  {
   "metadata": {
    "ExecuteTime": {
     "end_time": "2025-09-09T05:42:01.003879Z",
     "start_time": "2025-09-09T05:41:59.241315Z"
    }
   },
   "cell_type": "code",
   "source": "pb.describe_vcf(\"gs://gcp-public-data--gnomad/release/4.1/genome_sv/gnomad.v4.1.sv.sites.vcf.gz\").filter(pl.col(\"description\").str.contains(r\"Latino.* allele frequency\"))",
   "id": "440ef23275057a5e",
   "outputs": [
    {
     "data": {
      "text/plain": [
       "shape: (3, 3)\n",
       "┌───────────┬───────┬─────────────────────────────────┐\n",
       "│ name      ┆ type  ┆ description                     │\n",
       "│ ---       ┆ ---   ┆ ---                             │\n",
       "│ str       ┆ str   ┆ str                             │\n",
       "╞═══════════╪═══════╪═════════════════════════════════╡\n",
       "│ AF_amr    ┆ Float ┆ Latino allele frequency (biall… │\n",
       "│ AF_amr_XY ┆ Float ┆ Latino XY allele frequency (bi… │\n",
       "│ AF_amr_XX ┆ Float ┆ Latino XX allele frequency (bi… │\n",
       "└───────────┴───────┴─────────────────────────────────┘"
      ],
      "text/html": [
       "<div><style>\n",
       ".dataframe > thead > tr,\n",
       ".dataframe > tbody > tr {\n",
       "  text-align: right;\n",
       "  white-space: pre-wrap;\n",
       "}\n",
       "</style>\n",
       "<small>shape: (3, 3)</small><table border=\"1\" class=\"dataframe\"><thead><tr><th>name</th><th>type</th><th>description</th></tr><tr><td>str</td><td>str</td><td>str</td></tr></thead><tbody><tr><td>&quot;AF_amr&quot;</td><td>&quot;Float&quot;</td><td>&quot;Latino allele frequency (biall…</td></tr><tr><td>&quot;AF_amr_XY&quot;</td><td>&quot;Float&quot;</td><td>&quot;Latino XY allele frequency (bi…</td></tr><tr><td>&quot;AF_amr_XX&quot;</td><td>&quot;Float&quot;</td><td>&quot;Latino XX allele frequency (bi…</td></tr></tbody></table></div>"
      ]
     },
     "execution_count": 38,
     "metadata": {},
     "output_type": "execute_result"
    }
   ],
   "execution_count": 38
  },
  {
   "metadata": {
    "ExecuteTime": {
     "end_time": "2025-09-09T05:42:35.228700Z",
     "start_time": "2025-09-09T05:42:09.020009Z"
    }
   },
   "cell_type": "code",
   "source": [
    "pb.register_vcf(\"gs://gcp-public-data--gnomad/release/4.1/genome_sv/gnomad.v4.1.sv.sites.vcf.gz\", \"gnomad\", info_fields=['AF_amr'])\n",
    "query = \"\"\"\n",
    "    SELECT\n",
    "        chrom,\n",
    "        start,\n",
    "        end,\n",
    "        alt,\n",
    "        array_element(af_amr,1) AS af_amr\n",
    "    FROM gnomad\n",
    "    WHERE\n",
    "        filter = 'HIGH_NCR'\n",
    "    AND\n",
    "        alt = '<DUP>'\n",
    "\"\"\"\n",
    "pb.sql(f\"{query} LIMIT 3\").collect()"
   ],
   "id": "aa82d7e1966f643f",
   "outputs": [
    {
     "data": {
      "text/plain": [
       "0rows [00:00, ?rows/s]"
      ],
      "application/vnd.jupyter.widget-view+json": {
       "version_major": 2,
       "version_minor": 0,
       "model_id": "3977554b0aba40619f2281575428414b"
      }
     },
     "metadata": {},
     "output_type": "display_data"
    },
    {
     "data": {
      "text/plain": [
       "shape: (3, 5)\n",
       "┌───────┬────────┬────────┬───────┬──────────┐\n",
       "│ chrom ┆ start  ┆ end    ┆ alt   ┆ af_amr   │\n",
       "│ ---   ┆ ---    ┆ ---    ┆ ---   ┆ ---      │\n",
       "│ str   ┆ u32    ┆ u32    ┆ str   ┆ f32      │\n",
       "╞═══════╪════════╪════════╪═══════╪══════════╡\n",
       "│ chr1  ┆ 10000  ┆ 295666 ┆ <DUP> ┆ 0.000293 │\n",
       "│ chr1  ┆ 138000 ┆ 144000 ┆ <DUP> ┆ 0.000166 │\n",
       "│ chr1  ┆ 160500 ┆ 172100 ┆ <DUP> ┆ 0.002639 │\n",
       "└───────┴────────┴────────┴───────┴──────────┘"
      ],
      "text/html": [
       "<div><style>\n",
       ".dataframe > thead > tr,\n",
       ".dataframe > tbody > tr {\n",
       "  text-align: right;\n",
       "  white-space: pre-wrap;\n",
       "}\n",
       "</style>\n",
       "<small>shape: (3, 5)</small><table border=\"1\" class=\"dataframe\"><thead><tr><th>chrom</th><th>start</th><th>end</th><th>alt</th><th>af_amr</th></tr><tr><td>str</td><td>u32</td><td>u32</td><td>str</td><td>f32</td></tr></thead><tbody><tr><td>&quot;chr1&quot;</td><td>10000</td><td>295666</td><td>&quot;&lt;DUP&gt;&quot;</td><td>0.000293</td></tr><tr><td>&quot;chr1&quot;</td><td>138000</td><td>144000</td><td>&quot;&lt;DUP&gt;&quot;</td><td>0.000166</td></tr><tr><td>&quot;chr1&quot;</td><td>160500</td><td>172100</td><td>&quot;&lt;DUP&gt;&quot;</td><td>0.002639</td></tr></tbody></table></div>"
      ]
     },
     "execution_count": 39,
     "metadata": {},
     "output_type": "execute_result"
    }
   ],
   "execution_count": 39
  },
  {
   "metadata": {},
   "cell_type": "markdown",
   "source": "##### Overlapping with a local dataframe",
   "id": "16cf77038bdfe672"
  },
  {
   "metadata": {
    "ExecuteTime": {
     "end_time": "2025-09-09T05:42:41.615525Z",
     "start_time": "2025-09-09T05:42:40.377205Z"
    }
   },
   "cell_type": "code",
   "source": "pb.register_vcf(\"s3://gnomad-public-us-east-1/release/4.1/vcf/exomes/gnomad.exomes.v4.1.sites.chr1.vcf.bgz\", \"gnomad_sites_chr1\", info_fields=[])",
   "id": "1262e605dec3ac59",
   "outputs": [],
   "execution_count": 40
  },
  {
   "metadata": {
    "ExecuteTime": {
     "end_time": "2025-09-09T05:42:54.748792Z",
     "start_time": "2025-09-09T05:42:43.610496Z"
    }
   },
   "cell_type": "code",
   "source": "pb.sql(\"SELECT chrom, start, end, alt FROM gnomad_sites_chr1 LIMIT 10\").collect()",
   "id": "43d69623bb6095fb",
   "outputs": [
    {
     "data": {
      "text/plain": [
       "0rows [00:00, ?rows/s]"
      ],
      "application/vnd.jupyter.widget-view+json": {
       "version_major": 2,
       "version_minor": 0,
       "model_id": "bd7026abed3041f4bb5b2c501dee0776"
      }
     },
     "metadata": {},
     "output_type": "display_data"
    },
    {
     "data": {
      "text/plain": [
       "shape: (10, 4)\n",
       "┌───────┬───────┬───────┬─────┐\n",
       "│ chrom ┆ start ┆ end   ┆ alt │\n",
       "│ ---   ┆ ---   ┆ ---   ┆ --- │\n",
       "│ str   ┆ u32   ┆ u32   ┆ str │\n",
       "╞═══════╪═══════╪═══════╪═════╡\n",
       "│ chr1  ┆ 11994 ┆ 11994 ┆ C   │\n",
       "│ chr1  ┆ 12016 ┆ 12016 ┆ A   │\n",
       "│ chr1  ┆ 12060 ┆ 12065 ┆ C   │\n",
       "│ chr1  ┆ 12074 ┆ 12074 ┆ C   │\n",
       "│ chr1  ┆ 12102 ┆ 12102 ┆ A   │\n",
       "│ chr1  ┆ 12106 ┆ 12106 ┆ G   │\n",
       "│ chr1  ┆ 12138 ┆ 12138 ┆ A   │\n",
       "│ chr1  ┆ 12158 ┆ 12158 ┆ T   │\n",
       "│ chr1  ┆ 12165 ┆ 12165 ┆ A   │\n",
       "│ chr1  ┆ 12168 ┆ 12168 ┆ G   │\n",
       "└───────┴───────┴───────┴─────┘"
      ],
      "text/html": [
       "<div><style>\n",
       ".dataframe > thead > tr,\n",
       ".dataframe > tbody > tr {\n",
       "  text-align: right;\n",
       "  white-space: pre-wrap;\n",
       "}\n",
       "</style>\n",
       "<small>shape: (10, 4)</small><table border=\"1\" class=\"dataframe\"><thead><tr><th>chrom</th><th>start</th><th>end</th><th>alt</th></tr><tr><td>str</td><td>u32</td><td>u32</td><td>str</td></tr></thead><tbody><tr><td>&quot;chr1&quot;</td><td>11994</td><td>11994</td><td>&quot;C&quot;</td></tr><tr><td>&quot;chr1&quot;</td><td>12016</td><td>12016</td><td>&quot;A&quot;</td></tr><tr><td>&quot;chr1&quot;</td><td>12060</td><td>12065</td><td>&quot;C&quot;</td></tr><tr><td>&quot;chr1&quot;</td><td>12074</td><td>12074</td><td>&quot;C&quot;</td></tr><tr><td>&quot;chr1&quot;</td><td>12102</td><td>12102</td><td>&quot;A&quot;</td></tr><tr><td>&quot;chr1&quot;</td><td>12106</td><td>12106</td><td>&quot;G&quot;</td></tr><tr><td>&quot;chr1&quot;</td><td>12138</td><td>12138</td><td>&quot;A&quot;</td></tr><tr><td>&quot;chr1&quot;</td><td>12158</td><td>12158</td><td>&quot;T&quot;</td></tr><tr><td>&quot;chr1&quot;</td><td>12165</td><td>12165</td><td>&quot;A&quot;</td></tr><tr><td>&quot;chr1&quot;</td><td>12168</td><td>12168</td><td>&quot;G&quot;</td></tr></tbody></table></div>"
      ]
     },
     "execution_count": 41,
     "metadata": {},
     "output_type": "execute_result"
    }
   ],
   "execution_count": 41
  },
  {
   "metadata": {
    "ExecuteTime": {
     "end_time": "2025-09-09T05:42:58.867501Z",
     "start_time": "2025-09-09T05:42:58.864261Z"
    }
   },
   "cell_type": "code",
   "source": "pb.register_view(\"v_gnomad_sites_chr1\", \"SELECT * FROM gnomad_sites_chr1 LIMIT 20\")",
   "id": "7a80c364800a6e02",
   "outputs": [],
   "execution_count": 42
  },
  {
   "metadata": {
    "ExecuteTime": {
     "end_time": "2025-09-09T05:43:03.768607Z",
     "start_time": "2025-09-09T05:43:01.307864Z"
    }
   },
   "cell_type": "code",
   "source": "pb.sql(\"SELECT * FROM v_gnomad_sites_chr1\").collect()",
   "id": "5b3cc40738d06805",
   "outputs": [
    {
     "data": {
      "text/plain": [
       "0rows [00:00, ?rows/s]"
      ],
      "application/vnd.jupyter.widget-view+json": {
       "version_major": 2,
       "version_minor": 0,
       "model_id": "bf85e1c41f564afaaa75dbc056069fc7"
      }
     },
     "metadata": {},
     "output_type": "display_data"
    },
    {
     "data": {
      "text/plain": [
       "shape: (20, 8)\n",
       "┌───────┬───────┬───────┬─────────────┬────────┬─────┬──────┬─────────────┐\n",
       "│ chrom ┆ start ┆ end   ┆ id          ┆ ref    ┆ alt ┆ qual ┆ filter      │\n",
       "│ ---   ┆ ---   ┆ ---   ┆ ---         ┆ ---    ┆ --- ┆ ---  ┆ ---         │\n",
       "│ str   ┆ u32   ┆ u32   ┆ str         ┆ str    ┆ str ┆ f64  ┆ str         │\n",
       "╞═══════╪═══════╪═══════╪═════════════╪════════╪═════╪══════╪═════════════╡\n",
       "│ chr1  ┆ 11994 ┆ 11994 ┆             ┆ T      ┆ C   ┆ null ┆ AC0;AS_VQSR │\n",
       "│ chr1  ┆ 12016 ┆ 12016 ┆             ┆ G      ┆ A   ┆ null ┆ AC0;AS_VQSR │\n",
       "│ chr1  ┆ 12060 ┆ 12065 ┆             ┆ CTGGAG ┆ C   ┆ null ┆ AC0;AS_VQSR │\n",
       "│ chr1  ┆ 12074 ┆ 12074 ┆             ┆ T      ┆ C   ┆ null ┆ AC0;AS_VQSR │\n",
       "│ chr1  ┆ 12102 ┆ 12102 ┆             ┆ G      ┆ A   ┆ null ┆ AC0;AS_VQSR │\n",
       "│ …     ┆ …     ┆ …     ┆ …           ┆ …      ┆ …   ┆ …    ┆ …           │\n",
       "│ chr1  ┆ 12198 ┆ 12198 ┆ rs62635282  ┆ G      ┆ C   ┆ null ┆ AS_VQSR     │\n",
       "│ chr1  ┆ 12201 ┆ 12201 ┆             ┆ C      ┆ G   ┆ null ┆ AS_VQSR     │\n",
       "│ chr1  ┆ 12214 ┆ 12214 ┆ rs202068986 ┆ C      ┆ G   ┆ null ┆ AC0         │\n",
       "│ chr1  ┆ 12225 ┆ 12225 ┆             ┆ C      ┆ T   ┆ null ┆ AS_VQSR     │\n",
       "│ chr1  ┆ 12235 ┆ 12235 ┆             ┆ G      ┆ A   ┆ null ┆ AS_VQSR     │\n",
       "└───────┴───────┴───────┴─────────────┴────────┴─────┴──────┴─────────────┘"
      ],
      "text/html": [
       "<div><style>\n",
       ".dataframe > thead > tr,\n",
       ".dataframe > tbody > tr {\n",
       "  text-align: right;\n",
       "  white-space: pre-wrap;\n",
       "}\n",
       "</style>\n",
       "<small>shape: (20, 8)</small><table border=\"1\" class=\"dataframe\"><thead><tr><th>chrom</th><th>start</th><th>end</th><th>id</th><th>ref</th><th>alt</th><th>qual</th><th>filter</th></tr><tr><td>str</td><td>u32</td><td>u32</td><td>str</td><td>str</td><td>str</td><td>f64</td><td>str</td></tr></thead><tbody><tr><td>&quot;chr1&quot;</td><td>11994</td><td>11994</td><td>&quot;&quot;</td><td>&quot;T&quot;</td><td>&quot;C&quot;</td><td>null</td><td>&quot;AC0;AS_VQSR&quot;</td></tr><tr><td>&quot;chr1&quot;</td><td>12016</td><td>12016</td><td>&quot;&quot;</td><td>&quot;G&quot;</td><td>&quot;A&quot;</td><td>null</td><td>&quot;AC0;AS_VQSR&quot;</td></tr><tr><td>&quot;chr1&quot;</td><td>12060</td><td>12065</td><td>&quot;&quot;</td><td>&quot;CTGGAG&quot;</td><td>&quot;C&quot;</td><td>null</td><td>&quot;AC0;AS_VQSR&quot;</td></tr><tr><td>&quot;chr1&quot;</td><td>12074</td><td>12074</td><td>&quot;&quot;</td><td>&quot;T&quot;</td><td>&quot;C&quot;</td><td>null</td><td>&quot;AC0;AS_VQSR&quot;</td></tr><tr><td>&quot;chr1&quot;</td><td>12102</td><td>12102</td><td>&quot;&quot;</td><td>&quot;G&quot;</td><td>&quot;A&quot;</td><td>null</td><td>&quot;AC0;AS_VQSR&quot;</td></tr><tr><td>&hellip;</td><td>&hellip;</td><td>&hellip;</td><td>&hellip;</td><td>&hellip;</td><td>&hellip;</td><td>&hellip;</td><td>&hellip;</td></tr><tr><td>&quot;chr1&quot;</td><td>12198</td><td>12198</td><td>&quot;rs62635282&quot;</td><td>&quot;G&quot;</td><td>&quot;C&quot;</td><td>null</td><td>&quot;AS_VQSR&quot;</td></tr><tr><td>&quot;chr1&quot;</td><td>12201</td><td>12201</td><td>&quot;&quot;</td><td>&quot;C&quot;</td><td>&quot;G&quot;</td><td>null</td><td>&quot;AS_VQSR&quot;</td></tr><tr><td>&quot;chr1&quot;</td><td>12214</td><td>12214</td><td>&quot;rs202068986&quot;</td><td>&quot;C&quot;</td><td>&quot;G&quot;</td><td>null</td><td>&quot;AC0&quot;</td></tr><tr><td>&quot;chr1&quot;</td><td>12225</td><td>12225</td><td>&quot;&quot;</td><td>&quot;C&quot;</td><td>&quot;T&quot;</td><td>null</td><td>&quot;AS_VQSR&quot;</td></tr><tr><td>&quot;chr1&quot;</td><td>12235</td><td>12235</td><td>&quot;&quot;</td><td>&quot;G&quot;</td><td>&quot;A&quot;</td><td>null</td><td>&quot;AS_VQSR&quot;</td></tr></tbody></table></div>"
      ]
     },
     "execution_count": 43,
     "metadata": {},
     "output_type": "execute_result"
    }
   ],
   "execution_count": 43
  },
  {
   "metadata": {
    "ExecuteTime": {
     "end_time": "2025-09-09T05:43:06.758964Z",
     "start_time": "2025-09-09T05:43:06.745919Z"
    }
   },
   "cell_type": "code",
   "source": [
    "df = pl.DataFrame({\n",
    "    \"chrom\": [\"chr1\", \"chr1\"],\n",
    "    \"start\": [11993, 12102],\n",
    "    \"end\": [11996, 12200],\n",
    "    \"annotation\": [\"ann1\", \"ann2\"]\n",
    "})\n",
    "pb.from_polars(\"test_annotation\", df)\n",
    "pb.sql(\"SELECT * FROM test_annotation\").collect()"
   ],
   "id": "4eb88e824c4e5876",
   "outputs": [
    {
     "data": {
      "text/plain": [
       "0rows [00:00, ?rows/s]"
      ],
      "application/vnd.jupyter.widget-view+json": {
       "version_major": 2,
       "version_minor": 0,
       "model_id": "a2d9c406a8fb432da9c5fc46c2f1dd99"
      }
     },
     "metadata": {},
     "output_type": "display_data"
    },
    {
     "data": {
      "text/plain": [
       "shape: (2, 4)\n",
       "┌───────┬───────┬───────┬────────────┐\n",
       "│ chrom ┆ start ┆ end   ┆ annotation │\n",
       "│ ---   ┆ ---   ┆ ---   ┆ ---        │\n",
       "│ str   ┆ i64   ┆ i64   ┆ str        │\n",
       "╞═══════╪═══════╪═══════╪════════════╡\n",
       "│ chr1  ┆ 11993 ┆ 11996 ┆ ann1       │\n",
       "│ chr1  ┆ 12102 ┆ 12200 ┆ ann2       │\n",
       "└───────┴───────┴───────┴────────────┘"
      ],
      "text/html": [
       "<div><style>\n",
       ".dataframe > thead > tr,\n",
       ".dataframe > tbody > tr {\n",
       "  text-align: right;\n",
       "  white-space: pre-wrap;\n",
       "}\n",
       "</style>\n",
       "<small>shape: (2, 4)</small><table border=\"1\" class=\"dataframe\"><thead><tr><th>chrom</th><th>start</th><th>end</th><th>annotation</th></tr><tr><td>str</td><td>i64</td><td>i64</td><td>str</td></tr></thead><tbody><tr><td>&quot;chr1&quot;</td><td>11993</td><td>11996</td><td>&quot;ann1&quot;</td></tr><tr><td>&quot;chr1&quot;</td><td>12102</td><td>12200</td><td>&quot;ann2&quot;</td></tr></tbody></table></div>"
      ]
     },
     "execution_count": 44,
     "metadata": {},
     "output_type": "execute_result"
    }
   ],
   "execution_count": 44
  },
  {
   "metadata": {
    "ExecuteTime": {
     "end_time": "2025-09-09T05:43:11.552066Z",
     "start_time": "2025-09-09T05:43:09.312330Z"
    }
   },
   "cell_type": "code",
   "source": "pb.overlap(\"v_gnomad_sites_chr1\",\"test_annotation\").limit(3).collect()",
   "id": "77ce0d63f1f0a815",
   "outputs": [
    {
     "data": {
      "text/plain": [
       "0rows [00:00, ?rows/s]"
      ],
      "application/vnd.jupyter.widget-view+json": {
       "version_major": 2,
       "version_minor": 0,
       "model_id": "ac0e0b4248504f8e8482707cdddd8af6"
      }
     },
     "metadata": {},
     "output_type": "display_data"
    },
    {
     "data": {
      "text/plain": [
       "shape: (3, 12)\n",
       "┌─────────┬─────────┬───────┬─────────┬───┬───────┬───────┬────────┬─────────────┐\n",
       "│ chrom_1 ┆ start_1 ┆ end_1 ┆ chrom_2 ┆ … ┆ ref_2 ┆ alt_2 ┆ qual_2 ┆ filter_2    │\n",
       "│ ---     ┆ ---     ┆ ---   ┆ ---     ┆   ┆ ---   ┆ ---   ┆ ---    ┆ ---         │\n",
       "│ str     ┆ u32     ┆ u32   ┆ str     ┆   ┆ str   ┆ str   ┆ f64    ┆ str         │\n",
       "╞═════════╪═════════╪═══════╪═════════╪═══╪═══════╪═══════╪════════╪═════════════╡\n",
       "│ chr1    ┆ 11994   ┆ 11994 ┆ chr1    ┆ … ┆ T     ┆ C     ┆ null   ┆ AC0;AS_VQSR │\n",
       "│ chr1    ┆ 12102   ┆ 12102 ┆ chr1    ┆ … ┆ G     ┆ A     ┆ null   ┆ AC0;AS_VQSR │\n",
       "│ chr1    ┆ 12106   ┆ 12106 ┆ chr1    ┆ … ┆ T     ┆ G     ┆ null   ┆ AC0;AS_VQSR │\n",
       "└─────────┴─────────┴───────┴─────────┴───┴───────┴───────┴────────┴─────────────┘"
      ],
      "text/html": [
       "<div><style>\n",
       ".dataframe > thead > tr,\n",
       ".dataframe > tbody > tr {\n",
       "  text-align: right;\n",
       "  white-space: pre-wrap;\n",
       "}\n",
       "</style>\n",
       "<small>shape: (3, 12)</small><table border=\"1\" class=\"dataframe\"><thead><tr><th>chrom_1</th><th>start_1</th><th>end_1</th><th>chrom_2</th><th>start_2</th><th>end_2</th><th>annotation_1</th><th>id_2</th><th>ref_2</th><th>alt_2</th><th>qual_2</th><th>filter_2</th></tr><tr><td>str</td><td>u32</td><td>u32</td><td>str</td><td>i64</td><td>i64</td><td>str</td><td>str</td><td>str</td><td>str</td><td>f64</td><td>str</td></tr></thead><tbody><tr><td>&quot;chr1&quot;</td><td>11994</td><td>11994</td><td>&quot;chr1&quot;</td><td>11993</td><td>11996</td><td>&quot;ann1&quot;</td><td>&quot;&quot;</td><td>&quot;T&quot;</td><td>&quot;C&quot;</td><td>null</td><td>&quot;AC0;AS_VQSR&quot;</td></tr><tr><td>&quot;chr1&quot;</td><td>12102</td><td>12102</td><td>&quot;chr1&quot;</td><td>12102</td><td>12200</td><td>&quot;ann2&quot;</td><td>&quot;&quot;</td><td>&quot;G&quot;</td><td>&quot;A&quot;</td><td>null</td><td>&quot;AC0;AS_VQSR&quot;</td></tr><tr><td>&quot;chr1&quot;</td><td>12106</td><td>12106</td><td>&quot;chr1&quot;</td><td>12102</td><td>12200</td><td>&quot;ann2&quot;</td><td>&quot;&quot;</td><td>&quot;T&quot;</td><td>&quot;G&quot;</td><td>null</td><td>&quot;AC0;AS_VQSR&quot;</td></tr></tbody></table></div>"
      ]
     },
     "execution_count": 45,
     "metadata": {},
     "output_type": "execute_result"
    }
   ],
   "execution_count": 45
  },
  {
   "metadata": {},
   "cell_type": "markdown",
   "source": "### Parallel processing",
   "id": "70812e28a28efbdf"
  },
  {
   "metadata": {},
   "cell_type": "markdown",
   "source": "These demo datasets are from [databio.zip](https://drive.google.com/uc?id=1lctmude31mSAh9fWjI60K1bDrbeDPGfm) benchmark.",
   "id": "7380ad73f87e30e"
  },
  {
   "metadata": {
    "ExecuteTime": {
     "end_time": "2025-09-09T05:43:19.704416Z",
     "start_time": "2025-09-09T05:43:19.702355Z"
    }
   },
   "cell_type": "code",
   "source": "pb.set_option(\"datafusion.execution.target_partitions\", \"1\")",
   "id": "80b53adeb90f540",
   "outputs": [],
   "execution_count": 46
  },
  {
   "metadata": {
    "ExecuteTime": {
     "end_time": "2025-09-09T05:43:25.208323Z",
     "start_time": "2025-09-09T05:43:21.481018Z"
    }
   },
   "cell_type": "code",
   "source": [
    "%%time\n",
    "pb.overlap(\"data/ex-rna/*.parquet\", \"data/chainRn4/*.parquet\",  cols1=cols, cols2=cols).collect().count()"
   ],
   "id": "cbb9d8732b9bec5c",
   "outputs": [
    {
     "data": {
      "text/plain": [
       "0rows [00:00, ?rows/s]"
      ],
      "application/vnd.jupyter.widget-view+json": {
       "version_major": 2,
       "version_minor": 0,
       "model_id": "31663618b4a54257940b1ec13fd7a7ae"
      }
     },
     "metadata": {},
     "output_type": "display_data"
    },
    {
     "name": "stdout",
     "output_type": "stream",
     "text": [
      "CPU times: user 3.13 s, sys: 566 ms, total: 3.69 s\n",
      "Wall time: 3.72 s\n"
     ]
    },
    {
     "data": {
      "text/plain": [
       "shape: (1, 6)\n",
       "┌───────────┬─────────────┬───────────┬───────────┬─────────────┬───────────┐\n",
       "│ contig_1  ┆ pos_start_1 ┆ pos_end_1 ┆ contig_2  ┆ pos_start_2 ┆ pos_end_2 │\n",
       "│ ---       ┆ ---         ┆ ---       ┆ ---       ┆ ---         ┆ ---       │\n",
       "│ u32       ┆ u32         ┆ u32       ┆ u32       ┆ u32         ┆ u32       │\n",
       "╞═══════════╪═════════════╪═══════════╪═══════════╪═════════════╪═══════════╡\n",
       "│ 164214743 ┆ 164214743   ┆ 164214743 ┆ 164214743 ┆ 164214743   ┆ 164214743 │\n",
       "└───────────┴─────────────┴───────────┴───────────┴─────────────┴───────────┘"
      ],
      "text/html": [
       "<div><style>\n",
       ".dataframe > thead > tr,\n",
       ".dataframe > tbody > tr {\n",
       "  text-align: right;\n",
       "  white-space: pre-wrap;\n",
       "}\n",
       "</style>\n",
       "<small>shape: (1, 6)</small><table border=\"1\" class=\"dataframe\"><thead><tr><th>contig_1</th><th>pos_start_1</th><th>pos_end_1</th><th>contig_2</th><th>pos_start_2</th><th>pos_end_2</th></tr><tr><td>u32</td><td>u32</td><td>u32</td><td>u32</td><td>u32</td><td>u32</td></tr></thead><tbody><tr><td>164214743</td><td>164214743</td><td>164214743</td><td>164214743</td><td>164214743</td><td>164214743</td></tr></tbody></table></div>"
      ]
     },
     "execution_count": 47,
     "metadata": {},
     "output_type": "execute_result"
    }
   ],
   "execution_count": 47
  },
  {
   "metadata": {
    "ExecuteTime": {
     "end_time": "2025-09-09T05:43:28.869744Z",
     "start_time": "2025-09-09T05:43:28.867924Z"
    }
   },
   "cell_type": "code",
   "source": "pb.set_option(\"datafusion.execution.target_partitions\", \"2\")",
   "id": "1231e4364bf2f8df",
   "outputs": [],
   "execution_count": 48
  },
  {
   "metadata": {
    "ExecuteTime": {
     "end_time": "2025-09-09T05:43:46.043897Z",
     "start_time": "2025-09-09T05:43:44.091741Z"
    }
   },
   "cell_type": "code",
   "source": [
    "%%time\n",
    "pb.overlap(\"data/ex-rna/*.parquet\", \"data/chainRn4/*.parquet\",  cols1=cols, cols2=cols).collect().count()"
   ],
   "id": "3234c4f2bf28a2ab",
   "outputs": [
    {
     "data": {
      "text/plain": [
       "0rows [00:00, ?rows/s]"
      ],
      "application/vnd.jupyter.widget-view+json": {
       "version_major": 2,
       "version_minor": 0,
       "model_id": "abef8ec654bc40d3abdc147e058ba73a"
      }
     },
     "metadata": {},
     "output_type": "display_data"
    },
    {
     "name": "stdout",
     "output_type": "stream",
     "text": [
      "CPU times: user 3.2 s, sys: 556 ms, total: 3.76 s\n",
      "Wall time: 1.95 s\n"
     ]
    },
    {
     "data": {
      "text/plain": [
       "shape: (1, 6)\n",
       "┌───────────┬─────────────┬───────────┬───────────┬─────────────┬───────────┐\n",
       "│ contig_1  ┆ pos_start_1 ┆ pos_end_1 ┆ contig_2  ┆ pos_start_2 ┆ pos_end_2 │\n",
       "│ ---       ┆ ---         ┆ ---       ┆ ---       ┆ ---         ┆ ---       │\n",
       "│ u32       ┆ u32         ┆ u32       ┆ u32       ┆ u32         ┆ u32       │\n",
       "╞═══════════╪═════════════╪═══════════╪═══════════╪═════════════╪═══════════╡\n",
       "│ 164214743 ┆ 164214743   ┆ 164214743 ┆ 164214743 ┆ 164214743   ┆ 164214743 │\n",
       "└───────────┴─────────────┴───────────┴───────────┴─────────────┴───────────┘"
      ],
      "text/html": [
       "<div><style>\n",
       ".dataframe > thead > tr,\n",
       ".dataframe > tbody > tr {\n",
       "  text-align: right;\n",
       "  white-space: pre-wrap;\n",
       "}\n",
       "</style>\n",
       "<small>shape: (1, 6)</small><table border=\"1\" class=\"dataframe\"><thead><tr><th>contig_1</th><th>pos_start_1</th><th>pos_end_1</th><th>contig_2</th><th>pos_start_2</th><th>pos_end_2</th></tr><tr><td>u32</td><td>u32</td><td>u32</td><td>u32</td><td>u32</td><td>u32</td></tr></thead><tbody><tr><td>164214743</td><td>164214743</td><td>164214743</td><td>164214743</td><td>164214743</td><td>164214743</td></tr></tbody></table></div>"
      ]
     },
     "execution_count": 50,
     "metadata": {},
     "output_type": "execute_result"
    }
   ],
   "execution_count": 50
  },
  {
   "metadata": {},
   "cell_type": "markdown",
   "source": "#### Parallel reading of BGZF compressed FASTQ files",
   "id": "ead80358da62ea93"
  },
  {
   "metadata": {
    "ExecuteTime": {
     "end_time": "2025-09-09T05:44:54.956475Z",
     "start_time": "2025-09-09T05:43:59.480274Z"
    }
   },
   "cell_type": "code",
   "source": [
    "%%bash\n",
    "gsutil cat gs://genomics-public-data/platinum-genomes/fastq/ERR194146.fastq.gz | gunzip -c  | bgzip -c > /tmp/ERR194146.fastq.bgz\n",
    "cd /tmp && bgzip -r /tmp/ERR194146.fastq.bgz"
   ],
   "id": "f75f0281a5a9ccd4",
   "outputs": [
    {
     "name": "stderr",
     "output_type": "stream",
     "text": [
      "/opt/homebrew/share/google-cloud-sdk/platform/gsutil/third_party/google-auth-library-python/google/__init__.py:18: UserWarning: pkg_resources is deprecated as an API. See https://setuptools.pypa.io/en/latest/pkg_resources.html. The pkg_resources package is slated for removal as early as 2025-11-30. Refrain from using this package or pin to Setuptools<81.\n",
      "  import pkg_resources\n"
     ]
    }
   ],
   "execution_count": 51
  },
  {
   "metadata": {},
   "cell_type": "code",
   "outputs": [],
   "execution_count": null,
   "source": "pb.set_option(\"datafusion.execution.target_partitions\", \"1\")",
   "id": "3efc8cdcc5701da0"
  },
  {
   "metadata": {
    "ExecuteTime": {
     "end_time": "2025-09-09T05:46:24.737370Z",
     "start_time": "2025-09-09T05:46:20.960787Z"
    }
   },
   "cell_type": "code",
   "source": [
    "%%time\n",
    "pb.scan_fastq(\"/tmp/ERR194146.fastq.bgz\", parallel=True).count().collect()"
   ],
   "id": "47854b90756d6845",
   "outputs": [
    {
     "data": {
      "text/plain": [
       "0rows [00:00, ?rows/s]"
      ],
      "application/vnd.jupyter.widget-view+json": {
       "version_major": 2,
       "version_minor": 0,
       "model_id": "af827179043841d2a47fee7031a9b4f8"
      }
     },
     "metadata": {},
     "output_type": "display_data"
    },
    {
     "name": "stdout",
     "output_type": "stream",
     "text": [
      "CPU times: user 3.71 s, sys: 242 ms, total: 3.95 s\n",
      "Wall time: 3.77 s\n"
     ]
    },
    {
     "data": {
      "text/plain": [
       "shape: (1, 4)\n",
       "┌─────────┬─────────────┬──────────┬────────────────┐\n",
       "│ name    ┆ description ┆ sequence ┆ quality_scores │\n",
       "│ ---     ┆ ---         ┆ ---      ┆ ---            │\n",
       "│ u32     ┆ u32         ┆ u32      ┆ u32            │\n",
       "╞═════════╪═════════════╪══════════╪════════════════╡\n",
       "│ 8657652 ┆ 8657652     ┆ 8657652  ┆ 8657652        │\n",
       "└─────────┴─────────────┴──────────┴────────────────┘"
      ],
      "text/html": [
       "<div><style>\n",
       ".dataframe > thead > tr,\n",
       ".dataframe > tbody > tr {\n",
       "  text-align: right;\n",
       "  white-space: pre-wrap;\n",
       "}\n",
       "</style>\n",
       "<small>shape: (1, 4)</small><table border=\"1\" class=\"dataframe\"><thead><tr><th>name</th><th>description</th><th>sequence</th><th>quality_scores</th></tr><tr><td>u32</td><td>u32</td><td>u32</td><td>u32</td></tr></thead><tbody><tr><td>8657652</td><td>8657652</td><td>8657652</td><td>8657652</td></tr></tbody></table></div>"
      ]
     },
     "execution_count": 59,
     "metadata": {},
     "output_type": "execute_result"
    }
   ],
   "execution_count": 59
  },
  {
   "metadata": {
    "ExecuteTime": {
     "end_time": "2025-09-09T05:45:43.102239Z",
     "start_time": "2025-09-09T05:45:43.100251Z"
    }
   },
   "cell_type": "code",
   "source": "pb.set_option(\"datafusion.execution.target_partitions\", \"2\")",
   "id": "981bd444bbb1bba6",
   "outputs": [],
   "execution_count": 53
  },
  {
   "metadata": {
    "ExecuteTime": {
     "end_time": "2025-09-09T05:45:55.872027Z",
     "start_time": "2025-09-09T05:45:53.834304Z"
    }
   },
   "cell_type": "code",
   "source": [
    "%%time\n",
    "pb.scan_fastq(\"/tmp/ERR194146.fastq.bgz\", parallel=True).count().collect()"
   ],
   "id": "f784dda02fadcc6",
   "outputs": [
    {
     "data": {
      "text/plain": [
       "0rows [00:00, ?rows/s]"
      ],
      "application/vnd.jupyter.widget-view+json": {
       "version_major": 2,
       "version_minor": 0,
       "model_id": "de31282e944b44d88a21053794d70697"
      }
     },
     "metadata": {},
     "output_type": "display_data"
    },
    {
     "name": "stdout",
     "output_type": "stream",
     "text": [
      "CPU times: user 3.83 s, sys: 344 ms, total: 4.17 s\n",
      "Wall time: 2.03 s\n"
     ]
    },
    {
     "data": {
      "text/plain": [
       "shape: (1, 4)\n",
       "┌─────────┬─────────────┬──────────┬────────────────┐\n",
       "│ name    ┆ description ┆ sequence ┆ quality_scores │\n",
       "│ ---     ┆ ---         ┆ ---      ┆ ---            │\n",
       "│ u32     ┆ u32         ┆ u32      ┆ u32            │\n",
       "╞═════════╪═════════════╪══════════╪════════════════╡\n",
       "│ 8657652 ┆ 8657652     ┆ 8657652  ┆ 8657652        │\n",
       "└─────────┴─────────────┴──────────┴────────────────┘"
      ],
      "text/html": [
       "<div><style>\n",
       ".dataframe > thead > tr,\n",
       ".dataframe > tbody > tr {\n",
       "  text-align: right;\n",
       "  white-space: pre-wrap;\n",
       "}\n",
       "</style>\n",
       "<small>shape: (1, 4)</small><table border=\"1\" class=\"dataframe\"><thead><tr><th>name</th><th>description</th><th>sequence</th><th>quality_scores</th></tr><tr><td>u32</td><td>u32</td><td>u32</td><td>u32</td></tr></thead><tbody><tr><td>8657652</td><td>8657652</td><td>8657652</td><td>8657652</td></tr></tbody></table></div>"
      ]
     },
     "execution_count": 55,
     "metadata": {},
     "output_type": "execute_result"
    }
   ],
   "execution_count": 55
  },
  {
   "metadata": {
    "ExecuteTime": {
     "end_time": "2025-09-09T05:46:44.436160Z",
     "start_time": "2025-09-09T05:46:44.434265Z"
    }
   },
   "cell_type": "code",
   "source": "pb.set_option(\"datafusion.execution.target_partitions\", \"4\")",
   "id": "f47c4e90543a3477",
   "outputs": [],
   "execution_count": 60
  },
  {
   "metadata": {
    "ExecuteTime": {
     "end_time": "2025-09-09T05:46:47.901717Z",
     "start_time": "2025-09-09T05:46:46.672194Z"
    }
   },
   "cell_type": "code",
   "source": [
    "%%time\n",
    "pb.scan_fastq(\"/tmp/ERR194146.fastq.bgz\", parallel=True).count().collect()"
   ],
   "id": "d0933fc718356fbd",
   "outputs": [
    {
     "data": {
      "text/plain": [
       "0rows [00:00, ?rows/s]"
      ],
      "application/vnd.jupyter.widget-view+json": {
       "version_major": 2,
       "version_minor": 0,
       "model_id": "812074332f3d4aa9ba6fb0b3a788cd0a"
      }
     },
     "metadata": {},
     "output_type": "display_data"
    },
    {
     "name": "stdout",
     "output_type": "stream",
     "text": [
      "CPU times: user 3.86 s, sys: 397 ms, total: 4.26 s\n",
      "Wall time: 1.23 s\n"
     ]
    },
    {
     "data": {
      "text/plain": [
       "shape: (1, 4)\n",
       "┌─────────┬─────────────┬──────────┬────────────────┐\n",
       "│ name    ┆ description ┆ sequence ┆ quality_scores │\n",
       "│ ---     ┆ ---         ┆ ---      ┆ ---            │\n",
       "│ u32     ┆ u32         ┆ u32      ┆ u32            │\n",
       "╞═════════╪═════════════╪══════════╪════════════════╡\n",
       "│ 8657652 ┆ 8657652     ┆ 8657652  ┆ 8657652        │\n",
       "└─────────┴─────────────┴──────────┴────────────────┘"
      ],
      "text/html": [
       "<div><style>\n",
       ".dataframe > thead > tr,\n",
       ".dataframe > tbody > tr {\n",
       "  text-align: right;\n",
       "  white-space: pre-wrap;\n",
       "}\n",
       "</style>\n",
       "<small>shape: (1, 4)</small><table border=\"1\" class=\"dataframe\"><thead><tr><th>name</th><th>description</th><th>sequence</th><th>quality_scores</th></tr><tr><td>u32</td><td>u32</td><td>u32</td><td>u32</td></tr></thead><tbody><tr><td>8657652</td><td>8657652</td><td>8657652</td><td>8657652</td></tr></tbody></table></div>"
      ]
     },
     "execution_count": 61,
     "metadata": {},
     "output_type": "execute_result"
    }
   ],
   "execution_count": 61
  },
  {
   "metadata": {
    "ExecuteTime": {
     "end_time": "2025-09-09T05:46:51.898419Z",
     "start_time": "2025-09-09T05:46:51.896130Z"
    }
   },
   "cell_type": "code",
   "source": "pb.set_option(\"datafusion.execution.target_partitions\", \"1\")",
   "id": "8b6de32c8a69519d",
   "outputs": [],
   "execution_count": 62
  },
  {
   "metadata": {},
   "cell_type": "markdown",
   "source": "### Streaming",
   "id": "a15d7907a45c89ea"
  },
  {
   "metadata": {},
   "cell_type": "markdown",
   "source": "Make sure you restart the kernel before running the next cells. [memory-profiler](https://github.com/pythonprofilers/memory_profiler) is required.",
   "id": "493dac381a73e25a"
  },
  {
   "metadata": {
    "ExecuteTime": {
     "end_time": "2025-09-09T05:49:12.205457Z",
     "start_time": "2025-09-09T05:49:12.137629Z"
    }
   },
   "cell_type": "code",
   "source": "%load_ext memory_profiler",
   "id": "fb523337aaf322c4",
   "outputs": [],
   "execution_count": 3
  },
  {
   "metadata": {},
   "cell_type": "markdown",
   "source": "##### Overlap in the streaming mode",
   "id": "529a7937d3ce2277"
  },
  {
   "metadata": {
    "ExecuteTime": {
     "end_time": "2025-09-09T05:49:19.906312Z",
     "start_time": "2025-09-09T05:49:15.894651Z"
    }
   },
   "cell_type": "code",
   "source": "%memit pb.overlap(\"data/ex-rna/*.parquet\", \"data/chainRn4/*.parquet\",  cols1=cols, cols2=cols).sink_parquet(\"/tmp/overlap.parquet\")",
   "id": "dd3ab874c38dbf88",
   "outputs": [
    {
     "data": {
      "text/plain": [
       "0rows [00:00, ?rows/s]"
      ],
      "application/vnd.jupyter.widget-view+json": {
       "version_major": 2,
       "version_minor": 0,
       "model_id": "6bf8379fe1fa406cbe0b2c9c63b5d327"
      }
     },
     "metadata": {},
     "output_type": "display_data"
    },
    {
     "name": "stdout",
     "output_type": "stream",
     "text": [
      "peak memory: 1399.36 MiB, increment: 1186.92 MiB\n"
     ]
    }
   ],
   "execution_count": 4
  },
  {
   "metadata": {},
   "cell_type": "markdown",
   "source": "##### Overlap with materialization",
   "id": "b981ded7264194bd"
  },
  {
   "metadata": {
    "ExecuteTime": {
     "end_time": "2025-09-09T05:47:48.509568Z",
     "start_time": "2025-09-09T05:47:37.762608Z"
    }
   },
   "cell_type": "code",
   "source": "%memit pb.overlap(\"data/ex-rna/*.parquet\", \"data/chainRn4/*.parquet\",  cols1=cols, cols2=cols).collect().write_parquet(\"/tmp/overlap.parquet\")\n",
   "id": "4a743eccb59a1e7e",
   "outputs": [
    {
     "data": {
      "text/plain": [
       "0rows [00:00, ?rows/s]"
      ],
      "application/vnd.jupyter.widget-view+json": {
       "version_major": 2,
       "version_minor": 0,
       "model_id": "6e1ee21d2a6e48a3afbc8adce4048d03"
      }
     },
     "metadata": {},
     "output_type": "display_data"
    },
    {
     "name": "stdout",
     "output_type": "stream",
     "text": [
      "peak memory: 17261.36 MiB, increment: 4621.69 MiB\n"
     ]
    }
   ],
   "execution_count": 65
  },
  {
   "metadata": {},
   "cell_type": "markdown",
   "source": "### Working with zero-based coordinates",
   "id": "93e75d0e52c74d07"
  },
  {
   "metadata": {},
   "cell_type": "markdown",
   "source": "#### Compatibility with zero-based coordinates software, for example [bioframe](https://github.com/open2c/bioframe).",
   "id": "f3559c224d6f48f2"
  },
  {
   "metadata": {
    "ExecuteTime": {
     "end_time": "2025-09-09T05:49:31.385613Z",
     "start_time": "2025-09-09T05:49:31.233765Z"
    }
   },
   "cell_type": "code",
   "source": [
    "BIO_PD_DF1 = pd.read_parquet(f\"data/exons/\")\n",
    "BIO_PD_DF2 = pd.read_parquet(f\"data/fBrain-DS14718/\")"
   ],
   "id": "eb343025aa79714c",
   "outputs": [],
   "execution_count": 5
  },
  {
   "metadata": {
    "ExecuteTime": {
     "end_time": "2025-09-09T05:49:33.087954Z",
     "start_time": "2025-09-09T05:49:32.966529Z"
    }
   },
   "cell_type": "code",
   "source": [
    "bf_overlap = bf.overlap(\n",
    "    BIO_PD_DF1,\n",
    "    BIO_PD_DF2,\n",
    "    cols1=cols,\n",
    "    cols2=cols,\n",
    "    suffixes=(\"_1\", \"_2\"),\n",
    "    how=\"inner\",\n",
    ")"
   ],
   "id": "7fd5685e6ab97e25",
   "outputs": [],
   "execution_count": 6
  },
  {
   "metadata": {
    "ExecuteTime": {
     "end_time": "2025-09-09T05:49:34.767278Z",
     "start_time": "2025-09-09T05:49:34.717146Z"
    }
   },
   "cell_type": "code",
   "source": [
    "pb_overlap = pb.overlap(\n",
    "    BIO_PD_DF1,\n",
    "    BIO_PD_DF2,\n",
    "    cols1=cols,\n",
    "    cols2=cols,\n",
    "    output_type=\"pandas.DataFrame\",\n",
    "    suffixes=(\"_1\", \"_2\"),\n",
    ")"
   ],
   "id": "1855b01bc1b40e18",
   "outputs": [],
   "execution_count": 7
  },
  {
   "metadata": {},
   "cell_type": "markdown",
   "source": "Since polars-bio is one-based, the assertion will **fail**.",
   "id": "defff1377159b070"
  },
  {
   "metadata": {
    "ExecuteTime": {
     "end_time": "2025-09-09T05:49:37.066034Z",
     "start_time": "2025-09-09T05:49:36.948925Z"
    }
   },
   "cell_type": "code",
   "source": "assert len(bf_overlap) == len(pb_overlap)",
   "id": "7777d50a5a9a23cb",
   "outputs": [
    {
     "ename": "AssertionError",
     "evalue": "",
     "output_type": "error",
     "traceback": [
      "\u001B[31m---------------------------------------------------------------------------\u001B[39m",
      "\u001B[31mAssertionError\u001B[39m                            Traceback (most recent call last)",
      "\u001B[36mCell\u001B[39m\u001B[36m \u001B[39m\u001B[32mIn[8]\u001B[39m\u001B[32m, line 1\u001B[39m\n\u001B[32m----> \u001B[39m\u001B[32m1\u001B[39m \u001B[38;5;28;01massert\u001B[39;00m \u001B[38;5;28mlen\u001B[39m(bf_overlap) == \u001B[38;5;28mlen\u001B[39m(pb_overlap)\n",
      "\u001B[31mAssertionError\u001B[39m: "
     ]
    }
   ],
   "execution_count": 8
  },
  {
   "metadata": {},
   "cell_type": "markdown",
   "source": "To use polars-bio with zero-based coordinates, set `use_zero_based=True`:",
   "id": "e0b439e9b4026ba5"
  },
  {
   "metadata": {
    "ExecuteTime": {
     "end_time": "2025-09-09T05:49:39.342633Z",
     "start_time": "2025-09-09T05:49:39.291180Z"
    }
   },
   "cell_type": "code",
   "source": [
    "pb_overlap = pb.overlap(\n",
    "    BIO_PD_DF1,\n",
    "    BIO_PD_DF2,\n",
    "    cols1=cols,\n",
    "    cols2=cols,\n",
    "    output_type=\"pandas.DataFrame\",\n",
    "    suffixes=(\"_1\", \"_2\"),\n",
    "    use_zero_based=True,\n",
    ")"
   ],
   "id": "637a1d3eb4977564",
   "outputs": [
    {
     "name": "stderr",
     "output_type": "stream",
     "text": [
      "WARNING:polars_bio:0-based coordinate system was selected. Please ensure that both datasets follow this coordinate system.\n"
     ]
    }
   ],
   "execution_count": 9
  },
  {
   "metadata": {
    "ExecuteTime": {
     "end_time": "2025-09-09T05:49:41.041246Z",
     "start_time": "2025-09-09T05:49:41.039317Z"
    }
   },
   "cell_type": "code",
   "source": "assert len(bf_overlap) == len(pb_overlap)",
   "id": "2a58d9d96432665c",
   "outputs": [],
   "execution_count": 10
  },
  {
   "metadata": {},
   "cell_type": "markdown",
   "source": "## Example - gnomAD VCF file reading",
   "id": "cd4350af89118a95"
  },
  {
   "metadata": {},
   "cell_type": "markdown",
   "source": [
    "### 1. How to read gnomAD VCF files from Google Cloud Storage or AWS S3\n",
    "\n",
    "#### Google Cloud Storage"
   ],
   "id": "9edb21ee44b4588d"
  },
  {
   "metadata": {
    "ExecuteTime": {
     "end_time": "2025-09-09T05:49:47.855981Z",
     "start_time": "2025-09-09T05:49:47.854170Z"
    }
   },
   "cell_type": "code",
   "source": [
    "import polars_bio as pb\n",
    "import polars as pl"
   ],
   "id": "62a7b57c30bf54e2",
   "outputs": [],
   "execution_count": 11
  },
  {
   "metadata": {
    "ExecuteTime": {
     "end_time": "2025-09-09T05:49:49.594145Z",
     "start_time": "2025-09-09T05:49:49.592232Z"
    }
   },
   "cell_type": "code",
   "source": [
    "gcs_vcf_path = (\n",
    "    \"gs://gcp-public-data--gnomad/release/4.1/genome_sv/gnomad.v4.1.sv.sites.vcf.gz\"\n",
    ")"
   ],
   "id": "18e876b10c939ec",
   "outputs": [],
   "execution_count": 12
  },
  {
   "metadata": {
    "ExecuteTime": {
     "end_time": "2025-09-09T05:50:20.792081Z",
     "start_time": "2025-09-09T05:50:17.701043Z"
    }
   },
   "cell_type": "code",
   "source": [
    "# we need to override the compression type as the file is bgzipped not gzipped as the extension suggests\n",
    "pb.scan_vcf(gcs_vcf_path, info_fields=[]).limit(3).collect()"
   ],
   "id": "be837bf8b4fa42c3",
   "outputs": [
    {
     "data": {
      "text/plain": [
       "0rows [00:00, ?rows/s]"
      ],
      "application/vnd.jupyter.widget-view+json": {
       "version_major": 2,
       "version_minor": 0,
       "model_id": "db4eb8f680bf4de6892a51e017eea9ed"
      }
     },
     "metadata": {},
     "output_type": "display_data"
    },
    {
     "data": {
      "text/plain": [
       "shape: (3, 8)\n",
       "┌───────┬───────┬────────┬─────────────────────────────┬─────┬───────┬───────┬─────────────────────┐\n",
       "│ chrom ┆ start ┆ end    ┆ id                          ┆ ref ┆ alt   ┆ qual  ┆ filter              │\n",
       "│ ---   ┆ ---   ┆ ---    ┆ ---                         ┆ --- ┆ ---   ┆ ---   ┆ ---                 │\n",
       "│ str   ┆ u32   ┆ u32    ┆ str                         ┆ str ┆ str   ┆ f64   ┆ str                 │\n",
       "╞═══════╪═══════╪════════╪═════════════════════════════╪═════╪═══════╪═══════╪═════════════════════╡\n",
       "│ chr1  ┆ 10000 ┆ 295666 ┆ gnomAD-SV_v3_DUP_chr1_01c27 ┆ N   ┆ <DUP> ┆ 134.0 ┆ HIGH_NCR            │\n",
       "│       ┆       ┆        ┆ 81c                         ┆     ┆       ┆       ┆                     │\n",
       "│ chr1  ┆ 10434 ┆ 10434  ┆ gnomAD-SV_v3_BND_chr1_1a45f ┆ N   ┆ <BND> ┆ 260.0 ┆ HIGH_NCR;UNRESOLVED │\n",
       "│       ┆       ┆        ┆ 73a                         ┆     ┆       ┆       ┆                     │\n",
       "│ chr1  ┆ 10440 ┆ 10440  ┆ gnomAD-SV_v3_BND_chr1_3fa36 ┆ N   ┆ <BND> ┆ 198.0 ┆ HIGH_NCR;UNRESOLVED │\n",
       "│       ┆       ┆        ┆ 917                         ┆     ┆       ┆       ┆                     │\n",
       "└───────┴───────┴────────┴─────────────────────────────┴─────┴───────┴───────┴─────────────────────┘"
      ],
      "text/html": [
       "<div><style>\n",
       ".dataframe > thead > tr,\n",
       ".dataframe > tbody > tr {\n",
       "  text-align: right;\n",
       "  white-space: pre-wrap;\n",
       "}\n",
       "</style>\n",
       "<small>shape: (3, 8)</small><table border=\"1\" class=\"dataframe\"><thead><tr><th>chrom</th><th>start</th><th>end</th><th>id</th><th>ref</th><th>alt</th><th>qual</th><th>filter</th></tr><tr><td>str</td><td>u32</td><td>u32</td><td>str</td><td>str</td><td>str</td><td>f64</td><td>str</td></tr></thead><tbody><tr><td>&quot;chr1&quot;</td><td>10000</td><td>295666</td><td>&quot;gnomAD-SV_v3_DUP_chr1_01c2781c&quot;</td><td>&quot;N&quot;</td><td>&quot;&lt;DUP&gt;&quot;</td><td>134.0</td><td>&quot;HIGH_NCR&quot;</td></tr><tr><td>&quot;chr1&quot;</td><td>10434</td><td>10434</td><td>&quot;gnomAD-SV_v3_BND_chr1_1a45f73a&quot;</td><td>&quot;N&quot;</td><td>&quot;&lt;BND&gt;&quot;</td><td>260.0</td><td>&quot;HIGH_NCR;UNRESOLVED&quot;</td></tr><tr><td>&quot;chr1&quot;</td><td>10440</td><td>10440</td><td>&quot;gnomAD-SV_v3_BND_chr1_3fa36917&quot;</td><td>&quot;N&quot;</td><td>&quot;&lt;BND&gt;&quot;</td><td>198.0</td><td>&quot;HIGH_NCR;UNRESOLVED&quot;</td></tr></tbody></table></div>"
      ]
     },
     "execution_count": 15,
     "metadata": {},
     "output_type": "execute_result"
    }
   ],
   "execution_count": 15
  },
  {
   "metadata": {
    "ExecuteTime": {
     "end_time": "2025-09-09T05:50:28.430444Z",
     "start_time": "2025-09-09T05:50:27.250665Z"
    }
   },
   "cell_type": "code",
   "source": "pb.describe_vcf(gcs_vcf_path).sort(\"name\").limit(5)",
   "id": "26feaf5bfad670b3",
   "outputs": [
    {
     "data": {
      "text/plain": [
       "shape: (5, 3)\n",
       "┌───────────┬─────────┬─────────────────────────────────┐\n",
       "│ name      ┆ type    ┆ description                     │\n",
       "│ ---       ┆ ---     ┆ ---                             │\n",
       "│ str       ┆ str     ┆ str                             │\n",
       "╞═══════════╪═════════╪═════════════════════════════════╡\n",
       "│ AC        ┆ Integer ┆ Number of non-reference allele… │\n",
       "│ AC_XX     ┆ Integer ┆ Number of non-reference XX all… │\n",
       "│ AC_XY     ┆ Integer ┆ Number of non-reference XY all… │\n",
       "│ AC_afr    ┆ Integer ┆ Number of non-reference Africa… │\n",
       "│ AC_afr_XX ┆ Integer ┆ Number of non-reference Africa… │\n",
       "└───────────┴─────────┴─────────────────────────────────┘"
      ],
      "text/html": [
       "<div><style>\n",
       ".dataframe > thead > tr,\n",
       ".dataframe > tbody > tr {\n",
       "  text-align: right;\n",
       "  white-space: pre-wrap;\n",
       "}\n",
       "</style>\n",
       "<small>shape: (5, 3)</small><table border=\"1\" class=\"dataframe\"><thead><tr><th>name</th><th>type</th><th>description</th></tr><tr><td>str</td><td>str</td><td>str</td></tr></thead><tbody><tr><td>&quot;AC&quot;</td><td>&quot;Integer&quot;</td><td>&quot;Number of non-reference allele…</td></tr><tr><td>&quot;AC_XX&quot;</td><td>&quot;Integer&quot;</td><td>&quot;Number of non-reference XX all…</td></tr><tr><td>&quot;AC_XY&quot;</td><td>&quot;Integer&quot;</td><td>&quot;Number of non-reference XY all…</td></tr><tr><td>&quot;AC_afr&quot;</td><td>&quot;Integer&quot;</td><td>&quot;Number of non-reference Africa…</td></tr><tr><td>&quot;AC_afr_XX&quot;</td><td>&quot;Integer&quot;</td><td>&quot;Number of non-reference Africa…</td></tr></tbody></table></div>"
      ]
     },
     "execution_count": 16,
     "metadata": {},
     "output_type": "execute_result"
    }
   ],
   "execution_count": 16
  },
  {
   "metadata": {},
   "cell_type": "markdown",
   "source": "#### AWS S3",
   "id": "34e7074ab7737e5f"
  },
  {
   "metadata": {
    "ExecuteTime": {
     "end_time": "2025-09-09T05:50:32.504418Z",
     "start_time": "2025-09-09T05:50:32.502932Z"
    }
   },
   "cell_type": "code",
   "source": [
    "# here we can use automatic compression detection\n",
    "aws_s3_vcf_path = \"s3://gnomad-public-us-east-1/release/4.1/vcf/exomes/gnomad.exomes.v4.1.sites.chr21.vcf.bgz\""
   ],
   "id": "ed76d621978bdfd4",
   "outputs": [],
   "execution_count": 17
  },
  {
   "metadata": {
    "ExecuteTime": {
     "end_time": "2025-09-09T05:50:50.917628Z",
     "start_time": "2025-09-09T05:50:47.407924Z"
    }
   },
   "cell_type": "code",
   "source": "pb.scan_vcf(aws_s3_vcf_path, chunk_size=8, concurrent_fetches=1, info_fields=[]).limit(3).collect()",
   "id": "de7090a7791f700c",
   "outputs": [
    {
     "data": {
      "text/plain": [
       "0rows [00:00, ?rows/s]"
      ],
      "application/vnd.jupyter.widget-view+json": {
       "version_major": 2,
       "version_minor": 0,
       "model_id": "367eedb6e8c543a0a099809b8d9037e9"
      }
     },
     "metadata": {},
     "output_type": "display_data"
    },
    {
     "data": {
      "text/plain": [
       "shape: (3, 8)\n",
       "┌───────┬─────────┬─────────┬─────┬─────┬─────┬──────┬─────────────┐\n",
       "│ chrom ┆ start   ┆ end     ┆ id  ┆ ref ┆ alt ┆ qual ┆ filter      │\n",
       "│ ---   ┆ ---     ┆ ---     ┆ --- ┆ --- ┆ --- ┆ ---  ┆ ---         │\n",
       "│ str   ┆ u32     ┆ u32     ┆ str ┆ str ┆ str ┆ f64  ┆ str         │\n",
       "╞═══════╪═════════╪═════════╪═════╪═════╪═════╪══════╪═════════════╡\n",
       "│ chr21 ┆ 5031905 ┆ 5031905 ┆     ┆ C   ┆ A   ┆ null ┆ AC0;AS_VQSR │\n",
       "│ chr21 ┆ 5031905 ┆ 5031905 ┆     ┆ C   ┆ T   ┆ null ┆ AC0;AS_VQSR │\n",
       "│ chr21 ┆ 5031909 ┆ 5031909 ┆     ┆ T   ┆ C   ┆ null ┆ AC0;AS_VQSR │\n",
       "└───────┴─────────┴─────────┴─────┴─────┴─────┴──────┴─────────────┘"
      ],
      "text/html": [
       "<div><style>\n",
       ".dataframe > thead > tr,\n",
       ".dataframe > tbody > tr {\n",
       "  text-align: right;\n",
       "  white-space: pre-wrap;\n",
       "}\n",
       "</style>\n",
       "<small>shape: (3, 8)</small><table border=\"1\" class=\"dataframe\"><thead><tr><th>chrom</th><th>start</th><th>end</th><th>id</th><th>ref</th><th>alt</th><th>qual</th><th>filter</th></tr><tr><td>str</td><td>u32</td><td>u32</td><td>str</td><td>str</td><td>str</td><td>f64</td><td>str</td></tr></thead><tbody><tr><td>&quot;chr21&quot;</td><td>5031905</td><td>5031905</td><td>&quot;&quot;</td><td>&quot;C&quot;</td><td>&quot;A&quot;</td><td>null</td><td>&quot;AC0;AS_VQSR&quot;</td></tr><tr><td>&quot;chr21&quot;</td><td>5031905</td><td>5031905</td><td>&quot;&quot;</td><td>&quot;C&quot;</td><td>&quot;T&quot;</td><td>null</td><td>&quot;AC0;AS_VQSR&quot;</td></tr><tr><td>&quot;chr21&quot;</td><td>5031909</td><td>5031909</td><td>&quot;&quot;</td><td>&quot;T&quot;</td><td>&quot;C&quot;</td><td>null</td><td>&quot;AC0;AS_VQSR&quot;</td></tr></tbody></table></div>"
      ]
     },
     "execution_count": 18,
     "metadata": {},
     "output_type": "execute_result"
    }
   ],
   "execution_count": 18
  },
  {
   "metadata": {},
   "cell_type": "markdown",
   "source": "### 2. How to specify additional VCF INFO fields to be parsed",
   "id": "e83ebde2199ac7c2"
  },
  {
   "metadata": {
    "ExecuteTime": {
     "end_time": "2025-09-09T05:51:06.302128Z",
     "start_time": "2025-09-09T05:51:03.408605Z"
    }
   },
   "cell_type": "code",
   "source": [
    "vcf_info_fields = [\"SVTYPE\", \"SVLEN\"]\n",
    "pb.scan_vcf(gcs_vcf_path, info_fields=vcf_info_fields).limit(3).collect()"
   ],
   "id": "74c6011177d02267",
   "outputs": [
    {
     "data": {
      "text/plain": [
       "0rows [00:00, ?rows/s]"
      ],
      "application/vnd.jupyter.widget-view+json": {
       "version_major": 2,
       "version_minor": 0,
       "model_id": "5dfec85cf4cb422180827ce9fbbcecc9"
      }
     },
     "metadata": {},
     "output_type": "display_data"
    },
    {
     "data": {
      "text/plain": [
       "shape: (3, 10)\n",
       "┌───────┬───────┬────────┬─────────────────────┬───┬───────┬─────────────────────┬────────┬────────┐\n",
       "│ chrom ┆ start ┆ end    ┆ id                  ┆ … ┆ qual  ┆ filter              ┆ svtype ┆ svlen  │\n",
       "│ ---   ┆ ---   ┆ ---    ┆ ---                 ┆   ┆ ---   ┆ ---                 ┆ ---    ┆ ---    │\n",
       "│ str   ┆ u32   ┆ u32    ┆ str                 ┆   ┆ f64   ┆ str                 ┆ str    ┆ i32    │\n",
       "╞═══════╪═══════╪════════╪═════════════════════╪═══╪═══════╪═════════════════════╪════════╪════════╡\n",
       "│ chr1  ┆ 10000 ┆ 295666 ┆ gnomAD-SV_v3_DUP_ch ┆ … ┆ 134.0 ┆ HIGH_NCR            ┆ DUP    ┆ 285666 │\n",
       "│       ┆       ┆        ┆ r1_01c2781c         ┆   ┆       ┆                     ┆        ┆        │\n",
       "│ chr1  ┆ 10434 ┆ 10434  ┆ gnomAD-SV_v3_BND_ch ┆ … ┆ 260.0 ┆ HIGH_NCR;UNRESOLVED ┆ BND    ┆ -1     │\n",
       "│       ┆       ┆        ┆ r1_1a45f73a         ┆   ┆       ┆                     ┆        ┆        │\n",
       "│ chr1  ┆ 10440 ┆ 10440  ┆ gnomAD-SV_v3_BND_ch ┆ … ┆ 198.0 ┆ HIGH_NCR;UNRESOLVED ┆ BND    ┆ -1     │\n",
       "│       ┆       ┆        ┆ r1_3fa36917         ┆   ┆       ┆                     ┆        ┆        │\n",
       "└───────┴───────┴────────┴─────────────────────┴───┴───────┴─────────────────────┴────────┴────────┘"
      ],
      "text/html": [
       "<div><style>\n",
       ".dataframe > thead > tr,\n",
       ".dataframe > tbody > tr {\n",
       "  text-align: right;\n",
       "  white-space: pre-wrap;\n",
       "}\n",
       "</style>\n",
       "<small>shape: (3, 10)</small><table border=\"1\" class=\"dataframe\"><thead><tr><th>chrom</th><th>start</th><th>end</th><th>id</th><th>ref</th><th>alt</th><th>qual</th><th>filter</th><th>svtype</th><th>svlen</th></tr><tr><td>str</td><td>u32</td><td>u32</td><td>str</td><td>str</td><td>str</td><td>f64</td><td>str</td><td>str</td><td>i32</td></tr></thead><tbody><tr><td>&quot;chr1&quot;</td><td>10000</td><td>295666</td><td>&quot;gnomAD-SV_v3_DUP_chr1_01c2781c&quot;</td><td>&quot;N&quot;</td><td>&quot;&lt;DUP&gt;&quot;</td><td>134.0</td><td>&quot;HIGH_NCR&quot;</td><td>&quot;DUP&quot;</td><td>285666</td></tr><tr><td>&quot;chr1&quot;</td><td>10434</td><td>10434</td><td>&quot;gnomAD-SV_v3_BND_chr1_1a45f73a&quot;</td><td>&quot;N&quot;</td><td>&quot;&lt;BND&gt;&quot;</td><td>260.0</td><td>&quot;HIGH_NCR;UNRESOLVED&quot;</td><td>&quot;BND&quot;</td><td>-1</td></tr><tr><td>&quot;chr1&quot;</td><td>10440</td><td>10440</td><td>&quot;gnomAD-SV_v3_BND_chr1_3fa36917&quot;</td><td>&quot;N&quot;</td><td>&quot;&lt;BND&gt;&quot;</td><td>198.0</td><td>&quot;HIGH_NCR;UNRESOLVED&quot;</td><td>&quot;BND&quot;</td><td>-1</td></tr></tbody></table></div>"
      ]
     },
     "execution_count": 19,
     "metadata": {},
     "output_type": "execute_result"
    }
   ],
   "execution_count": 19
  },
  {
   "metadata": {},
   "cell_type": "markdown",
   "source": "### 3. How to speed up reading local compresed VCF files with multiple threads",
   "id": "b42ad69ae7bc2c98"
  },
  {
   "metadata": {
    "ExecuteTime": {
     "end_time": "2025-09-09T05:52:07.634636Z",
     "start_time": "2025-09-09T05:51:15.959155Z"
    }
   },
   "cell_type": "code",
   "source": "! gsutil -m  cp  $gcs_vcf_path /tmp/gnomad.v4.1.sv.sites.vcf.gz &> /dev/null",
   "id": "7c1c7142557607a9",
   "outputs": [],
   "execution_count": 20
  },
  {
   "metadata": {
    "ExecuteTime": {
     "end_time": "2025-09-09T05:52:58.545508Z",
     "start_time": "2025-09-09T05:52:48.548465Z"
    }
   },
   "cell_type": "code",
   "source": [
    "%%time\n",
    "pb.scan_vcf(\"/tmp/gnomad.v4.1.sv.sites.vcf.gz\", thread_num=1, info_fields=[]).count().collect()"
   ],
   "id": "9580e8a1c528326a",
   "outputs": [
    {
     "data": {
      "text/plain": [
       "0rows [00:00, ?rows/s]"
      ],
      "application/vnd.jupyter.widget-view+json": {
       "version_major": 2,
       "version_minor": 0,
       "model_id": "5f53178185154e4ead98bfa119fb0ca7"
      }
     },
     "metadata": {},
     "output_type": "display_data"
    },
    {
     "name": "stdout",
     "output_type": "stream",
     "text": [
      "CPU times: user 11.8 s, sys: 2.07 s, total: 13.8 s\n",
      "Wall time: 9.99 s\n"
     ]
    },
    {
     "data": {
      "text/plain": [
       "shape: (1, 8)\n",
       "┌─────────┬─────────┬─────────┬─────────┬─────────┬─────────┬─────────┬─────────┐\n",
       "│ chrom   ┆ start   ┆ end     ┆ id      ┆ ref     ┆ alt     ┆ qual    ┆ filter  │\n",
       "│ ---     ┆ ---     ┆ ---     ┆ ---     ┆ ---     ┆ ---     ┆ ---     ┆ ---     │\n",
       "│ u32     ┆ u32     ┆ u32     ┆ u32     ┆ u32     ┆ u32     ┆ u32     ┆ u32     │\n",
       "╞═════════╪═════════╪═════════╪═════════╪═════════╪═════════╪═════════╪═════════╡\n",
       "│ 2154486 ┆ 2154486 ┆ 2154486 ┆ 2154486 ┆ 2154486 ┆ 2154486 ┆ 2153697 ┆ 2154486 │\n",
       "└─────────┴─────────┴─────────┴─────────┴─────────┴─────────┴─────────┴─────────┘"
      ],
      "text/html": [
       "<div><style>\n",
       ".dataframe > thead > tr,\n",
       ".dataframe > tbody > tr {\n",
       "  text-align: right;\n",
       "  white-space: pre-wrap;\n",
       "}\n",
       "</style>\n",
       "<small>shape: (1, 8)</small><table border=\"1\" class=\"dataframe\"><thead><tr><th>chrom</th><th>start</th><th>end</th><th>id</th><th>ref</th><th>alt</th><th>qual</th><th>filter</th></tr><tr><td>u32</td><td>u32</td><td>u32</td><td>u32</td><td>u32</td><td>u32</td><td>u32</td><td>u32</td></tr></thead><tbody><tr><td>2154486</td><td>2154486</td><td>2154486</td><td>2154486</td><td>2154486</td><td>2154486</td><td>2153697</td><td>2154486</td></tr></tbody></table></div>"
      ]
     },
     "execution_count": 22,
     "metadata": {},
     "output_type": "execute_result"
    }
   ],
   "execution_count": 22
  },
  {
   "metadata": {
    "ExecuteTime": {
     "end_time": "2025-09-09T05:53:06.277839Z",
     "start_time": "2025-09-09T05:53:03.188936Z"
    }
   },
   "cell_type": "code",
   "source": [
    "%%time\n",
    "pb.scan_vcf(\"/tmp/gnomad.v4.1.sv.sites.vcf.gz\", thread_num=4,info_fields=[]).count().collect()"
   ],
   "id": "55fe81d89744d85c",
   "outputs": [
    {
     "data": {
      "text/plain": [
       "0rows [00:00, ?rows/s]"
      ],
      "application/vnd.jupyter.widget-view+json": {
       "version_major": 2,
       "version_minor": 0,
       "model_id": "87f8370cea9547318569aa82fe21961d"
      }
     },
     "metadata": {},
     "output_type": "display_data"
    },
    {
     "name": "stdout",
     "output_type": "stream",
     "text": [
      "CPU times: user 11.4 s, sys: 1.63 s, total: 13 s\n",
      "Wall time: 3.09 s\n"
     ]
    },
    {
     "data": {
      "text/plain": [
       "shape: (1, 8)\n",
       "┌─────────┬─────────┬─────────┬─────────┬─────────┬─────────┬─────────┬─────────┐\n",
       "│ chrom   ┆ start   ┆ end     ┆ id      ┆ ref     ┆ alt     ┆ qual    ┆ filter  │\n",
       "│ ---     ┆ ---     ┆ ---     ┆ ---     ┆ ---     ┆ ---     ┆ ---     ┆ ---     │\n",
       "│ u32     ┆ u32     ┆ u32     ┆ u32     ┆ u32     ┆ u32     ┆ u32     ┆ u32     │\n",
       "╞═════════╪═════════╪═════════╪═════════╪═════════╪═════════╪═════════╪═════════╡\n",
       "│ 2154486 ┆ 2154486 ┆ 2154486 ┆ 2154486 ┆ 2154486 ┆ 2154486 ┆ 2153697 ┆ 2154486 │\n",
       "└─────────┴─────────┴─────────┴─────────┴─────────┴─────────┴─────────┴─────────┘"
      ],
      "text/html": [
       "<div><style>\n",
       ".dataframe > thead > tr,\n",
       ".dataframe > tbody > tr {\n",
       "  text-align: right;\n",
       "  white-space: pre-wrap;\n",
       "}\n",
       "</style>\n",
       "<small>shape: (1, 8)</small><table border=\"1\" class=\"dataframe\"><thead><tr><th>chrom</th><th>start</th><th>end</th><th>id</th><th>ref</th><th>alt</th><th>qual</th><th>filter</th></tr><tr><td>u32</td><td>u32</td><td>u32</td><td>u32</td><td>u32</td><td>u32</td><td>u32</td><td>u32</td></tr></thead><tbody><tr><td>2154486</td><td>2154486</td><td>2154486</td><td>2154486</td><td>2154486</td><td>2154486</td><td>2153697</td><td>2154486</td></tr></tbody></table></div>"
      ]
     },
     "execution_count": 23,
     "metadata": {},
     "output_type": "execute_result"
    }
   ],
   "execution_count": 23
  },
  {
   "metadata": {},
   "cell_type": "markdown",
   "source": "### 4. How to perform an overlap operation on two remote VCF files in streaming mode",
   "id": "a0653250f02177b5"
  },
  {
   "metadata": {
    "ExecuteTime": {
     "end_time": "2025-09-09T05:53:14.843474Z",
     "start_time": "2025-09-09T05:53:14.841387Z"
    }
   },
   "cell_type": "code",
   "source": [
    "vcf_1 = \"gs://gcp-public-data--gnomad/release/4.1/genome_sv/gnomad.v4.1.sv.sites.vcf.gz\"\n",
    "vcf_2 = \"gs://gcp-public-data--gnomad/release/4.1/vcf/exomes/gnomad.exomes.v4.1.sites.chr21.vcf.bgz\""
   ],
   "id": "d0cfb4eae86480ab",
   "outputs": [],
   "execution_count": 24
  },
  {
   "metadata": {
    "ExecuteTime": {
     "end_time": "2025-09-09T05:53:17.380060Z",
     "start_time": "2025-09-09T05:53:17.377245Z"
    }
   },
   "cell_type": "code",
   "source": [
    "object_storage_options = pb.ObjectStorageOptions(\n",
    "    allow_anonymous=True,\n",
    "    enable_request_payer=False,\n",
    "    chunk_size=64,\n",
    "    concurrent_fetches=8,\n",
    "    max_retries=5,\n",
    "    timeout=10,\n",
    "    compression_type=\"bgz\",\n",
    ")\n",
    "vcf_read_options_1 = pb.VcfReadOptions(\n",
    "    info_fields=[\"SVTYPE\", \"SVLEN\"],\n",
    "    thread_num=1,\n",
    "    object_storage_options=object_storage_options,\n",
    ")\n",
    "vcf_read_options_2 = pb.VcfReadOptions(\n",
    "    object_storage_options=object_storage_options,\n",
    ")\n",
    "read_options_1 = pb.ReadOptions(vcf_read_options=vcf_read_options_1)\n",
    "read_options_2 = pb.ReadOptions(vcf_read_options=vcf_read_options_2)\n"
   ],
   "id": "42797448fff4b83",
   "outputs": [],
   "execution_count": 25
  },
  {
   "metadata": {
    "ExecuteTime": {
     "end_time": "2025-09-09T05:56:03.692913Z",
     "start_time": "2025-09-09T05:53:23.214836Z"
    }
   },
   "cell_type": "code",
   "source": [
    "pb.overlap(vcf_1, vcf_2, read_options1=read_options_1, read_options2=read_options_2).sink_csv(\n",
    "    \"/tmp/streaming_run.csv\"\n",
    ")"
   ],
   "id": "5399b033470a6097",
   "outputs": [
    {
     "data": {
      "text/plain": [
       "0rows [00:00, ?rows/s]"
      ],
      "application/vnd.jupyter.widget-view+json": {
       "version_major": 2,
       "version_minor": 0,
       "model_id": "781998a7a3b742b5aa3e1fbf5aba7456"
      }
     },
     "metadata": {},
     "output_type": "display_data"
    }
   ],
   "execution_count": 26
  },
  {
   "metadata": {
    "ExecuteTime": {
     "end_time": "2025-09-09T05:56:45.599887Z",
     "start_time": "2025-09-09T05:56:45.125895Z"
    }
   },
   "cell_type": "code",
   "source": "pl.read_csv(\"/tmp/streaming_run.csv\").limit(3)",
   "id": "c12f03cfa471944f",
   "outputs": [
    {
     "data": {
      "text/plain": [
       "shape: (3, 18)\n",
       "┌─────────┬─────────┬─────────┬───────┬───┬───────┬───────┬────────┬──────────┐\n",
       "│ chrom_1 ┆ start_1 ┆ end_1   ┆ id_1  ┆ … ┆ ref_2 ┆ alt_2 ┆ qual_2 ┆ filter_2 │\n",
       "│ ---     ┆ ---     ┆ ---     ┆ ---   ┆   ┆ ---   ┆ ---   ┆ ---    ┆ ---      │\n",
       "│ str     ┆ i64     ┆ i64     ┆ str   ┆   ┆ f64   ┆ str   ┆ str    ┆ i64      │\n",
       "╞═════════╪═════════╪═════════╪═══════╪═══╪═══════╪═══════╪════════╪══════════╡\n",
       "│ chr21   ┆ 5019150 ┆ 5047500 ┆ chr21 ┆ … ┆ 34.0  ┆ PASS  ┆ DUP    ┆ 28350    │\n",
       "│ chr21   ┆ 5019150 ┆ 5047500 ┆ chr21 ┆ … ┆ 34.0  ┆ PASS  ┆ DUP    ┆ 28350    │\n",
       "│ chr21   ┆ 5019150 ┆ 5047500 ┆ chr21 ┆ … ┆ 34.0  ┆ PASS  ┆ DUP    ┆ 28350    │\n",
       "└─────────┴─────────┴─────────┴───────┴───┴───────┴───────┴────────┴──────────┘"
      ],
      "text/html": [
       "<div><style>\n",
       ".dataframe > thead > tr,\n",
       ".dataframe > tbody > tr {\n",
       "  text-align: right;\n",
       "  white-space: pre-wrap;\n",
       "}\n",
       "</style>\n",
       "<small>shape: (3, 18)</small><table border=\"1\" class=\"dataframe\"><thead><tr><th>chrom_1</th><th>start_1</th><th>end_1</th><th>id_1</th><th>ref_1</th><th>alt_1</th><th>qual_1</th><th>filter_1</th><th>svtype_1</th><th>svlen_1</th><th>chrom_2</th><th>start_2</th><th>end_2</th><th>id_2</th><th>ref_2</th><th>alt_2</th><th>qual_2</th><th>filter_2</th></tr><tr><td>str</td><td>i64</td><td>i64</td><td>str</td><td>i64</td><td>i64</td><td>str</td><td>str</td><td>str</td><td>str</td><td>str</td><td>str</td><td>str</td><td>str</td><td>f64</td><td>str</td><td>str</td><td>i64</td></tr></thead><tbody><tr><td>&quot;chr21&quot;</td><td>5019150</td><td>5047500</td><td>&quot;chr21&quot;</td><td>5036183</td><td>5036183</td><td>&quot;&quot;</td><td>&quot;A&quot;</td><td>&quot;C&quot;</td><td>null</td><td>&quot;AC0;AS_VQSR&quot;</td><td>&quot;gnomAD-SV_v3_DUP_chr21_029eb66…</td><td>&quot;N&quot;</td><td>&quot;&lt;DUP&gt;&quot;</td><td>34.0</td><td>&quot;PASS&quot;</td><td>&quot;DUP&quot;</td><td>28350</td></tr><tr><td>&quot;chr21&quot;</td><td>5019150</td><td>5047500</td><td>&quot;chr21&quot;</td><td>5036184</td><td>5036184</td><td>&quot;&quot;</td><td>&quot;G&quot;</td><td>&quot;A&quot;</td><td>null</td><td>&quot;AS_VQSR&quot;</td><td>&quot;gnomAD-SV_v3_DUP_chr21_029eb66…</td><td>&quot;N&quot;</td><td>&quot;&lt;DUP&gt;&quot;</td><td>34.0</td><td>&quot;PASS&quot;</td><td>&quot;DUP&quot;</td><td>28350</td></tr><tr><td>&quot;chr21&quot;</td><td>5019150</td><td>5047500</td><td>&quot;chr21&quot;</td><td>5036185</td><td>5036185</td><td>&quot;&quot;</td><td>&quot;G&quot;</td><td>&quot;A&quot;</td><td>null</td><td>&quot;AS_VQSR&quot;</td><td>&quot;gnomAD-SV_v3_DUP_chr21_029eb66…</td><td>&quot;N&quot;</td><td>&quot;&lt;DUP&gt;&quot;</td><td>34.0</td><td>&quot;PASS&quot;</td><td>&quot;DUP&quot;</td><td>28350</td></tr></tbody></table></div>"
      ]
     },
     "execution_count": 27,
     "metadata": {},
     "output_type": "execute_result"
    }
   ],
   "execution_count": 27
  },
  {
   "metadata": {
    "ExecuteTime": {
     "end_time": "2025-09-09T05:59:31.249248Z",
     "start_time": "2025-09-09T05:56:53.455320Z"
    }
   },
   "cell_type": "code",
   "source": "pb.overlap(vcf_1, vcf_2, read_options1=read_options_1, read_options2=read_options_2).collect().count()",
   "id": "abf38921c762ff67",
   "outputs": [
    {
     "data": {
      "text/plain": [
       "0rows [00:00, ?rows/s]"
      ],
      "application/vnd.jupyter.widget-view+json": {
       "version_major": 2,
       "version_minor": 0,
       "model_id": "a957276c09fe4d46af50f5a7152e797a"
      }
     },
     "metadata": {},
     "output_type": "display_data"
    },
    {
     "data": {
      "text/plain": [
       "shape: (1, 18)\n",
       "┌──────────┬──────────┬──────────┬──────────┬───┬──────────┬──────────┬──────────┬──────────┐\n",
       "│ chrom_1  ┆ start_1  ┆ end_1    ┆ chrom_2  ┆ … ┆ qual_2   ┆ filter_2 ┆ svtype_2 ┆ svlen_2  │\n",
       "│ ---      ┆ ---      ┆ ---      ┆ ---      ┆   ┆ ---      ┆ ---      ┆ ---      ┆ ---      │\n",
       "│ u32      ┆ u32      ┆ u32      ┆ u32      ┆   ┆ u32      ┆ u32      ┆ u32      ┆ u32      │\n",
       "╞══════════╪══════════╪══════════╪══════════╪═══╪══════════╪══════════╪══════════╪══════════╡\n",
       "│ 17882545 ┆ 17882545 ┆ 17882545 ┆ 17882545 ┆ … ┆ 17793674 ┆ 17882545 ┆ 17882545 ┆ 17882545 │\n",
       "└──────────┴──────────┴──────────┴──────────┴───┴──────────┴──────────┴──────────┴──────────┘"
      ],
      "text/html": [
       "<div><style>\n",
       ".dataframe > thead > tr,\n",
       ".dataframe > tbody > tr {\n",
       "  text-align: right;\n",
       "  white-space: pre-wrap;\n",
       "}\n",
       "</style>\n",
       "<small>shape: (1, 18)</small><table border=\"1\" class=\"dataframe\"><thead><tr><th>chrom_1</th><th>start_1</th><th>end_1</th><th>chrom_2</th><th>start_2</th><th>end_2</th><th>id_1</th><th>ref_1</th><th>alt_1</th><th>qual_1</th><th>filter_1</th><th>id_2</th><th>ref_2</th><th>alt_2</th><th>qual_2</th><th>filter_2</th><th>svtype_2</th><th>svlen_2</th></tr><tr><td>u32</td><td>u32</td><td>u32</td><td>u32</td><td>u32</td><td>u32</td><td>u32</td><td>u32</td><td>u32</td><td>u32</td><td>u32</td><td>u32</td><td>u32</td><td>u32</td><td>u32</td><td>u32</td><td>u32</td><td>u32</td></tr></thead><tbody><tr><td>17882545</td><td>17882545</td><td>17882545</td><td>17882545</td><td>17882545</td><td>17882545</td><td>17882545</td><td>17882545</td><td>17882545</td><td>0</td><td>17882545</td><td>17882545</td><td>17882545</td><td>17882545</td><td>17793674</td><td>17882545</td><td>17882545</td><td>17882545</td></tr></tbody></table></div>"
      ]
     },
     "execution_count": 28,
     "metadata": {},
     "output_type": "execute_result"
    }
   ],
   "execution_count": 28
  },
  {
   "metadata": {},
   "cell_type": "markdown",
   "source": "### 5. How to read a VCF from Google Life Sciences",
   "id": "261514c908bfdcec"
  },
  {
   "metadata": {
    "ExecuteTime": {
     "end_time": "2025-09-09T05:59:36.714768Z",
     "start_time": "2025-09-09T05:59:36.713019Z"
    }
   },
   "cell_type": "code",
   "source": "gcs_vcf_path = \"gs://genomics-public-data/platinum-genomes/vcf/NA12878_S1.genome.vcf\"",
   "id": "31f0f3d0974245bd",
   "outputs": [],
   "execution_count": 29
  },
  {
   "metadata": {
    "ExecuteTime": {
     "end_time": "2025-09-09T05:59:38.376567Z",
     "start_time": "2025-09-09T05:59:38.375079Z"
    }
   },
   "cell_type": "code",
   "source": "info_fields=[\"AC\", \"AF\"]",
   "id": "816c419b3b45ee44",
   "outputs": [],
   "execution_count": 30
  },
  {
   "metadata": {
    "ExecuteTime": {
     "end_time": "2025-09-09T05:59:44.415692Z",
     "start_time": "2025-09-09T05:59:42.484844Z"
    }
   },
   "cell_type": "code",
   "source": "pb.scan_vcf(gcs_vcf_path, info_fields=info_fields).limit(3).collect()",
   "id": "a6be6d5b8977d8d6",
   "outputs": [
    {
     "data": {
      "text/plain": [
       "0rows [00:00, ?rows/s]"
      ],
      "application/vnd.jupyter.widget-view+json": {
       "version_major": 2,
       "version_minor": 0,
       "model_id": "d870a8b3602c4e288ad3c38d67dd08d7"
      }
     },
     "metadata": {},
     "output_type": "display_data"
    },
    {
     "data": {
      "text/plain": [
       "shape: (3, 10)\n",
       "┌───────┬───────┬─────┬─────┬───┬─────────────┬────────────────────────────┬───────────┬───────────┐\n",
       "│ chrom ┆ start ┆ end ┆ id  ┆ … ┆ qual        ┆ filter                     ┆ ac        ┆ af        │\n",
       "│ ---   ┆ ---   ┆ --- ┆ --- ┆   ┆ ---         ┆ ---                        ┆ ---       ┆ ---       │\n",
       "│ str   ┆ u32   ┆ u32 ┆ str ┆   ┆ f64         ┆ str                        ┆ list[i32] ┆ list[f32] │\n",
       "╞═══════╪═══════╪═════╪═════╪═══╪═════════════╪════════════════════════════╪═══════════╪═══════════╡\n",
       "│ chrM  ┆ 1     ┆ 1   ┆     ┆ … ┆ null        ┆ PASS                       ┆ null      ┆ null      │\n",
       "│ chrM  ┆ 2     ┆ 72  ┆     ┆ … ┆ null        ┆ PASS                       ┆ null      ┆ null      │\n",
       "│ chrM  ┆ 73    ┆ 73  ┆     ┆ … ┆ 8752.780273 ┆ TruthSensitivityTranche99. ┆ [2]       ┆ [1.0]     │\n",
       "│       ┆       ┆     ┆     ┆   ┆             ┆ 90to…                      ┆           ┆           │\n",
       "└───────┴───────┴─────┴─────┴───┴─────────────┴────────────────────────────┴───────────┴───────────┘"
      ],
      "text/html": [
       "<div><style>\n",
       ".dataframe > thead > tr,\n",
       ".dataframe > tbody > tr {\n",
       "  text-align: right;\n",
       "  white-space: pre-wrap;\n",
       "}\n",
       "</style>\n",
       "<small>shape: (3, 10)</small><table border=\"1\" class=\"dataframe\"><thead><tr><th>chrom</th><th>start</th><th>end</th><th>id</th><th>ref</th><th>alt</th><th>qual</th><th>filter</th><th>ac</th><th>af</th></tr><tr><td>str</td><td>u32</td><td>u32</td><td>str</td><td>str</td><td>str</td><td>f64</td><td>str</td><td>list[i32]</td><td>list[f32]</td></tr></thead><tbody><tr><td>&quot;chrM&quot;</td><td>1</td><td>1</td><td>&quot;&quot;</td><td>&quot;G&quot;</td><td>&quot;&quot;</td><td>null</td><td>&quot;PASS&quot;</td><td>null</td><td>null</td></tr><tr><td>&quot;chrM&quot;</td><td>2</td><td>72</td><td>&quot;&quot;</td><td>&quot;A&quot;</td><td>&quot;&quot;</td><td>null</td><td>&quot;PASS&quot;</td><td>null</td><td>null</td></tr><tr><td>&quot;chrM&quot;</td><td>73</td><td>73</td><td>&quot;&quot;</td><td>&quot;G&quot;</td><td>&quot;A&quot;</td><td>8752.780273</td><td>&quot;TruthSensitivityTranche99.90to…</td><td>[2]</td><td>[1.0]</td></tr></tbody></table></div>"
      ]
     },
     "execution_count": 31,
     "metadata": {},
     "output_type": "execute_result"
    }
   ],
   "execution_count": 31
  },
  {
   "metadata": {},
   "cell_type": "markdown",
   "source": "### 6. SQL data processing",
   "id": "b65cf5ad7b136b6"
  },
  {
   "metadata": {},
   "cell_type": "markdown",
   "source": "Check [SQL reference](https://datafusion.apache.org/user-guide/sql/index.html) for details.",
   "id": "e8febf4d3a4cb981"
  },
  {
   "metadata": {
    "ExecuteTime": {
     "end_time": "2025-09-09T06:00:02.139993Z",
     "start_time": "2025-09-09T05:59:49.419523Z"
    }
   },
   "cell_type": "code",
   "source": "pb.register_vcf(vcf_1, \"gnomad_sv\", thread_num=1, info_fields=[\"SVTYPE\", \"SVLEN\"])",
   "id": "13a6ae6ace873a4c",
   "outputs": [],
   "execution_count": 32
  },
  {
   "metadata": {
    "ExecuteTime": {
     "end_time": "2025-09-09T06:00:13.620594Z",
     "start_time": "2025-09-09T06:00:06.421447Z"
    }
   },
   "cell_type": "code",
   "source": "pb.sql(\"SELECT chrom, svtype  FROM gnomad_sv\").limit(3).collect()",
   "id": "3846a13b34e55db4",
   "outputs": [
    {
     "data": {
      "text/plain": [
       "0rows [00:00, ?rows/s]"
      ],
      "application/vnd.jupyter.widget-view+json": {
       "version_major": 2,
       "version_minor": 0,
       "model_id": "666f5459f22c4d80a5ef97817839c3b2"
      }
     },
     "metadata": {},
     "output_type": "display_data"
    },
    {
     "data": {
      "text/plain": [
       "shape: (3, 2)\n",
       "┌───────┬────────┐\n",
       "│ chrom ┆ svtype │\n",
       "│ ---   ┆ ---    │\n",
       "│ str   ┆ str    │\n",
       "╞═══════╪════════╡\n",
       "│ chr1  ┆ DUP    │\n",
       "│ chr1  ┆ BND    │\n",
       "│ chr1  ┆ BND    │\n",
       "└───────┴────────┘"
      ],
      "text/html": [
       "<div><style>\n",
       ".dataframe > thead > tr,\n",
       ".dataframe > tbody > tr {\n",
       "  text-align: right;\n",
       "  white-space: pre-wrap;\n",
       "}\n",
       "</style>\n",
       "<small>shape: (3, 2)</small><table border=\"1\" class=\"dataframe\"><thead><tr><th>chrom</th><th>svtype</th></tr><tr><td>str</td><td>str</td></tr></thead><tbody><tr><td>&quot;chr1&quot;</td><td>&quot;DUP&quot;</td></tr><tr><td>&quot;chr1&quot;</td><td>&quot;BND&quot;</td></tr><tr><td>&quot;chr1&quot;</td><td>&quot;BND&quot;</td></tr></tbody></table></div>"
      ]
     },
     "execution_count": 33,
     "metadata": {},
     "output_type": "execute_result"
    }
   ],
   "execution_count": 33
  },
  {
   "metadata": {
    "ExecuteTime": {
     "end_time": "2025-09-09T06:00:28.609386Z",
     "start_time": "2025-09-09T06:00:15.770421Z"
    }
   },
   "cell_type": "code",
   "source": "pb.sql(\"SELECT * FROM gnomad_sv WHERE SVTYPE = 'DEL' AND SVLEN > 1000\").limit(3).collect()",
   "id": "4163e9f3f5fb0a95",
   "outputs": [
    {
     "data": {
      "text/plain": [
       "0rows [00:00, ?rows/s]"
      ],
      "application/vnd.jupyter.widget-view+json": {
       "version_major": 2,
       "version_minor": 0,
       "model_id": "e98c346c943f42e8ae731b562e62d586"
      }
     },
     "metadata": {},
     "output_type": "display_data"
    },
    {
     "data": {
      "text/plain": [
       "shape: (3, 10)\n",
       "┌───────┬───────┬───────┬────────────────────────────────┬───┬───────┬────────────┬────────┬───────┐\n",
       "│ chrom ┆ start ┆ end   ┆ id                             ┆ … ┆ qual  ┆ filter     ┆ svtype ┆ svlen │\n",
       "│ ---   ┆ ---   ┆ ---   ┆ ---                            ┆   ┆ ---   ┆ ---        ┆ ---    ┆ ---   │\n",
       "│ str   ┆ u32   ┆ u32   ┆ str                            ┆   ┆ f64   ┆ str        ┆ str    ┆ i32   │\n",
       "╞═══════╪═══════╪═══════╪════════════════════════════════╪═══╪═══════╪════════════╪════════╪═══════╡\n",
       "│ chr1  ┆ 22000 ┆ 30000 ┆ gnomAD-SV_v3_DEL_chr1_fa103016 ┆ … ┆ 999.0 ┆ HIGH_NCR   ┆ DEL    ┆ 8000  │\n",
       "│ chr1  ┆ 40000 ┆ 47000 ┆ gnomAD-SV_v3_DEL_chr1_b26f63f7 ┆ … ┆ 145.0 ┆ PASS       ┆ DEL    ┆ 7000  │\n",
       "│ chr1  ┆ 79086 ┆ 88118 ┆ gnomAD-SV_v3_DEL_chr1_733c4ef0 ┆ … ┆ 344.0 ┆ UNRESOLVED ┆ DEL    ┆ 9032  │\n",
       "└───────┴───────┴───────┴────────────────────────────────┴───┴───────┴────────────┴────────┴───────┘"
      ],
      "text/html": [
       "<div><style>\n",
       ".dataframe > thead > tr,\n",
       ".dataframe > tbody > tr {\n",
       "  text-align: right;\n",
       "  white-space: pre-wrap;\n",
       "}\n",
       "</style>\n",
       "<small>shape: (3, 10)</small><table border=\"1\" class=\"dataframe\"><thead><tr><th>chrom</th><th>start</th><th>end</th><th>id</th><th>ref</th><th>alt</th><th>qual</th><th>filter</th><th>svtype</th><th>svlen</th></tr><tr><td>str</td><td>u32</td><td>u32</td><td>str</td><td>str</td><td>str</td><td>f64</td><td>str</td><td>str</td><td>i32</td></tr></thead><tbody><tr><td>&quot;chr1&quot;</td><td>22000</td><td>30000</td><td>&quot;gnomAD-SV_v3_DEL_chr1_fa103016&quot;</td><td>&quot;N&quot;</td><td>&quot;&lt;DEL&gt;&quot;</td><td>999.0</td><td>&quot;HIGH_NCR&quot;</td><td>&quot;DEL&quot;</td><td>8000</td></tr><tr><td>&quot;chr1&quot;</td><td>40000</td><td>47000</td><td>&quot;gnomAD-SV_v3_DEL_chr1_b26f63f7&quot;</td><td>&quot;N&quot;</td><td>&quot;&lt;DEL&gt;&quot;</td><td>145.0</td><td>&quot;PASS&quot;</td><td>&quot;DEL&quot;</td><td>7000</td></tr><tr><td>&quot;chr1&quot;</td><td>79086</td><td>88118</td><td>&quot;gnomAD-SV_v3_DEL_chr1_733c4ef0&quot;</td><td>&quot;N&quot;</td><td>&quot;&lt;DEL:ME:LINE1&gt;&quot;</td><td>344.0</td><td>&quot;UNRESOLVED&quot;</td><td>&quot;DEL&quot;</td><td>9032</td></tr></tbody></table></div>"
      ]
     },
     "execution_count": 34,
     "metadata": {},
     "output_type": "execute_result"
    }
   ],
   "execution_count": 34
  },
  {
   "metadata": {
    "ExecuteTime": {
     "end_time": "2025-09-09T06:00:30.811749Z",
     "start_time": "2025-09-09T06:00:30.808101Z"
    }
   },
   "cell_type": "code",
   "source": "pb.sql(\"SELECT alt, count(*) as cnt FROM gnomad_sv group by alt\").collect_schema()",
   "id": "8df8d85dd804b115",
   "outputs": [
    {
     "data": {
      "text/plain": [
       "Schema([('alt', String), ('cnt', Int64)])"
      ]
     },
     "execution_count": 35,
     "metadata": {},
     "output_type": "execute_result"
    }
   ],
   "execution_count": 35
  },
  {
   "metadata": {
    "ExecuteTime": {
     "end_time": "2025-09-09T06:01:19.755442Z",
     "start_time": "2025-09-09T06:00:33.074619Z"
    }
   },
   "cell_type": "code",
   "source": "pb.sql(\"SELECT alt, count(*) as cnt FROM gnomad_sv group by alt\").collect()",
   "id": "d57ad3af61d0c562",
   "outputs": [
    {
     "data": {
      "text/plain": [
       "0rows [00:00, ?rows/s]"
      ],
      "application/vnd.jupyter.widget-view+json": {
       "version_major": 2,
       "version_minor": 0,
       "model_id": "63e9c192615a4fcba2df0c105fb32c65"
      }
     },
     "metadata": {},
     "output_type": "display_data"
    },
    {
     "data": {
      "text/plain": [
       "shape: (13, 2)\n",
       "┌────────────────┬─────────┐\n",
       "│ alt            ┆ cnt     │\n",
       "│ ---            ┆ ---     │\n",
       "│ str            ┆ i64     │\n",
       "╞════════════════╪═════════╡\n",
       "│ <DUP>          ┆ 269326  │\n",
       "│ <BND>          ┆ 356035  │\n",
       "│ <CNV>          ┆ 721     │\n",
       "│ <DEL>          ┆ 1197080 │\n",
       "│ <INS>          ┆ 83441   │\n",
       "│ …              ┆ …       │\n",
       "│ <INS:ME:SVA>   ┆ 17607   │\n",
       "│ <CPX>          ┆ 15189   │\n",
       "│ <INV>          ┆ 2193    │\n",
       "│ <DEL:ME:HERVK> ┆ 693     │\n",
       "│ <CTX>          ┆ 99      │\n",
       "└────────────────┴─────────┘"
      ],
      "text/html": [
       "<div><style>\n",
       ".dataframe > thead > tr,\n",
       ".dataframe > tbody > tr {\n",
       "  text-align: right;\n",
       "  white-space: pre-wrap;\n",
       "}\n",
       "</style>\n",
       "<small>shape: (13, 2)</small><table border=\"1\" class=\"dataframe\"><thead><tr><th>alt</th><th>cnt</th></tr><tr><td>str</td><td>i64</td></tr></thead><tbody><tr><td>&quot;&lt;DUP&gt;&quot;</td><td>269326</td></tr><tr><td>&quot;&lt;BND&gt;&quot;</td><td>356035</td></tr><tr><td>&quot;&lt;CNV&gt;&quot;</td><td>721</td></tr><tr><td>&quot;&lt;DEL&gt;&quot;</td><td>1197080</td></tr><tr><td>&quot;&lt;INS&gt;&quot;</td><td>83441</td></tr><tr><td>&hellip;</td><td>&hellip;</td></tr><tr><td>&quot;&lt;INS:ME:SVA&gt;&quot;</td><td>17607</td></tr><tr><td>&quot;&lt;CPX&gt;&quot;</td><td>15189</td></tr><tr><td>&quot;&lt;INV&gt;&quot;</td><td>2193</td></tr><tr><td>&quot;&lt;DEL:ME:HERVK&gt;&quot;</td><td>693</td></tr><tr><td>&quot;&lt;CTX&gt;&quot;</td><td>99</td></tr></tbody></table></div>"
      ]
     },
     "execution_count": 36,
     "metadata": {},
     "output_type": "execute_result"
    }
   ],
   "execution_count": 36
  },
  {
   "metadata": {
    "ExecuteTime": {
     "end_time": "2025-09-09T06:02:06.870092Z",
     "start_time": "2025-09-09T06:01:22.826123Z"
    }
   },
   "cell_type": "code",
   "source": "pb.sql(\"SELECT chrom, count(*) as cnt FROM gnomad_sv GROUP BY chrom ORDER BY chrom\").collect()",
   "id": "431002a3ec440f84",
   "outputs": [
    {
     "data": {
      "text/plain": [
       "0rows [00:00, ?rows/s]"
      ],
      "application/vnd.jupyter.widget-view+json": {
       "version_major": 2,
       "version_minor": 0,
       "model_id": "00d649e347764fd795b7b075057eab82"
      }
     },
     "metadata": {},
     "output_type": "display_data"
    },
    {
     "data": {
      "text/plain": [
       "shape: (24, 2)\n",
       "┌───────┬────────┐\n",
       "│ chrom ┆ cnt    │\n",
       "│ ---   ┆ ---    │\n",
       "│ str   ┆ i64    │\n",
       "╞═══════╪════════╡\n",
       "│ chr1  ┆ 182804 │\n",
       "│ chr10 ┆ 96755  │\n",
       "│ chr11 ┆ 95690  │\n",
       "│ chr12 ┆ 97655  │\n",
       "│ chr13 ┆ 63839  │\n",
       "│ …     ┆ …      │\n",
       "│ chr7  ┆ 131866 │\n",
       "│ chr8  ┆ 101224 │\n",
       "│ chr9  ┆ 87748  │\n",
       "│ chrX  ┆ 78076  │\n",
       "│ chrY  ┆ 12488  │\n",
       "└───────┴────────┘"
      ],
      "text/html": [
       "<div><style>\n",
       ".dataframe > thead > tr,\n",
       ".dataframe > tbody > tr {\n",
       "  text-align: right;\n",
       "  white-space: pre-wrap;\n",
       "}\n",
       "</style>\n",
       "<small>shape: (24, 2)</small><table border=\"1\" class=\"dataframe\"><thead><tr><th>chrom</th><th>cnt</th></tr><tr><td>str</td><td>i64</td></tr></thead><tbody><tr><td>&quot;chr1&quot;</td><td>182804</td></tr><tr><td>&quot;chr10&quot;</td><td>96755</td></tr><tr><td>&quot;chr11&quot;</td><td>95690</td></tr><tr><td>&quot;chr12&quot;</td><td>97655</td></tr><tr><td>&quot;chr13&quot;</td><td>63839</td></tr><tr><td>&hellip;</td><td>&hellip;</td></tr><tr><td>&quot;chr7&quot;</td><td>131866</td></tr><tr><td>&quot;chr8&quot;</td><td>101224</td></tr><tr><td>&quot;chr9&quot;</td><td>87748</td></tr><tr><td>&quot;chrX&quot;</td><td>78076</td></tr><tr><td>&quot;chrY&quot;</td><td>12488</td></tr></tbody></table></div>"
      ]
     },
     "execution_count": 37,
     "metadata": {},
     "output_type": "execute_result"
    }
   ],
   "execution_count": 37
  },
  {
   "metadata": {
    "ExecuteTime": {
     "end_time": "2025-09-09T06:02:53.511661Z",
     "start_time": "2025-09-09T06:02:06.894504Z"
    }
   },
   "cell_type": "code",
   "source": "pb.sql(\"SELECT * FROM gnomad_sv WHERE chrom='chr1'\").sink_csv(\"/tmp/gnomad_chr1.csv\")",
   "id": "ad276ceaff281479",
   "outputs": [
    {
     "data": {
      "text/plain": [
       "0rows [00:00, ?rows/s]"
      ],
      "application/vnd.jupyter.widget-view+json": {
       "version_major": 2,
       "version_minor": 0,
       "model_id": "0b625550d75e4e82a73a72250f8dd173"
      }
     },
     "metadata": {},
     "output_type": "display_data"
    }
   ],
   "execution_count": 38
  },
  {
   "metadata": {
    "ExecuteTime": {
     "end_time": "2025-09-09T06:02:53.545539Z",
     "start_time": "2025-09-09T06:02:53.531963Z"
    }
   },
   "cell_type": "code",
   "source": "pl.read_csv(\"/tmp/gnomad_chr1.csv\").count()",
   "id": "666bf70a46f75380",
   "outputs": [
    {
     "data": {
      "text/plain": [
       "shape: (1, 10)\n",
       "┌────────┬────────┬────────┬────────┬───┬────────┬────────┬────────┬────────┐\n",
       "│ chrom  ┆ start  ┆ end    ┆ id     ┆ … ┆ qual   ┆ filter ┆ svtype ┆ svlen  │\n",
       "│ ---    ┆ ---    ┆ ---    ┆ ---    ┆   ┆ ---    ┆ ---    ┆ ---    ┆ ---    │\n",
       "│ u32    ┆ u32    ┆ u32    ┆ u32    ┆   ┆ u32    ┆ u32    ┆ u32    ┆ u32    │\n",
       "╞════════╪════════╪════════╪════════╪═══╪════════╪════════╪════════╪════════╡\n",
       "│ 182804 ┆ 182804 ┆ 182804 ┆ 182804 ┆ … ┆ 182765 ┆ 182804 ┆ 182804 ┆ 182804 │\n",
       "└────────┴────────┴────────┴────────┴───┴────────┴────────┴────────┴────────┘"
      ],
      "text/html": [
       "<div><style>\n",
       ".dataframe > thead > tr,\n",
       ".dataframe > tbody > tr {\n",
       "  text-align: right;\n",
       "  white-space: pre-wrap;\n",
       "}\n",
       "</style>\n",
       "<small>shape: (1, 10)</small><table border=\"1\" class=\"dataframe\"><thead><tr><th>chrom</th><th>start</th><th>end</th><th>id</th><th>ref</th><th>alt</th><th>qual</th><th>filter</th><th>svtype</th><th>svlen</th></tr><tr><td>u32</td><td>u32</td><td>u32</td><td>u32</td><td>u32</td><td>u32</td><td>u32</td><td>u32</td><td>u32</td><td>u32</td></tr></thead><tbody><tr><td>182804</td><td>182804</td><td>182804</td><td>182804</td><td>182804</td><td>182804</td><td>182765</td><td>182804</td><td>182804</td><td>182804</td></tr></tbody></table></div>"
      ]
     },
     "execution_count": 39,
     "metadata": {},
     "output_type": "execute_result"
    }
   ],
   "execution_count": 39
  },
  {
   "metadata": {
    "ExecuteTime": {
     "end_time": "2025-09-09T06:03:12.741561Z",
     "start_time": "2025-09-09T06:03:00.568732Z"
    }
   },
   "cell_type": "code",
   "source": "pb.register_vcf(vcf_2, \"gnomad_exomes\", info_fields=[\"AC\", \"AF\"])",
   "id": "234c9170e21a7bf4",
   "outputs": [],
   "execution_count": 40
  },
  {
   "metadata": {
    "ExecuteTime": {
     "end_time": "2025-09-09T06:03:25.242670Z",
     "start_time": "2025-09-09T06:03:12.754102Z"
    }
   },
   "cell_type": "code",
   "source": "pb.sql(\"SELECT replace(chrom,'chr','') AS chrom, start, ac,af  FROM gnomad_exomes WHERE array_element(af,1)>0.01\").limit(10).collect()",
   "id": "884bfe80e6bcd678",
   "outputs": [
    {
     "data": {
      "text/plain": [
       "0rows [00:00, ?rows/s]"
      ],
      "application/vnd.jupyter.widget-view+json": {
       "version_major": 2,
       "version_minor": 0,
       "model_id": "cf6a908db14841598b0878d38346ca78"
      }
     },
     "metadata": {},
     "output_type": "display_data"
    },
    {
     "data": {
      "text/plain": [
       "shape: (10, 4)\n",
       "┌───────┬─────────┬───────────┬────────────┐\n",
       "│ chrom ┆ start   ┆ ac        ┆ af         │\n",
       "│ ---   ┆ ---     ┆ ---       ┆ ---        │\n",
       "│ str   ┆ u32     ┆ list[i32] ┆ list[f32]  │\n",
       "╞═══════╪═════════╪═══════════╪════════════╡\n",
       "│ 21    ┆ 5033364 ┆ [372992]  ┆ [0.337086] │\n",
       "│ 21    ┆ 5033539 ┆ [1107064] ┆ [0.996312] │\n",
       "│ 21    ┆ 5034629 ┆ [15145]   ┆ [0.020082] │\n",
       "│ 21    ┆ 5035021 ┆ [1811]    ┆ [0.307888] │\n",
       "│ 21    ┆ 5035108 ┆ [2]       ┆ [0.010989] │\n",
       "│ 21    ┆ 5035658 ┆ [255555]  ┆ [0.336447] │\n",
       "│ 21    ┆ 5035846 ┆ [37233]   ┆ [0.286906] │\n",
       "│ 21    ┆ 5035921 ┆ [1682]    ┆ [0.010757] │\n",
       "│ 21    ┆ 5116593 ┆ [4032]    ┆ [0.018626] │\n",
       "│ 21    ┆ 5116760 ┆ [101]     ┆ [0.014914] │\n",
       "└───────┴─────────┴───────────┴────────────┘"
      ],
      "text/html": [
       "<div><style>\n",
       ".dataframe > thead > tr,\n",
       ".dataframe > tbody > tr {\n",
       "  text-align: right;\n",
       "  white-space: pre-wrap;\n",
       "}\n",
       "</style>\n",
       "<small>shape: (10, 4)</small><table border=\"1\" class=\"dataframe\"><thead><tr><th>chrom</th><th>start</th><th>ac</th><th>af</th></tr><tr><td>str</td><td>u32</td><td>list[i32]</td><td>list[f32]</td></tr></thead><tbody><tr><td>&quot;21&quot;</td><td>5033364</td><td>[372992]</td><td>[0.337086]</td></tr><tr><td>&quot;21&quot;</td><td>5033539</td><td>[1107064]</td><td>[0.996312]</td></tr><tr><td>&quot;21&quot;</td><td>5034629</td><td>[15145]</td><td>[0.020082]</td></tr><tr><td>&quot;21&quot;</td><td>5035021</td><td>[1811]</td><td>[0.307888]</td></tr><tr><td>&quot;21&quot;</td><td>5035108</td><td>[2]</td><td>[0.010989]</td></tr><tr><td>&quot;21&quot;</td><td>5035658</td><td>[255555]</td><td>[0.336447]</td></tr><tr><td>&quot;21&quot;</td><td>5035846</td><td>[37233]</td><td>[0.286906]</td></tr><tr><td>&quot;21&quot;</td><td>5035921</td><td>[1682]</td><td>[0.010757]</td></tr><tr><td>&quot;21&quot;</td><td>5116593</td><td>[4032]</td><td>[0.018626]</td></tr><tr><td>&quot;21&quot;</td><td>5116760</td><td>[101]</td><td>[0.014914]</td></tr></tbody></table></div>"
      ]
     },
     "execution_count": 41,
     "metadata": {},
     "output_type": "execute_result"
    }
   ],
   "execution_count": 41
  },
  {
   "metadata": {
    "ExecuteTime": {
     "end_time": "2025-09-09T06:05:18.344174Z",
     "start_time": "2025-09-09T06:03:28.798676Z"
    }
   },
   "cell_type": "code",
   "source": "pb.overlap(\"gnomad_sv\", \"gnomad_exomes\").collect().count()",
   "id": "760421ed8c73a7a0",
   "outputs": [
    {
     "data": {
      "text/plain": [
       "0rows [00:00, ?rows/s]"
      ],
      "application/vnd.jupyter.widget-view+json": {
       "version_major": 2,
       "version_minor": 0,
       "model_id": "6b5dc4db22d54562bbc16e2bbda3f1aa"
      }
     },
     "metadata": {},
     "output_type": "display_data"
    },
    {
     "data": {
      "text/plain": [
       "shape: (1, 20)\n",
       "┌──────────┬──────────┬──────────┬──────────┬───┬──────────┬──────────┬──────────┬──────────┐\n",
       "│ chrom_1  ┆ start_1  ┆ end_1    ┆ chrom_2  ┆ … ┆ qual_2   ┆ filter_2 ┆ svtype_2 ┆ svlen_2  │\n",
       "│ ---      ┆ ---      ┆ ---      ┆ ---      ┆   ┆ ---      ┆ ---      ┆ ---      ┆ ---      │\n",
       "│ u32      ┆ u32      ┆ u32      ┆ u32      ┆   ┆ u32      ┆ u32      ┆ u32      ┆ u32      │\n",
       "╞══════════╪══════════╪══════════╪══════════╪═══╪══════════╪══════════╪══════════╪══════════╡\n",
       "│ 17882545 ┆ 17882545 ┆ 17882545 ┆ 17882545 ┆ … ┆ 17793674 ┆ 17882545 ┆ 17882545 ┆ 17882545 │\n",
       "└──────────┴──────────┴──────────┴──────────┴───┴──────────┴──────────┴──────────┴──────────┘"
      ],
      "text/html": [
       "<div><style>\n",
       ".dataframe > thead > tr,\n",
       ".dataframe > tbody > tr {\n",
       "  text-align: right;\n",
       "  white-space: pre-wrap;\n",
       "}\n",
       "</style>\n",
       "<small>shape: (1, 20)</small><table border=\"1\" class=\"dataframe\"><thead><tr><th>chrom_1</th><th>start_1</th><th>end_1</th><th>chrom_2</th><th>start_2</th><th>end_2</th><th>id_1</th><th>ref_1</th><th>alt_1</th><th>qual_1</th><th>filter_1</th><th>ac_1</th><th>af_1</th><th>id_2</th><th>ref_2</th><th>alt_2</th><th>qual_2</th><th>filter_2</th><th>svtype_2</th><th>svlen_2</th></tr><tr><td>u32</td><td>u32</td><td>u32</td><td>u32</td><td>u32</td><td>u32</td><td>u32</td><td>u32</td><td>u32</td><td>u32</td><td>u32</td><td>u32</td><td>u32</td><td>u32</td><td>u32</td><td>u32</td><td>u32</td><td>u32</td><td>u32</td><td>u32</td></tr></thead><tbody><tr><td>17882545</td><td>17882545</td><td>17882545</td><td>17882545</td><td>17882545</td><td>17882545</td><td>17882545</td><td>17882545</td><td>17882545</td><td>0</td><td>17882545</td><td>17882545</td><td>17587503</td><td>17882545</td><td>17882545</td><td>17882545</td><td>17793674</td><td>17882545</td><td>17882545</td><td>17882545</td></tr></tbody></table></div>"
      ]
     },
     "execution_count": 42,
     "metadata": {},
     "output_type": "execute_result"
    }
   ],
   "execution_count": 42
  },
  {
   "metadata": {},
   "cell_type": "markdown",
   "source": "###",
   "id": "f931e1c7aa6e6a7"
  }
 ],
 "metadata": {
  "kernelspec": {
   "display_name": "Python 3",
   "language": "python",
   "name": "python3"
  },
  "language_info": {
   "codemirror_mode": {
    "name": "ipython",
    "version": 2
   },
   "file_extension": ".py",
   "mimetype": "text/x-python",
   "name": "python",
   "nbconvert_exporter": "python",
   "pygments_lexer": "ipython2",
   "version": "2.7.6"
  }
 },
 "nbformat": 4,
 "nbformat_minor": 5
}

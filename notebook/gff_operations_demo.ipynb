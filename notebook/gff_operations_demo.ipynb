{
 "cells": [
  {
   "cell_type": "markdown",
   "id": "f287fb86ff48112b",
   "metadata": {},
   "source": [
    "### Download test files"
   ]
  },
  {
   "cell_type": "code",
   "execution_count": 19,
   "id": "b00829618607c868",
   "metadata": {
    "ExecuteTime": {
     "end_time": "2025-09-14T10:44:42.337317Z",
     "start_time": "2025-09-14T10:44:31.471932Z"
    }
   },
   "outputs": [],
   "source": [
    "! wget --quiet https://ftp.ebi.ac.uk/pub/databases/gencode/Gencode_human/release_49/gencode.v49.annotation.gff3.gz -P ../data/"
   ]
  },
  {
   "cell_type": "markdown",
   "id": "15a9d33418e6eae3",
   "metadata": {},
   "source": [
    "### Convert to blocked gzip and index (needed for parallel reading)"
   ]
  },
  {
   "cell_type": "code",
   "execution_count": 20,
   "id": "66c284d3853b8a18",
   "metadata": {
    "ExecuteTime": {
     "end_time": "2025-09-14T10:44:54.269713Z",
     "start_time": "2025-09-14T10:44:44.183152Z"
    }
   },
   "outputs": [
    {
     "name": "stdout",
     "output_type": "stream",
     "text": [
      "total 559840\n",
      "-rw-r--r--@ 1 mwiewior  staff  118467206 Sep  2 18:44 gencode.v49.annotation.gff3.gz\n",
      "-rw-r--r--@ 1 mwiewior  staff        570 Sep 14 12:19 test.gff\n",
      "-rw-r--r--@ 1 mwiewior  staff  145877928 Sep 15 13:25 gencode.v49.annotation.gff3.bgz\n",
      "-rw-r--r--@ 1 mwiewior  staff     823176 Sep 15 13:25 gencode.v49.annotation.gff3.bgz.gzi\n"
     ]
    }
   ],
   "source": [
    "%%sh\n",
    "cd ../data\n",
    "gunzip -c gencode.v49.annotation.gff3.gz  | bgzip -c > gencode.v49.annotation.gff3.bgz\n",
    "bgzip -r gencode.v49.annotation.gff3.bgz\n",
    "ls -ltr ../data"
   ]
  },
  {
   "cell_type": "markdown",
   "id": "f5044b946fd4291d",
   "metadata": {},
   "source": [
    "### Read GFF file with polars-Bio"
   ]
  },
  {
   "cell_type": "code",
   "execution_count": 23,
   "id": "eb68bee76421458f",
   "metadata": {
    "ExecuteTime": {
     "end_time": "2025-09-15T04:38:36.383981Z",
     "start_time": "2025-09-15T04:38:36.382290Z"
    }
   },
   "outputs": [],
   "source": [
    "import polars_bio as pb\n",
    "import polars as pl"
   ]
  },
  {
   "cell_type": "code",
   "execution_count": 24,
   "id": "378089e0-b750-43b4-b83f-ac4a9dcded55",
   "metadata": {},
   "outputs": [
    {
     "name": "stdout",
     "output_type": "stream",
     "text": [
      "0.17.2\n"
     ]
    }
   ],
   "source": [
    "print(pb.__version__)"
   ]
  },
  {
   "cell_type": "code",
   "execution_count": 25,
   "id": "159de81b5611af39",
   "metadata": {
    "ExecuteTime": {
     "end_time": "2025-09-15T04:38:56.402866Z",
     "start_time": "2025-09-15T04:38:56.400775Z"
    }
   },
   "outputs": [],
   "source": [
    "bgz_path = \"../data/gencode.v49.annotation.gff3.bgz\""
   ]
  },
  {
   "cell_type": "code",
   "execution_count": 26,
   "id": "53eebb27d11b0203",
   "metadata": {
    "ExecuteTime": {
     "end_time": "2025-09-14T10:45:08.067355Z",
     "start_time": "2025-09-14T10:45:08.060452Z"
    }
   },
   "outputs": [],
   "source": [
    "gff_gz = pb.scan_gff(\"../data/gencode.v49.annotation.gff3.gz\")"
   ]
  },
  {
   "cell_type": "code",
   "execution_count": 31,
   "id": "19f13ebd512e2a6f",
   "metadata": {
    "ExecuteTime": {
     "end_time": "2025-09-14T10:47:09.995729Z",
     "start_time": "2025-09-14T10:47:09.968990Z"
    }
   },
   "outputs": [
    {
     "data": {
      "application/vnd.jupyter.widget-view+json": {
       "model_id": "e9208b2c924b4cd1b692a27e9c9bb7bf",
       "version_major": 2,
       "version_minor": 0
      },
      "text/plain": [
       "0rows [00:00, ?rows/s]"
      ]
     },
     "metadata": {},
     "output_type": "display_data"
    },
    {
     "name": "stdout",
     "output_type": "stream",
     "text": [
      "CPU times: user 23.3 ms, sys: 5.64 ms, total: 28.9 ms\n",
      "Wall time: 27.5 ms\n"
     ]
    },
    {
     "data": {
      "text/html": [
       "<div><style>\n",
       ".dataframe > thead > tr,\n",
       ".dataframe > tbody > tr {\n",
       "  text-align: right;\n",
       "  white-space: pre-wrap;\n",
       "}\n",
       "</style>\n",
       "<small>shape: (1, 9)</small><table border=\"1\" class=\"dataframe\"><thead><tr><th>chrom</th><th>start</th><th>end</th><th>type</th><th>source</th><th>score</th><th>strand</th><th>phase</th><th>attributes</th></tr><tr><td>str</td><td>u32</td><td>u32</td><td>str</td><td>str</td><td>f32</td><td>str</td><td>u32</td><td>list[struct[2]]</td></tr></thead><tbody><tr><td>&quot;chr1&quot;</td><td>11121</td><td>24894</td><td>&quot;gene&quot;</td><td>&quot;HAVANA&quot;</td><td>null</td><td>&quot;+&quot;</td><td>null</td><td>[{&quot;ID&quot;,&quot;ENSG00000290825.2&quot;}, {&quot;gene_id&quot;,&quot;ENSG00000290825.2&quot;}, … {&quot;tag&quot;,&quot;overlaps_pseudogene&quot;}]</td></tr></tbody></table></div>"
      ],
      "text/plain": [
       "shape: (1, 9)\n",
       "┌───────┬───────┬───────┬──────┬───┬───────┬────────┬───────┬─────────────────────────────────┐\n",
       "│ chrom ┆ start ┆ end   ┆ type ┆ … ┆ score ┆ strand ┆ phase ┆ attributes                      │\n",
       "│ ---   ┆ ---   ┆ ---   ┆ ---  ┆   ┆ ---   ┆ ---    ┆ ---   ┆ ---                             │\n",
       "│ str   ┆ u32   ┆ u32   ┆ str  ┆   ┆ f32   ┆ str    ┆ u32   ┆ list[struct[2]]                 │\n",
       "╞═══════╪═══════╪═══════╪══════╪═══╪═══════╪════════╪═══════╪═════════════════════════════════╡\n",
       "│ chr1  ┆ 11121 ┆ 24894 ┆ gene ┆ … ┆ null  ┆ +      ┆ null  ┆ [{\"ID\",\"ENSG00000290825.2\"}, {… │\n",
       "└───────┴───────┴───────┴──────┴───┴───────┴────────┴───────┴─────────────────────────────────┘"
      ]
     },
     "execution_count": 31,
     "metadata": {},
     "output_type": "execute_result"
    }
   ],
   "source": [
    "%%time\n",
    "gff_gz.limit(1).collect()"
   ]
  },
  {
   "cell_type": "code",
   "execution_count": 28,
   "id": "a979e75b010e5428",
   "metadata": {
    "ExecuteTime": {
     "end_time": "2025-09-14T10:45:14.262401Z",
     "start_time": "2025-09-14T10:45:14.256998Z"
    }
   },
   "outputs": [],
   "source": [
    "gff = pb.scan_gff(bgz_path)"
   ]
  },
  {
   "cell_type": "code",
   "execution_count": 32,
   "id": "925f91e5b86ce031",
   "metadata": {
    "ExecuteTime": {
     "end_time": "2025-09-14T10:45:16.121805Z",
     "start_time": "2025-09-14T10:45:16.094Z"
    }
   },
   "outputs": [
    {
     "data": {
      "application/vnd.jupyter.widget-view+json": {
       "model_id": "6cab612a65fc4832bdfa1791ededc7f3",
       "version_major": 2,
       "version_minor": 0
      },
      "text/plain": [
       "0rows [00:00, ?rows/s]"
      ]
     },
     "metadata": {},
     "output_type": "display_data"
    },
    {
     "name": "stdout",
     "output_type": "stream",
     "text": [
      "CPU times: user 28.6 ms, sys: 5.95 ms, total: 34.5 ms\n",
      "Wall time: 30.4 ms\n"
     ]
    },
    {
     "data": {
      "text/html": [
       "<div><style>\n",
       ".dataframe > thead > tr,\n",
       ".dataframe > tbody > tr {\n",
       "  text-align: right;\n",
       "  white-space: pre-wrap;\n",
       "}\n",
       "</style>\n",
       "<small>shape: (1, 9)</small><table border=\"1\" class=\"dataframe\"><thead><tr><th>chrom</th><th>start</th><th>end</th><th>type</th><th>source</th><th>score</th><th>strand</th><th>phase</th><th>attributes</th></tr><tr><td>str</td><td>u32</td><td>u32</td><td>str</td><td>str</td><td>f32</td><td>str</td><td>u32</td><td>list[struct[2]]</td></tr></thead><tbody><tr><td>&quot;chr1&quot;</td><td>11121</td><td>24894</td><td>&quot;gene&quot;</td><td>&quot;HAVANA&quot;</td><td>null</td><td>&quot;+&quot;</td><td>null</td><td>[{&quot;ID&quot;,&quot;ENSG00000290825.2&quot;}, {&quot;gene_id&quot;,&quot;ENSG00000290825.2&quot;}, … {&quot;tag&quot;,&quot;overlaps_pseudogene&quot;}]</td></tr></tbody></table></div>"
      ],
      "text/plain": [
       "shape: (1, 9)\n",
       "┌───────┬───────┬───────┬──────┬───┬───────┬────────┬───────┬─────────────────────────────────┐\n",
       "│ chrom ┆ start ┆ end   ┆ type ┆ … ┆ score ┆ strand ┆ phase ┆ attributes                      │\n",
       "│ ---   ┆ ---   ┆ ---   ┆ ---  ┆   ┆ ---   ┆ ---    ┆ ---   ┆ ---                             │\n",
       "│ str   ┆ u32   ┆ u32   ┆ str  ┆   ┆ f32   ┆ str    ┆ u32   ┆ list[struct[2]]                 │\n",
       "╞═══════╪═══════╪═══════╪══════╪═══╪═══════╪════════╪═══════╪═════════════════════════════════╡\n",
       "│ chr1  ┆ 11121 ┆ 24894 ┆ gene ┆ … ┆ null  ┆ +      ┆ null  ┆ [{\"ID\",\"ENSG00000290825.2\"}, {… │\n",
       "└───────┴───────┴───────┴──────┴───┴───────┴────────┴───────┴─────────────────────────────────┘"
      ]
     },
     "execution_count": 32,
     "metadata": {},
     "output_type": "execute_result"
    }
   ],
   "source": [
    "%%time\n",
    "gff.limit(1).collect()"
   ]
  },
  {
   "cell_type": "code",
   "execution_count": 33,
   "id": "4ade076a5a09f077",
   "metadata": {
    "ExecuteTime": {
     "end_time": "2025-09-14T10:45:31.331786Z",
     "start_time": "2025-09-14T10:45:20.124083Z"
    }
   },
   "outputs": [
    {
     "data": {
      "application/vnd.jupyter.widget-view+json": {
       "model_id": "13c7d8c806764b6b8ef8ad1ab183fc69",
       "version_major": 2,
       "version_minor": 0
      },
      "text/plain": [
       "0rows [00:00, ?rows/s]"
      ]
     },
     "metadata": {},
     "output_type": "display_data"
    },
    {
     "name": "stdout",
     "output_type": "stream",
     "text": [
      "CPU times: user 13.3 s, sys: 645 ms, total: 13.9 s\n",
      "Wall time: 11.8 s\n"
     ]
    },
    {
     "data": {
      "text/html": [
       "<div><style>\n",
       ".dataframe > thead > tr,\n",
       ".dataframe > tbody > tr {\n",
       "  text-align: right;\n",
       "  white-space: pre-wrap;\n",
       "}\n",
       "</style>\n",
       "<small>shape: (1, 9)</small><table border=\"1\" class=\"dataframe\"><thead><tr><th>chrom</th><th>start</th><th>end</th><th>type</th><th>source</th><th>score</th><th>strand</th><th>phase</th><th>attributes</th></tr><tr><td>u32</td><td>u32</td><td>u32</td><td>u32</td><td>u32</td><td>u32</td><td>u32</td><td>u32</td><td>u32</td></tr></thead><tbody><tr><td>7747875</td><td>7747875</td><td>7747875</td><td>7747875</td><td>7747875</td><td>0</td><td>7747875</td><td>2720577</td><td>7747875</td></tr></tbody></table></div>"
      ],
      "text/plain": [
       "shape: (1, 9)\n",
       "┌─────────┬─────────┬─────────┬─────────┬───┬───────┬─────────┬─────────┬────────────┐\n",
       "│ chrom   ┆ start   ┆ end     ┆ type    ┆ … ┆ score ┆ strand  ┆ phase   ┆ attributes │\n",
       "│ ---     ┆ ---     ┆ ---     ┆ ---     ┆   ┆ ---   ┆ ---     ┆ ---     ┆ ---        │\n",
       "│ u32     ┆ u32     ┆ u32     ┆ u32     ┆   ┆ u32   ┆ u32     ┆ u32     ┆ u32        │\n",
       "╞═════════╪═════════╪═════════╪═════════╪═══╪═══════╪═════════╪═════════╪════════════╡\n",
       "│ 7747875 ┆ 7747875 ┆ 7747875 ┆ 7747875 ┆ … ┆ 0     ┆ 7747875 ┆ 2720577 ┆ 7747875    │\n",
       "└─────────┴─────────┴─────────┴─────────┴───┴───────┴─────────┴─────────┴────────────┘"
      ]
     },
     "execution_count": 33,
     "metadata": {},
     "output_type": "execute_result"
    }
   ],
   "source": [
    "%%time\n",
    "gff.count().collect()"
   ]
  },
  {
   "cell_type": "markdown",
   "id": "945f66f5501fa833",
   "metadata": {},
   "source": [
    "### Parallel reading"
   ]
  },
  {
   "cell_type": "code",
   "execution_count": 35,
   "id": "38afc3bdda33474d",
   "metadata": {
    "ExecuteTime": {
     "end_time": "2025-09-14T10:45:34.549338Z",
     "start_time": "2025-09-14T10:45:34.545557Z"
    }
   },
   "outputs": [],
   "source": [
    "gff = pb.scan_gff(bgz_path, parallel=True)"
   ]
  },
  {
   "cell_type": "code",
   "execution_count": 36,
   "id": "ba70c086e6665fd3",
   "metadata": {
    "ExecuteTime": {
     "end_time": "2025-09-14T10:45:36.336744Z",
     "start_time": "2025-09-14T10:45:36.334255Z"
    }
   },
   "outputs": [],
   "source": [
    "pb.set_option(\"datafusion.execution.target_partitions\", \"4\")"
   ]
  },
  {
   "cell_type": "code",
   "execution_count": 37,
   "id": "3b641552b6eee5e2",
   "metadata": {
    "ExecuteTime": {
     "end_time": "2025-09-14T10:45:40.545553Z",
     "start_time": "2025-09-14T10:45:37.879661Z"
    }
   },
   "outputs": [
    {
     "data": {
      "application/vnd.jupyter.widget-view+json": {
       "model_id": "f82dcba973b14543862069abe469c7af",
       "version_major": 2,
       "version_minor": 0
      },
      "text/plain": [
       "0rows [00:00, ?rows/s]"
      ]
     },
     "metadata": {},
     "output_type": "display_data"
    },
    {
     "name": "stdout",
     "output_type": "stream",
     "text": [
      "CPU times: user 12.8 s, sys: 251 ms, total: 13.1 s\n",
      "Wall time: 2.88 s\n"
     ]
    },
    {
     "data": {
      "text/html": [
       "<div><style>\n",
       ".dataframe > thead > tr,\n",
       ".dataframe > tbody > tr {\n",
       "  text-align: right;\n",
       "  white-space: pre-wrap;\n",
       "}\n",
       "</style>\n",
       "<small>shape: (1, 9)</small><table border=\"1\" class=\"dataframe\"><thead><tr><th>chrom</th><th>start</th><th>end</th><th>type</th><th>source</th><th>score</th><th>strand</th><th>phase</th><th>attributes</th></tr><tr><td>u32</td><td>u32</td><td>u32</td><td>u32</td><td>u32</td><td>u32</td><td>u32</td><td>u32</td><td>u32</td></tr></thead><tbody><tr><td>7747875</td><td>7747875</td><td>7747875</td><td>7747875</td><td>7747875</td><td>0</td><td>7747875</td><td>2720577</td><td>7747875</td></tr></tbody></table></div>"
      ],
      "text/plain": [
       "shape: (1, 9)\n",
       "┌─────────┬─────────┬─────────┬─────────┬───┬───────┬─────────┬─────────┬────────────┐\n",
       "│ chrom   ┆ start   ┆ end     ┆ type    ┆ … ┆ score ┆ strand  ┆ phase   ┆ attributes │\n",
       "│ ---     ┆ ---     ┆ ---     ┆ ---     ┆   ┆ ---   ┆ ---     ┆ ---     ┆ ---        │\n",
       "│ u32     ┆ u32     ┆ u32     ┆ u32     ┆   ┆ u32   ┆ u32     ┆ u32     ┆ u32        │\n",
       "╞═════════╪═════════╪═════════╪═════════╪═══╪═══════╪═════════╪═════════╪════════════╡\n",
       "│ 7747875 ┆ 7747875 ┆ 7747875 ┆ 7747875 ┆ … ┆ 0     ┆ 7747875 ┆ 2720577 ┆ 7747875    │\n",
       "└─────────┴─────────┴─────────┴─────────┴───┴───────┴─────────┴─────────┴────────────┘"
      ]
     },
     "execution_count": 37,
     "metadata": {},
     "output_type": "execute_result"
    }
   ],
   "source": [
    "%%time\n",
    "gff.count().collect()"
   ]
  },
  {
   "cell_type": "markdown",
   "id": "7918b0638250d3ee",
   "metadata": {},
   "source": [
    "### Projection and predicate and pushdown optimizations"
   ]
  },
  {
   "cell_type": "markdown",
   "id": "64c76dd0b11e2c49",
   "metadata": {},
   "source": [
    "#### Projection pushdown"
   ]
  },
  {
   "cell_type": "code",
   "execution_count": 38,
   "id": "e730d2b9fa619f1d",
   "metadata": {
    "ExecuteTime": {
     "end_time": "2025-09-14T10:45:46.875007Z",
     "start_time": "2025-09-14T10:45:46.872815Z"
    }
   },
   "outputs": [],
   "source": [
    "pb.set_option(\"datafusion.execution.target_partitions\", \"1\")"
   ]
  },
  {
   "cell_type": "code",
   "execution_count": 39,
   "id": "bfae30c238cd800b",
   "metadata": {
    "ExecuteTime": {
     "end_time": "2025-09-14T10:46:00.161544Z",
     "start_time": "2025-09-14T10:45:48.608784Z"
    }
   },
   "outputs": [
    {
     "data": {
      "application/vnd.jupyter.widget-view+json": {
       "model_id": "5c9070356d444059a66c0192ea5b3bb5",
       "version_major": 2,
       "version_minor": 0
      },
      "text/plain": [
       "0rows [00:00, ?rows/s]"
      ]
     },
     "metadata": {},
     "output_type": "display_data"
    },
    {
     "name": "stdout",
     "output_type": "stream",
     "text": [
      "CPU times: user 11.9 s, sys: 584 ms, total: 12.4 s\n",
      "Wall time: 12.1 s\n"
     ]
    },
    {
     "data": {
      "text/html": [
       "<div><style>\n",
       ".dataframe > thead > tr,\n",
       ".dataframe > tbody > tr {\n",
       "  text-align: right;\n",
       "  white-space: pre-wrap;\n",
       "}\n",
       "</style>\n",
       "<small>shape: (7_747_875, 3)</small><table border=\"1\" class=\"dataframe\"><thead><tr><th>chrom</th><th>start</th><th>end</th></tr><tr><td>str</td><td>u32</td><td>u32</td></tr></thead><tbody><tr><td>&quot;chr1&quot;</td><td>11121</td><td>24894</td></tr><tr><td>&quot;chr1&quot;</td><td>11121</td><td>14413</td></tr><tr><td>&quot;chr1&quot;</td><td>11121</td><td>11211</td></tr><tr><td>&quot;chr1&quot;</td><td>12010</td><td>12227</td></tr><tr><td>&quot;chr1&quot;</td><td>12613</td><td>12721</td></tr><tr><td>&hellip;</td><td>&hellip;</td><td>&hellip;</td></tr><tr><td>&quot;chrM&quot;</td><td>15888</td><td>15953</td></tr><tr><td>&quot;chrM&quot;</td><td>15888</td><td>15953</td></tr><tr><td>&quot;chrM&quot;</td><td>15956</td><td>16023</td></tr><tr><td>&quot;chrM&quot;</td><td>15956</td><td>16023</td></tr><tr><td>&quot;chrM&quot;</td><td>15956</td><td>16023</td></tr></tbody></table></div>"
      ],
      "text/plain": [
       "shape: (7_747_875, 3)\n",
       "┌───────┬───────┬───────┐\n",
       "│ chrom ┆ start ┆ end   │\n",
       "│ ---   ┆ ---   ┆ ---   │\n",
       "│ str   ┆ u32   ┆ u32   │\n",
       "╞═══════╪═══════╪═══════╡\n",
       "│ chr1  ┆ 11121 ┆ 24894 │\n",
       "│ chr1  ┆ 11121 ┆ 14413 │\n",
       "│ chr1  ┆ 11121 ┆ 11211 │\n",
       "│ chr1  ┆ 12010 ┆ 12227 │\n",
       "│ chr1  ┆ 12613 ┆ 12721 │\n",
       "│ …     ┆ …     ┆ …     │\n",
       "│ chrM  ┆ 15888 ┆ 15953 │\n",
       "│ chrM  ┆ 15888 ┆ 15953 │\n",
       "│ chrM  ┆ 15956 ┆ 16023 │\n",
       "│ chrM  ┆ 15956 ┆ 16023 │\n",
       "│ chrM  ┆ 15956 ┆ 16023 │\n",
       "└───────┴───────┴───────┘"
      ]
     },
     "execution_count": 39,
     "metadata": {},
     "output_type": "execute_result"
    }
   ],
   "source": [
    "%%time\n",
    "pb.scan_gff(bgz_path, parallel=True, projection_pushdown=False).select([\"chrom\", \"start\", \"end\"]).collect()"
   ]
  },
  {
   "cell_type": "code",
   "execution_count": 40,
   "id": "2ad7a94580771b43",
   "metadata": {
    "ExecuteTime": {
     "end_time": "2025-09-14T10:46:10.244974Z",
     "start_time": "2025-09-14T10:46:03.510825Z"
    }
   },
   "outputs": [
    {
     "data": {
      "application/vnd.jupyter.widget-view+json": {
       "model_id": "64e78dca40ce41d5a14287186d7698e8",
       "version_major": 2,
       "version_minor": 0
      },
      "text/plain": [
       "0rows [00:00, ?rows/s]"
      ]
     },
     "metadata": {},
     "output_type": "display_data"
    },
    {
     "name": "stdout",
     "output_type": "stream",
     "text": [
      "CPU times: user 6.93 s, sys: 159 ms, total: 7.09 s\n",
      "Wall time: 6.94 s\n"
     ]
    },
    {
     "data": {
      "text/html": [
       "<div><style>\n",
       ".dataframe > thead > tr,\n",
       ".dataframe > tbody > tr {\n",
       "  text-align: right;\n",
       "  white-space: pre-wrap;\n",
       "}\n",
       "</style>\n",
       "<small>shape: (7_747_875, 3)</small><table border=\"1\" class=\"dataframe\"><thead><tr><th>chrom</th><th>start</th><th>end</th></tr><tr><td>str</td><td>u32</td><td>u32</td></tr></thead><tbody><tr><td>&quot;chr1&quot;</td><td>11121</td><td>24894</td></tr><tr><td>&quot;chr1&quot;</td><td>11121</td><td>14413</td></tr><tr><td>&quot;chr1&quot;</td><td>11121</td><td>11211</td></tr><tr><td>&quot;chr1&quot;</td><td>12010</td><td>12227</td></tr><tr><td>&quot;chr1&quot;</td><td>12613</td><td>12721</td></tr><tr><td>&hellip;</td><td>&hellip;</td><td>&hellip;</td></tr><tr><td>&quot;chrM&quot;</td><td>15888</td><td>15953</td></tr><tr><td>&quot;chrM&quot;</td><td>15888</td><td>15953</td></tr><tr><td>&quot;chrM&quot;</td><td>15956</td><td>16023</td></tr><tr><td>&quot;chrM&quot;</td><td>15956</td><td>16023</td></tr><tr><td>&quot;chrM&quot;</td><td>15956</td><td>16023</td></tr></tbody></table></div>"
      ],
      "text/plain": [
       "shape: (7_747_875, 3)\n",
       "┌───────┬───────┬───────┐\n",
       "│ chrom ┆ start ┆ end   │\n",
       "│ ---   ┆ ---   ┆ ---   │\n",
       "│ str   ┆ u32   ┆ u32   │\n",
       "╞═══════╪═══════╪═══════╡\n",
       "│ chr1  ┆ 11121 ┆ 24894 │\n",
       "│ chr1  ┆ 11121 ┆ 14413 │\n",
       "│ chr1  ┆ 11121 ┆ 11211 │\n",
       "│ chr1  ┆ 12010 ┆ 12227 │\n",
       "│ chr1  ┆ 12613 ┆ 12721 │\n",
       "│ …     ┆ …     ┆ …     │\n",
       "│ chrM  ┆ 15888 ┆ 15953 │\n",
       "│ chrM  ┆ 15888 ┆ 15953 │\n",
       "│ chrM  ┆ 15956 ┆ 16023 │\n",
       "│ chrM  ┆ 15956 ┆ 16023 │\n",
       "│ chrM  ┆ 15956 ┆ 16023 │\n",
       "└───────┴───────┴───────┘"
      ]
     },
     "execution_count": 40,
     "metadata": {},
     "output_type": "execute_result"
    }
   ],
   "source": [
    "%%time\n",
    "pb.scan_gff(bgz_path, parallel=True, projection_pushdown=True).select([\"chrom\", \"start\", \"end\"]).collect()"
   ]
  },
  {
   "cell_type": "markdown",
   "id": "41d6a34f594bccf2",
   "metadata": {},
   "source": [
    "#### Increase parallelism"
   ]
  },
  {
   "cell_type": "code",
   "execution_count": 43,
   "id": "3dac8793d60f8327",
   "metadata": {
    "ExecuteTime": {
     "end_time": "2025-09-14T10:47:08.932800Z",
     "start_time": "2025-09-14T10:47:08.930134Z"
    }
   },
   "outputs": [],
   "source": [
    "pb.set_option(\"datafusion.execution.target_partitions\", \"4\")"
   ]
  },
  {
   "cell_type": "code",
   "execution_count": 44,
   "id": "59da65f24c35b207",
   "metadata": {
    "ExecuteTime": {
     "end_time": "2025-09-14T10:47:15.272065Z",
     "start_time": "2025-09-14T10:47:13.425614Z"
    }
   },
   "outputs": [
    {
     "data": {
      "application/vnd.jupyter.widget-view+json": {
       "model_id": "0128aec3c6a341b9823163dd9aaee485",
       "version_major": 2,
       "version_minor": 0
      },
      "text/plain": [
       "0rows [00:00, ?rows/s]"
      ]
     },
     "metadata": {},
     "output_type": "display_data"
    },
    {
     "name": "stdout",
     "output_type": "stream",
     "text": [
      "CPU times: user 7.82 s, sys: 174 ms, total: 8 s\n",
      "Wall time: 1.96 s\n"
     ]
    },
    {
     "data": {
      "text/html": [
       "<div><style>\n",
       ".dataframe > thead > tr,\n",
       ".dataframe > tbody > tr {\n",
       "  text-align: right;\n",
       "  white-space: pre-wrap;\n",
       "}\n",
       "</style>\n",
       "<small>shape: (7_747_875, 3)</small><table border=\"1\" class=\"dataframe\"><thead><tr><th>chrom</th><th>start</th><th>end</th></tr><tr><td>str</td><td>u32</td><td>u32</td></tr></thead><tbody><tr><td>&quot;chr1&quot;</td><td>11121</td><td>24894</td></tr><tr><td>&quot;chr1&quot;</td><td>11121</td><td>14413</td></tr><tr><td>&quot;chr1&quot;</td><td>11121</td><td>11211</td></tr><tr><td>&quot;chr1&quot;</td><td>12010</td><td>12227</td></tr><tr><td>&quot;chr1&quot;</td><td>12613</td><td>12721</td></tr><tr><td>&hellip;</td><td>&hellip;</td><td>&hellip;</td></tr><tr><td>&quot;chr16&quot;</td><td>14446888</td><td>14447081</td></tr><tr><td>&quot;chr16&quot;</td><td>14435704</td><td>14436772</td></tr><tr><td>&quot;chr16&quot;</td><td>14436717</td><td>14436772</td></tr><tr><td>&quot;chr16&quot;</td><td>14436717</td><td>14436719</td></tr><tr><td>&quot;chr16&quot;</td><td>14630126</td><td>14630252</td></tr></tbody></table></div>"
      ],
      "text/plain": [
       "shape: (7_747_875, 3)\n",
       "┌───────┬──────────┬──────────┐\n",
       "│ chrom ┆ start    ┆ end      │\n",
       "│ ---   ┆ ---      ┆ ---      │\n",
       "│ str   ┆ u32      ┆ u32      │\n",
       "╞═══════╪══════════╪══════════╡\n",
       "│ chr1  ┆ 11121    ┆ 24894    │\n",
       "│ chr1  ┆ 11121    ┆ 14413    │\n",
       "│ chr1  ┆ 11121    ┆ 11211    │\n",
       "│ chr1  ┆ 12010    ┆ 12227    │\n",
       "│ chr1  ┆ 12613    ┆ 12721    │\n",
       "│ …     ┆ …        ┆ …        │\n",
       "│ chr16 ┆ 14446888 ┆ 14447081 │\n",
       "│ chr16 ┆ 14435704 ┆ 14436772 │\n",
       "│ chr16 ┆ 14436717 ┆ 14436772 │\n",
       "│ chr16 ┆ 14436717 ┆ 14436719 │\n",
       "│ chr16 ┆ 14630126 ┆ 14630252 │\n",
       "└───────┴──────────┴──────────┘"
      ]
     },
     "execution_count": 44,
     "metadata": {},
     "output_type": "execute_result"
    }
   ],
   "source": [
    "%%time\n",
    "pb.scan_gff(bgz_path, parallel=True, projection_pushdown=True).select([\"chrom\", \"start\", \"end\"]).collect()"
   ]
  },
  {
   "cell_type": "code",
   "execution_count": 45,
   "id": "b5f48094532b7d2f",
   "metadata": {
    "ExecuteTime": {
     "end_time": "2025-09-14T10:47:17.935954Z",
     "start_time": "2025-09-14T10:47:17.933762Z"
    }
   },
   "outputs": [],
   "source": [
    "pb.set_option(\"datafusion.execution.target_partitions\", \"8\")"
   ]
  },
  {
   "cell_type": "code",
   "execution_count": 46,
   "id": "22b96d228c18817b",
   "metadata": {
    "ExecuteTime": {
     "end_time": "2025-09-14T10:47:20.928376Z",
     "start_time": "2025-09-14T10:47:19.992222Z"
    }
   },
   "outputs": [
    {
     "data": {
      "application/vnd.jupyter.widget-view+json": {
       "model_id": "7dc6be5082c84862a84fe06e4db82180",
       "version_major": 2,
       "version_minor": 0
      },
      "text/plain": [
       "0rows [00:00, ?rows/s]"
      ]
     },
     "metadata": {},
     "output_type": "display_data"
    },
    {
     "name": "stdout",
     "output_type": "stream",
     "text": [
      "CPU times: user 7.97 s, sys: 171 ms, total: 8.14 s\n",
      "Wall time: 1.01 s\n"
     ]
    },
    {
     "data": {
      "text/html": [
       "<div><style>\n",
       ".dataframe > thead > tr,\n",
       ".dataframe > tbody > tr {\n",
       "  text-align: right;\n",
       "  white-space: pre-wrap;\n",
       "}\n",
       "</style>\n",
       "<small>shape: (7_747_875, 3)</small><table border=\"1\" class=\"dataframe\"><thead><tr><th>chrom</th><th>start</th><th>end</th></tr><tr><td>str</td><td>u32</td><td>u32</td></tr></thead><tbody><tr><td>&quot;chr1&quot;</td><td>11121</td><td>24894</td></tr><tr><td>&quot;chr1&quot;</td><td>11121</td><td>14413</td></tr><tr><td>&quot;chr1&quot;</td><td>11121</td><td>11211</td></tr><tr><td>&quot;chr1&quot;</td><td>12010</td><td>12227</td></tr><tr><td>&quot;chr1&quot;</td><td>12613</td><td>12721</td></tr><tr><td>&hellip;</td><td>&hellip;</td><td>&hellip;</td></tr><tr><td>&quot;chr16&quot;</td><td>14446888</td><td>14447081</td></tr><tr><td>&quot;chr16&quot;</td><td>14435704</td><td>14436772</td></tr><tr><td>&quot;chr16&quot;</td><td>14436717</td><td>14436772</td></tr><tr><td>&quot;chr16&quot;</td><td>14436717</td><td>14436719</td></tr><tr><td>&quot;chr16&quot;</td><td>14630126</td><td>14630252</td></tr></tbody></table></div>"
      ],
      "text/plain": [
       "shape: (7_747_875, 3)\n",
       "┌───────┬──────────┬──────────┐\n",
       "│ chrom ┆ start    ┆ end      │\n",
       "│ ---   ┆ ---      ┆ ---      │\n",
       "│ str   ┆ u32      ┆ u32      │\n",
       "╞═══════╪══════════╪══════════╡\n",
       "│ chr1  ┆ 11121    ┆ 24894    │\n",
       "│ chr1  ┆ 11121    ┆ 14413    │\n",
       "│ chr1  ┆ 11121    ┆ 11211    │\n",
       "│ chr1  ┆ 12010    ┆ 12227    │\n",
       "│ chr1  ┆ 12613    ┆ 12721    │\n",
       "│ …     ┆ …        ┆ …        │\n",
       "│ chr16 ┆ 14446888 ┆ 14447081 │\n",
       "│ chr16 ┆ 14435704 ┆ 14436772 │\n",
       "│ chr16 ┆ 14436717 ┆ 14436772 │\n",
       "│ chr16 ┆ 14436717 ┆ 14436719 │\n",
       "│ chr16 ┆ 14630126 ┆ 14630252 │\n",
       "└───────┴──────────┴──────────┘"
      ]
     },
     "execution_count": 46,
     "metadata": {},
     "output_type": "execute_result"
    }
   ],
   "source": [
    "%%time\n",
    "pb.scan_gff(bgz_path, parallel=True, projection_pushdown=True).select([\"chrom\", \"start\", \"end\"]).collect()"
   ]
  },
  {
   "cell_type": "markdown",
   "id": "dc659484bf11b5ea",
   "metadata": {},
   "source": [
    "#### Predicate pushdown"
   ]
  },
  {
   "cell_type": "code",
   "execution_count": 47,
   "id": "9ddaa9d72b6ed3ca",
   "metadata": {
    "ExecuteTime": {
     "end_time": "2025-09-15T04:39:49.448377Z",
     "start_time": "2025-09-15T04:39:49.446038Z"
    }
   },
   "outputs": [],
   "source": [
    "pb.set_option(\"datafusion.execution.target_partitions\", \"1\")"
   ]
  },
  {
   "cell_type": "code",
   "execution_count": 48,
   "id": "1bdd60618138e820",
   "metadata": {
    "ExecuteTime": {
     "end_time": "2025-09-15T04:39:52.524499Z",
     "start_time": "2025-09-15T04:39:52.520654Z"
    }
   },
   "outputs": [],
   "source": [
    "lf = pb.scan_gff(bgz_path, parallel=True, predicate_pushdown=False).filter(\n",
    "    (pl.col(\"chrom\") == \"chrY\")\n",
    "    & (pl.col(\"start\") < 500000)\n",
    "    & (pl.col(\"end\") > 510000)\n",
    ")"
   ]
  },
  {
   "cell_type": "code",
   "execution_count": 49,
   "id": "1d336f4606f5c908",
   "metadata": {
    "ExecuteTime": {
     "end_time": "2025-09-15T04:40:08.911752Z",
     "start_time": "2025-09-15T04:39:57.229419Z"
    }
   },
   "outputs": [
    {
     "data": {
      "application/vnd.jupyter.widget-view+json": {
       "model_id": "e38ba785a1c6493db3896ac4b73afe4e",
       "version_major": 2,
       "version_minor": 0
      },
      "text/plain": [
       "0rows [00:00, ?rows/s]"
      ]
     },
     "metadata": {},
     "output_type": "display_data"
    },
    {
     "name": "stdout",
     "output_type": "stream",
     "text": [
      "CPU times: user 11.8 s, sys: 259 ms, total: 12 s\n",
      "Wall time: 11.6 s\n"
     ]
    },
    {
     "data": {
      "text/html": [
       "<div><style>\n",
       ".dataframe > thead > tr,\n",
       ".dataframe > tbody > tr {\n",
       "  text-align: right;\n",
       "  white-space: pre-wrap;\n",
       "}\n",
       "</style>\n",
       "<small>shape: (2, 9)</small><table border=\"1\" class=\"dataframe\"><thead><tr><th>chrom</th><th>start</th><th>end</th><th>type</th><th>source</th><th>score</th><th>strand</th><th>phase</th><th>attributes</th></tr><tr><td>str</td><td>u32</td><td>u32</td><td>str</td><td>str</td><td>f32</td><td>str</td><td>u32</td><td>list[struct[2]]</td></tr></thead><tbody><tr><td>&quot;chrY&quot;</td><td>386962</td><td>511616</td><td>&quot;gene&quot;</td><td>&quot;HAVANA&quot;</td><td>null</td><td>&quot;+&quot;</td><td>null</td><td>[{&quot;ID&quot;,&quot;ENSG00000292349.2&quot;}, {&quot;gene_id&quot;,&quot;ENSG00000292349.2&quot;}, … {&quot;havana_gene&quot;,&quot;OTTHUMG00000189992.1&quot;}]</td></tr><tr><td>&quot;chrY&quot;</td><td>387035</td><td>511616</td><td>&quot;transcript&quot;</td><td>&quot;HAVANA&quot;</td><td>null</td><td>&quot;+&quot;</td><td>null</td><td>[{&quot;ID&quot;,&quot;ENST00000972808.1&quot;}, {&quot;Parent&quot;,&quot;ENSG00000292349.2&quot;}, … {&quot;havana_gene&quot;,&quot;OTTHUMG00000189992.1&quot;}]</td></tr></tbody></table></div>"
      ],
      "text/plain": [
       "shape: (2, 9)\n",
       "┌───────┬────────┬────────┬────────────┬───┬───────┬────────┬───────┬──────────────────────────────┐\n",
       "│ chrom ┆ start  ┆ end    ┆ type       ┆ … ┆ score ┆ strand ┆ phase ┆ attributes                   │\n",
       "│ ---   ┆ ---    ┆ ---    ┆ ---        ┆   ┆ ---   ┆ ---    ┆ ---   ┆ ---                          │\n",
       "│ str   ┆ u32    ┆ u32    ┆ str        ┆   ┆ f32   ┆ str    ┆ u32   ┆ list[struct[2]]              │\n",
       "╞═══════╪════════╪════════╪════════════╪═══╪═══════╪════════╪═══════╪══════════════════════════════╡\n",
       "│ chrY  ┆ 386962 ┆ 511616 ┆ gene       ┆ … ┆ null  ┆ +      ┆ null  ┆ [{\"ID\",\"ENSG00000292349.2\"}, │\n",
       "│       ┆        ┆        ┆            ┆   ┆       ┆        ┆       ┆ {…                           │\n",
       "│ chrY  ┆ 387035 ┆ 511616 ┆ transcript ┆ … ┆ null  ┆ +      ┆ null  ┆ [{\"ID\",\"ENST00000972808.1\"}, │\n",
       "│       ┆        ┆        ┆            ┆   ┆       ┆        ┆       ┆ {…                           │\n",
       "└───────┴────────┴────────┴────────────┴───┴───────┴────────┴───────┴──────────────────────────────┘"
      ]
     },
     "execution_count": 49,
     "metadata": {},
     "output_type": "execute_result"
    }
   ],
   "source": [
    "%%time\n",
    "lf.collect()"
   ]
  },
  {
   "cell_type": "code",
   "execution_count": 50,
   "id": "74016b053c6bb4f0",
   "metadata": {
    "ExecuteTime": {
     "end_time": "2025-09-15T04:39:29.454123Z",
     "start_time": "2025-09-15T04:39:29.449786Z"
    }
   },
   "outputs": [],
   "source": [
    "lf = pb.scan_gff(bgz_path, parallel=True, predicate_pushdown=True).filter(\n",
    "    (pl.col(\"chrom\") == \"chrY\")\n",
    "    & (pl.col(\"start\") < 500000)\n",
    "    & (pl.col(\"end\") > 510000)\n",
    ")"
   ]
  },
  {
   "cell_type": "code",
   "execution_count": 51,
   "id": "ac91199f52dcae1b",
   "metadata": {
    "ExecuteTime": {
     "end_time": "2025-09-15T04:39:36.103506Z",
     "start_time": "2025-09-15T04:39:31.243049Z"
    }
   },
   "outputs": [
    {
     "data": {
      "application/vnd.jupyter.widget-view+json": {
       "model_id": "7c49de492ee04d09a0914a7918d64a73",
       "version_major": 2,
       "version_minor": 0
      },
      "text/plain": [
       "0rows [00:00, ?rows/s]"
      ]
     },
     "metadata": {},
     "output_type": "display_data"
    },
    {
     "name": "stdout",
     "output_type": "stream",
     "text": [
      "CPU times: user 4 s, sys: 43.3 ms, total: 4.04 s\n",
      "Wall time: 4.04 s\n"
     ]
    },
    {
     "data": {
      "text/html": [
       "<div><style>\n",
       ".dataframe > thead > tr,\n",
       ".dataframe > tbody > tr {\n",
       "  text-align: right;\n",
       "  white-space: pre-wrap;\n",
       "}\n",
       "</style>\n",
       "<small>shape: (2, 9)</small><table border=\"1\" class=\"dataframe\"><thead><tr><th>chrom</th><th>start</th><th>end</th><th>type</th><th>source</th><th>score</th><th>strand</th><th>phase</th><th>attributes</th></tr><tr><td>str</td><td>u32</td><td>u32</td><td>str</td><td>str</td><td>f32</td><td>str</td><td>u32</td><td>list[struct[2]]</td></tr></thead><tbody><tr><td>&quot;chrY&quot;</td><td>386962</td><td>511616</td><td>&quot;gene&quot;</td><td>&quot;HAVANA&quot;</td><td>null</td><td>&quot;+&quot;</td><td>null</td><td>[{&quot;ID&quot;,&quot;ENSG00000292349.2&quot;}, {&quot;gene_id&quot;,&quot;ENSG00000292349.2&quot;}, … {&quot;havana_gene&quot;,&quot;OTTHUMG00000189992.1&quot;}]</td></tr><tr><td>&quot;chrY&quot;</td><td>387035</td><td>511616</td><td>&quot;transcript&quot;</td><td>&quot;HAVANA&quot;</td><td>null</td><td>&quot;+&quot;</td><td>null</td><td>[{&quot;ID&quot;,&quot;ENST00000972808.1&quot;}, {&quot;Parent&quot;,&quot;ENSG00000292349.2&quot;}, … {&quot;havana_gene&quot;,&quot;OTTHUMG00000189992.1&quot;}]</td></tr></tbody></table></div>"
      ],
      "text/plain": [
       "shape: (2, 9)\n",
       "┌───────┬────────┬────────┬────────────┬───┬───────┬────────┬───────┬──────────────────────────────┐\n",
       "│ chrom ┆ start  ┆ end    ┆ type       ┆ … ┆ score ┆ strand ┆ phase ┆ attributes                   │\n",
       "│ ---   ┆ ---    ┆ ---    ┆ ---        ┆   ┆ ---   ┆ ---    ┆ ---   ┆ ---                          │\n",
       "│ str   ┆ u32    ┆ u32    ┆ str        ┆   ┆ f32   ┆ str    ┆ u32   ┆ list[struct[2]]              │\n",
       "╞═══════╪════════╪════════╪════════════╪═══╪═══════╪════════╪═══════╪══════════════════════════════╡\n",
       "│ chrY  ┆ 386962 ┆ 511616 ┆ gene       ┆ … ┆ null  ┆ +      ┆ null  ┆ [{\"ID\",\"ENSG00000292349.2\"}, │\n",
       "│       ┆        ┆        ┆            ┆   ┆       ┆        ┆       ┆ {…                           │\n",
       "│ chrY  ┆ 387035 ┆ 511616 ┆ transcript ┆ … ┆ null  ┆ +      ┆ null  ┆ [{\"ID\",\"ENST00000972808.1\"}, │\n",
       "│       ┆        ┆        ┆            ┆   ┆       ┆        ┆       ┆ {…                           │\n",
       "└───────┴────────┴────────┴────────────┴───┴───────┴────────┴───────┴──────────────────────────────┘"
      ]
     },
     "execution_count": 51,
     "metadata": {},
     "output_type": "execute_result"
    }
   ],
   "source": [
    "%%time\n",
    "lf.collect()"
   ]
  },
  {
   "cell_type": "markdown",
   "id": "6d858661720c6479",
   "metadata": {},
   "source": [
    "#### Increase parallelism"
   ]
  },
  {
   "cell_type": "code",
   "execution_count": 52,
   "id": "cef42c518147e77d",
   "metadata": {
    "ExecuteTime": {
     "end_time": "2025-09-14T10:48:13.505069Z",
     "start_time": "2025-09-14T10:48:13.502547Z"
    }
   },
   "outputs": [],
   "source": [
    "pb.set_option(\"datafusion.execution.target_partitions\", \"4\")"
   ]
  },
  {
   "cell_type": "code",
   "execution_count": 53,
   "id": "30f00a9ec560b72c",
   "metadata": {
    "ExecuteTime": {
     "end_time": "2025-09-14T10:48:21.964572Z",
     "start_time": "2025-09-14T10:48:20.851899Z"
    }
   },
   "outputs": [
    {
     "data": {
      "application/vnd.jupyter.widget-view+json": {
       "model_id": "4e8f15ccd1d248e1acd7da7e91903cf5",
       "version_major": 2,
       "version_minor": 0
      },
      "text/plain": [
       "0rows [00:00, ?rows/s]"
      ]
     },
     "metadata": {},
     "output_type": "display_data"
    },
    {
     "name": "stdout",
     "output_type": "stream",
     "text": [
      "CPU times: user 4.57 s, sys: 35 ms, total: 4.6 s\n",
      "Wall time: 1.17 s\n"
     ]
    },
    {
     "data": {
      "text/html": [
       "<div><style>\n",
       ".dataframe > thead > tr,\n",
       ".dataframe > tbody > tr {\n",
       "  text-align: right;\n",
       "  white-space: pre-wrap;\n",
       "}\n",
       "</style>\n",
       "<small>shape: (2, 9)</small><table border=\"1\" class=\"dataframe\"><thead><tr><th>chrom</th><th>start</th><th>end</th><th>type</th><th>source</th><th>score</th><th>strand</th><th>phase</th><th>attributes</th></tr><tr><td>str</td><td>u32</td><td>u32</td><td>str</td><td>str</td><td>f32</td><td>str</td><td>u32</td><td>list[struct[2]]</td></tr></thead><tbody><tr><td>&quot;chrY&quot;</td><td>386962</td><td>511616</td><td>&quot;gene&quot;</td><td>&quot;HAVANA&quot;</td><td>null</td><td>&quot;+&quot;</td><td>null</td><td>[{&quot;ID&quot;,&quot;ENSG00000292349.2&quot;}, {&quot;gene_id&quot;,&quot;ENSG00000292349.2&quot;}, … {&quot;havana_gene&quot;,&quot;OTTHUMG00000189992.1&quot;}]</td></tr><tr><td>&quot;chrY&quot;</td><td>387035</td><td>511616</td><td>&quot;transcript&quot;</td><td>&quot;HAVANA&quot;</td><td>null</td><td>&quot;+&quot;</td><td>null</td><td>[{&quot;ID&quot;,&quot;ENST00000972808.1&quot;}, {&quot;Parent&quot;,&quot;ENSG00000292349.2&quot;}, … {&quot;havana_gene&quot;,&quot;OTTHUMG00000189992.1&quot;}]</td></tr></tbody></table></div>"
      ],
      "text/plain": [
       "shape: (2, 9)\n",
       "┌───────┬────────┬────────┬────────────┬───┬───────┬────────┬───────┬──────────────────────────────┐\n",
       "│ chrom ┆ start  ┆ end    ┆ type       ┆ … ┆ score ┆ strand ┆ phase ┆ attributes                   │\n",
       "│ ---   ┆ ---    ┆ ---    ┆ ---        ┆   ┆ ---   ┆ ---    ┆ ---   ┆ ---                          │\n",
       "│ str   ┆ u32    ┆ u32    ┆ str        ┆   ┆ f32   ┆ str    ┆ u32   ┆ list[struct[2]]              │\n",
       "╞═══════╪════════╪════════╪════════════╪═══╪═══════╪════════╪═══════╪══════════════════════════════╡\n",
       "│ chrY  ┆ 386962 ┆ 511616 ┆ gene       ┆ … ┆ null  ┆ +      ┆ null  ┆ [{\"ID\",\"ENSG00000292349.2\"}, │\n",
       "│       ┆        ┆        ┆            ┆   ┆       ┆        ┆       ┆ {…                           │\n",
       "│ chrY  ┆ 387035 ┆ 511616 ┆ transcript ┆ … ┆ null  ┆ +      ┆ null  ┆ [{\"ID\",\"ENST00000972808.1\"}, │\n",
       "│       ┆        ┆        ┆            ┆   ┆       ┆        ┆       ┆ {…                           │\n",
       "└───────┴────────┴────────┴────────────┴───┴───────┴────────┴───────┴──────────────────────────────┘"
      ]
     },
     "execution_count": 53,
     "metadata": {},
     "output_type": "execute_result"
    }
   ],
   "source": [
    "%%time\n",
    "lf.collect()"
   ]
  },
  {
   "cell_type": "markdown",
   "id": "d48521eb38cbeaaa",
   "metadata": {},
   "source": [
    "#### Combine projection and predicate pushdown"
   ]
  },
  {
   "cell_type": "code",
   "execution_count": 54,
   "id": "6abf05c47e3d59b5",
   "metadata": {
    "ExecuteTime": {
     "end_time": "2025-09-14T10:48:24.516754Z",
     "start_time": "2025-09-14T10:48:24.514650Z"
    }
   },
   "outputs": [],
   "source": [
    "pb.set_option(\"datafusion.execution.target_partitions\", \"1\")"
   ]
  },
  {
   "cell_type": "code",
   "execution_count": 55,
   "id": "3a0d2b6c344e88d9",
   "metadata": {
    "ExecuteTime": {
     "end_time": "2025-09-14T10:48:34.400840Z",
     "start_time": "2025-09-14T10:48:26.929917Z"
    }
   },
   "outputs": [
    {
     "data": {
      "application/vnd.jupyter.widget-view+json": {
       "model_id": "e67f72fb44704c5484764400552a3b6f",
       "version_major": 2,
       "version_minor": 0
      },
      "text/plain": [
       "0rows [00:00, ?rows/s]"
      ]
     },
     "metadata": {},
     "output_type": "display_data"
    },
    {
     "name": "stdout",
     "output_type": "stream",
     "text": [
      "CPU times: user 7.61 s, sys: 189 ms, total: 7.8 s\n",
      "Wall time: 7.66 s\n"
     ]
    },
    {
     "data": {
      "text/html": [
       "<div><style>\n",
       ".dataframe > thead > tr,\n",
       ".dataframe > tbody > tr {\n",
       "  text-align: right;\n",
       "  white-space: pre-wrap;\n",
       "}\n",
       "</style>\n",
       "<small>shape: (7_747_875, 4)</small><table border=\"1\" class=\"dataframe\"><thead><tr><th>chrom</th><th>start</th><th>end</th><th>ID</th></tr><tr><td>str</td><td>u32</td><td>u32</td><td>str</td></tr></thead><tbody><tr><td>&quot;chr1&quot;</td><td>11121</td><td>24894</td><td>&quot;ENSG00000290825.2&quot;</td></tr><tr><td>&quot;chr1&quot;</td><td>11121</td><td>14413</td><td>&quot;ENST00000832824.1&quot;</td></tr><tr><td>&quot;chr1&quot;</td><td>11121</td><td>11211</td><td>&quot;exon:ENST00000832824.1:1&quot;</td></tr><tr><td>&quot;chr1&quot;</td><td>12010</td><td>12227</td><td>&quot;exon:ENST00000832824.1:2&quot;</td></tr><tr><td>&quot;chr1&quot;</td><td>12613</td><td>12721</td><td>&quot;exon:ENST00000832824.1:3&quot;</td></tr><tr><td>&hellip;</td><td>&hellip;</td><td>&hellip;</td><td>&hellip;</td></tr><tr><td>&quot;chrM&quot;</td><td>15888</td><td>15953</td><td>&quot;ENST00000387460.2&quot;</td></tr><tr><td>&quot;chrM&quot;</td><td>15888</td><td>15953</td><td>&quot;exon:ENST00000387460.2:1&quot;</td></tr><tr><td>&quot;chrM&quot;</td><td>15956</td><td>16023</td><td>&quot;ENSG00000210196.2&quot;</td></tr><tr><td>&quot;chrM&quot;</td><td>15956</td><td>16023</td><td>&quot;ENST00000387461.2&quot;</td></tr><tr><td>&quot;chrM&quot;</td><td>15956</td><td>16023</td><td>&quot;exon:ENST00000387461.2:1&quot;</td></tr></tbody></table></div>"
      ],
      "text/plain": [
       "shape: (7_747_875, 4)\n",
       "┌───────┬───────┬───────┬──────────────────────────┐\n",
       "│ chrom ┆ start ┆ end   ┆ ID                       │\n",
       "│ ---   ┆ ---   ┆ ---   ┆ ---                      │\n",
       "│ str   ┆ u32   ┆ u32   ┆ str                      │\n",
       "╞═══════╪═══════╪═══════╪══════════════════════════╡\n",
       "│ chr1  ┆ 11121 ┆ 24894 ┆ ENSG00000290825.2        │\n",
       "│ chr1  ┆ 11121 ┆ 14413 ┆ ENST00000832824.1        │\n",
       "│ chr1  ┆ 11121 ┆ 11211 ┆ exon:ENST00000832824.1:1 │\n",
       "│ chr1  ┆ 12010 ┆ 12227 ┆ exon:ENST00000832824.1:2 │\n",
       "│ chr1  ┆ 12613 ┆ 12721 ┆ exon:ENST00000832824.1:3 │\n",
       "│ …     ┆ …     ┆ …     ┆ …                        │\n",
       "│ chrM  ┆ 15888 ┆ 15953 ┆ ENST00000387460.2        │\n",
       "│ chrM  ┆ 15888 ┆ 15953 ┆ exon:ENST00000387460.2:1 │\n",
       "│ chrM  ┆ 15956 ┆ 16023 ┆ ENSG00000210196.2        │\n",
       "│ chrM  ┆ 15956 ┆ 16023 ┆ ENST00000387461.2        │\n",
       "│ chrM  ┆ 15956 ┆ 16023 ┆ exon:ENST00000387461.2:1 │\n",
       "└───────┴───────┴───────┴──────────────────────────┘"
      ]
     },
     "execution_count": 55,
     "metadata": {},
     "output_type": "execute_result"
    }
   ],
   "source": [
    "%%time\n",
    "(pb.scan_gff(bgz_path, parallel=True, predicate_pushdown=False, projection_pushdown=False)\n",
    ".select([\"chrom\", \"start\", \"end\", \"ID\"])\n",
    ").collect()"
   ]
  },
  {
   "cell_type": "code",
   "execution_count": 56,
   "id": "d68a3dee11f483e1",
   "metadata": {
    "ExecuteTime": {
     "end_time": "2025-09-14T10:48:47.850064Z",
     "start_time": "2025-09-14T10:48:40.396221Z"
    }
   },
   "outputs": [
    {
     "data": {
      "application/vnd.jupyter.widget-view+json": {
       "model_id": "8073f73a45a64bf581e439a4dbcf64a5",
       "version_major": 2,
       "version_minor": 0
      },
      "text/plain": [
       "0rows [00:00, ?rows/s]"
      ]
     },
     "metadata": {},
     "output_type": "display_data"
    },
    {
     "name": "stdout",
     "output_type": "stream",
     "text": [
      "CPU times: user 7.71 s, sys: 181 ms, total: 7.9 s\n",
      "Wall time: 7.65 s\n"
     ]
    },
    {
     "data": {
      "text/html": [
       "<div><style>\n",
       ".dataframe > thead > tr,\n",
       ".dataframe > tbody > tr {\n",
       "  text-align: right;\n",
       "  white-space: pre-wrap;\n",
       "}\n",
       "</style>\n",
       "<small>shape: (2, 4)</small><table border=\"1\" class=\"dataframe\"><thead><tr><th>chrom</th><th>start</th><th>end</th><th>ID</th></tr><tr><td>str</td><td>u32</td><td>u32</td><td>str</td></tr></thead><tbody><tr><td>&quot;chrY&quot;</td><td>386962</td><td>511616</td><td>&quot;ENSG00000292349.2&quot;</td></tr><tr><td>&quot;chrY&quot;</td><td>387035</td><td>511616</td><td>&quot;ENST00000972808.1&quot;</td></tr></tbody></table></div>"
      ],
      "text/plain": [
       "shape: (2, 4)\n",
       "┌───────┬────────┬────────┬───────────────────┐\n",
       "│ chrom ┆ start  ┆ end    ┆ ID                │\n",
       "│ ---   ┆ ---    ┆ ---    ┆ ---               │\n",
       "│ str   ┆ u32    ┆ u32    ┆ str               │\n",
       "╞═══════╪════════╪════════╪═══════════════════╡\n",
       "│ chrY  ┆ 386962 ┆ 511616 ┆ ENSG00000292349.2 │\n",
       "│ chrY  ┆ 387035 ┆ 511616 ┆ ENST00000972808.1 │\n",
       "└───────┴────────┴────────┴───────────────────┘"
      ]
     },
     "execution_count": 56,
     "metadata": {},
     "output_type": "execute_result"
    }
   ],
   "source": [
    "%%time\n",
    "(pb.scan_gff(bgz_path, parallel=True, predicate_pushdown=False, projection_pushdown=False)\n",
    ".select([\"chrom\", \"start\", \"end\", \"ID\"])\n",
    ".filter(\n",
    "    (pl.col(\"chrom\") == \"chrY\")\n",
    "    & (pl.col(\"start\") < 500000)\n",
    "    & (pl.col(\"end\") > 510000)\n",
    ")).collect()"
   ]
  },
  {
   "cell_type": "code",
   "execution_count": 57,
   "id": "5711ba46a5fce479",
   "metadata": {
    "ExecuteTime": {
     "end_time": "2025-09-14T10:48:54.197663Z",
     "start_time": "2025-09-14T10:48:50.065482Z"
    }
   },
   "outputs": [
    {
     "data": {
      "application/vnd.jupyter.widget-view+json": {
       "model_id": "85b8f8558232435fb4d8c396df0e2405",
       "version_major": 2,
       "version_minor": 0
      },
      "text/plain": [
       "0rows [00:00, ?rows/s]"
      ]
     },
     "metadata": {},
     "output_type": "display_data"
    },
    {
     "name": "stdout",
     "output_type": "stream",
     "text": [
      "CPU times: user 4.06 s, sys: 45.4 ms, total: 4.11 s\n",
      "Wall time: 4.1 s\n"
     ]
    },
    {
     "data": {
      "text/html": [
       "<div><style>\n",
       ".dataframe > thead > tr,\n",
       ".dataframe > tbody > tr {\n",
       "  text-align: right;\n",
       "  white-space: pre-wrap;\n",
       "}\n",
       "</style>\n",
       "<small>shape: (2, 4)</small><table border=\"1\" class=\"dataframe\"><thead><tr><th>chrom</th><th>start</th><th>end</th><th>ID</th></tr><tr><td>str</td><td>u32</td><td>u32</td><td>str</td></tr></thead><tbody><tr><td>&quot;chrY&quot;</td><td>386962</td><td>511616</td><td>&quot;ENSG00000292349.2&quot;</td></tr><tr><td>&quot;chrY&quot;</td><td>387035</td><td>511616</td><td>&quot;ENST00000972808.1&quot;</td></tr></tbody></table></div>"
      ],
      "text/plain": [
       "shape: (2, 4)\n",
       "┌───────┬────────┬────────┬───────────────────┐\n",
       "│ chrom ┆ start  ┆ end    ┆ ID                │\n",
       "│ ---   ┆ ---    ┆ ---    ┆ ---               │\n",
       "│ str   ┆ u32    ┆ u32    ┆ str               │\n",
       "╞═══════╪════════╪════════╪═══════════════════╡\n",
       "│ chrY  ┆ 386962 ┆ 511616 ┆ ENSG00000292349.2 │\n",
       "│ chrY  ┆ 387035 ┆ 511616 ┆ ENST00000972808.1 │\n",
       "└───────┴────────┴────────┴───────────────────┘"
      ]
     },
     "execution_count": 57,
     "metadata": {},
     "output_type": "execute_result"
    }
   ],
   "source": [
    "%%time\n",
    "(pb.scan_gff(bgz_path, parallel=True, predicate_pushdown=True, projection_pushdown=True)\n",
    ".select([\"chrom\", \"start\", \"end\", \"ID\"])\n",
    ".filter(\n",
    "    (pl.col(\"chrom\") == \"chrY\")\n",
    "    & (pl.col(\"start\") < 500000)\n",
    "    & (pl.col(\"end\") > 510000)\n",
    ")).collect()"
   ]
  },
  {
   "cell_type": "code",
   "execution_count": 58,
   "id": "f51312875a5094e5",
   "metadata": {
    "ExecuteTime": {
     "end_time": "2025-09-14T10:48:58.042366Z",
     "start_time": "2025-09-14T10:48:58.040260Z"
    }
   },
   "outputs": [],
   "source": [
    "pb.set_option(\"datafusion.execution.target_partitions\", \"4\")"
   ]
  },
  {
   "cell_type": "code",
   "execution_count": 59,
   "id": "d034c8f45f08185a",
   "metadata": {
    "ExecuteTime": {
     "end_time": "2025-09-14T10:49:01.727520Z",
     "start_time": "2025-09-14T10:49:00.612999Z"
    }
   },
   "outputs": [
    {
     "data": {
      "application/vnd.jupyter.widget-view+json": {
       "model_id": "a15482a2deef499f8553fe6f289c18ab",
       "version_major": 2,
       "version_minor": 0
      },
      "text/plain": [
       "0rows [00:00, ?rows/s]"
      ]
     },
     "metadata": {},
     "output_type": "display_data"
    },
    {
     "name": "stdout",
     "output_type": "stream",
     "text": [
      "CPU times: user 4.53 s, sys: 35.9 ms, total: 4.57 s\n",
      "Wall time: 1.16 s\n"
     ]
    },
    {
     "data": {
      "text/html": [
       "<div><style>\n",
       ".dataframe > thead > tr,\n",
       ".dataframe > tbody > tr {\n",
       "  text-align: right;\n",
       "  white-space: pre-wrap;\n",
       "}\n",
       "</style>\n",
       "<small>shape: (2, 4)</small><table border=\"1\" class=\"dataframe\"><thead><tr><th>chrom</th><th>start</th><th>end</th><th>ID</th></tr><tr><td>str</td><td>u32</td><td>u32</td><td>str</td></tr></thead><tbody><tr><td>&quot;chrY&quot;</td><td>386962</td><td>511616</td><td>&quot;ENSG00000292349.2&quot;</td></tr><tr><td>&quot;chrY&quot;</td><td>387035</td><td>511616</td><td>&quot;ENST00000972808.1&quot;</td></tr></tbody></table></div>"
      ],
      "text/plain": [
       "shape: (2, 4)\n",
       "┌───────┬────────┬────────┬───────────────────┐\n",
       "│ chrom ┆ start  ┆ end    ┆ ID                │\n",
       "│ ---   ┆ ---    ┆ ---    ┆ ---               │\n",
       "│ str   ┆ u32    ┆ u32    ┆ str               │\n",
       "╞═══════╪════════╪════════╪═══════════════════╡\n",
       "│ chrY  ┆ 386962 ┆ 511616 ┆ ENSG00000292349.2 │\n",
       "│ chrY  ┆ 387035 ┆ 511616 ┆ ENST00000972808.1 │\n",
       "└───────┴────────┴────────┴───────────────────┘"
      ]
     },
     "execution_count": 59,
     "metadata": {},
     "output_type": "execute_result"
    }
   ],
   "source": [
    "%%time\n",
    "(pb.scan_gff(bgz_path, parallel=True, predicate_pushdown=True, projection_pushdown=True)\n",
    ".select([\"chrom\", \"start\", \"end\", \"ID\"])\n",
    ".filter(\n",
    "    (pl.col(\"chrom\") == \"chrY\")\n",
    "    & (pl.col(\"start\") < 500000)\n",
    "    & (pl.col(\"end\") > 510000)\n",
    ")).collect()"
   ]
  },
  {
   "cell_type": "markdown",
   "id": "b3bb4f427341fc53",
   "metadata": {},
   "source": [
    "### Overlaps"
   ]
  },
  {
   "cell_type": "code",
   "execution_count": 62,
   "id": "108328a1cb986433",
   "metadata": {
    "ExecuteTime": {
     "end_time": "2025-09-14T10:49:09.800435Z",
     "start_time": "2025-09-14T10:49:09.798501Z"
    }
   },
   "outputs": [],
   "source": [
    "pb.set_option(\"datafusion.execution.target_partitions\", \"1\")"
   ]
  },
  {
   "cell_type": "code",
   "execution_count": 64,
   "id": "2eb8d2287865aeff",
   "metadata": {
    "ExecuteTime": {
     "end_time": "2025-09-14T10:55:55.115231Z",
     "start_time": "2025-09-14T10:55:55.100511Z"
    }
   },
   "outputs": [],
   "source": [
    "df = pb.scan_gff(bgz_path, projection_pushdown=True,\n",
    "                 parallel=True).select([\"chrom\", \"start\", \"end\", \"ID\", \"type\"])\n",
    "df2 = pb.scan_gff(bgz_path, projection_pushdown=True,\n",
    "                  parallel=True).select([\"chrom\", \"start\", \"end\", \"source\"])"
   ]
  },
  {
   "cell_type": "code",
   "execution_count": 65,
   "id": "e24c820ca42d2806",
   "metadata": {
    "ExecuteTime": {
     "end_time": "2025-09-14T10:51:15.188442Z",
     "start_time": "2025-09-14T10:51:00.098223Z"
    }
   },
   "outputs": [
    {
     "data": {
      "application/vnd.jupyter.widget-view+json": {
       "model_id": "215b0235f3de44a58e41503f925086be",
       "version_major": 2,
       "version_minor": 0
      },
      "text/plain": [
       "0rows [00:00, ?rows/s]"
      ]
     },
     "metadata": {},
     "output_type": "display_data"
    },
    {
     "data": {
      "application/vnd.jupyter.widget-view+json": {
       "model_id": "b5de612e864d48039f02b4ffb78d4c52",
       "version_major": 2,
       "version_minor": 0
      },
      "text/plain": [
       "0rows [00:00, ?rows/s]"
      ]
     },
     "metadata": {},
     "output_type": "display_data"
    },
    {
     "data": {
      "application/vnd.jupyter.widget-view+json": {
       "model_id": "f1dbc6895070411aa61b95a69c4d83a4",
       "version_major": 2,
       "version_minor": 0
      },
      "text/plain": [
       "0rows [00:00, ?rows/s]"
      ]
     },
     "metadata": {},
     "output_type": "display_data"
    },
    {
     "name": "stdout",
     "output_type": "stream",
     "text": [
      "CPU times: user 17.2 s, sys: 545 ms, total: 17.7 s\n",
      "Wall time: 15.6 s\n"
     ]
    },
    {
     "data": {
      "text/html": [
       "<div><style>\n",
       ".dataframe > thead > tr,\n",
       ".dataframe > tbody > tr {\n",
       "  text-align: right;\n",
       "  white-space: pre-wrap;\n",
       "}\n",
       "</style>\n",
       "<small>shape: (10, 9)</small><table border=\"1\" class=\"dataframe\"><thead><tr><th>chrom_left</th><th>start_left</th><th>end_left</th><th>ID_left</th><th>type_left</th><th>chrom_right</th><th>start_right</th><th>end_right</th><th>source_right</th></tr><tr><td>str</td><td>u32</td><td>u32</td><td>str</td><td>str</td><td>str</td><td>u32</td><td>u32</td><td>str</td></tr></thead><tbody><tr><td>&quot;chr1&quot;</td><td>11121</td><td>24894</td><td>&quot;ENSG00000290825.2&quot;</td><td>&quot;gene&quot;</td><td>&quot;chr1&quot;</td><td>17606</td><td>17742</td><td>&quot;HAVANA&quot;</td></tr><tr><td>&quot;chr1&quot;</td><td>11121</td><td>24894</td><td>&quot;ENSG00000290825.2&quot;</td><td>&quot;gene&quot;</td><td>&quot;chr1&quot;</td><td>17606</td><td>17742</td><td>&quot;HAVANA&quot;</td></tr><tr><td>&quot;chr1&quot;</td><td>11121</td><td>24894</td><td>&quot;ENSG00000290825.2&quot;</td><td>&quot;gene&quot;</td><td>&quot;chr1&quot;</td><td>17606</td><td>17742</td><td>&quot;HAVANA&quot;</td></tr><tr><td>&quot;chr1&quot;</td><td>11121</td><td>24894</td><td>&quot;ENSG00000290825.2&quot;</td><td>&quot;gene&quot;</td><td>&quot;chr1&quot;</td><td>17606</td><td>17742</td><td>&quot;HAVANA&quot;</td></tr><tr><td>&quot;chr1&quot;</td><td>11121</td><td>24894</td><td>&quot;ENSG00000290825.2&quot;</td><td>&quot;gene&quot;</td><td>&quot;chr1&quot;</td><td>16442</td><td>16788</td><td>&quot;HAVANA&quot;</td></tr><tr><td>&quot;chr1&quot;</td><td>11121</td><td>24894</td><td>&quot;ENSG00000290825.2&quot;</td><td>&quot;gene&quot;</td><td>&quot;chr1&quot;</td><td>16442</td><td>16788</td><td>&quot;HAVANA&quot;</td></tr><tr><td>&quot;chr1&quot;</td><td>11121</td><td>24894</td><td>&quot;ENSG00000290825.2&quot;</td><td>&quot;gene&quot;</td><td>&quot;chr1&quot;</td><td>16442</td><td>16788</td><td>&quot;HAVANA&quot;</td></tr><tr><td>&quot;chr1&quot;</td><td>11121</td><td>24894</td><td>&quot;ENSG00000290825.2&quot;</td><td>&quot;gene&quot;</td><td>&quot;chr1&quot;</td><td>16442</td><td>18061</td><td>&quot;HAVANA&quot;</td></tr><tr><td>&quot;chr1&quot;</td><td>11121</td><td>24894</td><td>&quot;ENSG00000290825.2&quot;</td><td>&quot;gene&quot;</td><td>&quot;chr1&quot;</td><td>14407</td><td>14829</td><td>&quot;HAVANA&quot;</td></tr><tr><td>&quot;chr1&quot;</td><td>11121</td><td>24894</td><td>&quot;ENSG00000290825.2&quot;</td><td>&quot;gene&quot;</td><td>&quot;chr1&quot;</td><td>14407</td><td>29757</td><td>&quot;HAVANA&quot;</td></tr></tbody></table></div>"
      ],
      "text/plain": [
       "shape: (10, 9)\n",
       "┌───────────┬───────────┬──────────┬───────────┬───┬───────────┬───────────┬───────────┬───────────┐\n",
       "│ chrom_lef ┆ start_lef ┆ end_left ┆ ID_left   ┆ … ┆ chrom_rig ┆ start_rig ┆ end_right ┆ source_ri │\n",
       "│ t         ┆ t         ┆ ---      ┆ ---       ┆   ┆ ht        ┆ ht        ┆ ---       ┆ ght       │\n",
       "│ ---       ┆ ---       ┆ u32      ┆ str       ┆   ┆ ---       ┆ ---       ┆ u32       ┆ ---       │\n",
       "│ str       ┆ u32       ┆          ┆           ┆   ┆ str       ┆ u32       ┆           ┆ str       │\n",
       "╞═══════════╪═══════════╪══════════╪═══════════╪═══╪═══════════╪═══════════╪═══════════╪═══════════╡\n",
       "│ chr1      ┆ 11121     ┆ 24894    ┆ ENSG00000 ┆ … ┆ chr1      ┆ 17606     ┆ 17742     ┆ HAVANA    │\n",
       "│           ┆           ┆          ┆ 290825.2  ┆   ┆           ┆           ┆           ┆           │\n",
       "│ chr1      ┆ 11121     ┆ 24894    ┆ ENSG00000 ┆ … ┆ chr1      ┆ 17606     ┆ 17742     ┆ HAVANA    │\n",
       "│           ┆           ┆          ┆ 290825.2  ┆   ┆           ┆           ┆           ┆           │\n",
       "│ chr1      ┆ 11121     ┆ 24894    ┆ ENSG00000 ┆ … ┆ chr1      ┆ 17606     ┆ 17742     ┆ HAVANA    │\n",
       "│           ┆           ┆          ┆ 290825.2  ┆   ┆           ┆           ┆           ┆           │\n",
       "│ chr1      ┆ 11121     ┆ 24894    ┆ ENSG00000 ┆ … ┆ chr1      ┆ 17606     ┆ 17742     ┆ HAVANA    │\n",
       "│           ┆           ┆          ┆ 290825.2  ┆   ┆           ┆           ┆           ┆           │\n",
       "│ chr1      ┆ 11121     ┆ 24894    ┆ ENSG00000 ┆ … ┆ chr1      ┆ 16442     ┆ 16788     ┆ HAVANA    │\n",
       "│           ┆           ┆          ┆ 290825.2  ┆   ┆           ┆           ┆           ┆           │\n",
       "│ chr1      ┆ 11121     ┆ 24894    ┆ ENSG00000 ┆ … ┆ chr1      ┆ 16442     ┆ 16788     ┆ HAVANA    │\n",
       "│           ┆           ┆          ┆ 290825.2  ┆   ┆           ┆           ┆           ┆           │\n",
       "│ chr1      ┆ 11121     ┆ 24894    ┆ ENSG00000 ┆ … ┆ chr1      ┆ 16442     ┆ 16788     ┆ HAVANA    │\n",
       "│           ┆           ┆          ┆ 290825.2  ┆   ┆           ┆           ┆           ┆           │\n",
       "│ chr1      ┆ 11121     ┆ 24894    ┆ ENSG00000 ┆ … ┆ chr1      ┆ 16442     ┆ 18061     ┆ HAVANA    │\n",
       "│           ┆           ┆          ┆ 290825.2  ┆   ┆           ┆           ┆           ┆           │\n",
       "│ chr1      ┆ 11121     ┆ 24894    ┆ ENSG00000 ┆ … ┆ chr1      ┆ 14407     ┆ 14829     ┆ HAVANA    │\n",
       "│           ┆           ┆          ┆ 290825.2  ┆   ┆           ┆           ┆           ┆           │\n",
       "│ chr1      ┆ 11121     ┆ 24894    ┆ ENSG00000 ┆ … ┆ chr1      ┆ 14407     ┆ 29757     ┆ HAVANA    │\n",
       "│           ┆           ┆          ┆ 290825.2  ┆   ┆           ┆           ┆           ┆           │\n",
       "└───────────┴───────────┴──────────┴───────────┴───┴───────────┴───────────┴───────────┴───────────┘"
      ]
     },
     "execution_count": 65,
     "metadata": {},
     "output_type": "execute_result"
    }
   ],
   "source": [
    "%%time\n",
    "pb.overlap(df, df2, suffixes=(\"_left\",\"_right\")).limit(10).collect()"
   ]
  },
  {
   "cell_type": "code",
   "execution_count": 66,
   "id": "92126d6e81a738b1",
   "metadata": {
    "ExecuteTime": {
     "end_time": "2025-09-14T10:52:00.024212Z",
     "start_time": "2025-09-14T10:51:35.738220Z"
    }
   },
   "outputs": [
    {
     "data": {
      "application/vnd.jupyter.widget-view+json": {
       "model_id": "d4185163a8f64b33bc5823a111bbb15d",
       "version_major": 2,
       "version_minor": 0
      },
      "text/plain": [
       "0rows [00:00, ?rows/s]"
      ]
     },
     "metadata": {},
     "output_type": "display_data"
    },
    {
     "data": {
      "application/vnd.jupyter.widget-view+json": {
       "model_id": "96c81602d80747d79443c9b1291bf37b",
       "version_major": 2,
       "version_minor": 0
      },
      "text/plain": [
       "0rows [00:00, ?rows/s]"
      ]
     },
     "metadata": {},
     "output_type": "display_data"
    },
    {
     "data": {
      "application/vnd.jupyter.widget-view+json": {
       "model_id": "cb0b15c5196c43b084b136e8a38291c3",
       "version_major": 2,
       "version_minor": 0
      },
      "text/plain": [
       "0rows [00:00, ?rows/s]"
      ]
     },
     "metadata": {},
     "output_type": "display_data"
    },
    {
     "name": "stdout",
     "output_type": "stream",
     "text": [
      "CPU times: user 26.1 s, sys: 1.53 s, total: 27.6 s\n",
      "Wall time: 24.8 s\n"
     ]
    },
    {
     "data": {
      "text/html": [
       "<div><style>\n",
       ".dataframe > thead > tr,\n",
       ".dataframe > tbody > tr {\n",
       "  text-align: right;\n",
       "  white-space: pre-wrap;\n",
       "}\n",
       "</style>\n",
       "<small>shape: (1, 9)</small><table border=\"1\" class=\"dataframe\"><thead><tr><th>chrom_1</th><th>start_1</th><th>end_1</th><th>ID_1</th><th>type_1</th><th>chrom_2</th><th>start_2</th><th>end_2</th><th>source_2</th></tr><tr><td>u32</td><td>u32</td><td>u32</td><td>u32</td><td>u32</td><td>u32</td><td>u32</td><td>u32</td><td>u32</td></tr></thead><tbody><tr><td>995394299</td><td>995394299</td><td>995394299</td><td>995394299</td><td>995394299</td><td>995394299</td><td>995394299</td><td>995394299</td><td>995394299</td></tr></tbody></table></div>"
      ],
      "text/plain": [
       "shape: (1, 9)\n",
       "┌───────────┬───────────┬───────────┬───────────┬───┬───────────┬───────────┬───────────┬──────────┐\n",
       "│ chrom_1   ┆ start_1   ┆ end_1     ┆ ID_1      ┆ … ┆ chrom_2   ┆ start_2   ┆ end_2     ┆ source_2 │\n",
       "│ ---       ┆ ---       ┆ ---       ┆ ---       ┆   ┆ ---       ┆ ---       ┆ ---       ┆ ---      │\n",
       "│ u32       ┆ u32       ┆ u32       ┆ u32       ┆   ┆ u32       ┆ u32       ┆ u32       ┆ u32      │\n",
       "╞═══════════╪═══════════╪═══════════╪═══════════╪═══╪═══════════╪═══════════╪═══════════╪══════════╡\n",
       "│ 995394299 ┆ 995394299 ┆ 995394299 ┆ 995394299 ┆ … ┆ 995394299 ┆ 995394299 ┆ 995394299 ┆ 99539429 │\n",
       "│           ┆           ┆           ┆           ┆   ┆           ┆           ┆           ┆ 9        │\n",
       "└───────────┴───────────┴───────────┴───────────┴───┴───────────┴───────────┴───────────┴──────────┘"
      ]
     },
     "execution_count": 66,
     "metadata": {},
     "output_type": "execute_result"
    }
   ],
   "source": [
    "%%time\n",
    "pb.overlap(df, df2).count().collect()"
   ]
  },
  {
   "cell_type": "code",
   "execution_count": 67,
   "id": "81aa37bd1152aef2",
   "metadata": {
    "ExecuteTime": {
     "end_time": "2025-09-14T10:53:04.879687Z",
     "start_time": "2025-09-14T10:52:41.381503Z"
    }
   },
   "outputs": [
    {
     "data": {
      "application/vnd.jupyter.widget-view+json": {
       "model_id": "243cb162fd484798a0104206348f6ce5",
       "version_major": 2,
       "version_minor": 0
      },
      "text/plain": [
       "0rows [00:00, ?rows/s]"
      ]
     },
     "metadata": {},
     "output_type": "display_data"
    },
    {
     "data": {
      "application/vnd.jupyter.widget-view+json": {
       "model_id": "101150239df84e2bbe5d693f37be8c24",
       "version_major": 2,
       "version_minor": 0
      },
      "text/plain": [
       "0rows [00:00, ?rows/s]"
      ]
     },
     "metadata": {},
     "output_type": "display_data"
    },
    {
     "data": {
      "application/vnd.jupyter.widget-view+json": {
       "model_id": "74977643db3d490a81847f0ce135173a",
       "version_major": 2,
       "version_minor": 0
      },
      "text/plain": [
       "0rows [00:00, ?rows/s]"
      ]
     },
     "metadata": {},
     "output_type": "display_data"
    },
    {
     "name": "stdout",
     "output_type": "stream",
     "text": [
      "CPU times: user 27.5 s, sys: 1.35 s, total: 28.9 s\n",
      "Wall time: 23.9 s\n"
     ]
    },
    {
     "data": {
      "text/html": [
       "<div><style>\n",
       ".dataframe > thead > tr,\n",
       ".dataframe > tbody > tr {\n",
       "  text-align: right;\n",
       "  white-space: pre-wrap;\n",
       "}\n",
       "</style>\n",
       "<small>shape: (316_030, 9)</small><table border=\"1\" class=\"dataframe\"><thead><tr><th>chrom_1</th><th>start_1</th><th>end_1</th><th>ID_1</th><th>type_1</th><th>chrom_2</th><th>start_2</th><th>end_2</th><th>source_2</th></tr><tr><td>str</td><td>u32</td><td>u32</td><td>str</td><td>str</td><td>str</td><td>u32</td><td>u32</td><td>str</td></tr></thead><tbody><tr><td>&quot;chrX&quot;</td><td>253743</td><td>255091</td><td>&quot;ENSG00000228572.7&quot;</td><td>&quot;gene&quot;</td><td>&quot;chrX&quot;</td><td>253743</td><td>253846</td><td>&quot;HAVANA&quot;</td></tr><tr><td>&quot;chrX&quot;</td><td>253743</td><td>255091</td><td>&quot;ENSG00000228572.7&quot;</td><td>&quot;gene&quot;</td><td>&quot;chrX&quot;</td><td>253743</td><td>255091</td><td>&quot;HAVANA&quot;</td></tr><tr><td>&quot;chrX&quot;</td><td>253743</td><td>255091</td><td>&quot;ENSG00000228572.7&quot;</td><td>&quot;gene&quot;</td><td>&quot;chrX&quot;</td><td>253743</td><td>255091</td><td>&quot;HAVANA&quot;</td></tr><tr><td>&quot;chrX&quot;</td><td>253743</td><td>255091</td><td>&quot;ENSG00000228572.7&quot;</td><td>&quot;gene&quot;</td><td>&quot;chrX&quot;</td><td>254937</td><td>255091</td><td>&quot;HAVANA&quot;</td></tr><tr><td>&quot;chrX&quot;</td><td>267677</td><td>276210</td><td>&quot;ENSG00000303837.1&quot;</td><td>&quot;gene&quot;</td><td>&quot;chrX&quot;</td><td>267677</td><td>267868</td><td>&quot;HAVANA&quot;</td></tr><tr><td>&hellip;</td><td>&hellip;</td><td>&hellip;</td><td>&hellip;</td><td>&hellip;</td><td>&hellip;</td><td>&hellip;</td><td>&hellip;</td><td>&hellip;</td></tr><tr><td>&quot;chrX&quot;</td><td>156025664</td><td>156027877</td><td>&quot;ENSG00000227159.8&quot;</td><td>&quot;gene&quot;</td><td>&quot;chrX&quot;</td><td>156027830</td><td>156028047</td><td>&quot;HAVANA&quot;</td></tr><tr><td>&quot;chrX&quot;</td><td>156025664</td><td>156027877</td><td>&quot;ENSG00000227159.8&quot;</td><td>&quot;gene&quot;</td><td>&quot;chrX&quot;</td><td>156027830</td><td>156028047</td><td>&quot;HAVANA&quot;</td></tr><tr><td>&quot;chrX&quot;</td><td>156025664</td><td>156027877</td><td>&quot;ENSG00000227159.8&quot;</td><td>&quot;gene&quot;</td><td>&quot;chrX&quot;</td><td>156027830</td><td>156028047</td><td>&quot;HAVANA&quot;</td></tr><tr><td>&quot;chrX&quot;</td><td>156025664</td><td>156027877</td><td>&quot;ENSG00000227159.8&quot;</td><td>&quot;gene&quot;</td><td>&quot;chrX&quot;</td><td>156027830</td><td>156028047</td><td>&quot;HAVANA&quot;</td></tr><tr><td>&quot;chrX&quot;</td><td>156025664</td><td>156027877</td><td>&quot;ENSG00000227159.8&quot;</td><td>&quot;gene&quot;</td><td>&quot;chrX&quot;</td><td>156027830</td><td>156028210</td><td>&quot;HAVANA&quot;</td></tr></tbody></table></div>"
      ],
      "text/plain": [
       "shape: (316_030, 9)\n",
       "┌─────────┬───────────┬───────────┬───────────────┬───┬─────────┬───────────┬───────────┬──────────┐\n",
       "│ chrom_1 ┆ start_1   ┆ end_1     ┆ ID_1          ┆ … ┆ chrom_2 ┆ start_2   ┆ end_2     ┆ source_2 │\n",
       "│ ---     ┆ ---       ┆ ---       ┆ ---           ┆   ┆ ---     ┆ ---       ┆ ---       ┆ ---      │\n",
       "│ str     ┆ u32       ┆ u32       ┆ str           ┆   ┆ str     ┆ u32       ┆ u32       ┆ str      │\n",
       "╞═════════╪═══════════╪═══════════╪═══════════════╪═══╪═════════╪═══════════╪═══════════╪══════════╡\n",
       "│ chrX    ┆ 253743    ┆ 255091    ┆ ENSG000002285 ┆ … ┆ chrX    ┆ 253743    ┆ 253846    ┆ HAVANA   │\n",
       "│         ┆           ┆           ┆ 72.7          ┆   ┆         ┆           ┆           ┆          │\n",
       "│ chrX    ┆ 253743    ┆ 255091    ┆ ENSG000002285 ┆ … ┆ chrX    ┆ 253743    ┆ 255091    ┆ HAVANA   │\n",
       "│         ┆           ┆           ┆ 72.7          ┆   ┆         ┆           ┆           ┆          │\n",
       "│ chrX    ┆ 253743    ┆ 255091    ┆ ENSG000002285 ┆ … ┆ chrX    ┆ 253743    ┆ 255091    ┆ HAVANA   │\n",
       "│         ┆           ┆           ┆ 72.7          ┆   ┆         ┆           ┆           ┆          │\n",
       "│ chrX    ┆ 253743    ┆ 255091    ┆ ENSG000002285 ┆ … ┆ chrX    ┆ 254937    ┆ 255091    ┆ HAVANA   │\n",
       "│         ┆           ┆           ┆ 72.7          ┆   ┆         ┆           ┆           ┆          │\n",
       "│ chrX    ┆ 267677    ┆ 276210    ┆ ENSG000003038 ┆ … ┆ chrX    ┆ 267677    ┆ 267868    ┆ HAVANA   │\n",
       "│         ┆           ┆           ┆ 37.1          ┆   ┆         ┆           ┆           ┆          │\n",
       "│ …       ┆ …         ┆ …         ┆ …             ┆ … ┆ …       ┆ …         ┆ …         ┆ …        │\n",
       "│ chrX    ┆ 156025664 ┆ 156027877 ┆ ENSG000002271 ┆ … ┆ chrX    ┆ 156027830 ┆ 156028047 ┆ HAVANA   │\n",
       "│         ┆           ┆           ┆ 59.8          ┆   ┆         ┆           ┆           ┆          │\n",
       "│ chrX    ┆ 156025664 ┆ 156027877 ┆ ENSG000002271 ┆ … ┆ chrX    ┆ 156027830 ┆ 156028047 ┆ HAVANA   │\n",
       "│         ┆           ┆           ┆ 59.8          ┆   ┆         ┆           ┆           ┆          │\n",
       "│ chrX    ┆ 156025664 ┆ 156027877 ┆ ENSG000002271 ┆ … ┆ chrX    ┆ 156027830 ┆ 156028047 ┆ HAVANA   │\n",
       "│         ┆           ┆           ┆ 59.8          ┆   ┆         ┆           ┆           ┆          │\n",
       "│ chrX    ┆ 156025664 ┆ 156027877 ┆ ENSG000002271 ┆ … ┆ chrX    ┆ 156027830 ┆ 156028047 ┆ HAVANA   │\n",
       "│         ┆           ┆           ┆ 59.8          ┆   ┆         ┆           ┆           ┆          │\n",
       "│ chrX    ┆ 156025664 ┆ 156027877 ┆ ENSG000002271 ┆ … ┆ chrX    ┆ 156027830 ┆ 156028210 ┆ HAVANA   │\n",
       "│         ┆           ┆           ┆ 59.8          ┆   ┆         ┆           ┆           ┆          │\n",
       "└─────────┴───────────┴───────────┴───────────────┴───┴─────────┴───────────┴───────────┴──────────┘"
      ]
     },
     "execution_count": 67,
     "metadata": {},
     "output_type": "execute_result"
    }
   ],
   "source": [
    "%%time\n",
    "pb.overlap(df, df2).filter( (pl.col(\"type_1\") == \"gene\") & (pl.col(\"chrom_1\") == \"chrX\") ).collect()"
   ]
  },
  {
   "cell_type": "code",
   "execution_count": 68,
   "id": "1f4c6ecddaea0ba1",
   "metadata": {
    "ExecuteTime": {
     "end_time": "2025-09-14T10:55:45.851201Z",
     "start_time": "2025-09-14T10:55:45.848906Z"
    }
   },
   "outputs": [],
   "source": [
    "pb.set_option(\"datafusion.execution.target_partitions\", \"4\")"
   ]
  },
  {
   "cell_type": "code",
   "execution_count": 69,
   "id": "f64a92b51b628df",
   "metadata": {
    "ExecuteTime": {
     "end_time": "2025-09-14T11:00:01.961848Z",
     "start_time": "2025-09-14T10:59:54.201376Z"
    }
   },
   "outputs": [
    {
     "data": {
      "application/vnd.jupyter.widget-view+json": {
       "model_id": "9b9cf1de250f4d64bd9a7dabdbb0ee3b",
       "version_major": 2,
       "version_minor": 0
      },
      "text/plain": [
       "0rows [00:00, ?rows/s]"
      ]
     },
     "metadata": {},
     "output_type": "display_data"
    },
    {
     "data": {
      "application/vnd.jupyter.widget-view+json": {
       "model_id": "bad9c6fff1534cfd87eb831261e896e6",
       "version_major": 2,
       "version_minor": 0
      },
      "text/plain": [
       "0rows [00:00, ?rows/s]"
      ]
     },
     "metadata": {},
     "output_type": "display_data"
    },
    {
     "data": {
      "application/vnd.jupyter.widget-view+json": {
       "model_id": "b39547ed4dfa4665ac610df178796ecd",
       "version_major": 2,
       "version_minor": 0
      },
      "text/plain": [
       "0rows [00:00, ?rows/s]"
      ]
     },
     "metadata": {},
     "output_type": "display_data"
    },
    {
     "name": "stdout",
     "output_type": "stream",
     "text": [
      "CPU times: user 29.6 s, sys: 4.68 s, total: 34.3 s\n",
      "Wall time: 8.16 s\n"
     ]
    },
    {
     "data": {
      "text/html": [
       "<div><style>\n",
       ".dataframe > thead > tr,\n",
       ".dataframe > tbody > tr {\n",
       "  text-align: right;\n",
       "  white-space: pre-wrap;\n",
       "}\n",
       "</style>\n",
       "<small>shape: (1, 9)</small><table border=\"1\" class=\"dataframe\"><thead><tr><th>chrom_1</th><th>start_1</th><th>end_1</th><th>ID_1</th><th>type_1</th><th>chrom_2</th><th>start_2</th><th>end_2</th><th>source_2</th></tr><tr><td>u32</td><td>u32</td><td>u32</td><td>u32</td><td>u32</td><td>u32</td><td>u32</td><td>u32</td><td>u32</td></tr></thead><tbody><tr><td>995394299</td><td>995394299</td><td>995394299</td><td>995394299</td><td>995394299</td><td>995394299</td><td>995394299</td><td>995394299</td><td>995394299</td></tr></tbody></table></div>"
      ],
      "text/plain": [
       "shape: (1, 9)\n",
       "┌───────────┬───────────┬───────────┬───────────┬───┬───────────┬───────────┬───────────┬──────────┐\n",
       "│ chrom_1   ┆ start_1   ┆ end_1     ┆ ID_1      ┆ … ┆ chrom_2   ┆ start_2   ┆ end_2     ┆ source_2 │\n",
       "│ ---       ┆ ---       ┆ ---       ┆ ---       ┆   ┆ ---       ┆ ---       ┆ ---       ┆ ---      │\n",
       "│ u32       ┆ u32       ┆ u32       ┆ u32       ┆   ┆ u32       ┆ u32       ┆ u32       ┆ u32      │\n",
       "╞═══════════╪═══════════╪═══════════╪═══════════╪═══╪═══════════╪═══════════╪═══════════╪══════════╡\n",
       "│ 995394299 ┆ 995394299 ┆ 995394299 ┆ 995394299 ┆ … ┆ 995394299 ┆ 995394299 ┆ 995394299 ┆ 99539429 │\n",
       "│           ┆           ┆           ┆           ┆   ┆           ┆           ┆           ┆ 9        │\n",
       "└───────────┴───────────┴───────────┴───────────┴───┴───────────┴───────────┴───────────┴──────────┘"
      ]
     },
     "execution_count": 69,
     "metadata": {},
     "output_type": "execute_result"
    }
   ],
   "source": [
    "%%time\n",
    "pb.overlap(df, df2).count().collect()"
   ]
  },
  {
   "cell_type": "code",
   "execution_count": 71,
   "id": "ed5e29b56b292e1f",
   "metadata": {
    "ExecuteTime": {
     "end_time": "2025-09-14T11:00:05.300304Z",
     "start_time": "2025-09-14T11:00:05.298280Z"
    }
   },
   "outputs": [],
   "source": [
    "pb.set_option(\"datafusion.execution.target_partitions\", \"8\")"
   ]
  },
  {
   "cell_type": "code",
   "execution_count": 72,
   "id": "cc3e09f301d037b4",
   "metadata": {
    "ExecuteTime": {
     "end_time": "2025-09-14T11:00:12.225132Z",
     "start_time": "2025-09-14T11:00:07.122426Z"
    }
   },
   "outputs": [
    {
     "data": {
      "application/vnd.jupyter.widget-view+json": {
       "model_id": "c4177a798a9a434fa784f8206a5d492f",
       "version_major": 2,
       "version_minor": 0
      },
      "text/plain": [
       "0rows [00:00, ?rows/s]"
      ]
     },
     "metadata": {},
     "output_type": "display_data"
    },
    {
     "data": {
      "application/vnd.jupyter.widget-view+json": {
       "model_id": "8bfd3c927b124451bb7db01c7ac9856c",
       "version_major": 2,
       "version_minor": 0
      },
      "text/plain": [
       "0rows [00:00, ?rows/s]"
      ]
     },
     "metadata": {},
     "output_type": "display_data"
    },
    {
     "data": {
      "application/vnd.jupyter.widget-view+json": {
       "model_id": "49cb49ceefa8441889d4ca13082115c9",
       "version_major": 2,
       "version_minor": 0
      },
      "text/plain": [
       "0rows [00:00, ?rows/s]"
      ]
     },
     "metadata": {},
     "output_type": "display_data"
    },
    {
     "name": "stdout",
     "output_type": "stream",
     "text": [
      "CPU times: user 30.6 s, sys: 5.94 s, total: 36.6 s\n",
      "Wall time: 5.18 s\n"
     ]
    },
    {
     "data": {
      "text/html": [
       "<div><style>\n",
       ".dataframe > thead > tr,\n",
       ".dataframe > tbody > tr {\n",
       "  text-align: right;\n",
       "  white-space: pre-wrap;\n",
       "}\n",
       "</style>\n",
       "<small>shape: (1, 9)</small><table border=\"1\" class=\"dataframe\"><thead><tr><th>chrom_1</th><th>start_1</th><th>end_1</th><th>ID_1</th><th>type_1</th><th>chrom_2</th><th>start_2</th><th>end_2</th><th>source_2</th></tr><tr><td>u32</td><td>u32</td><td>u32</td><td>u32</td><td>u32</td><td>u32</td><td>u32</td><td>u32</td><td>u32</td></tr></thead><tbody><tr><td>995394299</td><td>995394299</td><td>995394299</td><td>995394299</td><td>995394299</td><td>995394299</td><td>995394299</td><td>995394299</td><td>995394299</td></tr></tbody></table></div>"
      ],
      "text/plain": [
       "shape: (1, 9)\n",
       "┌───────────┬───────────┬───────────┬───────────┬───┬───────────┬───────────┬───────────┬──────────┐\n",
       "│ chrom_1   ┆ start_1   ┆ end_1     ┆ ID_1      ┆ … ┆ chrom_2   ┆ start_2   ┆ end_2     ┆ source_2 │\n",
       "│ ---       ┆ ---       ┆ ---       ┆ ---       ┆   ┆ ---       ┆ ---       ┆ ---       ┆ ---      │\n",
       "│ u32       ┆ u32       ┆ u32       ┆ u32       ┆   ┆ u32       ┆ u32       ┆ u32       ┆ u32      │\n",
       "╞═══════════╪═══════════╪═══════════╪═══════════╪═══╪═══════════╪═══════════╪═══════════╪══════════╡\n",
       "│ 995394299 ┆ 995394299 ┆ 995394299 ┆ 995394299 ┆ … ┆ 995394299 ┆ 995394299 ┆ 995394299 ┆ 99539429 │\n",
       "│           ┆           ┆           ┆           ┆   ┆           ┆           ┆           ┆ 9        │\n",
       "└───────────┴───────────┴───────────┴───────────┴───┴───────────┴───────────┴───────────┴──────────┘"
      ]
     },
     "execution_count": 72,
     "metadata": {},
     "output_type": "execute_result"
    }
   ],
   "source": [
    "%%time\n",
    "pb.overlap(df, df2).count().collect()"
   ]
  },
  {
   "cell_type": "code",
   "execution_count": 73,
   "id": "dfdbcd521f9eaab0",
   "metadata": {
    "ExecuteTime": {
     "end_time": "2025-09-14T11:00:30.541959Z",
     "start_time": "2025-09-14T11:00:16.684688Z"
    }
   },
   "outputs": [
    {
     "data": {
      "application/vnd.jupyter.widget-view+json": {
       "model_id": "fa2ffe31a123476796ab5ed97a7a4fd3",
       "version_major": 2,
       "version_minor": 0
      },
      "text/plain": [
       "0rows [00:00, ?rows/s]"
      ]
     },
     "metadata": {},
     "output_type": "display_data"
    },
    {
     "data": {
      "application/vnd.jupyter.widget-view+json": {
       "model_id": "6fe6d95ffcba466a95f4781277647676",
       "version_major": 2,
       "version_minor": 0
      },
      "text/plain": [
       "0rows [00:00, ?rows/s]"
      ]
     },
     "metadata": {},
     "output_type": "display_data"
    },
    {
     "data": {
      "application/vnd.jupyter.widget-view+json": {
       "model_id": "4046b755996a44f284215ba4e62c44fd",
       "version_major": 2,
       "version_minor": 0
      },
      "text/plain": [
       "0rows [00:00, ?rows/s]"
      ]
     },
     "metadata": {},
     "output_type": "display_data"
    },
    {
     "name": "stdout",
     "output_type": "stream",
     "text": [
      "CPU times: user 1min 59s, sys: 28.9 s, total: 2min 28s\n",
      "Wall time: 19.1 s\n"
     ]
    }
   ],
   "source": [
    "%%time\n",
    "pb.overlap(df, df2).sink_parquet(\"/tmp/test.parquet\")"
   ]
  },
  {
   "cell_type": "code",
   "execution_count": 74,
   "id": "2b973e628da0da90",
   "metadata": {
    "ExecuteTime": {
     "end_time": "2025-09-14T11:00:33.287124Z",
     "start_time": "2025-09-14T11:00:33.284692Z"
    }
   },
   "outputs": [],
   "source": [
    "par_lf = pl.scan_parquet(\"/tmp/test.parquet\")"
   ]
  },
  {
   "cell_type": "code",
   "execution_count": 75,
   "id": "fc388c46fb4accaf",
   "metadata": {
    "ExecuteTime": {
     "end_time": "2025-09-14T11:00:34.582004Z",
     "start_time": "2025-09-14T11:00:34.542358Z"
    }
   },
   "outputs": [
    {
     "data": {
      "text/html": [
       "<div><style>\n",
       ".dataframe > thead > tr,\n",
       ".dataframe > tbody > tr {\n",
       "  text-align: right;\n",
       "  white-space: pre-wrap;\n",
       "}\n",
       "</style>\n",
       "<small>shape: (1, 9)</small><table border=\"1\" class=\"dataframe\"><thead><tr><th>chrom_1</th><th>start_1</th><th>end_1</th><th>ID_1</th><th>type_1</th><th>chrom_2</th><th>start_2</th><th>end_2</th><th>source_2</th></tr><tr><td>str</td><td>u32</td><td>u32</td><td>str</td><td>str</td><td>str</td><td>u32</td><td>u32</td><td>str</td></tr></thead><tbody><tr><td>&quot;chr2&quot;</td><td>37646588</td><td>37646822</td><td>&quot;UTR5:ENST00000885384.1&quot;</td><td>&quot;five_prime_UTR&quot;</td><td>&quot;chr2&quot;</td><td>37600193</td><td>37662091</td><td>&quot;HAVANA&quot;</td></tr></tbody></table></div>"
      ],
      "text/plain": [
       "shape: (1, 9)\n",
       "┌─────────┬──────────┬──────────┬───────────────────┬───┬─────────┬──────────┬──────────┬──────────┐\n",
       "│ chrom_1 ┆ start_1  ┆ end_1    ┆ ID_1              ┆ … ┆ chrom_2 ┆ start_2  ┆ end_2    ┆ source_2 │\n",
       "│ ---     ┆ ---      ┆ ---      ┆ ---               ┆   ┆ ---     ┆ ---      ┆ ---      ┆ ---      │\n",
       "│ str     ┆ u32      ┆ u32      ┆ str               ┆   ┆ str     ┆ u32      ┆ u32      ┆ str      │\n",
       "╞═════════╪══════════╪══════════╪═══════════════════╪═══╪═════════╪══════════╪══════════╪══════════╡\n",
       "│ chr2    ┆ 37646588 ┆ 37646822 ┆ UTR5:ENST00000885 ┆ … ┆ chr2    ┆ 37600193 ┆ 37662091 ┆ HAVANA   │\n",
       "│         ┆          ┆          ┆ 384.1             ┆   ┆         ┆          ┆          ┆          │\n",
       "└─────────┴──────────┴──────────┴───────────────────┴───┴─────────┴──────────┴──────────┴──────────┘"
      ]
     },
     "execution_count": 75,
     "metadata": {},
     "output_type": "execute_result"
    }
   ],
   "source": [
    "par_lf.limit(1).collect()"
   ]
  },
  {
   "cell_type": "code",
   "execution_count": 76,
   "id": "2250323f374f65f",
   "metadata": {
    "ExecuteTime": {
     "end_time": "2025-09-14T11:00:37.907727Z",
     "start_time": "2025-09-14T11:00:36.567284Z"
    }
   },
   "outputs": [
    {
     "data": {
      "text/html": [
       "<div><style>\n",
       ".dataframe > thead > tr,\n",
       ".dataframe > tbody > tr {\n",
       "  text-align: right;\n",
       "  white-space: pre-wrap;\n",
       "}\n",
       "</style>\n",
       "<small>shape: (1, 9)</small><table border=\"1\" class=\"dataframe\"><thead><tr><th>chrom_1</th><th>start_1</th><th>end_1</th><th>ID_1</th><th>type_1</th><th>chrom_2</th><th>start_2</th><th>end_2</th><th>source_2</th></tr><tr><td>u32</td><td>u32</td><td>u32</td><td>u32</td><td>u32</td><td>u32</td><td>u32</td><td>u32</td><td>u32</td></tr></thead><tbody><tr><td>995394299</td><td>995394299</td><td>995394299</td><td>995394299</td><td>995394299</td><td>995394299</td><td>995394299</td><td>995394299</td><td>995394299</td></tr></tbody></table></div>"
      ],
      "text/plain": [
       "shape: (1, 9)\n",
       "┌───────────┬───────────┬───────────┬───────────┬───┬───────────┬───────────┬───────────┬──────────┐\n",
       "│ chrom_1   ┆ start_1   ┆ end_1     ┆ ID_1      ┆ … ┆ chrom_2   ┆ start_2   ┆ end_2     ┆ source_2 │\n",
       "│ ---       ┆ ---       ┆ ---       ┆ ---       ┆   ┆ ---       ┆ ---       ┆ ---       ┆ ---      │\n",
       "│ u32       ┆ u32       ┆ u32       ┆ u32       ┆   ┆ u32       ┆ u32       ┆ u32       ┆ u32      │\n",
       "╞═══════════╪═══════════╪═══════════╪═══════════╪═══╪═══════════╪═══════════╪═══════════╪══════════╡\n",
       "│ 995394299 ┆ 995394299 ┆ 995394299 ┆ 995394299 ┆ … ┆ 995394299 ┆ 995394299 ┆ 995394299 ┆ 99539429 │\n",
       "│           ┆           ┆           ┆           ┆   ┆           ┆           ┆           ┆ 9        │\n",
       "└───────────┴───────────┴───────────┴───────────┴───┴───────────┴───────────┴───────────┴──────────┘"
      ]
     },
     "execution_count": 76,
     "metadata": {},
     "output_type": "execute_result"
    }
   ],
   "source": [
    "par_lf.count().collect()"
   ]
  },
  {
   "cell_type": "markdown",
   "id": "7b237095f1fb2422",
   "metadata": {},
   "source": [
    "### Memory usage considerations"
   ]
  },
  {
   "cell_type": "code",
   "execution_count": 77,
   "id": "d7e71cdca9dfb328",
   "metadata": {
    "ExecuteTime": {
     "end_time": "2025-09-14T11:00:56.779112Z",
     "start_time": "2025-09-14T11:00:40.978459Z"
    }
   },
   "outputs": [
    {
     "name": "stdout",
     "output_type": "stream",
     "text": [
      "mprof: Sampling memory every 0.1s\n",
      "running new process\n",
      "running as a Python program...\n",
      "overlap_coordinates_only.dat\t1508.453 MiB\n"
     ]
    }
   ],
   "source": [
    "%%sh\n",
    "rm -f overlap_coordinates_only.dat overlap_coordinates_only.png\n",
    "mprof run --output overlap_coordinates_only.dat src/overlap_coordinates_only.py 2> /dev/null\n",
    "mprof peak overlap_coordinates_only.dat\n",
    "mprof plot overlap_coordinates_only.dat --output overlap_coordinates_only.png"
   ]
  },
  {
   "cell_type": "code",
   "execution_count": 78,
   "id": "3c0a681e1b33c614",
   "metadata": {
    "ExecuteTime": {
     "end_time": "2025-09-14T11:00:59.141217Z",
     "start_time": "2025-09-14T11:00:59.136905Z"
    }
   },
   "outputs": [
    {
     "data": {
      "image/png": "[encoded data removed]",
      "text/plain": [
       "<IPython.core.display.Image object>"
      ]
     },
     "execution_count": 78,
     "metadata": {},
     "output_type": "execute_result"
    }
   ],
   "source": [
    "from IPython.display import Image\n",
    "Image(\"overlap_coordinates_only.png\")"
   ]
  },
  {
   "cell_type": "code",
   "execution_count": 79,
   "id": "99ab27019ef8d0b",
   "metadata": {
    "ExecuteTime": {
     "end_time": "2025-09-14T11:01:24.657188Z",
     "start_time": "2025-09-14T11:01:06.282352Z"
    }
   },
   "outputs": [
    {
     "name": "stdout",
     "output_type": "stream",
     "text": [
      "mprof: Sampling memory every 0.1s\n",
      "running new process\n",
      "running as a Python program...\n",
      "overlap.dat\t20251.938 MiB\n"
     ]
    }
   ],
   "source": [
    "%%sh\n",
    "rm -f overlap.dat overlap.png\n",
    "mprof run --output overlap.dat src/overlap.py 2> /dev/null\n",
    "mprof peak overlap.dat\n",
    "mprof plot overlap.dat --output overlap.png"
   ]
  },
  {
   "cell_type": "code",
   "execution_count": 80,
   "id": "4fa4cec70e11c9cf",
   "metadata": {
    "ExecuteTime": {
     "end_time": "2025-09-14T11:01:29.440708Z",
     "start_time": "2025-09-14T11:01:29.436259Z"
    }
   },
   "outputs": [
    {
     "data": {
      "image/png": "[encoded data removed]",
      "text/plain": [
       "<IPython.core.display.Image object>"
      ]
     },
     "execution_count": 80,
     "metadata": {},
     "output_type": "execute_result"
    }
   ],
   "source": [
    "from IPython.display import Image\n",
    "Image(\"overlap.png\")"
   ]
  },
  {
   "cell_type": "code",
   "execution_count": 81,
   "id": "f0077ddc83730c6b",
   "metadata": {
    "ExecuteTime": {
     "end_time": "2025-09-14T11:02:00.811768Z",
     "start_time": "2025-09-14T11:01:36.940533Z"
    }
   },
   "outputs": [
    {
     "name": "stdout",
     "output_type": "stream",
     "text": [
      "mprof: Sampling memory every 0.1s\n",
      "running new process\n",
      "running as a Python program...\n",
      "overlap_low_memory.dat\t3193.516 MiB\n"
     ]
    }
   ],
   "source": [
    "%%sh\n",
    "rm -f overlap_low_memory.dat overlap_low_memory.png\n",
    "mprof run --output overlap_low_memory.dat src/overlap_low_memory.py 2> /dev/null\n",
    "mprof peak overlap_low_memory.dat\n",
    "mprof plot overlap_low_memory.dat --output overlap_low_memory.png"
   ]
  },
  {
   "cell_type": "code",
   "execution_count": 83,
   "id": "ab6b7873b9885918",
   "metadata": {
    "ExecuteTime": {
     "end_time": "2025-09-14T11:02:03.060041Z",
     "start_time": "2025-09-14T11:02:03.056003Z"
    }
   },
   "outputs": [
    {
     "data": {
      "image/png": "[encoded data removed]",
      "text/plain": [
       "<IPython.core.display.Image object>"
      ]
     },
     "execution_count": 83,
     "metadata": {},
     "output_type": "execute_result"
    }
   ],
   "source": [
    "from IPython.display import Image\n",
    "Image(\"overlap_low_memory.png\")"
   ]
  },
  {
   "cell_type": "code",
   "execution_count": 87,
   "id": "1db341ff-26b1-4e22-85dd-e128de66aff9",
   "metadata": {},
   "outputs": [
    {
     "name": "stdout",
     "output_type": "stream",
     "text": [
      "192M\t/tmp/test.parquet\n"
     ]
    }
   ],
   "source": [
    "! du -h /tmp/test.parquet"
   ]
  },
  {
   "cell_type": "code",
   "execution_count": 84,
   "id": "1ba913b0a5937416",
   "metadata": {
    "ExecuteTime": {
     "end_time": "2025-09-14T19:17:43.089935Z",
     "start_time": "2025-09-14T19:17:43.087080Z"
    }
   },
   "outputs": [],
   "source": [
    "ldf = pl.scan_parquet(\"/tmp/test.parquet\")"
   ]
  },
  {
   "cell_type": "code",
   "execution_count": 85,
   "id": "4cacddc7a90d66a0",
   "metadata": {},
   "outputs": [
    {
     "data": {
      "text/html": [
       "<div><style>\n",
       ".dataframe > thead > tr,\n",
       ".dataframe > tbody > tr {\n",
       "  text-align: right;\n",
       "  white-space: pre-wrap;\n",
       "}\n",
       "</style>\n",
       "<small>shape: (1, 9)</small><table border=\"1\" class=\"dataframe\"><thead><tr><th>chrom_1</th><th>start_1</th><th>end_1</th><th>ID_1</th><th>type_1</th><th>chrom_2</th><th>start_2</th><th>end_2</th><th>source_2</th></tr><tr><td>str</td><td>u32</td><td>u32</td><td>str</td><td>str</td><td>str</td><td>u32</td><td>u32</td><td>str</td></tr></thead><tbody><tr><td>&quot;chr1&quot;</td><td>11121</td><td>24894</td><td>&quot;ENSG00000290825.2&quot;</td><td>&quot;gene&quot;</td><td>&quot;chr1&quot;</td><td>17606</td><td>17742</td><td>&quot;HAVANA&quot;</td></tr></tbody></table></div>"
      ],
      "text/plain": [
       "shape: (1, 9)\n",
       "┌─────────┬─────────┬───────┬───────────────────┬───┬─────────┬─────────┬───────┬──────────┐\n",
       "│ chrom_1 ┆ start_1 ┆ end_1 ┆ ID_1              ┆ … ┆ chrom_2 ┆ start_2 ┆ end_2 ┆ source_2 │\n",
       "│ ---     ┆ ---     ┆ ---   ┆ ---               ┆   ┆ ---     ┆ ---     ┆ ---   ┆ ---      │\n",
       "│ str     ┆ u32     ┆ u32   ┆ str               ┆   ┆ str     ┆ u32     ┆ u32   ┆ str      │\n",
       "╞═════════╪═════════╪═══════╪═══════════════════╪═══╪═════════╪═════════╪═══════╪══════════╡\n",
       "│ chr1    ┆ 11121   ┆ 24894 ┆ ENSG00000290825.2 ┆ … ┆ chr1    ┆ 17606   ┆ 17742 ┆ HAVANA   │\n",
       "└─────────┴─────────┴───────┴───────────────────┴───┴─────────┴─────────┴───────┴──────────┘"
      ]
     },
     "execution_count": 85,
     "metadata": {},
     "output_type": "execute_result"
    }
   ],
   "source": [
    "ldf.limit(1).collect()"
   ]
  },
  {
   "cell_type": "code",
   "execution_count": 86,
   "id": "96c2f241-3c43-45ef-8435-254888382739",
   "metadata": {},
   "outputs": [
    {
     "data": {
      "text/html": [
       "<div><style>\n",
       ".dataframe > thead > tr,\n",
       ".dataframe > tbody > tr {\n",
       "  text-align: right;\n",
       "  white-space: pre-wrap;\n",
       "}\n",
       "</style>\n",
       "<small>shape: (1, 9)</small><table border=\"1\" class=\"dataframe\"><thead><tr><th>chrom_1</th><th>start_1</th><th>end_1</th><th>ID_1</th><th>type_1</th><th>chrom_2</th><th>start_2</th><th>end_2</th><th>source_2</th></tr><tr><td>u32</td><td>u32</td><td>u32</td><td>u32</td><td>u32</td><td>u32</td><td>u32</td><td>u32</td><td>u32</td></tr></thead><tbody><tr><td>995394299</td><td>995394299</td><td>995394299</td><td>995394299</td><td>995394299</td><td>995394299</td><td>995394299</td><td>995394299</td><td>995394299</td></tr></tbody></table></div>"
      ],
      "text/plain": [
       "shape: (1, 9)\n",
       "┌───────────┬───────────┬───────────┬───────────┬───┬───────────┬───────────┬───────────┬──────────┐\n",
       "│ chrom_1   ┆ start_1   ┆ end_1     ┆ ID_1      ┆ … ┆ chrom_2   ┆ start_2   ┆ end_2     ┆ source_2 │\n",
       "│ ---       ┆ ---       ┆ ---       ┆ ---       ┆   ┆ ---       ┆ ---       ┆ ---       ┆ ---      │\n",
       "│ u32       ┆ u32       ┆ u32       ┆ u32       ┆   ┆ u32       ┆ u32       ┆ u32       ┆ u32      │\n",
       "╞═══════════╪═══════════╪═══════════╪═══════════╪═══╪═══════════╪═══════════╪═══════════╪══════════╡\n",
       "│ 995394299 ┆ 995394299 ┆ 995394299 ┆ 995394299 ┆ … ┆ 995394299 ┆ 995394299 ┆ 995394299 ┆ 99539429 │\n",
       "│           ┆           ┆           ┆           ┆   ┆           ┆           ┆           ┆ 9        │\n",
       "└───────────┴───────────┴───────────┴───────────┴───┴───────────┴───────────┴───────────┴──────────┘"
      ]
     },
     "execution_count": 86,
     "metadata": {},
     "output_type": "execute_result"
    }
   ],
   "source": [
    "ldf.count().collect()"
   ]
  },
  {
   "cell_type": "code",
   "execution_count": null,
   "id": "8d3c6674-b961-4291-8978-70cbb213e3ed",
   "metadata": {},
   "outputs": [],
   "source": []
  }
 ],
 "metadata": {
  "kernelspec": {
   "display_name": "Python 3 (ipykernel)",
   "language": "python",
   "name": "python3"
  },
  "language_info": {
   "codemirror_mode": {
    "name": "ipython",
    "version": 3
   },
   "file_extension": ".py",
   "mimetype": "text/x-python",
   "name": "python",
   "nbconvert_exporter": "python",
   "pygments_lexer": "ipython3",
   "version": "3.9.6"
  },
  "widgets": {
   "application/vnd.jupyter.widget-state+json": {
    "state": {
     "012c3d568a6f47d39166f22934d226b2": {
      "model_module": "@jupyter-widgets/controls",
      "model_module_version": "2.0.0",
      "model_name": "HTMLModel",
      "state": {
       "_dom_classes": [],
       "_model_module": "@jupyter-widgets/controls",
       "_model_module_version": "2.0.0",
       "_model_name": "HTMLModel",
       "_view_count": null,
       "_view_module": "@jupyter-widgets/controls",
       "_view_module_version": "2.0.0",
       "_view_name": "HTMLView",
       "description": "",
       "description_allow_html": false,
       "layout": "IPY_MODEL_7ff5b485c6cc4c7ab5cfa356e2c0b077",
       "placeholder": "​",
       "style": "IPY_MODEL_5fd0cfa468da444088ba9816f0c2cd4c",
       "tabbable": null,
       "tooltip": null,
       "value": " 7747875/? [00:22&lt;00:00, 1046588.85rows/s]"
      }
     },
     "04c6c218e5af41eb95501eeab2c9b88a": {
      "model_module": "@jupyter-widgets/controls",
      "model_module_version": "2.0.0",
      "model_name": "HBoxModel",
      "state": {
       "_dom_classes": [],
       "_model_module": "@jupyter-widgets/controls",
       "_model_module_version": "2.0.0",
       "_model_name": "HBoxModel",
       "_view_count": null,
       "_view_module": "@jupyter-widgets/controls",
       "_view_module_version": "2.0.0",
       "_view_name": "HBoxView",
       "box_style": "",
       "children": [
        "IPY_MODEL_0ab762d6b1dd4ba9ada381acaaa1ba8c",
        "IPY_MODEL_adefa268804d4d17bdb7d9c6fe43ac45",
        "IPY_MODEL_5d87bf4ee8ae4ddda0dcf12351acc428"
       ],
       "layout": "IPY_MODEL_aafb6531e36e4b949533970d6fa6a1a7",
       "tabbable": null,
       "tooltip": null
      }
     },
     "08b53e27f10f4baa8d17f9c234aa0675": {
      "model_module": "@jupyter-widgets/base",
      "model_module_version": "2.0.0",
      "model_name": "LayoutModel",
      "state": {
       "_model_module": "@jupyter-widgets/base",
       "_model_module_version": "2.0.0",
       "_model_name": "LayoutModel",
       "_view_count": null,
       "_view_module": "@jupyter-widgets/base",
       "_view_module_version": "2.0.0",
       "_view_name": "LayoutView",
       "align_content": null,
       "align_items": null,
       "align_self": null,
       "border_bottom": null,
       "border_left": null,
       "border_right": null,
       "border_top": null,
       "bottom": null,
       "display": null,
       "flex": null,
       "flex_flow": null,
       "grid_area": null,
       "grid_auto_columns": null,
       "grid_auto_flow": null,
       "grid_auto_rows": null,
       "grid_column": null,
       "grid_gap": null,
       "grid_row": null,
       "grid_template_areas": null,
       "grid_template_columns": null,
       "grid_template_rows": null,
       "height": null,
       "justify_content": null,
       "justify_items": null,
       "left": null,
       "margin": null,
       "max_height": null,
       "max_width": null,
       "min_height": null,
       "min_width": null,
       "object_fit": null,
       "object_position": null,
       "order": null,
       "overflow": null,
       "padding": null,
       "right": null,
       "top": null,
       "visibility": null,
       "width": null
      }
     },
     "09bdc712b9164fe89235907c02115628": {
      "model_module": "@jupyter-widgets/base",
      "model_module_version": "2.0.0",
      "model_name": "LayoutModel",
      "state": {
       "_model_module": "@jupyter-widgets/base",
       "_model_module_version": "2.0.0",
       "_model_name": "LayoutModel",
       "_view_count": null,
       "_view_module": "@jupyter-widgets/base",
       "_view_module_version": "2.0.0",
       "_view_name": "LayoutView",
       "align_content": null,
       "align_items": null,
       "align_self": null,
       "border_bottom": null,
       "border_left": null,
       "border_right": null,
       "border_top": null,
       "bottom": null,
       "display": null,
       "flex": null,
       "flex_flow": null,
       "grid_area": null,
       "grid_auto_columns": null,
       "grid_auto_flow": null,
       "grid_auto_rows": null,
       "grid_column": null,
       "grid_gap": null,
       "grid_row": null,
       "grid_template_areas": null,
       "grid_template_columns": null,
       "grid_template_rows": null,
       "height": null,
       "justify_content": null,
       "justify_items": null,
       "left": null,
       "margin": null,
       "max_height": null,
       "max_width": null,
       "min_height": null,
       "min_width": null,
       "object_fit": null,
       "object_position": null,
       "order": null,
       "overflow": null,
       "padding": null,
       "right": null,
       "top": null,
       "visibility": null,
       "width": null
      }
     },
     "0ab762d6b1dd4ba9ada381acaaa1ba8c": {
      "model_module": "@jupyter-widgets/controls",
      "model_module_version": "2.0.0",
      "model_name": "HTMLModel",
      "state": {
       "_dom_classes": [],
       "_model_module": "@jupyter-widgets/controls",
       "_model_module_version": "2.0.0",
       "_model_name": "HTMLModel",
       "_view_count": null,
       "_view_module": "@jupyter-widgets/controls",
       "_view_module_version": "2.0.0",
       "_view_name": "HTMLView",
       "description": "",
       "description_allow_html": false,
       "layout": "IPY_MODEL_8103760421444cc7bf6e3ba3645b51a0",
       "placeholder": "​",
       "style": "IPY_MODEL_ea0174067c80497ebbe6d7520a718ae6",
       "tabbable": null,
       "tooltip": null,
       "value": ""
      }
     },
     "0ad5366ce1204d1d811ad37a6e3cd9b2": {
      "model_module": "@jupyter-widgets/base",
      "model_module_version": "2.0.0",
      "model_name": "LayoutModel",
      "state": {
       "_model_module": "@jupyter-widgets/base",
       "_model_module_version": "2.0.0",
       "_model_name": "LayoutModel",
       "_view_count": null,
       "_view_module": "@jupyter-widgets/base",
       "_view_module_version": "2.0.0",
       "_view_name": "LayoutView",
       "align_content": null,
       "align_items": null,
       "align_self": null,
       "border_bottom": null,
       "border_left": null,
       "border_right": null,
       "border_top": null,
       "bottom": null,
       "display": null,
       "flex": null,
       "flex_flow": null,
       "grid_area": null,
       "grid_auto_columns": null,
       "grid_auto_flow": null,
       "grid_auto_rows": null,
       "grid_column": null,
       "grid_gap": null,
       "grid_row": null,
       "grid_template_areas": null,
       "grid_template_columns": null,
       "grid_template_rows": null,
       "height": null,
       "justify_content": null,
       "justify_items": null,
       "left": null,
       "margin": null,
       "max_height": null,
       "max_width": null,
       "min_height": null,
       "min_width": null,
       "object_fit": null,
       "object_position": null,
       "order": null,
       "overflow": null,
       "padding": null,
       "right": null,
       "top": null,
       "visibility": null,
       "width": null
      }
     },
     "0b44d010cfbf4c3fb6db81588bf1cca4": {
      "model_module": "@jupyter-widgets/controls",
      "model_module_version": "2.0.0",
      "model_name": "HTMLModel",
      "state": {
       "_dom_classes": [],
       "_model_module": "@jupyter-widgets/controls",
       "_model_module_version": "2.0.0",
       "_model_name": "HTMLModel",
       "_view_count": null,
       "_view_module": "@jupyter-widgets/controls",
       "_view_module_version": "2.0.0",
       "_view_name": "HTMLView",
       "description": "",
       "description_allow_html": false,
       "layout": "IPY_MODEL_d2d5131bd4f746afae02ac64241eb8fa",
       "placeholder": "​",
       "style": "IPY_MODEL_d0fe4f42d6f64771a9a6f72b55cb23c5",
       "tabbable": null,
       "tooltip": null,
       "value": ""
      }
     },
     "0c78c3ad0cc743528730024ff039eb99": {
      "model_module": "@jupyter-widgets/base",
      "model_module_version": "2.0.0",
      "model_name": "LayoutModel",
      "state": {
       "_model_module": "@jupyter-widgets/base",
       "_model_module_version": "2.0.0",
       "_model_name": "LayoutModel",
       "_view_count": null,
       "_view_module": "@jupyter-widgets/base",
       "_view_module_version": "2.0.0",
       "_view_name": "LayoutView",
       "align_content": null,
       "align_items": null,
       "align_self": null,
       "border_bottom": null,
       "border_left": null,
       "border_right": null,
       "border_top": null,
       "bottom": null,
       "display": null,
       "flex": null,
       "flex_flow": null,
       "grid_area": null,
       "grid_auto_columns": null,
       "grid_auto_flow": null,
       "grid_auto_rows": null,
       "grid_column": null,
       "grid_gap": null,
       "grid_row": null,
       "grid_template_areas": null,
       "grid_template_columns": null,
       "grid_template_rows": null,
       "height": null,
       "justify_content": null,
       "justify_items": null,
       "left": null,
       "margin": null,
       "max_height": null,
       "max_width": null,
       "min_height": null,
       "min_width": null,
       "object_fit": null,
       "object_position": null,
       "order": null,
       "overflow": null,
       "padding": null,
       "right": null,
       "top": null,
       "visibility": null,
       "width": null
      }
     },
     "0ccd6bda51a94b5282959f14e1d58a91": {
      "model_module": "@jupyter-widgets/controls",
      "model_module_version": "2.0.0",
      "model_name": "HTMLStyleModel",
      "state": {
       "_model_module": "@jupyter-widgets/controls",
       "_model_module_version": "2.0.0",
       "_model_name": "HTMLStyleModel",
       "_view_count": null,
       "_view_module": "@jupyter-widgets/base",
       "_view_module_version": "2.0.0",
       "_view_name": "StyleView",
       "background": null,
       "description_width": "",
       "font_size": null,
       "text_color": null
      }
     },
     "0e18b4c9d4ed4c218195248713b2aebd": {
      "model_module": "@jupyter-widgets/controls",
      "model_module_version": "2.0.0",
      "model_name": "HBoxModel",
      "state": {
       "_dom_classes": [],
       "_model_module": "@jupyter-widgets/controls",
       "_model_module_version": "2.0.0",
       "_model_name": "HBoxModel",
       "_view_count": null,
       "_view_module": "@jupyter-widgets/controls",
       "_view_module_version": "2.0.0",
       "_view_name": "HBoxView",
       "box_style": "",
       "children": [
        "IPY_MODEL_12de63a63716465299877f0787f03fff",
        "IPY_MODEL_a002defa230e445db50768bf2669526f",
        "IPY_MODEL_ba911cb7553042628e5c58d403795940"
       ],
       "layout": "IPY_MODEL_d8ba510ce070446abd2e7b603dce1cca",
       "tabbable": null,
       "tooltip": null
      }
     },
     "0f59339db1304add9e3570a65e4e6246": {
      "model_module": "@jupyter-widgets/base",
      "model_module_version": "2.0.0",
      "model_name": "LayoutModel",
      "state": {
       "_model_module": "@jupyter-widgets/base",
       "_model_module_version": "2.0.0",
       "_model_name": "LayoutModel",
       "_view_count": null,
       "_view_module": "@jupyter-widgets/base",
       "_view_module_version": "2.0.0",
       "_view_name": "LayoutView",
       "align_content": null,
       "align_items": null,
       "align_self": null,
       "border_bottom": null,
       "border_left": null,
       "border_right": null,
       "border_top": null,
       "bottom": null,
       "display": null,
       "flex": null,
       "flex_flow": null,
       "grid_area": null,
       "grid_auto_columns": null,
       "grid_auto_flow": null,
       "grid_auto_rows": null,
       "grid_column": null,
       "grid_gap": null,
       "grid_row": null,
       "grid_template_areas": null,
       "grid_template_columns": null,
       "grid_template_rows": null,
       "height": null,
       "justify_content": null,
       "justify_items": null,
       "left": null,
       "margin": null,
       "max_height": null,
       "max_width": null,
       "min_height": null,
       "min_width": null,
       "object_fit": null,
       "object_position": null,
       "order": null,
       "overflow": null,
       "padding": null,
       "right": null,
       "top": null,
       "visibility": null,
       "width": null
      }
     },
     "12d1253d89364cd394bb2bbd99761a2b": {
      "model_module": "@jupyter-widgets/controls",
      "model_module_version": "2.0.0",
      "model_name": "HTMLModel",
      "state": {
       "_dom_classes": [],
       "_model_module": "@jupyter-widgets/controls",
       "_model_module_version": "2.0.0",
       "_model_name": "HTMLModel",
       "_view_count": null,
       "_view_module": "@jupyter-widgets/controls",
       "_view_module_version": "2.0.0",
       "_view_name": "HTMLView",
       "description": "",
       "description_allow_html": false,
       "layout": "IPY_MODEL_730c6cb8cdf54da88e90d8f0b6729dc4",
       "placeholder": "​",
       "style": "IPY_MODEL_2b7026ef3e484fe49bf2e482c2ec1872",
       "tabbable": null,
       "tooltip": null,
       "value": ""
      }
     },
     "12de63a63716465299877f0787f03fff": {
      "model_module": "@jupyter-widgets/controls",
      "model_module_version": "2.0.0",
      "model_name": "HTMLModel",
      "state": {
       "_dom_classes": [],
       "_model_module": "@jupyter-widgets/controls",
       "_model_module_version": "2.0.0",
       "_model_name": "HTMLModel",
       "_view_count": null,
       "_view_module": "@jupyter-widgets/controls",
       "_view_module_version": "2.0.0",
       "_view_name": "HTMLView",
       "description": "",
       "description_allow_html": false,
       "layout": "IPY_MODEL_7cd056523fd64729bfeaddb12f7767d1",
       "placeholder": "​",
       "style": "IPY_MODEL_feeac4e82f7b47a98bdf6a2c9e11a357",
       "tabbable": null,
       "tooltip": null,
       "value": ""
      }
     },
     "1337490740234556b3ced3ec535a536c": {
      "model_module": "@jupyter-widgets/controls",
      "model_module_version": "2.0.0",
      "model_name": "HTMLStyleModel",
      "state": {
       "_model_module": "@jupyter-widgets/controls",
       "_model_module_version": "2.0.0",
       "_model_name": "HTMLStyleModel",
       "_view_count": null,
       "_view_module": "@jupyter-widgets/base",
       "_view_module_version": "2.0.0",
       "_view_name": "StyleView",
       "background": null,
       "description_width": "",
       "font_size": null,
       "text_color": null
      }
     },
     "14765f7bad9b46bc98cbe0c87bcc1c22": {
      "model_module": "@jupyter-widgets/base",
      "model_module_version": "2.0.0",
      "model_name": "LayoutModel",
      "state": {
       "_model_module": "@jupyter-widgets/base",
       "_model_module_version": "2.0.0",
       "_model_name": "LayoutModel",
       "_view_count": null,
       "_view_module": "@jupyter-widgets/base",
       "_view_module_version": "2.0.0",
       "_view_name": "LayoutView",
       "align_content": null,
       "align_items": null,
       "align_self": null,
       "border_bottom": null,
       "border_left": null,
       "border_right": null,
       "border_top": null,
       "bottom": null,
       "display": null,
       "flex": null,
       "flex_flow": null,
       "grid_area": null,
       "grid_auto_columns": null,
       "grid_auto_flow": null,
       "grid_auto_rows": null,
       "grid_column": null,
       "grid_gap": null,
       "grid_row": null,
       "grid_template_areas": null,
       "grid_template_columns": null,
       "grid_template_rows": null,
       "height": null,
       "justify_content": null,
       "justify_items": null,
       "left": null,
       "margin": null,
       "max_height": null,
       "max_width": null,
       "min_height": null,
       "min_width": null,
       "object_fit": null,
       "object_position": null,
       "order": null,
       "overflow": null,
       "padding": null,
       "right": null,
       "top": null,
       "visibility": null,
       "width": null
      }
     },
     "17a37eb248a44a04a844776aa8fdc4c8": {
      "model_module": "@jupyter-widgets/controls",
      "model_module_version": "2.0.0",
      "model_name": "ProgressStyleModel",
      "state": {
       "_model_module": "@jupyter-widgets/controls",
       "_model_module_version": "2.0.0",
       "_model_name": "ProgressStyleModel",
       "_view_count": null,
       "_view_module": "@jupyter-widgets/base",
       "_view_module_version": "2.0.0",
       "_view_name": "StyleView",
       "bar_color": null,
       "description_width": ""
      }
     },
     "193c1b014f2d4051a442f7f731a3a918": {
      "model_module": "@jupyter-widgets/controls",
      "model_module_version": "2.0.0",
      "model_name": "FloatProgressModel",
      "state": {
       "_dom_classes": [],
       "_model_module": "@jupyter-widgets/controls",
       "_model_module_version": "2.0.0",
       "_model_name": "FloatProgressModel",
       "_view_count": null,
       "_view_module": "@jupyter-widgets/controls",
       "_view_module_version": "2.0.0",
       "_view_name": "ProgressView",
       "bar_style": "info",
       "description": "",
       "description_allow_html": false,
       "layout": "IPY_MODEL_52eb989f19744fb1a1881fb69226edaf",
       "max": 1,
       "min": 0,
       "orientation": "horizontal",
       "style": "IPY_MODEL_68159b01a3ab4c42aba6e93d5e6afabd",
       "tabbable": null,
       "tooltip": null,
       "value": 1
      }
     },
     "1d927cdd32e743c5b5a6879b33a395bf": {
      "model_module": "@jupyter-widgets/controls",
      "model_module_version": "2.0.0",
      "model_name": "HTMLModel",
      "state": {
       "_dom_classes": [],
       "_model_module": "@jupyter-widgets/controls",
       "_model_module_version": "2.0.0",
       "_model_name": "HTMLModel",
       "_view_count": null,
       "_view_module": "@jupyter-widgets/controls",
       "_view_module_version": "2.0.0",
       "_view_name": "HTMLView",
       "description": "",
       "description_allow_html": false,
       "layout": "IPY_MODEL_b0711d71f5d64a898d1f2eea59ccd818",
       "placeholder": "​",
       "style": "IPY_MODEL_6cae8eb782b54437aad66dc2d3892b49",
       "tabbable": null,
       "tooltip": null,
       "value": ""
      }
     },
     "1e58a874348040aa813e0a4d58e1f1f2": {
      "model_module": "@jupyter-widgets/controls",
      "model_module_version": "2.0.0",
      "model_name": "HTMLStyleModel",
      "state": {
       "_model_module": "@jupyter-widgets/controls",
       "_model_module_version": "2.0.0",
       "_model_name": "HTMLStyleModel",
       "_view_count": null,
       "_view_module": "@jupyter-widgets/base",
       "_view_module_version": "2.0.0",
       "_view_name": "StyleView",
       "background": null,
       "description_width": "",
       "font_size": null,
       "text_color": null
      }
     },
     "20da9d0ccbf6481a85a6b8f8ae2eb560": {
      "model_module": "@jupyter-widgets/base",
      "model_module_version": "2.0.0",
      "model_name": "LayoutModel",
      "state": {
       "_model_module": "@jupyter-widgets/base",
       "_model_module_version": "2.0.0",
       "_model_name": "LayoutModel",
       "_view_count": null,
       "_view_module": "@jupyter-widgets/base",
       "_view_module_version": "2.0.0",
       "_view_name": "LayoutView",
       "align_content": null,
       "align_items": null,
       "align_self": null,
       "border_bottom": null,
       "border_left": null,
       "border_right": null,
       "border_top": null,
       "bottom": null,
       "display": null,
       "flex": null,
       "flex_flow": null,
       "grid_area": null,
       "grid_auto_columns": null,
       "grid_auto_flow": null,
       "grid_auto_rows": null,
       "grid_column": null,
       "grid_gap": null,
       "grid_row": null,
       "grid_template_areas": null,
       "grid_template_columns": null,
       "grid_template_rows": null,
       "height": null,
       "justify_content": null,
       "justify_items": null,
       "left": null,
       "margin": null,
       "max_height": null,
       "max_width": null,
       "min_height": null,
       "min_width": null,
       "object_fit": null,
       "object_position": null,
       "order": null,
       "overflow": null,
       "padding": null,
       "right": null,
       "top": null,
       "visibility": null,
       "width": null
      }
     },
     "249de6d488174278928cb8bc48ce0906": {
      "model_module": "@jupyter-widgets/base",
      "model_module_version": "2.0.0",
      "model_name": "LayoutModel",
      "state": {
       "_model_module": "@jupyter-widgets/base",
       "_model_module_version": "2.0.0",
       "_model_name": "LayoutModel",
       "_view_count": null,
       "_view_module": "@jupyter-widgets/base",
       "_view_module_version": "2.0.0",
       "_view_name": "LayoutView",
       "align_content": null,
       "align_items": null,
       "align_self": null,
       "border_bottom": null,
       "border_left": null,
       "border_right": null,
       "border_top": null,
       "bottom": null,
       "display": null,
       "flex": null,
       "flex_flow": null,
       "grid_area": null,
       "grid_auto_columns": null,
       "grid_auto_flow": null,
       "grid_auto_rows": null,
       "grid_column": null,
       "grid_gap": null,
       "grid_row": null,
       "grid_template_areas": null,
       "grid_template_columns": null,
       "grid_template_rows": null,
       "height": null,
       "justify_content": null,
       "justify_items": null,
       "left": null,
       "margin": null,
       "max_height": null,
       "max_width": null,
       "min_height": null,
       "min_width": null,
       "object_fit": null,
       "object_position": null,
       "order": null,
       "overflow": null,
       "padding": null,
       "right": null,
       "top": null,
       "visibility": null,
       "width": "20px"
      }
     },
     "25bc3b0bde89420f8a0509c026eaead1": {
      "model_module": "@jupyter-widgets/base",
      "model_module_version": "2.0.0",
      "model_name": "LayoutModel",
      "state": {
       "_model_module": "@jupyter-widgets/base",
       "_model_module_version": "2.0.0",
       "_model_name": "LayoutModel",
       "_view_count": null,
       "_view_module": "@jupyter-widgets/base",
       "_view_module_version": "2.0.0",
       "_view_name": "LayoutView",
       "align_content": null,
       "align_items": null,
       "align_self": null,
       "border_bottom": null,
       "border_left": null,
       "border_right": null,
       "border_top": null,
       "bottom": null,
       "display": null,
       "flex": null,
       "flex_flow": null,
       "grid_area": null,
       "grid_auto_columns": null,
       "grid_auto_flow": null,
       "grid_auto_rows": null,
       "grid_column": null,
       "grid_gap": null,
       "grid_row": null,
       "grid_template_areas": null,
       "grid_template_columns": null,
       "grid_template_rows": null,
       "height": null,
       "justify_content": null,
       "justify_items": null,
       "left": null,
       "margin": null,
       "max_height": null,
       "max_width": null,
       "min_height": null,
       "min_width": null,
       "object_fit": null,
       "object_position": null,
       "order": null,
       "overflow": null,
       "padding": null,
       "right": null,
       "top": null,
       "visibility": null,
       "width": null
      }
     },
     "2846232dafe24099a751da8e4c394d91": {
      "model_module": "@jupyter-widgets/controls",
      "model_module_version": "2.0.0",
      "model_name": "HTMLModel",
      "state": {
       "_dom_classes": [],
       "_model_module": "@jupyter-widgets/controls",
       "_model_module_version": "2.0.0",
       "_model_name": "HTMLModel",
       "_view_count": null,
       "_view_module": "@jupyter-widgets/controls",
       "_view_module_version": "2.0.0",
       "_view_name": "HTMLView",
       "description": "",
       "description_allow_html": false,
       "layout": "IPY_MODEL_94f05edd9e7240f487a004505f7503a8",
       "placeholder": "​",
       "style": "IPY_MODEL_dd4b33f88b2d4c3fba5b74f72f1be137",
       "tabbable": null,
       "tooltip": null,
       "value": ""
      }
     },
     "2b7026ef3e484fe49bf2e482c2ec1872": {
      "model_module": "@jupyter-widgets/controls",
      "model_module_version": "2.0.0",
      "model_name": "HTMLStyleModel",
      "state": {
       "_model_module": "@jupyter-widgets/controls",
       "_model_module_version": "2.0.0",
       "_model_name": "HTMLStyleModel",
       "_view_count": null,
       "_view_module": "@jupyter-widgets/base",
       "_view_module_version": "2.0.0",
       "_view_name": "StyleView",
       "background": null,
       "description_width": "",
       "font_size": null,
       "text_color": null
      }
     },
     "2c728c7329054e3ea9981bace1889e48": {
      "model_module": "@jupyter-widgets/controls",
      "model_module_version": "2.0.0",
      "model_name": "FloatProgressModel",
      "state": {
       "_dom_classes": [],
       "_model_module": "@jupyter-widgets/controls",
       "_model_module_version": "2.0.0",
       "_model_name": "FloatProgressModel",
       "_view_count": null,
       "_view_module": "@jupyter-widgets/controls",
       "_view_module_version": "2.0.0",
       "_view_name": "ProgressView",
       "bar_style": "info",
       "description": "",
       "description_allow_html": false,
       "layout": "IPY_MODEL_5140f2f4f90248ccbb7989344ed9442e",
       "max": 1,
       "min": 0,
       "orientation": "horizontal",
       "style": "IPY_MODEL_b94ec5c43b984f3da3d1721b7f81139c",
       "tabbable": null,
       "tooltip": null,
       "value": 1
      }
     },
     "2caaa5cad8914405bb93ab05c83f62b6": {
      "model_module": "@jupyter-widgets/base",
      "model_module_version": "2.0.0",
      "model_name": "LayoutModel",
      "state": {
       "_model_module": "@jupyter-widgets/base",
       "_model_module_version": "2.0.0",
       "_model_name": "LayoutModel",
       "_view_count": null,
       "_view_module": "@jupyter-widgets/base",
       "_view_module_version": "2.0.0",
       "_view_name": "LayoutView",
       "align_content": null,
       "align_items": null,
       "align_self": null,
       "border_bottom": null,
       "border_left": null,
       "border_right": null,
       "border_top": null,
       "bottom": null,
       "display": null,
       "flex": null,
       "flex_flow": null,
       "grid_area": null,
       "grid_auto_columns": null,
       "grid_auto_flow": null,
       "grid_auto_rows": null,
       "grid_column": null,
       "grid_gap": null,
       "grid_row": null,
       "grid_template_areas": null,
       "grid_template_columns": null,
       "grid_template_rows": null,
       "height": null,
       "justify_content": null,
       "justify_items": null,
       "left": null,
       "margin": null,
       "max_height": null,
       "max_width": null,
       "min_height": null,
       "min_width": null,
       "object_fit": null,
       "object_position": null,
       "order": null,
       "overflow": null,
       "padding": null,
       "right": null,
       "top": null,
       "visibility": null,
       "width": null
      }
     },
     "2ddd4cfa075644e89a797748947609dc": {
      "model_module": "@jupyter-widgets/base",
      "model_module_version": "2.0.0",
      "model_name": "LayoutModel",
      "state": {
       "_model_module": "@jupyter-widgets/base",
       "_model_module_version": "2.0.0",
       "_model_name": "LayoutModel",
       "_view_count": null,
       "_view_module": "@jupyter-widgets/base",
       "_view_module_version": "2.0.0",
       "_view_name": "LayoutView",
       "align_content": null,
       "align_items": null,
       "align_self": null,
       "border_bottom": null,
       "border_left": null,
       "border_right": null,
       "border_top": null,
       "bottom": null,
       "display": null,
       "flex": null,
       "flex_flow": null,
       "grid_area": null,
       "grid_auto_columns": null,
       "grid_auto_flow": null,
       "grid_auto_rows": null,
       "grid_column": null,
       "grid_gap": null,
       "grid_row": null,
       "grid_template_areas": null,
       "grid_template_columns": null,
       "grid_template_rows": null,
       "height": null,
       "justify_content": null,
       "justify_items": null,
       "left": null,
       "margin": null,
       "max_height": null,
       "max_width": null,
       "min_height": null,
       "min_width": null,
       "object_fit": null,
       "object_position": null,
       "order": null,
       "overflow": null,
       "padding": null,
       "right": null,
       "top": null,
       "visibility": null,
       "width": null
      }
     },
     "2eec04d46ef0477391a9826979c926a3": {
      "model_module": "@jupyter-widgets/base",
      "model_module_version": "2.0.0",
      "model_name": "LayoutModel",
      "state": {
       "_model_module": "@jupyter-widgets/base",
       "_model_module_version": "2.0.0",
       "_model_name": "LayoutModel",
       "_view_count": null,
       "_view_module": "@jupyter-widgets/base",
       "_view_module_version": "2.0.0",
       "_view_name": "LayoutView",
       "align_content": null,
       "align_items": null,
       "align_self": null,
       "border_bottom": null,
       "border_left": null,
       "border_right": null,
       "border_top": null,
       "bottom": null,
       "display": null,
       "flex": null,
       "flex_flow": null,
       "grid_area": null,
       "grid_auto_columns": null,
       "grid_auto_flow": null,
       "grid_auto_rows": null,
       "grid_column": null,
       "grid_gap": null,
       "grid_row": null,
       "grid_template_areas": null,
       "grid_template_columns": null,
       "grid_template_rows": null,
       "height": null,
       "justify_content": null,
       "justify_items": null,
       "left": null,
       "margin": null,
       "max_height": null,
       "max_width": null,
       "min_height": null,
       "min_width": null,
       "object_fit": null,
       "object_position": null,
       "order": null,
       "overflow": null,
       "padding": null,
       "right": null,
       "top": null,
       "visibility": null,
       "width": null
      }
     },
     "3151111cb268422e8d8c11340e2e5f25": {
      "model_module": "@jupyter-widgets/base",
      "model_module_version": "2.0.0",
      "model_name": "LayoutModel",
      "state": {
       "_model_module": "@jupyter-widgets/base",
       "_model_module_version": "2.0.0",
       "_model_name": "LayoutModel",
       "_view_count": null,
       "_view_module": "@jupyter-widgets/base",
       "_view_module_version": "2.0.0",
       "_view_name": "LayoutView",
       "align_content": null,
       "align_items": null,
       "align_self": null,
       "border_bottom": null,
       "border_left": null,
       "border_right": null,
       "border_top": null,
       "bottom": null,
       "display": null,
       "flex": null,
       "flex_flow": null,
       "grid_area": null,
       "grid_auto_columns": null,
       "grid_auto_flow": null,
       "grid_auto_rows": null,
       "grid_column": null,
       "grid_gap": null,
       "grid_row": null,
       "grid_template_areas": null,
       "grid_template_columns": null,
       "grid_template_rows": null,
       "height": null,
       "justify_content": null,
       "justify_items": null,
       "left": null,
       "margin": null,
       "max_height": null,
       "max_width": null,
       "min_height": null,
       "min_width": null,
       "object_fit": null,
       "object_position": null,
       "order": null,
       "overflow": null,
       "padding": null,
       "right": null,
       "top": null,
       "visibility": null,
       "width": null
      }
     },
     "3eaec00fb71049a2a047ad71733d6122": {
      "model_module": "@jupyter-widgets/base",
      "model_module_version": "2.0.0",
      "model_name": "LayoutModel",
      "state": {
       "_model_module": "@jupyter-widgets/base",
       "_model_module_version": "2.0.0",
       "_model_name": "LayoutModel",
       "_view_count": null,
       "_view_module": "@jupyter-widgets/base",
       "_view_module_version": "2.0.0",
       "_view_name": "LayoutView",
       "align_content": null,
       "align_items": null,
       "align_self": null,
       "border_bottom": null,
       "border_left": null,
       "border_right": null,
       "border_top": null,
       "bottom": null,
       "display": null,
       "flex": null,
       "flex_flow": null,
       "grid_area": null,
       "grid_auto_columns": null,
       "grid_auto_flow": null,
       "grid_auto_rows": null,
       "grid_column": null,
       "grid_gap": null,
       "grid_row": null,
       "grid_template_areas": null,
       "grid_template_columns": null,
       "grid_template_rows": null,
       "height": null,
       "justify_content": null,
       "justify_items": null,
       "left": null,
       "margin": null,
       "max_height": null,
       "max_width": null,
       "min_height": null,
       "min_width": null,
       "object_fit": null,
       "object_position": null,
       "order": null,
       "overflow": null,
       "padding": null,
       "right": null,
       "top": null,
       "visibility": null,
       "width": "20px"
      }
     },
     "40c0649406a6434eb7d7611502a99118": {
      "model_module": "@jupyter-widgets/controls",
      "model_module_version": "2.0.0",
      "model_name": "HTMLStyleModel",
      "state": {
       "_model_module": "@jupyter-widgets/controls",
       "_model_module_version": "2.0.0",
       "_model_name": "HTMLStyleModel",
       "_view_count": null,
       "_view_module": "@jupyter-widgets/base",
       "_view_module_version": "2.0.0",
       "_view_name": "StyleView",
       "background": null,
       "description_width": "",
       "font_size": null,
       "text_color": null
      }
     },
     "42a1da624bf447518d69cc8273819695": {
      "model_module": "@jupyter-widgets/base",
      "model_module_version": "2.0.0",
      "model_name": "LayoutModel",
      "state": {
       "_model_module": "@jupyter-widgets/base",
       "_model_module_version": "2.0.0",
       "_model_name": "LayoutModel",
       "_view_count": null,
       "_view_module": "@jupyter-widgets/base",
       "_view_module_version": "2.0.0",
       "_view_name": "LayoutView",
       "align_content": null,
       "align_items": null,
       "align_self": null,
       "border_bottom": null,
       "border_left": null,
       "border_right": null,
       "border_top": null,
       "bottom": null,
       "display": null,
       "flex": null,
       "flex_flow": null,
       "grid_area": null,
       "grid_auto_columns": null,
       "grid_auto_flow": null,
       "grid_auto_rows": null,
       "grid_column": null,
       "grid_gap": null,
       "grid_row": null,
       "grid_template_areas": null,
       "grid_template_columns": null,
       "grid_template_rows": null,
       "height": null,
       "justify_content": null,
       "justify_items": null,
       "left": null,
       "margin": null,
       "max_height": null,
       "max_width": null,
       "min_height": null,
       "min_width": null,
       "object_fit": null,
       "object_position": null,
       "order": null,
       "overflow": null,
       "padding": null,
       "right": null,
       "top": null,
       "visibility": null,
       "width": null
      }
     },
     "43174ae18fc143b7887724a7a7d14b65": {
      "model_module": "@jupyter-widgets/base",
      "model_module_version": "2.0.0",
      "model_name": "LayoutModel",
      "state": {
       "_model_module": "@jupyter-widgets/base",
       "_model_module_version": "2.0.0",
       "_model_name": "LayoutModel",
       "_view_count": null,
       "_view_module": "@jupyter-widgets/base",
       "_view_module_version": "2.0.0",
       "_view_name": "LayoutView",
       "align_content": null,
       "align_items": null,
       "align_self": null,
       "border_bottom": null,
       "border_left": null,
       "border_right": null,
       "border_top": null,
       "bottom": null,
       "display": null,
       "flex": null,
       "flex_flow": null,
       "grid_area": null,
       "grid_auto_columns": null,
       "grid_auto_flow": null,
       "grid_auto_rows": null,
       "grid_column": null,
       "grid_gap": null,
       "grid_row": null,
       "grid_template_areas": null,
       "grid_template_columns": null,
       "grid_template_rows": null,
       "height": null,
       "justify_content": null,
       "justify_items": null,
       "left": null,
       "margin": null,
       "max_height": null,
       "max_width": null,
       "min_height": null,
       "min_width": null,
       "object_fit": null,
       "object_position": null,
       "order": null,
       "overflow": null,
       "padding": null,
       "right": null,
       "top": null,
       "visibility": null,
       "width": null
      }
     },
     "43226e1282264c9a88d2a1171a3b1f48": {
      "model_module": "@jupyter-widgets/controls",
      "model_module_version": "2.0.0",
      "model_name": "HTMLModel",
      "state": {
       "_dom_classes": [],
       "_model_module": "@jupyter-widgets/controls",
       "_model_module_version": "2.0.0",
       "_model_name": "HTMLModel",
       "_view_count": null,
       "_view_module": "@jupyter-widgets/controls",
       "_view_module_version": "2.0.0",
       "_view_name": "HTMLView",
       "description": "",
       "description_allow_html": false,
       "layout": "IPY_MODEL_5bade768fc2146d9b387288383e913ed",
       "placeholder": "​",
       "style": "IPY_MODEL_491982aa09d948dcbd4a9e8661e14967",
       "tabbable": null,
       "tooltip": null,
       "value": ""
      }
     },
     "47f45841b03249d6890011dc75339b0f": {
      "model_module": "@jupyter-widgets/base",
      "model_module_version": "2.0.0",
      "model_name": "LayoutModel",
      "state": {
       "_model_module": "@jupyter-widgets/base",
       "_model_module_version": "2.0.0",
       "_model_name": "LayoutModel",
       "_view_count": null,
       "_view_module": "@jupyter-widgets/base",
       "_view_module_version": "2.0.0",
       "_view_name": "LayoutView",
       "align_content": null,
       "align_items": null,
       "align_self": null,
       "border_bottom": null,
       "border_left": null,
       "border_right": null,
       "border_top": null,
       "bottom": null,
       "display": null,
       "flex": null,
       "flex_flow": null,
       "grid_area": null,
       "grid_auto_columns": null,
       "grid_auto_flow": null,
       "grid_auto_rows": null,
       "grid_column": null,
       "grid_gap": null,
       "grid_row": null,
       "grid_template_areas": null,
       "grid_template_columns": null,
       "grid_template_rows": null,
       "height": null,
       "justify_content": null,
       "justify_items": null,
       "left": null,
       "margin": null,
       "max_height": null,
       "max_width": null,
       "min_height": null,
       "min_width": null,
       "object_fit": null,
       "object_position": null,
       "order": null,
       "overflow": null,
       "padding": null,
       "right": null,
       "top": null,
       "visibility": null,
       "width": null
      }
     },
     "491982aa09d948dcbd4a9e8661e14967": {
      "model_module": "@jupyter-widgets/controls",
      "model_module_version": "2.0.0",
      "model_name": "HTMLStyleModel",
      "state": {
       "_model_module": "@jupyter-widgets/controls",
       "_model_module_version": "2.0.0",
       "_model_name": "HTMLStyleModel",
       "_view_count": null,
       "_view_module": "@jupyter-widgets/base",
       "_view_module_version": "2.0.0",
       "_view_name": "StyleView",
       "background": null,
       "description_width": "",
       "font_size": null,
       "text_color": null
      }
     },
     "4fc53c8ea3474eb597ee98c97c40a844": {
      "model_module": "@jupyter-widgets/controls",
      "model_module_version": "2.0.0",
      "model_name": "ProgressStyleModel",
      "state": {
       "_model_module": "@jupyter-widgets/controls",
       "_model_module_version": "2.0.0",
       "_model_name": "ProgressStyleModel",
       "_view_count": null,
       "_view_module": "@jupyter-widgets/base",
       "_view_module_version": "2.0.0",
       "_view_name": "StyleView",
       "bar_color": null,
       "description_width": ""
      }
     },
     "4ff83a3ddcc442178d6cd622d6ea03da": {
      "model_module": "@jupyter-widgets/controls",
      "model_module_version": "2.0.0",
      "model_name": "HTMLModel",
      "state": {
       "_dom_classes": [],
       "_model_module": "@jupyter-widgets/controls",
       "_model_module_version": "2.0.0",
       "_model_name": "HTMLModel",
       "_view_count": null,
       "_view_module": "@jupyter-widgets/controls",
       "_view_module_version": "2.0.0",
       "_view_name": "HTMLView",
       "description": "",
       "description_allow_html": false,
       "layout": "IPY_MODEL_5a7933c5f38a4a7e85dd47862fc5d46b",
       "placeholder": "​",
       "style": "IPY_MODEL_f8add6c503714996be4a9908ff205505",
       "tabbable": null,
       "tooltip": null,
       "value": " 7747875/? [00:15&lt;00:00, 2665103.05rows/s]"
      }
     },
     "506b22d821754b9280e805dc72c8573c": {
      "model_module": "@jupyter-widgets/controls",
      "model_module_version": "2.0.0",
      "model_name": "HTMLStyleModel",
      "state": {
       "_model_module": "@jupyter-widgets/controls",
       "_model_module_version": "2.0.0",
       "_model_name": "HTMLStyleModel",
       "_view_count": null,
       "_view_module": "@jupyter-widgets/base",
       "_view_module_version": "2.0.0",
       "_view_name": "StyleView",
       "background": null,
       "description_width": "",
       "font_size": null,
       "text_color": null
      }
     },
     "5140f2f4f90248ccbb7989344ed9442e": {
      "model_module": "@jupyter-widgets/base",
      "model_module_version": "2.0.0",
      "model_name": "LayoutModel",
      "state": {
       "_model_module": "@jupyter-widgets/base",
       "_model_module_version": "2.0.0",
       "_model_name": "LayoutModel",
       "_view_count": null,
       "_view_module": "@jupyter-widgets/base",
       "_view_module_version": "2.0.0",
       "_view_name": "LayoutView",
       "align_content": null,
       "align_items": null,
       "align_self": null,
       "border_bottom": null,
       "border_left": null,
       "border_right": null,
       "border_top": null,
       "bottom": null,
       "display": null,
       "flex": null,
       "flex_flow": null,
       "grid_area": null,
       "grid_auto_columns": null,
       "grid_auto_flow": null,
       "grid_auto_rows": null,
       "grid_column": null,
       "grid_gap": null,
       "grid_row": null,
       "grid_template_areas": null,
       "grid_template_columns": null,
       "grid_template_rows": null,
       "height": null,
       "justify_content": null,
       "justify_items": null,
       "left": null,
       "margin": null,
       "max_height": null,
       "max_width": null,
       "min_height": null,
       "min_width": null,
       "object_fit": null,
       "object_position": null,
       "order": null,
       "overflow": null,
       "padding": null,
       "right": null,
       "top": null,
       "visibility": null,
       "width": "20px"
      }
     },
     "52eb989f19744fb1a1881fb69226edaf": {
      "model_module": "@jupyter-widgets/base",
      "model_module_version": "2.0.0",
      "model_name": "LayoutModel",
      "state": {
       "_model_module": "@jupyter-widgets/base",
       "_model_module_version": "2.0.0",
       "_model_name": "LayoutModel",
       "_view_count": null,
       "_view_module": "@jupyter-widgets/base",
       "_view_module_version": "2.0.0",
       "_view_name": "LayoutView",
       "align_content": null,
       "align_items": null,
       "align_self": null,
       "border_bottom": null,
       "border_left": null,
       "border_right": null,
       "border_top": null,
       "bottom": null,
       "display": null,
       "flex": null,
       "flex_flow": null,
       "grid_area": null,
       "grid_auto_columns": null,
       "grid_auto_flow": null,
       "grid_auto_rows": null,
       "grid_column": null,
       "grid_gap": null,
       "grid_row": null,
       "grid_template_areas": null,
       "grid_template_columns": null,
       "grid_template_rows": null,
       "height": null,
       "justify_content": null,
       "justify_items": null,
       "left": null,
       "margin": null,
       "max_height": null,
       "max_width": null,
       "min_height": null,
       "min_width": null,
       "object_fit": null,
       "object_position": null,
       "order": null,
       "overflow": null,
       "padding": null,
       "right": null,
       "top": null,
       "visibility": null,
       "width": "20px"
      }
     },
     "530a037fc85c4687a7d806f5ac01dff2": {
      "model_module": "@jupyter-widgets/base",
      "model_module_version": "2.0.0",
      "model_name": "LayoutModel",
      "state": {
       "_model_module": "@jupyter-widgets/base",
       "_model_module_version": "2.0.0",
       "_model_name": "LayoutModel",
       "_view_count": null,
       "_view_module": "@jupyter-widgets/base",
       "_view_module_version": "2.0.0",
       "_view_name": "LayoutView",
       "align_content": null,
       "align_items": null,
       "align_self": null,
       "border_bottom": null,
       "border_left": null,
       "border_right": null,
       "border_top": null,
       "bottom": null,
       "display": null,
       "flex": null,
       "flex_flow": null,
       "grid_area": null,
       "grid_auto_columns": null,
       "grid_auto_flow": null,
       "grid_auto_rows": null,
       "grid_column": null,
       "grid_gap": null,
       "grid_row": null,
       "grid_template_areas": null,
       "grid_template_columns": null,
       "grid_template_rows": null,
       "height": null,
       "justify_content": null,
       "justify_items": null,
       "left": null,
       "margin": null,
       "max_height": null,
       "max_width": null,
       "min_height": null,
       "min_width": null,
       "object_fit": null,
       "object_position": null,
       "order": null,
       "overflow": null,
       "padding": null,
       "right": null,
       "top": null,
       "visibility": null,
       "width": "20px"
      }
     },
     "53fadbcbe2df4d218c0a8e2da778bf92": {
      "model_module": "@jupyter-widgets/controls",
      "model_module_version": "2.0.0",
      "model_name": "HBoxModel",
      "state": {
       "_dom_classes": [],
       "_model_module": "@jupyter-widgets/controls",
       "_model_module_version": "2.0.0",
       "_model_name": "HBoxModel",
       "_view_count": null,
       "_view_module": "@jupyter-widgets/controls",
       "_view_module_version": "2.0.0",
       "_view_name": "HBoxView",
       "box_style": "",
       "children": [
        "IPY_MODEL_12d1253d89364cd394bb2bbd99761a2b",
        "IPY_MODEL_2c728c7329054e3ea9981bace1889e48",
        "IPY_MODEL_012c3d568a6f47d39166f22934d226b2"
       ],
       "layout": "IPY_MODEL_d62c7000bf814d2a9c8426cac34862a0",
       "tabbable": null,
       "tooltip": null
      }
     },
     "581e286b6b2e4c5aa4f1be1264ca884e": {
      "model_module": "@jupyter-widgets/controls",
      "model_module_version": "2.0.0",
      "model_name": "ProgressStyleModel",
      "state": {
       "_model_module": "@jupyter-widgets/controls",
       "_model_module_version": "2.0.0",
       "_model_name": "ProgressStyleModel",
       "_view_count": null,
       "_view_module": "@jupyter-widgets/base",
       "_view_module_version": "2.0.0",
       "_view_name": "StyleView",
       "bar_color": null,
       "description_width": ""
      }
     },
     "5924615904ab460fb6632ddd78d872c5": {
      "model_module": "@jupyter-widgets/controls",
      "model_module_version": "2.0.0",
      "model_name": "HTMLModel",
      "state": {
       "_dom_classes": [],
       "_model_module": "@jupyter-widgets/controls",
       "_model_module_version": "2.0.0",
       "_model_name": "HTMLModel",
       "_view_count": null,
       "_view_module": "@jupyter-widgets/controls",
       "_view_module_version": "2.0.0",
       "_view_name": "HTMLView",
       "description": "",
       "description_allow_html": false,
       "layout": "IPY_MODEL_42a1da624bf447518d69cc8273819695",
       "placeholder": "​",
       "style": "IPY_MODEL_fd98f9cc3760422cafcd6340ff05d01f",
       "tabbable": null,
       "tooltip": null,
       "value": ""
      }
     },
     "59b511f683ad45dabf04bc084beab9d9": {
      "model_module": "@jupyter-widgets/controls",
      "model_module_version": "2.0.0",
      "model_name": "HBoxModel",
      "state": {
       "_dom_classes": [],
       "_model_module": "@jupyter-widgets/controls",
       "_model_module_version": "2.0.0",
       "_model_name": "HBoxModel",
       "_view_count": null,
       "_view_module": "@jupyter-widgets/controls",
       "_view_module_version": "2.0.0",
       "_view_name": "HBoxView",
       "box_style": "",
       "children": [
        "IPY_MODEL_2846232dafe24099a751da8e4c394d91",
        "IPY_MODEL_e65083a5b2cc4093bb5d1d968b5feea2",
        "IPY_MODEL_6a35471cbbf843fa91fe2d57a5d3ebdb"
       ],
       "layout": "IPY_MODEL_c0763840e54b4e3095b5bf70ea99f307",
       "tabbable": null,
       "tooltip": null
      }
     },
     "5a7933c5f38a4a7e85dd47862fc5d46b": {
      "model_module": "@jupyter-widgets/base",
      "model_module_version": "2.0.0",
      "model_name": "LayoutModel",
      "state": {
       "_model_module": "@jupyter-widgets/base",
       "_model_module_version": "2.0.0",
       "_model_name": "LayoutModel",
       "_view_count": null,
       "_view_module": "@jupyter-widgets/base",
       "_view_module_version": "2.0.0",
       "_view_name": "LayoutView",
       "align_content": null,
       "align_items": null,
       "align_self": null,
       "border_bottom": null,
       "border_left": null,
       "border_right": null,
       "border_top": null,
       "bottom": null,
       "display": null,
       "flex": null,
       "flex_flow": null,
       "grid_area": null,
       "grid_auto_columns": null,
       "grid_auto_flow": null,
       "grid_auto_rows": null,
       "grid_column": null,
       "grid_gap": null,
       "grid_row": null,
       "grid_template_areas": null,
       "grid_template_columns": null,
       "grid_template_rows": null,
       "height": null,
       "justify_content": null,
       "justify_items": null,
       "left": null,
       "margin": null,
       "max_height": null,
       "max_width": null,
       "min_height": null,
       "min_width": null,
       "object_fit": null,
       "object_position": null,
       "order": null,
       "overflow": null,
       "padding": null,
       "right": null,
       "top": null,
       "visibility": null,
       "width": null
      }
     },
     "5bade768fc2146d9b387288383e913ed": {
      "model_module": "@jupyter-widgets/base",
      "model_module_version": "2.0.0",
      "model_name": "LayoutModel",
      "state": {
       "_model_module": "@jupyter-widgets/base",
       "_model_module_version": "2.0.0",
       "_model_name": "LayoutModel",
       "_view_count": null,
       "_view_module": "@jupyter-widgets/base",
       "_view_module_version": "2.0.0",
       "_view_name": "LayoutView",
       "align_content": null,
       "align_items": null,
       "align_self": null,
       "border_bottom": null,
       "border_left": null,
       "border_right": null,
       "border_top": null,
       "bottom": null,
       "display": null,
       "flex": null,
       "flex_flow": null,
       "grid_area": null,
       "grid_auto_columns": null,
       "grid_auto_flow": null,
       "grid_auto_rows": null,
       "grid_column": null,
       "grid_gap": null,
       "grid_row": null,
       "grid_template_areas": null,
       "grid_template_columns": null,
       "grid_template_rows": null,
       "height": null,
       "justify_content": null,
       "justify_items": null,
       "left": null,
       "margin": null,
       "max_height": null,
       "max_width": null,
       "min_height": null,
       "min_width": null,
       "object_fit": null,
       "object_position": null,
       "order": null,
       "overflow": null,
       "padding": null,
       "right": null,
       "top": null,
       "visibility": null,
       "width": null
      }
     },
     "5d87bf4ee8ae4ddda0dcf12351acc428": {
      "model_module": "@jupyter-widgets/controls",
      "model_module_version": "2.0.0",
      "model_name": "HTMLModel",
      "state": {
       "_dom_classes": [],
       "_model_module": "@jupyter-widgets/controls",
       "_model_module_version": "2.0.0",
       "_model_name": "HTMLModel",
       "_view_count": null,
       "_view_module": "@jupyter-widgets/controls",
       "_view_module_version": "2.0.0",
       "_view_name": "HTMLView",
       "description": "",
       "description_allow_html": false,
       "layout": "IPY_MODEL_e3da1e089dcd48dbbc8dfb20aae40a2a",
       "placeholder": "​",
       "style": "IPY_MODEL_c912fa09593a4f108a4938aaf4b5d633",
       "tabbable": null,
       "tooltip": null,
       "value": " 7747875/? [00:04&lt;00:00, 4093232.56rows/s]"
      }
     },
     "5fd0cfa468da444088ba9816f0c2cd4c": {
      "model_module": "@jupyter-widgets/controls",
      "model_module_version": "2.0.0",
      "model_name": "HTMLStyleModel",
      "state": {
       "_model_module": "@jupyter-widgets/controls",
       "_model_module_version": "2.0.0",
       "_model_name": "HTMLStyleModel",
       "_view_count": null,
       "_view_module": "@jupyter-widgets/base",
       "_view_module_version": "2.0.0",
       "_view_name": "StyleView",
       "background": null,
       "description_width": "",
       "font_size": null,
       "text_color": null
      }
     },
     "659ca13a7b204b5c93d52df4ffc992fc": {
      "model_module": "@jupyter-widgets/controls",
      "model_module_version": "2.0.0",
      "model_name": "HTMLModel",
      "state": {
       "_dom_classes": [],
       "_model_module": "@jupyter-widgets/controls",
       "_model_module_version": "2.0.0",
       "_model_name": "HTMLModel",
       "_view_count": null,
       "_view_module": "@jupyter-widgets/controls",
       "_view_module_version": "2.0.0",
       "_view_name": "HTMLView",
       "description": "",
       "description_allow_html": false,
       "layout": "IPY_MODEL_987aed53d8334c339b0e7f216736e5fa",
       "placeholder": "​",
       "style": "IPY_MODEL_0ccd6bda51a94b5282959f14e1d58a91",
       "tabbable": null,
       "tooltip": null,
       "value": ""
      }
     },
     "68159b01a3ab4c42aba6e93d5e6afabd": {
      "model_module": "@jupyter-widgets/controls",
      "model_module_version": "2.0.0",
      "model_name": "ProgressStyleModel",
      "state": {
       "_model_module": "@jupyter-widgets/controls",
       "_model_module_version": "2.0.0",
       "_model_name": "ProgressStyleModel",
       "_view_count": null,
       "_view_module": "@jupyter-widgets/base",
       "_view_module_version": "2.0.0",
       "_view_name": "StyleView",
       "bar_color": null,
       "description_width": ""
      }
     },
     "6888c7f427974677bd41073621790566": {
      "model_module": "@jupyter-widgets/controls",
      "model_module_version": "2.0.0",
      "model_name": "HTMLStyleModel",
      "state": {
       "_model_module": "@jupyter-widgets/controls",
       "_model_module_version": "2.0.0",
       "_model_name": "HTMLStyleModel",
       "_view_count": null,
       "_view_module": "@jupyter-widgets/base",
       "_view_module_version": "2.0.0",
       "_view_name": "StyleView",
       "background": null,
       "description_width": "",
       "font_size": null,
       "text_color": null
      }
     },
     "6a35471cbbf843fa91fe2d57a5d3ebdb": {
      "model_module": "@jupyter-widgets/controls",
      "model_module_version": "2.0.0",
      "model_name": "HTMLModel",
      "state": {
       "_dom_classes": [],
       "_model_module": "@jupyter-widgets/controls",
       "_model_module_version": "2.0.0",
       "_model_name": "HTMLModel",
       "_view_count": null,
       "_view_module": "@jupyter-widgets/controls",
       "_view_module_version": "2.0.0",
       "_view_name": "HTMLView",
       "description": "",
       "description_allow_html": false,
       "layout": "IPY_MODEL_0ad5366ce1204d1d811ad37a6e3cd9b2",
       "placeholder": "​",
       "style": "IPY_MODEL_40c0649406a6434eb7d7611502a99118",
       "tabbable": null,
       "tooltip": null,
       "value": " 7747875/? [00:08&lt;00:00, 939557.61rows/s]"
      }
     },
     "6b5ef7c557fe46d5839acd907a50c31c": {
      "model_module": "@jupyter-widgets/controls",
      "model_module_version": "2.0.0",
      "model_name": "FloatProgressModel",
      "state": {
       "_dom_classes": [],
       "_model_module": "@jupyter-widgets/controls",
       "_model_module_version": "2.0.0",
       "_model_name": "FloatProgressModel",
       "_view_count": null,
       "_view_module": "@jupyter-widgets/controls",
       "_view_module_version": "2.0.0",
       "_view_name": "ProgressView",
       "bar_style": "success",
       "description": "",
       "description_allow_html": false,
       "layout": "IPY_MODEL_3eaec00fb71049a2a047ad71733d6122",
       "max": 1,
       "min": 0,
       "orientation": "horizontal",
       "style": "IPY_MODEL_eb85f237b6f841b480d9c28d820415ab",
       "tabbable": null,
       "tooltip": null,
       "value": 1
      }
     },
     "6c4c1cb0297b4ef688abf8a7ba67d660": {
      "model_module": "@jupyter-widgets/base",
      "model_module_version": "2.0.0",
      "model_name": "LayoutModel",
      "state": {
       "_model_module": "@jupyter-widgets/base",
       "_model_module_version": "2.0.0",
       "_model_name": "LayoutModel",
       "_view_count": null,
       "_view_module": "@jupyter-widgets/base",
       "_view_module_version": "2.0.0",
       "_view_name": "LayoutView",
       "align_content": null,
       "align_items": null,
       "align_self": null,
       "border_bottom": null,
       "border_left": null,
       "border_right": null,
       "border_top": null,
       "bottom": null,
       "display": null,
       "flex": null,
       "flex_flow": null,
       "grid_area": null,
       "grid_auto_columns": null,
       "grid_auto_flow": null,
       "grid_auto_rows": null,
       "grid_column": null,
       "grid_gap": null,
       "grid_row": null,
       "grid_template_areas": null,
       "grid_template_columns": null,
       "grid_template_rows": null,
       "height": null,
       "justify_content": null,
       "justify_items": null,
       "left": null,
       "margin": null,
       "max_height": null,
       "max_width": null,
       "min_height": null,
       "min_width": null,
       "object_fit": null,
       "object_position": null,
       "order": null,
       "overflow": null,
       "padding": null,
       "right": null,
       "top": null,
       "visibility": null,
       "width": "20px"
      }
     },
     "6cae8eb782b54437aad66dc2d3892b49": {
      "model_module": "@jupyter-widgets/controls",
      "model_module_version": "2.0.0",
      "model_name": "HTMLStyleModel",
      "state": {
       "_model_module": "@jupyter-widgets/controls",
       "_model_module_version": "2.0.0",
       "_model_name": "HTMLStyleModel",
       "_view_count": null,
       "_view_module": "@jupyter-widgets/base",
       "_view_module_version": "2.0.0",
       "_view_name": "StyleView",
       "background": null,
       "description_width": "",
       "font_size": null,
       "text_color": null
      }
     },
     "6cf66f0ca2ef41d888da52a1abe544b5": {
      "model_module": "@jupyter-widgets/controls",
      "model_module_version": "2.0.0",
      "model_name": "ProgressStyleModel",
      "state": {
       "_model_module": "@jupyter-widgets/controls",
       "_model_module_version": "2.0.0",
       "_model_name": "ProgressStyleModel",
       "_view_count": null,
       "_view_module": "@jupyter-widgets/base",
       "_view_module_version": "2.0.0",
       "_view_name": "StyleView",
       "bar_color": null,
       "description_width": ""
      }
     },
     "6d0749b20f3e4a879ea6e22c85004785": {
      "model_module": "@jupyter-widgets/controls",
      "model_module_version": "2.0.0",
      "model_name": "HTMLStyleModel",
      "state": {
       "_model_module": "@jupyter-widgets/controls",
       "_model_module_version": "2.0.0",
       "_model_name": "HTMLStyleModel",
       "_view_count": null,
       "_view_module": "@jupyter-widgets/base",
       "_view_module_version": "2.0.0",
       "_view_name": "StyleView",
       "background": null,
       "description_width": "",
       "font_size": null,
       "text_color": null
      }
     },
     "72fbbe9523584eec88b4f96d5d634031": {
      "model_module": "@jupyter-widgets/controls",
      "model_module_version": "2.0.0",
      "model_name": "HBoxModel",
      "state": {
       "_dom_classes": [],
       "_model_module": "@jupyter-widgets/controls",
       "_model_module_version": "2.0.0",
       "_model_name": "HBoxModel",
       "_view_count": null,
       "_view_module": "@jupyter-widgets/controls",
       "_view_module_version": "2.0.0",
       "_view_name": "HBoxView",
       "box_style": "",
       "children": [
        "IPY_MODEL_a08459a8a21c495f962c1cc1f143ce29",
        "IPY_MODEL_c7f9d58e9384404cbad0e51c769faf3b",
        "IPY_MODEL_894f502e1d2848ed9e4275060ba31b2b"
       ],
       "layout": "IPY_MODEL_8b587a3b9bc84be1826fb907cff4dc99",
       "tabbable": null,
       "tooltip": null
      }
     },
     "730c6cb8cdf54da88e90d8f0b6729dc4": {
      "model_module": "@jupyter-widgets/base",
      "model_module_version": "2.0.0",
      "model_name": "LayoutModel",
      "state": {
       "_model_module": "@jupyter-widgets/base",
       "_model_module_version": "2.0.0",
       "_model_name": "LayoutModel",
       "_view_count": null,
       "_view_module": "@jupyter-widgets/base",
       "_view_module_version": "2.0.0",
       "_view_name": "LayoutView",
       "align_content": null,
       "align_items": null,
       "align_self": null,
       "border_bottom": null,
       "border_left": null,
       "border_right": null,
       "border_top": null,
       "bottom": null,
       "display": null,
       "flex": null,
       "flex_flow": null,
       "grid_area": null,
       "grid_auto_columns": null,
       "grid_auto_flow": null,
       "grid_auto_rows": null,
       "grid_column": null,
       "grid_gap": null,
       "grid_row": null,
       "grid_template_areas": null,
       "grid_template_columns": null,
       "grid_template_rows": null,
       "height": null,
       "justify_content": null,
       "justify_items": null,
       "left": null,
       "margin": null,
       "max_height": null,
       "max_width": null,
       "min_height": null,
       "min_width": null,
       "object_fit": null,
       "object_position": null,
       "order": null,
       "overflow": null,
       "padding": null,
       "right": null,
       "top": null,
       "visibility": null,
       "width": null
      }
     },
     "7616a0adf5a44b658b02f0f25b0c1d5c": {
      "model_module": "@jupyter-widgets/base",
      "model_module_version": "2.0.0",
      "model_name": "LayoutModel",
      "state": {
       "_model_module": "@jupyter-widgets/base",
       "_model_module_version": "2.0.0",
       "_model_name": "LayoutModel",
       "_view_count": null,
       "_view_module": "@jupyter-widgets/base",
       "_view_module_version": "2.0.0",
       "_view_name": "LayoutView",
       "align_content": null,
       "align_items": null,
       "align_self": null,
       "border_bottom": null,
       "border_left": null,
       "border_right": null,
       "border_top": null,
       "bottom": null,
       "display": null,
       "flex": null,
       "flex_flow": null,
       "grid_area": null,
       "grid_auto_columns": null,
       "grid_auto_flow": null,
       "grid_auto_rows": null,
       "grid_column": null,
       "grid_gap": null,
       "grid_row": null,
       "grid_template_areas": null,
       "grid_template_columns": null,
       "grid_template_rows": null,
       "height": null,
       "justify_content": null,
       "justify_items": null,
       "left": null,
       "margin": null,
       "max_height": null,
       "max_width": null,
       "min_height": null,
       "min_width": null,
       "object_fit": null,
       "object_position": null,
       "order": null,
       "overflow": null,
       "padding": null,
       "right": null,
       "top": null,
       "visibility": null,
       "width": null
      }
     },
     "76f2c98986764e97af0e8e90f0cda6c7": {
      "model_module": "@jupyter-widgets/controls",
      "model_module_version": "2.0.0",
      "model_name": "HBoxModel",
      "state": {
       "_dom_classes": [],
       "_model_module": "@jupyter-widgets/controls",
       "_model_module_version": "2.0.0",
       "_model_name": "HBoxModel",
       "_view_count": null,
       "_view_module": "@jupyter-widgets/controls",
       "_view_module_version": "2.0.0",
       "_view_name": "HBoxView",
       "box_style": "",
       "children": [
        "IPY_MODEL_1d927cdd32e743c5b5a6879b33a395bf",
        "IPY_MODEL_9a4fb735f1304fe284f8099756601dec",
        "IPY_MODEL_a13ad376949a4364bc1b2be48c2d136c"
       ],
       "layout": "IPY_MODEL_7616a0adf5a44b658b02f0f25b0c1d5c",
       "tabbable": null,
       "tooltip": null
      }
     },
     "781d7e70a9bd4eb7952e6492eb37b2ba": {
      "model_module": "@jupyter-widgets/controls",
      "model_module_version": "2.0.0",
      "model_name": "ProgressStyleModel",
      "state": {
       "_model_module": "@jupyter-widgets/controls",
       "_model_module_version": "2.0.0",
       "_model_name": "ProgressStyleModel",
       "_view_count": null,
       "_view_module": "@jupyter-widgets/base",
       "_view_module_version": "2.0.0",
       "_view_name": "StyleView",
       "bar_color": null,
       "description_width": ""
      }
     },
     "7acc393f1d5c4318a8f39da278057896": {
      "model_module": "@jupyter-widgets/base",
      "model_module_version": "2.0.0",
      "model_name": "LayoutModel",
      "state": {
       "_model_module": "@jupyter-widgets/base",
       "_model_module_version": "2.0.0",
       "_model_name": "LayoutModel",
       "_view_count": null,
       "_view_module": "@jupyter-widgets/base",
       "_view_module_version": "2.0.0",
       "_view_name": "LayoutView",
       "align_content": null,
       "align_items": null,
       "align_self": null,
       "border_bottom": null,
       "border_left": null,
       "border_right": null,
       "border_top": null,
       "bottom": null,
       "display": null,
       "flex": null,
       "flex_flow": null,
       "grid_area": null,
       "grid_auto_columns": null,
       "grid_auto_flow": null,
       "grid_auto_rows": null,
       "grid_column": null,
       "grid_gap": null,
       "grid_row": null,
       "grid_template_areas": null,
       "grid_template_columns": null,
       "grid_template_rows": null,
       "height": null,
       "justify_content": null,
       "justify_items": null,
       "left": null,
       "margin": null,
       "max_height": null,
       "max_width": null,
       "min_height": null,
       "min_width": null,
       "object_fit": null,
       "object_position": null,
       "order": null,
       "overflow": null,
       "padding": null,
       "right": null,
       "top": null,
       "visibility": null,
       "width": "20px"
      }
     },
     "7cd056523fd64729bfeaddb12f7767d1": {
      "model_module": "@jupyter-widgets/base",
      "model_module_version": "2.0.0",
      "model_name": "LayoutModel",
      "state": {
       "_model_module": "@jupyter-widgets/base",
       "_model_module_version": "2.0.0",
       "_model_name": "LayoutModel",
       "_view_count": null,
       "_view_module": "@jupyter-widgets/base",
       "_view_module_version": "2.0.0",
       "_view_name": "LayoutView",
       "align_content": null,
       "align_items": null,
       "align_self": null,
       "border_bottom": null,
       "border_left": null,
       "border_right": null,
       "border_top": null,
       "bottom": null,
       "display": null,
       "flex": null,
       "flex_flow": null,
       "grid_area": null,
       "grid_auto_columns": null,
       "grid_auto_flow": null,
       "grid_auto_rows": null,
       "grid_column": null,
       "grid_gap": null,
       "grid_row": null,
       "grid_template_areas": null,
       "grid_template_columns": null,
       "grid_template_rows": null,
       "height": null,
       "justify_content": null,
       "justify_items": null,
       "left": null,
       "margin": null,
       "max_height": null,
       "max_width": null,
       "min_height": null,
       "min_width": null,
       "object_fit": null,
       "object_position": null,
       "order": null,
       "overflow": null,
       "padding": null,
       "right": null,
       "top": null,
       "visibility": null,
       "width": null
      }
     },
     "7e2c66c90fa245cda61fdb5b853451e3": {
      "model_module": "@jupyter-widgets/controls",
      "model_module_version": "2.0.0",
      "model_name": "HTMLModel",
      "state": {
       "_dom_classes": [],
       "_model_module": "@jupyter-widgets/controls",
       "_model_module_version": "2.0.0",
       "_model_name": "HTMLModel",
       "_view_count": null,
       "_view_module": "@jupyter-widgets/controls",
       "_view_module_version": "2.0.0",
       "_view_name": "HTMLView",
       "description": "",
       "description_allow_html": false,
       "layout": "IPY_MODEL_25bc3b0bde89420f8a0509c026eaead1",
       "placeholder": "​",
       "style": "IPY_MODEL_97a188d6679b4076960b04a8844225bb",
       "tabbable": null,
       "tooltip": null,
       "value": ""
      }
     },
     "7ff5b485c6cc4c7ab5cfa356e2c0b077": {
      "model_module": "@jupyter-widgets/base",
      "model_module_version": "2.0.0",
      "model_name": "LayoutModel",
      "state": {
       "_model_module": "@jupyter-widgets/base",
       "_model_module_version": "2.0.0",
       "_model_name": "LayoutModel",
       "_view_count": null,
       "_view_module": "@jupyter-widgets/base",
       "_view_module_version": "2.0.0",
       "_view_name": "LayoutView",
       "align_content": null,
       "align_items": null,
       "align_self": null,
       "border_bottom": null,
       "border_left": null,
       "border_right": null,
       "border_top": null,
       "bottom": null,
       "display": null,
       "flex": null,
       "flex_flow": null,
       "grid_area": null,
       "grid_auto_columns": null,
       "grid_auto_flow": null,
       "grid_auto_rows": null,
       "grid_column": null,
       "grid_gap": null,
       "grid_row": null,
       "grid_template_areas": null,
       "grid_template_columns": null,
       "grid_template_rows": null,
       "height": null,
       "justify_content": null,
       "justify_items": null,
       "left": null,
       "margin": null,
       "max_height": null,
       "max_width": null,
       "min_height": null,
       "min_width": null,
       "object_fit": null,
       "object_position": null,
       "order": null,
       "overflow": null,
       "padding": null,
       "right": null,
       "top": null,
       "visibility": null,
       "width": null
      }
     },
     "8103760421444cc7bf6e3ba3645b51a0": {
      "model_module": "@jupyter-widgets/base",
      "model_module_version": "2.0.0",
      "model_name": "LayoutModel",
      "state": {
       "_model_module": "@jupyter-widgets/base",
       "_model_module_version": "2.0.0",
       "_model_name": "LayoutModel",
       "_view_count": null,
       "_view_module": "@jupyter-widgets/base",
       "_view_module_version": "2.0.0",
       "_view_name": "LayoutView",
       "align_content": null,
       "align_items": null,
       "align_self": null,
       "border_bottom": null,
       "border_left": null,
       "border_right": null,
       "border_top": null,
       "bottom": null,
       "display": null,
       "flex": null,
       "flex_flow": null,
       "grid_area": null,
       "grid_auto_columns": null,
       "grid_auto_flow": null,
       "grid_auto_rows": null,
       "grid_column": null,
       "grid_gap": null,
       "grid_row": null,
       "grid_template_areas": null,
       "grid_template_columns": null,
       "grid_template_rows": null,
       "height": null,
       "justify_content": null,
       "justify_items": null,
       "left": null,
       "margin": null,
       "max_height": null,
       "max_width": null,
       "min_height": null,
       "min_width": null,
       "object_fit": null,
       "object_position": null,
       "order": null,
       "overflow": null,
       "padding": null,
       "right": null,
       "top": null,
       "visibility": null,
       "width": null
      }
     },
     "82d55c7985f74b92b4d014c31cd03895": {
      "model_module": "@jupyter-widgets/controls",
      "model_module_version": "2.0.0",
      "model_name": "FloatProgressModel",
      "state": {
       "_dom_classes": [],
       "_model_module": "@jupyter-widgets/controls",
       "_model_module_version": "2.0.0",
       "_model_name": "FloatProgressModel",
       "_view_count": null,
       "_view_module": "@jupyter-widgets/controls",
       "_view_module_version": "2.0.0",
       "_view_name": "ProgressView",
       "bar_style": "success",
       "description": "",
       "description_allow_html": false,
       "layout": "IPY_MODEL_7acc393f1d5c4318a8f39da278057896",
       "max": 1,
       "min": 0,
       "orientation": "horizontal",
       "style": "IPY_MODEL_e88cfc27b4d648c18aed030abffa28b1",
       "tabbable": null,
       "tooltip": null,
       "value": 1
      }
     },
     "889d5f10669e4e2cb1857ea5030cf042": {
      "model_module": "@jupyter-widgets/base",
      "model_module_version": "2.0.0",
      "model_name": "LayoutModel",
      "state": {
       "_model_module": "@jupyter-widgets/base",
       "_model_module_version": "2.0.0",
       "_model_name": "LayoutModel",
       "_view_count": null,
       "_view_module": "@jupyter-widgets/base",
       "_view_module_version": "2.0.0",
       "_view_name": "LayoutView",
       "align_content": null,
       "align_items": null,
       "align_self": null,
       "border_bottom": null,
       "border_left": null,
       "border_right": null,
       "border_top": null,
       "bottom": null,
       "display": null,
       "flex": null,
       "flex_flow": null,
       "grid_area": null,
       "grid_auto_columns": null,
       "grid_auto_flow": null,
       "grid_auto_rows": null,
       "grid_column": null,
       "grid_gap": null,
       "grid_row": null,
       "grid_template_areas": null,
       "grid_template_columns": null,
       "grid_template_rows": null,
       "height": null,
       "justify_content": null,
       "justify_items": null,
       "left": null,
       "margin": null,
       "max_height": null,
       "max_width": null,
       "min_height": null,
       "min_width": null,
       "object_fit": null,
       "object_position": null,
       "order": null,
       "overflow": null,
       "padding": null,
       "right": null,
       "top": null,
       "visibility": null,
       "width": "20px"
      }
     },
     "8945d5df9eee40dca97a4b980f9350e6": {
      "model_module": "@jupyter-widgets/controls",
      "model_module_version": "2.0.0",
      "model_name": "FloatProgressModel",
      "state": {
       "_dom_classes": [],
       "_model_module": "@jupyter-widgets/controls",
       "_model_module_version": "2.0.0",
       "_model_name": "FloatProgressModel",
       "_view_count": null,
       "_view_module": "@jupyter-widgets/controls",
       "_view_module_version": "2.0.0",
       "_view_name": "ProgressView",
       "bar_style": "info",
       "description": "",
       "description_allow_html": false,
       "layout": "IPY_MODEL_b07b78ccecf1484f8747a97591f6572e",
       "max": 1,
       "min": 0,
       "orientation": "horizontal",
       "style": "IPY_MODEL_e4b178fca07e43028d04e2d49e5e33e9",
       "tabbable": null,
       "tooltip": null,
       "value": 0
      }
     },
     "894f502e1d2848ed9e4275060ba31b2b": {
      "model_module": "@jupyter-widgets/controls",
      "model_module_version": "2.0.0",
      "model_name": "HTMLModel",
      "state": {
       "_dom_classes": [],
       "_model_module": "@jupyter-widgets/controls",
       "_model_module_version": "2.0.0",
       "_model_name": "HTMLModel",
       "_view_count": null,
       "_view_module": "@jupyter-widgets/controls",
       "_view_module_version": "2.0.0",
       "_view_name": "HTMLView",
       "description": "",
       "description_allow_html": false,
       "layout": "IPY_MODEL_bb17e7adbce54c17bdc431497fb27c70",
       "placeholder": "​",
       "style": "IPY_MODEL_926fe325c26047c2bd2300cd7964967d",
       "tabbable": null,
       "tooltip": null,
       "value": " 1/? [00:00&lt;00:00, 47.35rows/s]"
      }
     },
     "8b587a3b9bc84be1826fb907cff4dc99": {
      "model_module": "@jupyter-widgets/base",
      "model_module_version": "2.0.0",
      "model_name": "LayoutModel",
      "state": {
       "_model_module": "@jupyter-widgets/base",
       "_model_module_version": "2.0.0",
       "_model_name": "LayoutModel",
       "_view_count": null,
       "_view_module": "@jupyter-widgets/base",
       "_view_module_version": "2.0.0",
       "_view_name": "LayoutView",
       "align_content": null,
       "align_items": null,
       "align_self": null,
       "border_bottom": null,
       "border_left": null,
       "border_right": null,
       "border_top": null,
       "bottom": null,
       "display": null,
       "flex": null,
       "flex_flow": null,
       "grid_area": null,
       "grid_auto_columns": null,
       "grid_auto_flow": null,
       "grid_auto_rows": null,
       "grid_column": null,
       "grid_gap": null,
       "grid_row": null,
       "grid_template_areas": null,
       "grid_template_columns": null,
       "grid_template_rows": null,
       "height": null,
       "justify_content": null,
       "justify_items": null,
       "left": null,
       "margin": null,
       "max_height": null,
       "max_width": null,
       "min_height": null,
       "min_width": null,
       "object_fit": null,
       "object_position": null,
       "order": null,
       "overflow": null,
       "padding": null,
       "right": null,
       "top": null,
       "visibility": null,
       "width": null
      }
     },
     "8c5b1b04e8154ef9802bdd532d2e7f9b": {
      "model_module": "@jupyter-widgets/controls",
      "model_module_version": "2.0.0",
      "model_name": "HBoxModel",
      "state": {
       "_dom_classes": [],
       "_model_module": "@jupyter-widgets/controls",
       "_model_module_version": "2.0.0",
       "_model_name": "HBoxModel",
       "_view_count": null,
       "_view_module": "@jupyter-widgets/controls",
       "_view_module_version": "2.0.0",
       "_view_name": "HBoxView",
       "box_style": "",
       "children": [
        "IPY_MODEL_8d674816eb1e47818414cb164dda0bda",
        "IPY_MODEL_a91c2c9054164aebb36400863f57ab49",
        "IPY_MODEL_9bb034cfc9114b85b10c6e1fd9f1cc47"
       ],
       "layout": "IPY_MODEL_b665b87afca240b398774fac8dea55df",
       "tabbable": null,
       "tooltip": null
      }
     },
     "8d674816eb1e47818414cb164dda0bda": {
      "model_module": "@jupyter-widgets/controls",
      "model_module_version": "2.0.0",
      "model_name": "HTMLModel",
      "state": {
       "_dom_classes": [],
       "_model_module": "@jupyter-widgets/controls",
       "_model_module_version": "2.0.0",
       "_model_name": "HTMLModel",
       "_view_count": null,
       "_view_module": "@jupyter-widgets/controls",
       "_view_module_version": "2.0.0",
       "_view_name": "HTMLView",
       "description": "",
       "description_allow_html": false,
       "layout": "IPY_MODEL_43174ae18fc143b7887724a7a7d14b65",
       "placeholder": "​",
       "style": "IPY_MODEL_d899ecbe766c438bbbba1fedd4a06bb0",
       "tabbable": null,
       "tooltip": null,
       "value": ""
      }
     },
     "8d71ea8393254853be88c1734beddad5": {
      "model_module": "@jupyter-widgets/controls",
      "model_module_version": "2.0.0",
      "model_name": "HTMLModel",
      "state": {
       "_dom_classes": [],
       "_model_module": "@jupyter-widgets/controls",
       "_model_module_version": "2.0.0",
       "_model_name": "HTMLModel",
       "_view_count": null,
       "_view_module": "@jupyter-widgets/controls",
       "_view_module_version": "2.0.0",
       "_view_name": "HTMLView",
       "description": "",
       "description_allow_html": false,
       "layout": "IPY_MODEL_2eec04d46ef0477391a9826979c926a3",
       "placeholder": "​",
       "style": "IPY_MODEL_fbaf59e205e04813af210936e81592c6",
       "tabbable": null,
       "tooltip": null,
       "value": ""
      }
     },
     "8dc76dea46154fb5a90653e259a9f2cc": {
      "model_module": "@jupyter-widgets/base",
      "model_module_version": "2.0.0",
      "model_name": "LayoutModel",
      "state": {
       "_model_module": "@jupyter-widgets/base",
       "_model_module_version": "2.0.0",
       "_model_name": "LayoutModel",
       "_view_count": null,
       "_view_module": "@jupyter-widgets/base",
       "_view_module_version": "2.0.0",
       "_view_name": "LayoutView",
       "align_content": null,
       "align_items": null,
       "align_self": null,
       "border_bottom": null,
       "border_left": null,
       "border_right": null,
       "border_top": null,
       "bottom": null,
       "display": null,
       "flex": null,
       "flex_flow": null,
       "grid_area": null,
       "grid_auto_columns": null,
       "grid_auto_flow": null,
       "grid_auto_rows": null,
       "grid_column": null,
       "grid_gap": null,
       "grid_row": null,
       "grid_template_areas": null,
       "grid_template_columns": null,
       "grid_template_rows": null,
       "height": null,
       "justify_content": null,
       "justify_items": null,
       "left": null,
       "margin": null,
       "max_height": null,
       "max_width": null,
       "min_height": null,
       "min_width": null,
       "object_fit": null,
       "object_position": null,
       "order": null,
       "overflow": null,
       "padding": null,
       "right": null,
       "top": null,
       "visibility": null,
       "width": "20px"
      }
     },
     "8f31249f79ed4b8b9c404d8fb9cadb77": {
      "model_module": "@jupyter-widgets/controls",
      "model_module_version": "2.0.0",
      "model_name": "HTMLStyleModel",
      "state": {
       "_model_module": "@jupyter-widgets/controls",
       "_model_module_version": "2.0.0",
       "_model_name": "HTMLStyleModel",
       "_view_count": null,
       "_view_module": "@jupyter-widgets/base",
       "_view_module_version": "2.0.0",
       "_view_name": "StyleView",
       "background": null,
       "description_width": "",
       "font_size": null,
       "text_color": null
      }
     },
     "911923ed4e8c4be4a21891287467c11a": {
      "model_module": "@jupyter-widgets/controls",
      "model_module_version": "2.0.0",
      "model_name": "HBoxModel",
      "state": {
       "_dom_classes": [],
       "_model_module": "@jupyter-widgets/controls",
       "_model_module_version": "2.0.0",
       "_model_name": "HBoxModel",
       "_view_count": null,
       "_view_module": "@jupyter-widgets/controls",
       "_view_module_version": "2.0.0",
       "_view_name": "HBoxView",
       "box_style": "",
       "children": [
        "IPY_MODEL_d45940d6279c4f9787174d525158e935",
        "IPY_MODEL_eee6c2f11df3499b85da65b474c79305",
        "IPY_MODEL_ed230e7240fb4bd999420039b962879f"
       ],
       "layout": "IPY_MODEL_20da9d0ccbf6481a85a6b8f8ae2eb560",
       "tabbable": null,
       "tooltip": null
      }
     },
     "926fe325c26047c2bd2300cd7964967d": {
      "model_module": "@jupyter-widgets/controls",
      "model_module_version": "2.0.0",
      "model_name": "HTMLStyleModel",
      "state": {
       "_model_module": "@jupyter-widgets/controls",
       "_model_module_version": "2.0.0",
       "_model_name": "HTMLStyleModel",
       "_view_count": null,
       "_view_module": "@jupyter-widgets/base",
       "_view_module_version": "2.0.0",
       "_view_name": "StyleView",
       "background": null,
       "description_width": "",
       "font_size": null,
       "text_color": null
      }
     },
     "9304e3e824904a14bdc8df6ce2e0aea5": {
      "model_module": "@jupyter-widgets/base",
      "model_module_version": "2.0.0",
      "model_name": "LayoutModel",
      "state": {
       "_model_module": "@jupyter-widgets/base",
       "_model_module_version": "2.0.0",
       "_model_name": "LayoutModel",
       "_view_count": null,
       "_view_module": "@jupyter-widgets/base",
       "_view_module_version": "2.0.0",
       "_view_name": "LayoutView",
       "align_content": null,
       "align_items": null,
       "align_self": null,
       "border_bottom": null,
       "border_left": null,
       "border_right": null,
       "border_top": null,
       "bottom": null,
       "display": null,
       "flex": null,
       "flex_flow": null,
       "grid_area": null,
       "grid_auto_columns": null,
       "grid_auto_flow": null,
       "grid_auto_rows": null,
       "grid_column": null,
       "grid_gap": null,
       "grid_row": null,
       "grid_template_areas": null,
       "grid_template_columns": null,
       "grid_template_rows": null,
       "height": null,
       "justify_content": null,
       "justify_items": null,
       "left": null,
       "margin": null,
       "max_height": null,
       "max_width": null,
       "min_height": null,
       "min_width": null,
       "object_fit": null,
       "object_position": null,
       "order": null,
       "overflow": null,
       "padding": null,
       "right": null,
       "top": null,
       "visibility": null,
       "width": null
      }
     },
     "93355e305af9413db3e361e4f7fdc1bf": {
      "model_module": "@jupyter-widgets/controls",
      "model_module_version": "2.0.0",
      "model_name": "HTMLModel",
      "state": {
       "_dom_classes": [],
       "_model_module": "@jupyter-widgets/controls",
       "_model_module_version": "2.0.0",
       "_model_name": "HTMLModel",
       "_view_count": null,
       "_view_module": "@jupyter-widgets/controls",
       "_view_module_version": "2.0.0",
       "_view_name": "HTMLView",
       "description": "",
       "description_allow_html": false,
       "layout": "IPY_MODEL_bdc961e8c4c141da9f5d557fcf60da8f",
       "placeholder": "​",
       "style": "IPY_MODEL_1e58a874348040aa813e0a4d58e1f1f2",
       "tabbable": null,
       "tooltip": null,
       "value": " 7747875/? [00:19&lt;00:00, 950208.41rows/s]"
      }
     },
     "94f05edd9e7240f487a004505f7503a8": {
      "model_module": "@jupyter-widgets/base",
      "model_module_version": "2.0.0",
      "model_name": "LayoutModel",
      "state": {
       "_model_module": "@jupyter-widgets/base",
       "_model_module_version": "2.0.0",
       "_model_name": "LayoutModel",
       "_view_count": null,
       "_view_module": "@jupyter-widgets/base",
       "_view_module_version": "2.0.0",
       "_view_name": "LayoutView",
       "align_content": null,
       "align_items": null,
       "align_self": null,
       "border_bottom": null,
       "border_left": null,
       "border_right": null,
       "border_top": null,
       "bottom": null,
       "display": null,
       "flex": null,
       "flex_flow": null,
       "grid_area": null,
       "grid_auto_columns": null,
       "grid_auto_flow": null,
       "grid_auto_rows": null,
       "grid_column": null,
       "grid_gap": null,
       "grid_row": null,
       "grid_template_areas": null,
       "grid_template_columns": null,
       "grid_template_rows": null,
       "height": null,
       "justify_content": null,
       "justify_items": null,
       "left": null,
       "margin": null,
       "max_height": null,
       "max_width": null,
       "min_height": null,
       "min_width": null,
       "object_fit": null,
       "object_position": null,
       "order": null,
       "overflow": null,
       "padding": null,
       "right": null,
       "top": null,
       "visibility": null,
       "width": null
      }
     },
     "97a188d6679b4076960b04a8844225bb": {
      "model_module": "@jupyter-widgets/controls",
      "model_module_version": "2.0.0",
      "model_name": "HTMLStyleModel",
      "state": {
       "_model_module": "@jupyter-widgets/controls",
       "_model_module_version": "2.0.0",
       "_model_name": "HTMLStyleModel",
       "_view_count": null,
       "_view_module": "@jupyter-widgets/base",
       "_view_module_version": "2.0.0",
       "_view_name": "StyleView",
       "background": null,
       "description_width": "",
       "font_size": null,
       "text_color": null
      }
     },
     "9818890809f74cf0b13e678f787b3af4": {
      "model_module": "@jupyter-widgets/controls",
      "model_module_version": "2.0.0",
      "model_name": "HBoxModel",
      "state": {
       "_dom_classes": [],
       "_model_module": "@jupyter-widgets/controls",
       "_model_module_version": "2.0.0",
       "_model_name": "HBoxModel",
       "_view_count": null,
       "_view_module": "@jupyter-widgets/controls",
       "_view_module_version": "2.0.0",
       "_view_name": "HBoxView",
       "box_style": "",
       "children": [
        "IPY_MODEL_0b44d010cfbf4c3fb6db81588bf1cca4",
        "IPY_MODEL_82d55c7985f74b92b4d014c31cd03895",
        "IPY_MODEL_4ff83a3ddcc442178d6cd622d6ea03da"
       ],
       "layout": "IPY_MODEL_9304e3e824904a14bdc8df6ce2e0aea5",
       "tabbable": null,
       "tooltip": null
      }
     },
     "987aed53d8334c339b0e7f216736e5fa": {
      "model_module": "@jupyter-widgets/base",
      "model_module_version": "2.0.0",
      "model_name": "LayoutModel",
      "state": {
       "_model_module": "@jupyter-widgets/base",
       "_model_module_version": "2.0.0",
       "_model_name": "LayoutModel",
       "_view_count": null,
       "_view_module": "@jupyter-widgets/base",
       "_view_module_version": "2.0.0",
       "_view_name": "LayoutView",
       "align_content": null,
       "align_items": null,
       "align_self": null,
       "border_bottom": null,
       "border_left": null,
       "border_right": null,
       "border_top": null,
       "bottom": null,
       "display": null,
       "flex": null,
       "flex_flow": null,
       "grid_area": null,
       "grid_auto_columns": null,
       "grid_auto_flow": null,
       "grid_auto_rows": null,
       "grid_column": null,
       "grid_gap": null,
       "grid_row": null,
       "grid_template_areas": null,
       "grid_template_columns": null,
       "grid_template_rows": null,
       "height": null,
       "justify_content": null,
       "justify_items": null,
       "left": null,
       "margin": null,
       "max_height": null,
       "max_width": null,
       "min_height": null,
       "min_width": null,
       "object_fit": null,
       "object_position": null,
       "order": null,
       "overflow": null,
       "padding": null,
       "right": null,
       "top": null,
       "visibility": null,
       "width": null
      }
     },
     "9a4fb735f1304fe284f8099756601dec": {
      "model_module": "@jupyter-widgets/controls",
      "model_module_version": "2.0.0",
      "model_name": "FloatProgressModel",
      "state": {
       "_dom_classes": [],
       "_model_module": "@jupyter-widgets/controls",
       "_model_module_version": "2.0.0",
       "_model_name": "FloatProgressModel",
       "_view_count": null,
       "_view_module": "@jupyter-widgets/controls",
       "_view_module_version": "2.0.0",
       "_view_name": "ProgressView",
       "bar_style": "info",
       "description": "",
       "description_allow_html": false,
       "layout": "IPY_MODEL_8dc76dea46154fb5a90653e259a9f2cc",
       "max": 1,
       "min": 0,
       "orientation": "horizontal",
       "style": "IPY_MODEL_ffb073b2ade64790b156a6d5e9cd9c50",
       "tabbable": null,
       "tooltip": null,
       "value": 1
      }
     },
     "9bb034cfc9114b85b10c6e1fd9f1cc47": {
      "model_module": "@jupyter-widgets/controls",
      "model_module_version": "2.0.0",
      "model_name": "HTMLModel",
      "state": {
       "_dom_classes": [],
       "_model_module": "@jupyter-widgets/controls",
       "_model_module_version": "2.0.0",
       "_model_name": "HTMLModel",
       "_view_count": null,
       "_view_module": "@jupyter-widgets/controls",
       "_view_module_version": "2.0.0",
       "_view_name": "HTMLView",
       "description": "",
       "description_allow_html": false,
       "layout": "IPY_MODEL_0c78c3ad0cc743528730024ff039eb99",
       "placeholder": "​",
       "style": "IPY_MODEL_6d0749b20f3e4a879ea6e22c85004785",
       "tabbable": null,
       "tooltip": null,
       "value": " 7747875/? [00:12&lt;00:00, 587985.23rows/s]"
      }
     },
     "9ed256973964407f8add22e7e8a4c7ec": {
      "model_module": "@jupyter-widgets/controls",
      "model_module_version": "2.0.0",
      "model_name": "FloatProgressModel",
      "state": {
       "_dom_classes": [],
       "_model_module": "@jupyter-widgets/controls",
       "_model_module_version": "2.0.0",
       "_model_name": "FloatProgressModel",
       "_view_count": null,
       "_view_module": "@jupyter-widgets/controls",
       "_view_module_version": "2.0.0",
       "_view_name": "ProgressView",
       "bar_style": "info",
       "description": "",
       "description_allow_html": false,
       "layout": "IPY_MODEL_889d5f10669e4e2cb1857ea5030cf042",
       "max": 1,
       "min": 0,
       "orientation": "horizontal",
       "style": "IPY_MODEL_781d7e70a9bd4eb7952e6492eb37b2ba",
       "tabbable": null,
       "tooltip": null,
       "value": 1
      }
     },
     "a002defa230e445db50768bf2669526f": {
      "model_module": "@jupyter-widgets/controls",
      "model_module_version": "2.0.0",
      "model_name": "FloatProgressModel",
      "state": {
       "_dom_classes": [],
       "_model_module": "@jupyter-widgets/controls",
       "_model_module_version": "2.0.0",
       "_model_name": "FloatProgressModel",
       "_view_count": null,
       "_view_module": "@jupyter-widgets/controls",
       "_view_module_version": "2.0.0",
       "_view_name": "ProgressView",
       "bar_style": "success",
       "description": "",
       "description_allow_html": false,
       "layout": "IPY_MODEL_530a037fc85c4687a7d806f5ac01dff2",
       "max": 1,
       "min": 0,
       "orientation": "horizontal",
       "style": "IPY_MODEL_6cf66f0ca2ef41d888da52a1abe544b5",
       "tabbable": null,
       "tooltip": null,
       "value": 1
      }
     },
     "a08459a8a21c495f962c1cc1f143ce29": {
      "model_module": "@jupyter-widgets/controls",
      "model_module_version": "2.0.0",
      "model_name": "HTMLModel",
      "state": {
       "_dom_classes": [],
       "_model_module": "@jupyter-widgets/controls",
       "_model_module_version": "2.0.0",
       "_model_name": "HTMLModel",
       "_view_count": null,
       "_view_module": "@jupyter-widgets/controls",
       "_view_module_version": "2.0.0",
       "_view_name": "HTMLView",
       "description": "",
       "description_allow_html": false,
       "layout": "IPY_MODEL_dcb95e214ce142acb1e1b02fc4b210cb",
       "placeholder": "​",
       "style": "IPY_MODEL_506b22d821754b9280e805dc72c8573c",
       "tabbable": null,
       "tooltip": null,
       "value": ""
      }
     },
     "a13ad376949a4364bc1b2be48c2d136c": {
      "model_module": "@jupyter-widgets/controls",
      "model_module_version": "2.0.0",
      "model_name": "HTMLModel",
      "state": {
       "_dom_classes": [],
       "_model_module": "@jupyter-widgets/controls",
       "_model_module_version": "2.0.0",
       "_model_name": "HTMLModel",
       "_view_count": null,
       "_view_module": "@jupyter-widgets/controls",
       "_view_module_version": "2.0.0",
       "_view_name": "HTMLView",
       "description": "",
       "description_allow_html": false,
       "layout": "IPY_MODEL_e6e7d2b76c7744e1bbca9b9ba5413f73",
       "placeholder": "​",
       "style": "IPY_MODEL_1337490740234556b3ced3ec535a536c",
       "tabbable": null,
       "tooltip": null,
       "value": " 2/? [00:01&lt;00:00,  1.82rows/s]"
      }
     },
     "a91c2c9054164aebb36400863f57ab49": {
      "model_module": "@jupyter-widgets/controls",
      "model_module_version": "2.0.0",
      "model_name": "FloatProgressModel",
      "state": {
       "_dom_classes": [],
       "_model_module": "@jupyter-widgets/controls",
       "_model_module_version": "2.0.0",
       "_model_name": "FloatProgressModel",
       "_view_count": null,
       "_view_module": "@jupyter-widgets/controls",
       "_view_module_version": "2.0.0",
       "_view_name": "ProgressView",
       "bar_style": "success",
       "description": "",
       "description_allow_html": false,
       "layout": "IPY_MODEL_d9ec40bd4c654e8cbcd43fa9751e2cdb",
       "max": 1,
       "min": 0,
       "orientation": "horizontal",
       "style": "IPY_MODEL_4fc53c8ea3474eb597ee98c97c40a844",
       "tabbable": null,
       "tooltip": null,
       "value": 1
      }
     },
     "aafb6531e36e4b949533970d6fa6a1a7": {
      "model_module": "@jupyter-widgets/base",
      "model_module_version": "2.0.0",
      "model_name": "LayoutModel",
      "state": {
       "_model_module": "@jupyter-widgets/base",
       "_model_module_version": "2.0.0",
       "_model_name": "LayoutModel",
       "_view_count": null,
       "_view_module": "@jupyter-widgets/base",
       "_view_module_version": "2.0.0",
       "_view_name": "LayoutView",
       "align_content": null,
       "align_items": null,
       "align_self": null,
       "border_bottom": null,
       "border_left": null,
       "border_right": null,
       "border_top": null,
       "bottom": null,
       "display": null,
       "flex": null,
       "flex_flow": null,
       "grid_area": null,
       "grid_auto_columns": null,
       "grid_auto_flow": null,
       "grid_auto_rows": null,
       "grid_column": null,
       "grid_gap": null,
       "grid_row": null,
       "grid_template_areas": null,
       "grid_template_columns": null,
       "grid_template_rows": null,
       "height": null,
       "justify_content": null,
       "justify_items": null,
       "left": null,
       "margin": null,
       "max_height": null,
       "max_width": null,
       "min_height": null,
       "min_width": null,
       "object_fit": null,
       "object_position": null,
       "order": null,
       "overflow": null,
       "padding": null,
       "right": null,
       "top": null,
       "visibility": null,
       "width": null
      }
     },
     "adefa268804d4d17bdb7d9c6fe43ac45": {
      "model_module": "@jupyter-widgets/controls",
      "model_module_version": "2.0.0",
      "model_name": "FloatProgressModel",
      "state": {
       "_dom_classes": [],
       "_model_module": "@jupyter-widgets/controls",
       "_model_module_version": "2.0.0",
       "_model_name": "FloatProgressModel",
       "_view_count": null,
       "_view_module": "@jupyter-widgets/controls",
       "_view_module_version": "2.0.0",
       "_view_name": "ProgressView",
       "bar_style": "success",
       "description": "",
       "description_allow_html": false,
       "layout": "IPY_MODEL_e4cc4782111b4402a0cee640356b8ec0",
       "max": 1,
       "min": 0,
       "orientation": "horizontal",
       "style": "IPY_MODEL_17a37eb248a44a04a844776aa8fdc4c8",
       "tabbable": null,
       "tooltip": null,
       "value": 1
      }
     },
     "b0711d71f5d64a898d1f2eea59ccd818": {
      "model_module": "@jupyter-widgets/base",
      "model_module_version": "2.0.0",
      "model_name": "LayoutModel",
      "state": {
       "_model_module": "@jupyter-widgets/base",
       "_model_module_version": "2.0.0",
       "_model_name": "LayoutModel",
       "_view_count": null,
       "_view_module": "@jupyter-widgets/base",
       "_view_module_version": "2.0.0",
       "_view_name": "LayoutView",
       "align_content": null,
       "align_items": null,
       "align_self": null,
       "border_bottom": null,
       "border_left": null,
       "border_right": null,
       "border_top": null,
       "bottom": null,
       "display": null,
       "flex": null,
       "flex_flow": null,
       "grid_area": null,
       "grid_auto_columns": null,
       "grid_auto_flow": null,
       "grid_auto_rows": null,
       "grid_column": null,
       "grid_gap": null,
       "grid_row": null,
       "grid_template_areas": null,
       "grid_template_columns": null,
       "grid_template_rows": null,
       "height": null,
       "justify_content": null,
       "justify_items": null,
       "left": null,
       "margin": null,
       "max_height": null,
       "max_width": null,
       "min_height": null,
       "min_width": null,
       "object_fit": null,
       "object_position": null,
       "order": null,
       "overflow": null,
       "padding": null,
       "right": null,
       "top": null,
       "visibility": null,
       "width": null
      }
     },
     "b07b78ccecf1484f8747a97591f6572e": {
      "model_module": "@jupyter-widgets/base",
      "model_module_version": "2.0.0",
      "model_name": "LayoutModel",
      "state": {
       "_model_module": "@jupyter-widgets/base",
       "_model_module_version": "2.0.0",
       "_model_name": "LayoutModel",
       "_view_count": null,
       "_view_module": "@jupyter-widgets/base",
       "_view_module_version": "2.0.0",
       "_view_name": "LayoutView",
       "align_content": null,
       "align_items": null,
       "align_self": null,
       "border_bottom": null,
       "border_left": null,
       "border_right": null,
       "border_top": null,
       "bottom": null,
       "display": null,
       "flex": null,
       "flex_flow": null,
       "grid_area": null,
       "grid_auto_columns": null,
       "grid_auto_flow": null,
       "grid_auto_rows": null,
       "grid_column": null,
       "grid_gap": null,
       "grid_row": null,
       "grid_template_areas": null,
       "grid_template_columns": null,
       "grid_template_rows": null,
       "height": null,
       "justify_content": null,
       "justify_items": null,
       "left": null,
       "margin": null,
       "max_height": null,
       "max_width": null,
       "min_height": null,
       "min_width": null,
       "object_fit": null,
       "object_position": null,
       "order": null,
       "overflow": null,
       "padding": null,
       "right": null,
       "top": null,
       "visibility": null,
       "width": "20px"
      }
     },
     "b665b87afca240b398774fac8dea55df": {
      "model_module": "@jupyter-widgets/base",
      "model_module_version": "2.0.0",
      "model_name": "LayoutModel",
      "state": {
       "_model_module": "@jupyter-widgets/base",
       "_model_module_version": "2.0.0",
       "_model_name": "LayoutModel",
       "_view_count": null,
       "_view_module": "@jupyter-widgets/base",
       "_view_module_version": "2.0.0",
       "_view_name": "LayoutView",
       "align_content": null,
       "align_items": null,
       "align_self": null,
       "border_bottom": null,
       "border_left": null,
       "border_right": null,
       "border_top": null,
       "bottom": null,
       "display": null,
       "flex": null,
       "flex_flow": null,
       "grid_area": null,
       "grid_auto_columns": null,
       "grid_auto_flow": null,
       "grid_auto_rows": null,
       "grid_column": null,
       "grid_gap": null,
       "grid_row": null,
       "grid_template_areas": null,
       "grid_template_columns": null,
       "grid_template_rows": null,
       "height": null,
       "justify_content": null,
       "justify_items": null,
       "left": null,
       "margin": null,
       "max_height": null,
       "max_width": null,
       "min_height": null,
       "min_width": null,
       "object_fit": null,
       "object_position": null,
       "order": null,
       "overflow": null,
       "padding": null,
       "right": null,
       "top": null,
       "visibility": null,
       "width": null
      }
     },
     "b94ec5c43b984f3da3d1721b7f81139c": {
      "model_module": "@jupyter-widgets/controls",
      "model_module_version": "2.0.0",
      "model_name": "ProgressStyleModel",
      "state": {
       "_model_module": "@jupyter-widgets/controls",
       "_model_module_version": "2.0.0",
       "_model_name": "ProgressStyleModel",
       "_view_count": null,
       "_view_module": "@jupyter-widgets/base",
       "_view_module_version": "2.0.0",
       "_view_name": "StyleView",
       "bar_color": null,
       "description_width": ""
      }
     },
     "ba911cb7553042628e5c58d403795940": {
      "model_module": "@jupyter-widgets/controls",
      "model_module_version": "2.0.0",
      "model_name": "HTMLModel",
      "state": {
       "_dom_classes": [],
       "_model_module": "@jupyter-widgets/controls",
       "_model_module_version": "2.0.0",
       "_model_name": "HTMLModel",
       "_view_count": null,
       "_view_module": "@jupyter-widgets/controls",
       "_view_module_version": "2.0.0",
       "_view_name": "HTMLView",
       "description": "",
       "description_allow_html": false,
       "layout": "IPY_MODEL_2ddd4cfa075644e89a797748947609dc",
       "placeholder": "​",
       "style": "IPY_MODEL_e60cbc6beffc456da2b4a48235788e2a",
       "tabbable": null,
       "tooltip": null,
       "value": " 2/? [00:02&lt;00:00, 18.64rows/s]"
      }
     },
     "bb17e7adbce54c17bdc431497fb27c70": {
      "model_module": "@jupyter-widgets/base",
      "model_module_version": "2.0.0",
      "model_name": "LayoutModel",
      "state": {
       "_model_module": "@jupyter-widgets/base",
       "_model_module_version": "2.0.0",
       "_model_name": "LayoutModel",
       "_view_count": null,
       "_view_module": "@jupyter-widgets/base",
       "_view_module_version": "2.0.0",
       "_view_name": "LayoutView",
       "align_content": null,
       "align_items": null,
       "align_self": null,
       "border_bottom": null,
       "border_left": null,
       "border_right": null,
       "border_top": null,
       "bottom": null,
       "display": null,
       "flex": null,
       "flex_flow": null,
       "grid_area": null,
       "grid_auto_columns": null,
       "grid_auto_flow": null,
       "grid_auto_rows": null,
       "grid_column": null,
       "grid_gap": null,
       "grid_row": null,
       "grid_template_areas": null,
       "grid_template_columns": null,
       "grid_template_rows": null,
       "height": null,
       "justify_content": null,
       "justify_items": null,
       "left": null,
       "margin": null,
       "max_height": null,
       "max_width": null,
       "min_height": null,
       "min_width": null,
       "object_fit": null,
       "object_position": null,
       "order": null,
       "overflow": null,
       "padding": null,
       "right": null,
       "top": null,
       "visibility": null,
       "width": null
      }
     },
     "bcfe2900dfb246c8b78cf3db6e40c807": {
      "model_module": "@jupyter-widgets/controls",
      "model_module_version": "2.0.0",
      "model_name": "ProgressStyleModel",
      "state": {
       "_model_module": "@jupyter-widgets/controls",
       "_model_module_version": "2.0.0",
       "_model_name": "ProgressStyleModel",
       "_view_count": null,
       "_view_module": "@jupyter-widgets/base",
       "_view_module_version": "2.0.0",
       "_view_name": "StyleView",
       "bar_color": null,
       "description_width": ""
      }
     },
     "bd30257c2af0443da4d97bca161ce7d8": {
      "model_module": "@jupyter-widgets/controls",
      "model_module_version": "2.0.0",
      "model_name": "HTMLStyleModel",
      "state": {
       "_model_module": "@jupyter-widgets/controls",
       "_model_module_version": "2.0.0",
       "_model_name": "HTMLStyleModel",
       "_view_count": null,
       "_view_module": "@jupyter-widgets/base",
       "_view_module_version": "2.0.0",
       "_view_name": "StyleView",
       "background": null,
       "description_width": "",
       "font_size": null,
       "text_color": null
      }
     },
     "bdc961e8c4c141da9f5d557fcf60da8f": {
      "model_module": "@jupyter-widgets/base",
      "model_module_version": "2.0.0",
      "model_name": "LayoutModel",
      "state": {
       "_model_module": "@jupyter-widgets/base",
       "_model_module_version": "2.0.0",
       "_model_name": "LayoutModel",
       "_view_count": null,
       "_view_module": "@jupyter-widgets/base",
       "_view_module_version": "2.0.0",
       "_view_name": "LayoutView",
       "align_content": null,
       "align_items": null,
       "align_self": null,
       "border_bottom": null,
       "border_left": null,
       "border_right": null,
       "border_top": null,
       "bottom": null,
       "display": null,
       "flex": null,
       "flex_flow": null,
       "grid_area": null,
       "grid_auto_columns": null,
       "grid_auto_flow": null,
       "grid_auto_rows": null,
       "grid_column": null,
       "grid_gap": null,
       "grid_row": null,
       "grid_template_areas": null,
       "grid_template_columns": null,
       "grid_template_rows": null,
       "height": null,
       "justify_content": null,
       "justify_items": null,
       "left": null,
       "margin": null,
       "max_height": null,
       "max_width": null,
       "min_height": null,
       "min_width": null,
       "object_fit": null,
       "object_position": null,
       "order": null,
       "overflow": null,
       "padding": null,
       "right": null,
       "top": null,
       "visibility": null,
       "width": null
      }
     },
     "bdec4d21f78d4f64b8cc83b80cba3d5b": {
      "model_module": "@jupyter-widgets/controls",
      "model_module_version": "2.0.0",
      "model_name": "HTMLStyleModel",
      "state": {
       "_model_module": "@jupyter-widgets/controls",
       "_model_module_version": "2.0.0",
       "_model_name": "HTMLStyleModel",
       "_view_count": null,
       "_view_module": "@jupyter-widgets/base",
       "_view_module_version": "2.0.0",
       "_view_name": "StyleView",
       "background": null,
       "description_width": "",
       "font_size": null,
       "text_color": null
      }
     },
     "c0763840e54b4e3095b5bf70ea99f307": {
      "model_module": "@jupyter-widgets/base",
      "model_module_version": "2.0.0",
      "model_name": "LayoutModel",
      "state": {
       "_model_module": "@jupyter-widgets/base",
       "_model_module_version": "2.0.0",
       "_model_name": "LayoutModel",
       "_view_count": null,
       "_view_module": "@jupyter-widgets/base",
       "_view_module_version": "2.0.0",
       "_view_name": "LayoutView",
       "align_content": null,
       "align_items": null,
       "align_self": null,
       "border_bottom": null,
       "border_left": null,
       "border_right": null,
       "border_top": null,
       "bottom": null,
       "display": null,
       "flex": null,
       "flex_flow": null,
       "grid_area": null,
       "grid_auto_columns": null,
       "grid_auto_flow": null,
       "grid_auto_rows": null,
       "grid_column": null,
       "grid_gap": null,
       "grid_row": null,
       "grid_template_areas": null,
       "grid_template_columns": null,
       "grid_template_rows": null,
       "height": null,
       "justify_content": null,
       "justify_items": null,
       "left": null,
       "margin": null,
       "max_height": null,
       "max_width": null,
       "min_height": null,
       "min_width": null,
       "object_fit": null,
       "object_position": null,
       "order": null,
       "overflow": null,
       "padding": null,
       "right": null,
       "top": null,
       "visibility": null,
       "width": null
      }
     },
     "c140991af65349b398edbd32bd5a4230": {
      "model_module": "@jupyter-widgets/controls",
      "model_module_version": "2.0.0",
      "model_name": "HBoxModel",
      "state": {
       "_dom_classes": [],
       "_model_module": "@jupyter-widgets/controls",
       "_model_module_version": "2.0.0",
       "_model_name": "HBoxModel",
       "_view_count": null,
       "_view_module": "@jupyter-widgets/controls",
       "_view_module_version": "2.0.0",
       "_view_name": "HBoxView",
       "box_style": "",
       "children": [
        "IPY_MODEL_8d71ea8393254853be88c1734beddad5",
        "IPY_MODEL_6b5ef7c557fe46d5839acd907a50c31c",
        "IPY_MODEL_f0fbce22e9644676a05f15e41aabd3b5"
       ],
       "layout": "IPY_MODEL_e01b33ca51e04a5599ffb20b89d5f2a7",
       "tabbable": null,
       "tooltip": null
      }
     },
     "c19f481f85f841169acfd3d769a9cfea": {
      "model_module": "@jupyter-widgets/base",
      "model_module_version": "2.0.0",
      "model_name": "LayoutModel",
      "state": {
       "_model_module": "@jupyter-widgets/base",
       "_model_module_version": "2.0.0",
       "_model_name": "LayoutModel",
       "_view_count": null,
       "_view_module": "@jupyter-widgets/base",
       "_view_module_version": "2.0.0",
       "_view_name": "LayoutView",
       "align_content": null,
       "align_items": null,
       "align_self": null,
       "border_bottom": null,
       "border_left": null,
       "border_right": null,
       "border_top": null,
       "bottom": null,
       "display": null,
       "flex": null,
       "flex_flow": null,
       "grid_area": null,
       "grid_auto_columns": null,
       "grid_auto_flow": null,
       "grid_auto_rows": null,
       "grid_column": null,
       "grid_gap": null,
       "grid_row": null,
       "grid_template_areas": null,
       "grid_template_columns": null,
       "grid_template_rows": null,
       "height": null,
       "justify_content": null,
       "justify_items": null,
       "left": null,
       "margin": null,
       "max_height": null,
       "max_width": null,
       "min_height": null,
       "min_width": null,
       "object_fit": null,
       "object_position": null,
       "order": null,
       "overflow": null,
       "padding": null,
       "right": null,
       "top": null,
       "visibility": null,
       "width": null
      }
     },
     "c2789183700a4b2680b30b656a1d0fc9": {
      "model_module": "@jupyter-widgets/controls",
      "model_module_version": "2.0.0",
      "model_name": "HBoxModel",
      "state": {
       "_dom_classes": [],
       "_model_module": "@jupyter-widgets/controls",
       "_model_module_version": "2.0.0",
       "_model_name": "HBoxModel",
       "_view_count": null,
       "_view_module": "@jupyter-widgets/controls",
       "_view_module_version": "2.0.0",
       "_view_name": "HBoxView",
       "box_style": "",
       "children": [
        "IPY_MODEL_5924615904ab460fb6632ddd78d872c5",
        "IPY_MODEL_d7c7133fe901481c8841c16f4befb49f",
        "IPY_MODEL_dc2a404fee7c42738429d39cdb1b766d"
       ],
       "layout": "IPY_MODEL_47f45841b03249d6890011dc75339b0f",
       "tabbable": null,
       "tooltip": null
      }
     },
     "c4aaba06b82048ebb305b4201e38cb90": {
      "model_module": "@jupyter-widgets/controls",
      "model_module_version": "2.0.0",
      "model_name": "HBoxModel",
      "state": {
       "_dom_classes": [],
       "_model_module": "@jupyter-widgets/controls",
       "_model_module_version": "2.0.0",
       "_model_name": "HBoxModel",
       "_view_count": null,
       "_view_module": "@jupyter-widgets/controls",
       "_view_module_version": "2.0.0",
       "_view_name": "HBoxView",
       "box_style": "",
       "children": [
        "IPY_MODEL_43226e1282264c9a88d2a1171a3b1f48",
        "IPY_MODEL_8945d5df9eee40dca97a4b980f9350e6",
        "IPY_MODEL_fc69e90f6ec64684a58e1072dda09fd9"
       ],
       "layout": "IPY_MODEL_c19f481f85f841169acfd3d769a9cfea",
       "tabbable": null,
       "tooltip": null
      }
     },
     "c7f9d58e9384404cbad0e51c769faf3b": {
      "model_module": "@jupyter-widgets/controls",
      "model_module_version": "2.0.0",
      "model_name": "FloatProgressModel",
      "state": {
       "_dom_classes": [],
       "_model_module": "@jupyter-widgets/controls",
       "_model_module_version": "2.0.0",
       "_model_name": "FloatProgressModel",
       "_view_count": null,
       "_view_module": "@jupyter-widgets/controls",
       "_view_module_version": "2.0.0",
       "_view_name": "ProgressView",
       "bar_style": "success",
       "description": "",
       "description_allow_html": false,
       "layout": "IPY_MODEL_e5ff31590d25440e90e4f29471132505",
       "max": 1,
       "min": 0,
       "orientation": "horizontal",
       "style": "IPY_MODEL_e3ba7ac123d34987a794cc6a41ce55cb",
       "tabbable": null,
       "tooltip": null,
       "value": 1
      }
     },
     "c912fa09593a4f108a4938aaf4b5d633": {
      "model_module": "@jupyter-widgets/controls",
      "model_module_version": "2.0.0",
      "model_name": "HTMLStyleModel",
      "state": {
       "_model_module": "@jupyter-widgets/controls",
       "_model_module_version": "2.0.0",
       "_model_name": "HTMLStyleModel",
       "_view_count": null,
       "_view_module": "@jupyter-widgets/base",
       "_view_module_version": "2.0.0",
       "_view_name": "StyleView",
       "background": null,
       "description_width": "",
       "font_size": null,
       "text_color": null
      }
     },
     "cfa97451926a4520a9cf4e002f25bcc1": {
      "model_module": "@jupyter-widgets/controls",
      "model_module_version": "2.0.0",
      "model_name": "HTMLModel",
      "state": {
       "_dom_classes": [],
       "_model_module": "@jupyter-widgets/controls",
       "_model_module_version": "2.0.0",
       "_model_name": "HTMLModel",
       "_view_count": null,
       "_view_module": "@jupyter-widgets/controls",
       "_view_module_version": "2.0.0",
       "_view_name": "HTMLView",
       "description": "",
       "description_allow_html": false,
       "layout": "IPY_MODEL_3151111cb268422e8d8c11340e2e5f25",
       "placeholder": "​",
       "style": "IPY_MODEL_e867fb4e3ae8475babd820c4652dbc63",
       "tabbable": null,
       "tooltip": null,
       "value": " 2/? [00:12&lt;00:00, 18.97rows/s]"
      }
     },
     "d093929d8e3c4905b87048963ac1bccc": {
      "model_module": "@jupyter-widgets/controls",
      "model_module_version": "2.0.0",
      "model_name": "HTMLStyleModel",
      "state": {
       "_model_module": "@jupyter-widgets/controls",
       "_model_module_version": "2.0.0",
       "_model_name": "HTMLStyleModel",
       "_view_count": null,
       "_view_module": "@jupyter-widgets/base",
       "_view_module_version": "2.0.0",
       "_view_name": "StyleView",
       "background": null,
       "description_width": "",
       "font_size": null,
       "text_color": null
      }
     },
     "d0fe4f42d6f64771a9a6f72b55cb23c5": {
      "model_module": "@jupyter-widgets/controls",
      "model_module_version": "2.0.0",
      "model_name": "HTMLStyleModel",
      "state": {
       "_model_module": "@jupyter-widgets/controls",
       "_model_module_version": "2.0.0",
       "_model_name": "HTMLStyleModel",
       "_view_count": null,
       "_view_module": "@jupyter-widgets/base",
       "_view_module_version": "2.0.0",
       "_view_name": "StyleView",
       "background": null,
       "description_width": "",
       "font_size": null,
       "text_color": null
      }
     },
     "d2d5131bd4f746afae02ac64241eb8fa": {
      "model_module": "@jupyter-widgets/base",
      "model_module_version": "2.0.0",
      "model_name": "LayoutModel",
      "state": {
       "_model_module": "@jupyter-widgets/base",
       "_model_module_version": "2.0.0",
       "_model_name": "LayoutModel",
       "_view_count": null,
       "_view_module": "@jupyter-widgets/base",
       "_view_module_version": "2.0.0",
       "_view_name": "LayoutView",
       "align_content": null,
       "align_items": null,
       "align_self": null,
       "border_bottom": null,
       "border_left": null,
       "border_right": null,
       "border_top": null,
       "bottom": null,
       "display": null,
       "flex": null,
       "flex_flow": null,
       "grid_area": null,
       "grid_auto_columns": null,
       "grid_auto_flow": null,
       "grid_auto_rows": null,
       "grid_column": null,
       "grid_gap": null,
       "grid_row": null,
       "grid_template_areas": null,
       "grid_template_columns": null,
       "grid_template_rows": null,
       "height": null,
       "justify_content": null,
       "justify_items": null,
       "left": null,
       "margin": null,
       "max_height": null,
       "max_width": null,
       "min_height": null,
       "min_width": null,
       "object_fit": null,
       "object_position": null,
       "order": null,
       "overflow": null,
       "padding": null,
       "right": null,
       "top": null,
       "visibility": null,
       "width": null
      }
     },
     "d45940d6279c4f9787174d525158e935": {
      "model_module": "@jupyter-widgets/controls",
      "model_module_version": "2.0.0",
      "model_name": "HTMLModel",
      "state": {
       "_dom_classes": [],
       "_model_module": "@jupyter-widgets/controls",
       "_model_module_version": "2.0.0",
       "_model_name": "HTMLModel",
       "_view_count": null,
       "_view_module": "@jupyter-widgets/controls",
       "_view_module_version": "2.0.0",
       "_view_name": "HTMLView",
       "description": "",
       "description_allow_html": false,
       "layout": "IPY_MODEL_fb33fa6841904d88abc705f92568d25d",
       "placeholder": "​",
       "style": "IPY_MODEL_8f31249f79ed4b8b9c404d8fb9cadb77",
       "tabbable": null,
       "tooltip": null,
       "value": ""
      }
     },
     "d62c7000bf814d2a9c8426cac34862a0": {
      "model_module": "@jupyter-widgets/base",
      "model_module_version": "2.0.0",
      "model_name": "LayoutModel",
      "state": {
       "_model_module": "@jupyter-widgets/base",
       "_model_module_version": "2.0.0",
       "_model_name": "LayoutModel",
       "_view_count": null,
       "_view_module": "@jupyter-widgets/base",
       "_view_module_version": "2.0.0",
       "_view_name": "LayoutView",
       "align_content": null,
       "align_items": null,
       "align_self": null,
       "border_bottom": null,
       "border_left": null,
       "border_right": null,
       "border_top": null,
       "bottom": null,
       "display": null,
       "flex": null,
       "flex_flow": null,
       "grid_area": null,
       "grid_auto_columns": null,
       "grid_auto_flow": null,
       "grid_auto_rows": null,
       "grid_column": null,
       "grid_gap": null,
       "grid_row": null,
       "grid_template_areas": null,
       "grid_template_columns": null,
       "grid_template_rows": null,
       "height": null,
       "justify_content": null,
       "justify_items": null,
       "left": null,
       "margin": null,
       "max_height": null,
       "max_width": null,
       "min_height": null,
       "min_width": null,
       "object_fit": null,
       "object_position": null,
       "order": null,
       "overflow": null,
       "padding": null,
       "right": null,
       "top": null,
       "visibility": null,
       "width": null
      }
     },
     "d7c7133fe901481c8841c16f4befb49f": {
      "model_module": "@jupyter-widgets/controls",
      "model_module_version": "2.0.0",
      "model_name": "FloatProgressModel",
      "state": {
       "_dom_classes": [],
       "_model_module": "@jupyter-widgets/controls",
       "_model_module_version": "2.0.0",
       "_model_name": "FloatProgressModel",
       "_view_count": null,
       "_view_module": "@jupyter-widgets/controls",
       "_view_module_version": "2.0.0",
       "_view_name": "ProgressView",
       "bar_style": "info",
       "description": "",
       "description_allow_html": false,
       "layout": "IPY_MODEL_dc764d0812f44f68b462d40047b0a705",
       "max": 1,
       "min": 0,
       "orientation": "horizontal",
       "style": "IPY_MODEL_581e286b6b2e4c5aa4f1be1264ca884e",
       "tabbable": null,
       "tooltip": null,
       "value": 0
      }
     },
     "d899ecbe766c438bbbba1fedd4a06bb0": {
      "model_module": "@jupyter-widgets/controls",
      "model_module_version": "2.0.0",
      "model_name": "HTMLStyleModel",
      "state": {
       "_model_module": "@jupyter-widgets/controls",
       "_model_module_version": "2.0.0",
       "_model_name": "HTMLStyleModel",
       "_view_count": null,
       "_view_module": "@jupyter-widgets/base",
       "_view_module_version": "2.0.0",
       "_view_name": "StyleView",
       "background": null,
       "description_width": "",
       "font_size": null,
       "text_color": null
      }
     },
     "d8ba510ce070446abd2e7b603dce1cca": {
      "model_module": "@jupyter-widgets/base",
      "model_module_version": "2.0.0",
      "model_name": "LayoutModel",
      "state": {
       "_model_module": "@jupyter-widgets/base",
       "_model_module_version": "2.0.0",
       "_model_name": "LayoutModel",
       "_view_count": null,
       "_view_module": "@jupyter-widgets/base",
       "_view_module_version": "2.0.0",
       "_view_name": "LayoutView",
       "align_content": null,
       "align_items": null,
       "align_self": null,
       "border_bottom": null,
       "border_left": null,
       "border_right": null,
       "border_top": null,
       "bottom": null,
       "display": null,
       "flex": null,
       "flex_flow": null,
       "grid_area": null,
       "grid_auto_columns": null,
       "grid_auto_flow": null,
       "grid_auto_rows": null,
       "grid_column": null,
       "grid_gap": null,
       "grid_row": null,
       "grid_template_areas": null,
       "grid_template_columns": null,
       "grid_template_rows": null,
       "height": null,
       "justify_content": null,
       "justify_items": null,
       "left": null,
       "margin": null,
       "max_height": null,
       "max_width": null,
       "min_height": null,
       "min_width": null,
       "object_fit": null,
       "object_position": null,
       "order": null,
       "overflow": null,
       "padding": null,
       "right": null,
       "top": null,
       "visibility": null,
       "width": null
      }
     },
     "d97d48afa4de453285e0cb0e3ac9368a": {
      "model_module": "@jupyter-widgets/base",
      "model_module_version": "2.0.0",
      "model_name": "LayoutModel",
      "state": {
       "_model_module": "@jupyter-widgets/base",
       "_model_module_version": "2.0.0",
       "_model_name": "LayoutModel",
       "_view_count": null,
       "_view_module": "@jupyter-widgets/base",
       "_view_module_version": "2.0.0",
       "_view_name": "LayoutView",
       "align_content": null,
       "align_items": null,
       "align_self": null,
       "border_bottom": null,
       "border_left": null,
       "border_right": null,
       "border_top": null,
       "bottom": null,
       "display": null,
       "flex": null,
       "flex_flow": null,
       "grid_area": null,
       "grid_auto_columns": null,
       "grid_auto_flow": null,
       "grid_auto_rows": null,
       "grid_column": null,
       "grid_gap": null,
       "grid_row": null,
       "grid_template_areas": null,
       "grid_template_columns": null,
       "grid_template_rows": null,
       "height": null,
       "justify_content": null,
       "justify_items": null,
       "left": null,
       "margin": null,
       "max_height": null,
       "max_width": null,
       "min_height": null,
       "min_width": null,
       "object_fit": null,
       "object_position": null,
       "order": null,
       "overflow": null,
       "padding": null,
       "right": null,
       "top": null,
       "visibility": null,
       "width": null
      }
     },
     "d9ec40bd4c654e8cbcd43fa9751e2cdb": {
      "model_module": "@jupyter-widgets/base",
      "model_module_version": "2.0.0",
      "model_name": "LayoutModel",
      "state": {
       "_model_module": "@jupyter-widgets/base",
       "_model_module_version": "2.0.0",
       "_model_name": "LayoutModel",
       "_view_count": null,
       "_view_module": "@jupyter-widgets/base",
       "_view_module_version": "2.0.0",
       "_view_name": "LayoutView",
       "align_content": null,
       "align_items": null,
       "align_self": null,
       "border_bottom": null,
       "border_left": null,
       "border_right": null,
       "border_top": null,
       "bottom": null,
       "display": null,
       "flex": null,
       "flex_flow": null,
       "grid_area": null,
       "grid_auto_columns": null,
       "grid_auto_flow": null,
       "grid_auto_rows": null,
       "grid_column": null,
       "grid_gap": null,
       "grid_row": null,
       "grid_template_areas": null,
       "grid_template_columns": null,
       "grid_template_rows": null,
       "height": null,
       "justify_content": null,
       "justify_items": null,
       "left": null,
       "margin": null,
       "max_height": null,
       "max_width": null,
       "min_height": null,
       "min_width": null,
       "object_fit": null,
       "object_position": null,
       "order": null,
       "overflow": null,
       "padding": null,
       "right": null,
       "top": null,
       "visibility": null,
       "width": "20px"
      }
     },
     "dc2a404fee7c42738429d39cdb1b766d": {
      "model_module": "@jupyter-widgets/controls",
      "model_module_version": "2.0.0",
      "model_name": "HTMLModel",
      "state": {
       "_dom_classes": [],
       "_model_module": "@jupyter-widgets/controls",
       "_model_module_version": "2.0.0",
       "_model_name": "HTMLModel",
       "_view_count": null,
       "_view_module": "@jupyter-widgets/controls",
       "_view_module_version": "2.0.0",
       "_view_name": "HTMLView",
       "description": "",
       "description_allow_html": false,
       "layout": "IPY_MODEL_08b53e27f10f4baa8d17f9c234aa0675",
       "placeholder": "​",
       "style": "IPY_MODEL_bdec4d21f78d4f64b8cc83b80cba3d5b",
       "tabbable": null,
       "tooltip": null,
       "value": " 0/? [00:00&lt;?, ?rows/s]"
      }
     },
     "dc764d0812f44f68b462d40047b0a705": {
      "model_module": "@jupyter-widgets/base",
      "model_module_version": "2.0.0",
      "model_name": "LayoutModel",
      "state": {
       "_model_module": "@jupyter-widgets/base",
       "_model_module_version": "2.0.0",
       "_model_name": "LayoutModel",
       "_view_count": null,
       "_view_module": "@jupyter-widgets/base",
       "_view_module_version": "2.0.0",
       "_view_name": "LayoutView",
       "align_content": null,
       "align_items": null,
       "align_self": null,
       "border_bottom": null,
       "border_left": null,
       "border_right": null,
       "border_top": null,
       "bottom": null,
       "display": null,
       "flex": null,
       "flex_flow": null,
       "grid_area": null,
       "grid_auto_columns": null,
       "grid_auto_flow": null,
       "grid_auto_rows": null,
       "grid_column": null,
       "grid_gap": null,
       "grid_row": null,
       "grid_template_areas": null,
       "grid_template_columns": null,
       "grid_template_rows": null,
       "height": null,
       "justify_content": null,
       "justify_items": null,
       "left": null,
       "margin": null,
       "max_height": null,
       "max_width": null,
       "min_height": null,
       "min_width": null,
       "object_fit": null,
       "object_position": null,
       "order": null,
       "overflow": null,
       "padding": null,
       "right": null,
       "top": null,
       "visibility": null,
       "width": "20px"
      }
     },
     "dcb95e214ce142acb1e1b02fc4b210cb": {
      "model_module": "@jupyter-widgets/base",
      "model_module_version": "2.0.0",
      "model_name": "LayoutModel",
      "state": {
       "_model_module": "@jupyter-widgets/base",
       "_model_module_version": "2.0.0",
       "_model_name": "LayoutModel",
       "_view_count": null,
       "_view_module": "@jupyter-widgets/base",
       "_view_module_version": "2.0.0",
       "_view_name": "LayoutView",
       "align_content": null,
       "align_items": null,
       "align_self": null,
       "border_bottom": null,
       "border_left": null,
       "border_right": null,
       "border_top": null,
       "bottom": null,
       "display": null,
       "flex": null,
       "flex_flow": null,
       "grid_area": null,
       "grid_auto_columns": null,
       "grid_auto_flow": null,
       "grid_auto_rows": null,
       "grid_column": null,
       "grid_gap": null,
       "grid_row": null,
       "grid_template_areas": null,
       "grid_template_columns": null,
       "grid_template_rows": null,
       "height": null,
       "justify_content": null,
       "justify_items": null,
       "left": null,
       "margin": null,
       "max_height": null,
       "max_width": null,
       "min_height": null,
       "min_width": null,
       "object_fit": null,
       "object_position": null,
       "order": null,
       "overflow": null,
       "padding": null,
       "right": null,
       "top": null,
       "visibility": null,
       "width": null
      }
     },
     "dd4b33f88b2d4c3fba5b74f72f1be137": {
      "model_module": "@jupyter-widgets/controls",
      "model_module_version": "2.0.0",
      "model_name": "HTMLStyleModel",
      "state": {
       "_model_module": "@jupyter-widgets/controls",
       "_model_module_version": "2.0.0",
       "_model_name": "HTMLStyleModel",
       "_view_count": null,
       "_view_module": "@jupyter-widgets/base",
       "_view_module_version": "2.0.0",
       "_view_name": "StyleView",
       "background": null,
       "description_width": "",
       "font_size": null,
       "text_color": null
      }
     },
     "e01b33ca51e04a5599ffb20b89d5f2a7": {
      "model_module": "@jupyter-widgets/base",
      "model_module_version": "2.0.0",
      "model_name": "LayoutModel",
      "state": {
       "_model_module": "@jupyter-widgets/base",
       "_model_module_version": "2.0.0",
       "_model_name": "LayoutModel",
       "_view_count": null,
       "_view_module": "@jupyter-widgets/base",
       "_view_module_version": "2.0.0",
       "_view_name": "LayoutView",
       "align_content": null,
       "align_items": null,
       "align_self": null,
       "border_bottom": null,
       "border_left": null,
       "border_right": null,
       "border_top": null,
       "bottom": null,
       "display": null,
       "flex": null,
       "flex_flow": null,
       "grid_area": null,
       "grid_auto_columns": null,
       "grid_auto_flow": null,
       "grid_auto_rows": null,
       "grid_column": null,
       "grid_gap": null,
       "grid_row": null,
       "grid_template_areas": null,
       "grid_template_columns": null,
       "grid_template_rows": null,
       "height": null,
       "justify_content": null,
       "justify_items": null,
       "left": null,
       "margin": null,
       "max_height": null,
       "max_width": null,
       "min_height": null,
       "min_width": null,
       "object_fit": null,
       "object_position": null,
       "order": null,
       "overflow": null,
       "padding": null,
       "right": null,
       "top": null,
       "visibility": null,
       "width": null
      }
     },
     "e0f0bc3da3ce404c930490e2f4c1ae7c": {
      "model_module": "@jupyter-widgets/controls",
      "model_module_version": "2.0.0",
      "model_name": "HBoxModel",
      "state": {
       "_dom_classes": [],
       "_model_module": "@jupyter-widgets/controls",
       "_model_module_version": "2.0.0",
       "_model_name": "HBoxModel",
       "_view_count": null,
       "_view_module": "@jupyter-widgets/controls",
       "_view_module_version": "2.0.0",
       "_view_name": "HBoxView",
       "box_style": "",
       "children": [
        "IPY_MODEL_7e2c66c90fa245cda61fdb5b853451e3",
        "IPY_MODEL_193c1b014f2d4051a442f7f731a3a918",
        "IPY_MODEL_93355e305af9413db3e361e4f7fdc1bf"
       ],
       "layout": "IPY_MODEL_14765f7bad9b46bc98cbe0c87bcc1c22",
       "tabbable": null,
       "tooltip": null
      }
     },
     "e3599a535f8d4148b69f09f48a9af65c": {
      "model_module": "@jupyter-widgets/controls",
      "model_module_version": "2.0.0",
      "model_name": "HBoxModel",
      "state": {
       "_dom_classes": [],
       "_model_module": "@jupyter-widgets/controls",
       "_model_module_version": "2.0.0",
       "_model_name": "HBoxModel",
       "_view_count": null,
       "_view_module": "@jupyter-widgets/controls",
       "_view_module_version": "2.0.0",
       "_view_name": "HBoxView",
       "box_style": "",
       "children": [
        "IPY_MODEL_659ca13a7b204b5c93d52df4ffc992fc",
        "IPY_MODEL_9ed256973964407f8add22e7e8a4c7ec",
        "IPY_MODEL_cfa97451926a4520a9cf4e002f25bcc1"
       ],
       "layout": "IPY_MODEL_2caaa5cad8914405bb93ab05c83f62b6",
       "tabbable": null,
       "tooltip": null
      }
     },
     "e3ba7ac123d34987a794cc6a41ce55cb": {
      "model_module": "@jupyter-widgets/controls",
      "model_module_version": "2.0.0",
      "model_name": "ProgressStyleModel",
      "state": {
       "_model_module": "@jupyter-widgets/controls",
       "_model_module_version": "2.0.0",
       "_model_name": "ProgressStyleModel",
       "_view_count": null,
       "_view_module": "@jupyter-widgets/base",
       "_view_module_version": "2.0.0",
       "_view_name": "StyleView",
       "bar_color": null,
       "description_width": ""
      }
     },
     "e3da1e089dcd48dbbc8dfb20aae40a2a": {
      "model_module": "@jupyter-widgets/base",
      "model_module_version": "2.0.0",
      "model_name": "LayoutModel",
      "state": {
       "_model_module": "@jupyter-widgets/base",
       "_model_module_version": "2.0.0",
       "_model_name": "LayoutModel",
       "_view_count": null,
       "_view_module": "@jupyter-widgets/base",
       "_view_module_version": "2.0.0",
       "_view_name": "LayoutView",
       "align_content": null,
       "align_items": null,
       "align_self": null,
       "border_bottom": null,
       "border_left": null,
       "border_right": null,
       "border_top": null,
       "bottom": null,
       "display": null,
       "flex": null,
       "flex_flow": null,
       "grid_area": null,
       "grid_auto_columns": null,
       "grid_auto_flow": null,
       "grid_auto_rows": null,
       "grid_column": null,
       "grid_gap": null,
       "grid_row": null,
       "grid_template_areas": null,
       "grid_template_columns": null,
       "grid_template_rows": null,
       "height": null,
       "justify_content": null,
       "justify_items": null,
       "left": null,
       "margin": null,
       "max_height": null,
       "max_width": null,
       "min_height": null,
       "min_width": null,
       "object_fit": null,
       "object_position": null,
       "order": null,
       "overflow": null,
       "padding": null,
       "right": null,
       "top": null,
       "visibility": null,
       "width": null
      }
     },
     "e4b178fca07e43028d04e2d49e5e33e9": {
      "model_module": "@jupyter-widgets/controls",
      "model_module_version": "2.0.0",
      "model_name": "ProgressStyleModel",
      "state": {
       "_model_module": "@jupyter-widgets/controls",
       "_model_module_version": "2.0.0",
       "_model_name": "ProgressStyleModel",
       "_view_count": null,
       "_view_module": "@jupyter-widgets/base",
       "_view_module_version": "2.0.0",
       "_view_name": "StyleView",
       "bar_color": null,
       "description_width": ""
      }
     },
     "e4cc4782111b4402a0cee640356b8ec0": {
      "model_module": "@jupyter-widgets/base",
      "model_module_version": "2.0.0",
      "model_name": "LayoutModel",
      "state": {
       "_model_module": "@jupyter-widgets/base",
       "_model_module_version": "2.0.0",
       "_model_name": "LayoutModel",
       "_view_count": null,
       "_view_module": "@jupyter-widgets/base",
       "_view_module_version": "2.0.0",
       "_view_name": "LayoutView",
       "align_content": null,
       "align_items": null,
       "align_self": null,
       "border_bottom": null,
       "border_left": null,
       "border_right": null,
       "border_top": null,
       "bottom": null,
       "display": null,
       "flex": null,
       "flex_flow": null,
       "grid_area": null,
       "grid_auto_columns": null,
       "grid_auto_flow": null,
       "grid_auto_rows": null,
       "grid_column": null,
       "grid_gap": null,
       "grid_row": null,
       "grid_template_areas": null,
       "grid_template_columns": null,
       "grid_template_rows": null,
       "height": null,
       "justify_content": null,
       "justify_items": null,
       "left": null,
       "margin": null,
       "max_height": null,
       "max_width": null,
       "min_height": null,
       "min_width": null,
       "object_fit": null,
       "object_position": null,
       "order": null,
       "overflow": null,
       "padding": null,
       "right": null,
       "top": null,
       "visibility": null,
       "width": "20px"
      }
     },
     "e5ff31590d25440e90e4f29471132505": {
      "model_module": "@jupyter-widgets/base",
      "model_module_version": "2.0.0",
      "model_name": "LayoutModel",
      "state": {
       "_model_module": "@jupyter-widgets/base",
       "_model_module_version": "2.0.0",
       "_model_name": "LayoutModel",
       "_view_count": null,
       "_view_module": "@jupyter-widgets/base",
       "_view_module_version": "2.0.0",
       "_view_name": "LayoutView",
       "align_content": null,
       "align_items": null,
       "align_self": null,
       "border_bottom": null,
       "border_left": null,
       "border_right": null,
       "border_top": null,
       "bottom": null,
       "display": null,
       "flex": null,
       "flex_flow": null,
       "grid_area": null,
       "grid_auto_columns": null,
       "grid_auto_flow": null,
       "grid_auto_rows": null,
       "grid_column": null,
       "grid_gap": null,
       "grid_row": null,
       "grid_template_areas": null,
       "grid_template_columns": null,
       "grid_template_rows": null,
       "height": null,
       "justify_content": null,
       "justify_items": null,
       "left": null,
       "margin": null,
       "max_height": null,
       "max_width": null,
       "min_height": null,
       "min_width": null,
       "object_fit": null,
       "object_position": null,
       "order": null,
       "overflow": null,
       "padding": null,
       "right": null,
       "top": null,
       "visibility": null,
       "width": "20px"
      }
     },
     "e60cbc6beffc456da2b4a48235788e2a": {
      "model_module": "@jupyter-widgets/controls",
      "model_module_version": "2.0.0",
      "model_name": "HTMLStyleModel",
      "state": {
       "_model_module": "@jupyter-widgets/controls",
       "_model_module_version": "2.0.0",
       "_model_name": "HTMLStyleModel",
       "_view_count": null,
       "_view_module": "@jupyter-widgets/base",
       "_view_module_version": "2.0.0",
       "_view_name": "StyleView",
       "background": null,
       "description_width": "",
       "font_size": null,
       "text_color": null
      }
     },
     "e65083a5b2cc4093bb5d1d968b5feea2": {
      "model_module": "@jupyter-widgets/controls",
      "model_module_version": "2.0.0",
      "model_name": "FloatProgressModel",
      "state": {
       "_dom_classes": [],
       "_model_module": "@jupyter-widgets/controls",
       "_model_module_version": "2.0.0",
       "_model_name": "FloatProgressModel",
       "_view_count": null,
       "_view_module": "@jupyter-widgets/controls",
       "_view_module_version": "2.0.0",
       "_view_name": "ProgressView",
       "bar_style": "success",
       "description": "",
       "description_allow_html": false,
       "layout": "IPY_MODEL_249de6d488174278928cb8bc48ce0906",
       "max": 1,
       "min": 0,
       "orientation": "horizontal",
       "style": "IPY_MODEL_fe839505ef684a2dbc2437ee4c5e9fcf",
       "tabbable": null,
       "tooltip": null,
       "value": 1
      }
     },
     "e6e7d2b76c7744e1bbca9b9ba5413f73": {
      "model_module": "@jupyter-widgets/base",
      "model_module_version": "2.0.0",
      "model_name": "LayoutModel",
      "state": {
       "_model_module": "@jupyter-widgets/base",
       "_model_module_version": "2.0.0",
       "_model_name": "LayoutModel",
       "_view_count": null,
       "_view_module": "@jupyter-widgets/base",
       "_view_module_version": "2.0.0",
       "_view_name": "LayoutView",
       "align_content": null,
       "align_items": null,
       "align_self": null,
       "border_bottom": null,
       "border_left": null,
       "border_right": null,
       "border_top": null,
       "bottom": null,
       "display": null,
       "flex": null,
       "flex_flow": null,
       "grid_area": null,
       "grid_auto_columns": null,
       "grid_auto_flow": null,
       "grid_auto_rows": null,
       "grid_column": null,
       "grid_gap": null,
       "grid_row": null,
       "grid_template_areas": null,
       "grid_template_columns": null,
       "grid_template_rows": null,
       "height": null,
       "justify_content": null,
       "justify_items": null,
       "left": null,
       "margin": null,
       "max_height": null,
       "max_width": null,
       "min_height": null,
       "min_width": null,
       "object_fit": null,
       "object_position": null,
       "order": null,
       "overflow": null,
       "padding": null,
       "right": null,
       "top": null,
       "visibility": null,
       "width": null
      }
     },
     "e867fb4e3ae8475babd820c4652dbc63": {
      "model_module": "@jupyter-widgets/controls",
      "model_module_version": "2.0.0",
      "model_name": "HTMLStyleModel",
      "state": {
       "_model_module": "@jupyter-widgets/controls",
       "_model_module_version": "2.0.0",
       "_model_name": "HTMLStyleModel",
       "_view_count": null,
       "_view_module": "@jupyter-widgets/base",
       "_view_module_version": "2.0.0",
       "_view_name": "StyleView",
       "background": null,
       "description_width": "",
       "font_size": null,
       "text_color": null
      }
     },
     "e88cfc27b4d648c18aed030abffa28b1": {
      "model_module": "@jupyter-widgets/controls",
      "model_module_version": "2.0.0",
      "model_name": "ProgressStyleModel",
      "state": {
       "_model_module": "@jupyter-widgets/controls",
       "_model_module_version": "2.0.0",
       "_model_name": "ProgressStyleModel",
       "_view_count": null,
       "_view_module": "@jupyter-widgets/base",
       "_view_module_version": "2.0.0",
       "_view_name": "StyleView",
       "bar_color": null,
       "description_width": ""
      }
     },
     "ea0174067c80497ebbe6d7520a718ae6": {
      "model_module": "@jupyter-widgets/controls",
      "model_module_version": "2.0.0",
      "model_name": "HTMLStyleModel",
      "state": {
       "_model_module": "@jupyter-widgets/controls",
       "_model_module_version": "2.0.0",
       "_model_name": "HTMLStyleModel",
       "_view_count": null,
       "_view_module": "@jupyter-widgets/base",
       "_view_module_version": "2.0.0",
       "_view_name": "StyleView",
       "background": null,
       "description_width": "",
       "font_size": null,
       "text_color": null
      }
     },
     "eb85f237b6f841b480d9c28d820415ab": {
      "model_module": "@jupyter-widgets/controls",
      "model_module_version": "2.0.0",
      "model_name": "ProgressStyleModel",
      "state": {
       "_model_module": "@jupyter-widgets/controls",
       "_model_module_version": "2.0.0",
       "_model_name": "ProgressStyleModel",
       "_view_count": null,
       "_view_module": "@jupyter-widgets/base",
       "_view_module_version": "2.0.0",
       "_view_name": "StyleView",
       "bar_color": null,
       "description_width": ""
      }
     },
     "ed230e7240fb4bd999420039b962879f": {
      "model_module": "@jupyter-widgets/controls",
      "model_module_version": "2.0.0",
      "model_name": "HTMLModel",
      "state": {
       "_dom_classes": [],
       "_model_module": "@jupyter-widgets/controls",
       "_model_module_version": "2.0.0",
       "_model_name": "HTMLModel",
       "_view_count": null,
       "_view_module": "@jupyter-widgets/controls",
       "_view_module_version": "2.0.0",
       "_view_name": "HTMLView",
       "description": "",
       "description_allow_html": false,
       "layout": "IPY_MODEL_09bdc712b9164fe89235907c02115628",
       "placeholder": "​",
       "style": "IPY_MODEL_d093929d8e3c4905b87048963ac1bccc",
       "tabbable": null,
       "tooltip": null,
       "value": " 7747875/? [00:29&lt;00:00, 607394.34rows/s]"
      }
     },
     "eee6c2f11df3499b85da65b474c79305": {
      "model_module": "@jupyter-widgets/controls",
      "model_module_version": "2.0.0",
      "model_name": "FloatProgressModel",
      "state": {
       "_dom_classes": [],
       "_model_module": "@jupyter-widgets/controls",
       "_model_module_version": "2.0.0",
       "_model_name": "FloatProgressModel",
       "_view_count": null,
       "_view_module": "@jupyter-widgets/controls",
       "_view_module_version": "2.0.0",
       "_view_name": "ProgressView",
       "bar_style": "info",
       "description": "",
       "description_allow_html": false,
       "layout": "IPY_MODEL_6c4c1cb0297b4ef688abf8a7ba67d660",
       "max": 1,
       "min": 0,
       "orientation": "horizontal",
       "style": "IPY_MODEL_bcfe2900dfb246c8b78cf3db6e40c807",
       "tabbable": null,
       "tooltip": null,
       "value": 1
      }
     },
     "f0fbce22e9644676a05f15e41aabd3b5": {
      "model_module": "@jupyter-widgets/controls",
      "model_module_version": "2.0.0",
      "model_name": "HTMLModel",
      "state": {
       "_dom_classes": [],
       "_model_module": "@jupyter-widgets/controls",
       "_model_module_version": "2.0.0",
       "_model_name": "HTMLModel",
       "_view_count": null,
       "_view_module": "@jupyter-widgets/controls",
       "_view_module_version": "2.0.0",
       "_view_name": "HTMLView",
       "description": "",
       "description_allow_html": false,
       "layout": "IPY_MODEL_0f59339db1304add9e3570a65e4e6246",
       "placeholder": "​",
       "style": "IPY_MODEL_bd30257c2af0443da4d97bca161ce7d8",
       "tabbable": null,
       "tooltip": null,
       "value": " 2/? [00:09&lt;00:00,  1.82rows/s]"
      }
     },
     "f8add6c503714996be4a9908ff205505": {
      "model_module": "@jupyter-widgets/controls",
      "model_module_version": "2.0.0",
      "model_name": "HTMLStyleModel",
      "state": {
       "_model_module": "@jupyter-widgets/controls",
       "_model_module_version": "2.0.0",
       "_model_name": "HTMLStyleModel",
       "_view_count": null,
       "_view_module": "@jupyter-widgets/base",
       "_view_module_version": "2.0.0",
       "_view_name": "StyleView",
       "background": null,
       "description_width": "",
       "font_size": null,
       "text_color": null
      }
     },
     "fb33fa6841904d88abc705f92568d25d": {
      "model_module": "@jupyter-widgets/base",
      "model_module_version": "2.0.0",
      "model_name": "LayoutModel",
      "state": {
       "_model_module": "@jupyter-widgets/base",
       "_model_module_version": "2.0.0",
       "_model_name": "LayoutModel",
       "_view_count": null,
       "_view_module": "@jupyter-widgets/base",
       "_view_module_version": "2.0.0",
       "_view_name": "LayoutView",
       "align_content": null,
       "align_items": null,
       "align_self": null,
       "border_bottom": null,
       "border_left": null,
       "border_right": null,
       "border_top": null,
       "bottom": null,
       "display": null,
       "flex": null,
       "flex_flow": null,
       "grid_area": null,
       "grid_auto_columns": null,
       "grid_auto_flow": null,
       "grid_auto_rows": null,
       "grid_column": null,
       "grid_gap": null,
       "grid_row": null,
       "grid_template_areas": null,
       "grid_template_columns": null,
       "grid_template_rows": null,
       "height": null,
       "justify_content": null,
       "justify_items": null,
       "left": null,
       "margin": null,
       "max_height": null,
       "max_width": null,
       "min_height": null,
       "min_width": null,
       "object_fit": null,
       "object_position": null,
       "order": null,
       "overflow": null,
       "padding": null,
       "right": null,
       "top": null,
       "visibility": null,
       "width": null
      }
     },
     "fbaf59e205e04813af210936e81592c6": {
      "model_module": "@jupyter-widgets/controls",
      "model_module_version": "2.0.0",
      "model_name": "HTMLStyleModel",
      "state": {
       "_model_module": "@jupyter-widgets/controls",
       "_model_module_version": "2.0.0",
       "_model_name": "HTMLStyleModel",
       "_view_count": null,
       "_view_module": "@jupyter-widgets/base",
       "_view_module_version": "2.0.0",
       "_view_name": "StyleView",
       "background": null,
       "description_width": "",
       "font_size": null,
       "text_color": null
      }
     },
     "fc69e90f6ec64684a58e1072dda09fd9": {
      "model_module": "@jupyter-widgets/controls",
      "model_module_version": "2.0.0",
      "model_name": "HTMLModel",
      "state": {
       "_dom_classes": [],
       "_model_module": "@jupyter-widgets/controls",
       "_model_module_version": "2.0.0",
       "_model_name": "HTMLModel",
       "_view_count": null,
       "_view_module": "@jupyter-widgets/controls",
       "_view_module_version": "2.0.0",
       "_view_name": "HTMLView",
       "description": "",
       "description_allow_html": false,
       "layout": "IPY_MODEL_d97d48afa4de453285e0cb0e3ac9368a",
       "placeholder": "​",
       "style": "IPY_MODEL_6888c7f427974677bd41073621790566",
       "tabbable": null,
       "tooltip": null,
       "value": " 0/? [00:08&lt;?, ?rows/s]"
      }
     },
     "fd98f9cc3760422cafcd6340ff05d01f": {
      "model_module": "@jupyter-widgets/controls",
      "model_module_version": "2.0.0",
      "model_name": "HTMLStyleModel",
      "state": {
       "_model_module": "@jupyter-widgets/controls",
       "_model_module_version": "2.0.0",
       "_model_name": "HTMLStyleModel",
       "_view_count": null,
       "_view_module": "@jupyter-widgets/base",
       "_view_module_version": "2.0.0",
       "_view_name": "StyleView",
       "background": null,
       "description_width": "",
       "font_size": null,
       "text_color": null
      }
     },
     "fe839505ef684a2dbc2437ee4c5e9fcf": {
      "model_module": "@jupyter-widgets/controls",
      "model_module_version": "2.0.0",
      "model_name": "ProgressStyleModel",
      "state": {
       "_model_module": "@jupyter-widgets/controls",
       "_model_module_version": "2.0.0",
       "_model_name": "ProgressStyleModel",
       "_view_count": null,
       "_view_module": "@jupyter-widgets/base",
       "_view_module_version": "2.0.0",
       "_view_name": "StyleView",
       "bar_color": null,
       "description_width": ""
      }
     },
     "feeac4e82f7b47a98bdf6a2c9e11a357": {
      "model_module": "@jupyter-widgets/controls",
      "model_module_version": "2.0.0",
      "model_name": "HTMLStyleModel",
      "state": {
       "_model_module": "@jupyter-widgets/controls",
       "_model_module_version": "2.0.0",
       "_model_name": "HTMLStyleModel",
       "_view_count": null,
       "_view_module": "@jupyter-widgets/base",
       "_view_module_version": "2.0.0",
       "_view_name": "StyleView",
       "background": null,
       "description_width": "",
       "font_size": null,
       "text_color": null
      }
     },
     "ffb073b2ade64790b156a6d5e9cd9c50": {
      "model_module": "@jupyter-widgets/controls",
      "model_module_version": "2.0.0",
      "model_name": "ProgressStyleModel",
      "state": {
       "_model_module": "@jupyter-widgets/controls",
       "_model_module_version": "2.0.0",
       "_model_name": "ProgressStyleModel",
       "_view_count": null,
       "_view_module": "@jupyter-widgets/base",
       "_view_module_version": "2.0.0",
       "_view_name": "StyleView",
       "bar_color": null,
       "description_width": ""
      }
     }
    },
    "version_major": 2,
    "version_minor": 0
   }
  }
 },
 "nbformat": 4,
 "nbformat_minor": 5
}
